{
 "cells": [
  {
   "cell_type": "markdown",
   "execution_count": null,
   "metadata": {},
   "outputs": [],
   "source": [
    "##  Part 1: Prepare Data"
   ]
  },
  {
   "cell_type": "code",
   "execution_count": 1,
   "metadata": {},
   "outputs": [],
   "source": [
    "import sys\n",
    "sys.path.append('E:\\\\git_folder\\\\quant_models')\n",
    "import warnings\n",
    "warnings.filterwarnings('ignore')\n",
    "\n",
    "import numpy as np\n",
    "import pandas as pd\n",
    "import os\n",
    "\n",
    "import random\n",
    "import matplotlib.pylab as plt"
   ]
  },
  {
   "cell_type": "code",
   "execution_count": 2,
   "metadata": {},
   "outputs": [
    {
     "name": "stdout",
     "output_type": "stream",
     "text": "000002 SZ T1440  000089 SZ T1440  000157 SZ T1440  \\\ndatetime                                                        \n2012-01-05         5.608798         3.807883         5.697452   \n2012-01-06         5.480905         3.801978         5.567221   \n\n            000568 SZ T1440  000581 SZ T1440  000651 SZ T1440  \\\ndatetime                                                        \n2012-01-05        26.510463        17.259812         6.377904   \n2012-01-06        26.828842        16.993895         6.197429   \n\n            000858 SZ T1440  000951 SZ T1440  000997 SZ T1440  \\\ndatetime                                                        \n2012-01-05        25.794077         6.423874         5.524119   \n2012-01-06        25.972654         6.351699         5.702242   \n\n            002032 SZ T1440  ...  002311 SZ T1440  601288 SS T1440  \\\ndatetime                     ...                                     \n2012-01-05         9.711199  ...         6.271071         1.724968   \n2012-01-06         9.458018  ...         6.219243         1.732618   \n\n            601818 SS T1440  002475 SZ T1440  300124 SZ T1440  \\\ndatetime                                                        \n2012-01-05         2.107184         1.821984         6.214885   \n2012-01-06         2.091034         1.738640         5.842076   \n\n            300142 SZ T1440  002508 SZ T1440  300166 SZ T1440  \\\ndatetime                                                        \n2012-01-05         4.218003         3.700905         3.351367   \n2012-01-06         4.109909         3.776747         3.194520   \n\n            300203 SZ T1440  300271 SZ T1440  \ndatetime                                      \n2012-01-05        14.980506         3.253632  \n2012-01-06        14.436428         3.253632  \n\n[2 rows x 65 columns]\n"
    }
   ],
   "source": [
    "import pandas as pd\n",
    "from util.utils import get_daily_vol, sample_df, filter_df_time\n",
    "data_fn = \"././data/CNA_portfolio.csv\"\n",
    "df_pnl = pd.read_csv(data_fn)\n",
    "test_df = df_pnl.copy()\n",
    "test_df.rename(columns={'Date':'datetime'}, inplace=True)\n",
    "test_df.loc[:,'datetime'] = pd.to_datetime(test_df.datetime)\n",
    "test_df.set_index('datetime', inplace=True)\n",
    "print(test_df.head(2))"
   ]
  },
  {
   "cell_type": "markdown",
   "execution_count": 26,
   "metadata": {},
   "outputs": [],
   "source": [
    "##  Part 2: Apply the portfolio adjusting method"
   ]
  },
  {
   "cell_type": "code",
   "execution_count": 3,
   "metadata": {},
   "outputs": [
    {
     "name": "stderr",
     "output_type": "stream",
     "text": "Using TensorFlow backend.\n"
    }
   ],
   "source": [
    "from portfolio.optimize import HRPOpt"
   ]
  },
  {
   "cell_type": "code",
   "execution_count": 4,
   "metadata": {},
   "outputs": [],
   "source": [
    "from portfolio.environment import EquityEnvironment"
   ]
  },
  {
   "cell_type": "code",
   "execution_count": 11,
   "metadata": {},
   "outputs": [],
   "source": [
    "N_ASSETS = 65 # 53\n",
    "WINDOW_FIT = 90\n",
    "WINDOW_HOLD = 30"
   ]
  },
  {
   "cell_type": "code",
   "execution_count": 12,
   "metadata": {},
   "outputs": [],
   "source": [
    "hrp_algo = HRPOpt(N_ASSETS, allow_short=False)\n",
    "env = EquityEnvironment(test_df)"
   ]
  },
  {
   "cell_type": "code",
   "execution_count": 13,
   "metadata": {},
   "outputs": [
    {
     "name": "stderr",
     "output_type": "stream",
     "text": "E:\\git_folder\\quant_models\\portfolio\\_hrpfuncs.py:72: ClusterWarning: scipy.cluster: The symmetric non-negative hollow observation matrix looks suspiciously like an uncondensed distance matrix\n  link = linkage(dist, 'single')\nE:\\git_folder\\quant_models\\portfolio\\_hrpfuncs.py:72: ClusterWarning: scipy.cluster: The symmetric non-negative hollow observation matrix looks suspiciously like an uncondensed distance matrix\n  link = linkage(dist, 'single')\nE:\\git_folder\\quant_models\\portfolio\\_hrpfuncs.py:72: ClusterWarning: scipy.cluster: The symmetric non-negative hollow observation matrix looks suspiciously like an uncondensed distance matrix\n  link = linkage(dist, 'single')\nE:\\git_folder\\quant_models\\portfolio\\_hrpfuncs.py:72: ClusterWarning: scipy.cluster: The symmetric non-negative hollow observation matrix looks suspiciously like an uncondensed distance matrix\n  link = linkage(dist, 'single')\nE:\\git_folder\\quant_models\\portfolio\\_hrpfuncs.py:72: ClusterWarning: scipy.cluster: The symmetric non-negative hollow observation matrix looks suspiciously like an uncondensed distance matrix\n  link = linkage(dist, 'single')\nE:\\git_folder\\quant_models\\portfolio\\_hrpfuncs.py:72: ClusterWarning: scipy.cluster: The symmetric non-negative hollow observation matrix looks suspiciously like an uncondensed distance matrix\n  link = linkage(dist, 'single')\nE:\\git_folder\\quant_models\\portfolio\\_hrpfuncs.py:72: ClusterWarning: scipy.cluster: The symmetric non-negative hollow observation matrix looks suspiciously like an uncondensed distance matrix\n  link = linkage(dist, 'single')\nE:\\git_folder\\quant_models\\portfolio\\_hrpfuncs.py:72: ClusterWarning: scipy.cluster: The symmetric non-negative hollow observation matrix looks suspiciously like an uncondensed distance matrix\n  link = linkage(dist, 'single')\nE:\\git_folder\\quant_models\\portfolio\\_hrpfuncs.py:72: ClusterWarning: scipy.cluster: The symmetric non-negative hollow observation matrix looks suspiciously like an uncondensed distance matrix\n  link = linkage(dist, 'single')\nE:\\git_folder\\quant_models\\portfolio\\_hrpfuncs.py:72: ClusterWarning: scipy.cluster: The symmetric non-negative hollow observation matrix looks suspiciously like an uncondensed distance matrix\n  link = linkage(dist, 'single')\nE:\\git_folder\\quant_models\\portfolio\\_hrpfuncs.py:72: ClusterWarning: scipy.cluster: The symmetric non-negative hollow observation matrix looks suspiciously like an uncondensed distance matrix\n  link = linkage(dist, 'single')\nE:\\git_folder\\quant_models\\portfolio\\_hrpfuncs.py:72: ClusterWarning: scipy.cluster: The symmetric non-negative hollow observation matrix looks suspiciously like an uncondensed distance matrix\n  link = linkage(dist, 'single')\nE:\\git_folder\\quant_models\\portfolio\\_hrpfuncs.py:72: ClusterWarning: scipy.cluster: The symmetric non-negative hollow observation matrix looks suspiciously like an uncondensed distance matrix\n  link = linkage(dist, 'single')\nE:\\git_folder\\quant_models\\portfolio\\_hrpfuncs.py:72: ClusterWarning: scipy.cluster: The symmetric non-negative hollow observation matrix looks suspiciously like an uncondensed distance matrix\n  link = linkage(dist, 'single')\nE:\\git_folder\\quant_models\\portfolio\\_hrpfuncs.py:72: ClusterWarning: scipy.cluster: The symmetric non-negative hollow observation matrix looks suspiciously like an uncondensed distance matrix\n  link = linkage(dist, 'single')\nE:\\git_folder\\quant_models\\portfolio\\_hrpfuncs.py:72: ClusterWarning: scipy.cluster: The symmetric non-negative hollow observation matrix looks suspiciously like an uncondensed distance matrix\n  link = linkage(dist, 'single')\nE:\\git_folder\\quant_models\\portfolio\\_hrpfuncs.py:72: ClusterWarning: scipy.cluster: The symmetric non-negative hollow observation matrix looks suspiciously like an uncondensed distance matrix\n  link = linkage(dist, 'single')\nE:\\git_folder\\quant_models\\portfolio\\_hrpfuncs.py:72: ClusterWarning: scipy.cluster: The symmetric non-negative hollow observation matrix looks suspiciously like an uncondensed distance matrix\n  link = linkage(dist, 'single')\nE:\\git_folder\\quant_models\\portfolio\\_hrpfuncs.py:72: ClusterWarning: scipy.cluster: The symmetric non-negative hollow observation matrix looks suspiciously like an uncondensed distance matrix\n  link = linkage(dist, 'single')\n"
    },
    {
     "ename": "ValueError",
     "evalue": "The condensed distance matrix must contain only finite values.",
     "output_type": "error",
     "traceback": [
      "\u001b[1;31m---------------------------------------------------------------------------\u001b[0m",
      "\u001b[1;31mValueError\u001b[0m                                Traceback (most recent call last)",
      "\u001b[1;32m<ipython-input-13-b7e2ba602bcf>\u001b[0m in \u001b[0;36m<module>\u001b[1;34m()\u001b[0m\n\u001b[0;32m      6\u001b[0m \u001b[1;33m\u001b[0m\u001b[0m\n\u001b[0;32m      7\u001b[0m     \u001b[0maction_equal\u001b[0m \u001b[1;33m=\u001b[0m \u001b[0mnp\u001b[0m\u001b[1;33m.\u001b[0m\u001b[0mones\u001b[0m\u001b[1;33m(\u001b[0m\u001b[0mN_ASSETS\u001b[0m\u001b[1;33m)\u001b[0m \u001b[1;33m/\u001b[0m \u001b[0mN_ASSETS\u001b[0m\u001b[1;33m\u001b[0m\u001b[0m\n\u001b[1;32m----> 8\u001b[1;33m     \u001b[0maction_hrp\u001b[0m \u001b[1;33m=\u001b[0m \u001b[0mhrp_algo\u001b[0m\u001b[1;33m.\u001b[0m\u001b[0mact\u001b[0m\u001b[1;33m(\u001b[0m\u001b[0mstate\u001b[0m\u001b[1;33m)\u001b[0m\u001b[1;33m\u001b[0m\u001b[0m\n\u001b[0m\u001b[0;32m      9\u001b[0m     \u001b[0mstate_action\u001b[0m \u001b[1;33m=\u001b[0m \u001b[0menv\u001b[0m\u001b[1;33m.\u001b[0m\u001b[0mget_state\u001b[0m\u001b[1;33m(\u001b[0m\u001b[0mi\u001b[0m\u001b[1;33m+\u001b[0m\u001b[0mWINDOW_HOLD\u001b[0m\u001b[1;33m,\u001b[0m \u001b[0mWINDOW_HOLD\u001b[0m\u001b[1;33m,\u001b[0m \u001b[0mis_cov_matrix\u001b[0m\u001b[1;33m=\u001b[0m\u001b[1;32mFalse\u001b[0m\u001b[1;33m)\u001b[0m\u001b[1;33m\u001b[0m\u001b[0m\n\u001b[0;32m     10\u001b[0m     \u001b[0mr\u001b[0m \u001b[1;33m=\u001b[0m \u001b[0mnp\u001b[0m\u001b[1;33m.\u001b[0m\u001b[0mdot\u001b[0m\u001b[1;33m(\u001b[0m\u001b[0mstate_action\u001b[0m\u001b[1;33m,\u001b[0m \u001b[0maction_equal\u001b[0m\u001b[1;33m)\u001b[0m\u001b[1;33m\u001b[0m\u001b[0m\n",
      "\u001b[1;32mE:\\git_folder\\quant_models\\portfolio\\optimize.py\u001b[0m in \u001b[0;36mact\u001b[1;34m(self, returns)\u001b[0m\n\u001b[0;32m     26\u001b[0m         \u001b[0mcorr\u001b[0m \u001b[1;33m=\u001b[0m \u001b[0mreturns\u001b[0m\u001b[1;33m.\u001b[0m\u001b[0mcorr\u001b[0m\u001b[1;33m(\u001b[0m\u001b[1;33m)\u001b[0m\u001b[1;33m\u001b[0m\u001b[0m\n\u001b[0;32m     27\u001b[0m         \u001b[0mcov\u001b[0m \u001b[1;33m=\u001b[0m \u001b[0mreturns\u001b[0m\u001b[1;33m.\u001b[0m\u001b[0mcov\u001b[0m\u001b[1;33m(\u001b[0m\u001b[1;33m)\u001b[0m\u001b[1;33m\u001b[0m\u001b[0m\n\u001b[1;32m---> 28\u001b[1;33m         \u001b[0moptimal_weights\u001b[0m \u001b[1;33m=\u001b[0m \u001b[0mgetHRP\u001b[0m\u001b[1;33m(\u001b[0m\u001b[0mcov\u001b[0m\u001b[1;33m,\u001b[0m \u001b[0mcorr\u001b[0m\u001b[1;33m)\u001b[0m\u001b[1;33m\u001b[0m\u001b[0m\n\u001b[0m\u001b[0;32m     29\u001b[0m \u001b[1;33m\u001b[0m\u001b[0m\n\u001b[0;32m     30\u001b[0m         \u001b[1;32mif\u001b[0m \u001b[0mself\u001b[0m\u001b[1;33m.\u001b[0m\u001b[0mallow_short\u001b[0m\u001b[1;33m:\u001b[0m\u001b[1;33m\u001b[0m\u001b[0m\n",
      "\u001b[1;32mE:\\git_folder\\quant_models\\portfolio\\_hrpfuncs.py\u001b[0m in \u001b[0;36mgetHRP\u001b[1;34m(cov, corr)\u001b[0m\n\u001b[0;32m     70\u001b[0m     \u001b[1;31m# Construct a hierarchical portfolio\u001b[0m\u001b[1;33m\u001b[0m\u001b[1;33m\u001b[0m\u001b[0m\n\u001b[0;32m     71\u001b[0m     \u001b[0mdist\u001b[0m \u001b[1;33m=\u001b[0m \u001b[0mcorrelDist\u001b[0m\u001b[1;33m(\u001b[0m\u001b[0mcorr\u001b[0m\u001b[1;33m)\u001b[0m\u001b[1;33m\u001b[0m\u001b[0m\n\u001b[1;32m---> 72\u001b[1;33m     \u001b[0mlink\u001b[0m \u001b[1;33m=\u001b[0m \u001b[0mlinkage\u001b[0m\u001b[1;33m(\u001b[0m\u001b[0mdist\u001b[0m\u001b[1;33m,\u001b[0m \u001b[1;34m'single'\u001b[0m\u001b[1;33m)\u001b[0m\u001b[1;33m\u001b[0m\u001b[0m\n\u001b[0m\u001b[0;32m     73\u001b[0m     \u001b[1;31m#dn = sch.dendrogram(link, labels=cov.index.values, label_rotation=90)\u001b[0m\u001b[1;33m\u001b[0m\u001b[1;33m\u001b[0m\u001b[0m\n\u001b[0;32m     74\u001b[0m     \u001b[1;31m#plt.show()\u001b[0m\u001b[1;33m\u001b[0m\u001b[1;33m\u001b[0m\u001b[0m\n",
      "\u001b[1;32mE:\\Anaconda\\lib\\site-packages\\scipy\\cluster\\hierarchy.py\u001b[0m in \u001b[0;36mlinkage\u001b[1;34m(y, method, metric, optimal_ordering)\u001b[0m\n\u001b[0;32m   1107\u001b[0m \u001b[1;33m\u001b[0m\u001b[0m\n\u001b[0;32m   1108\u001b[0m     \u001b[1;32mif\u001b[0m \u001b[1;32mnot\u001b[0m \u001b[0mnp\u001b[0m\u001b[1;33m.\u001b[0m\u001b[0mall\u001b[0m\u001b[1;33m(\u001b[0m\u001b[0mnp\u001b[0m\u001b[1;33m.\u001b[0m\u001b[0misfinite\u001b[0m\u001b[1;33m(\u001b[0m\u001b[0my\u001b[0m\u001b[1;33m)\u001b[0m\u001b[1;33m)\u001b[0m\u001b[1;33m:\u001b[0m\u001b[1;33m\u001b[0m\u001b[0m\n\u001b[1;32m-> 1109\u001b[1;33m         raise ValueError(\"The condensed distance matrix must contain only \"\n\u001b[0m\u001b[0;32m   1110\u001b[0m                          \"finite values.\")\n\u001b[0;32m   1111\u001b[0m \u001b[1;33m\u001b[0m\u001b[0m\n",
      "\u001b[1;31mValueError\u001b[0m: The condensed distance matrix must contain only finite values."
     ]
    }
   ],
   "source": [
    "result_equal, result_hrp = [],  [] \n",
    "actions_equal, actions_hrp = [], []\n",
    "for i in range(WINDOW_FIT, len(test_df), WINDOW_HOLD):\n",
    "    \n",
    "    state = env.get_state(i, WINDOW_FIT, is_cov_matrix=False)\n",
    "    \n",
    "    action_equal = np.ones(N_ASSETS) / N_ASSETS\n",
    "    action_hrp = hrp_algo.act(state)\n",
    "    state_action = env.get_state(i+WINDOW_HOLD, WINDOW_HOLD, is_cov_matrix=False)\n",
    "    r = np.dot(state_action, action_equal)\n",
    "    result_equal.append(r.tolist())\n",
    "    actions_equal.append(action_equal)\n",
    "    r = np.dot(state_action, action_hrp)\n",
    "    result_hrp.append(r.tolist())\n",
    "    actions_hrp.append(action_hrp)"
   ]
  },
  {
   "cell_type": "markdown",
   "execution_count": null,
   "metadata": {},
   "outputs": [],
   "source": [
    "##  Part 3: Visualizing the Results of Portofolio"
   ]
  },
  {
   "cell_type": "code",
   "execution_count": 0,
   "metadata": {},
   "outputs": [],
   "source": [
    "result_equal_vis = [item for sublist in result_equal for item in sublist]\n",
    "result_hrp_vis = [item for sublist in result_hrp for item in sublist]"
   ]
  },
  {
   "cell_type": "code",
   "execution_count": 0,
   "metadata": {},
   "outputs": [],
   "source": [
    "plt.figure(figsize = (12, 3))\n",
    "plt.plot(np.array(result_equal_vis).cumsum(), label = 'Benchmark', color = 'black')\n",
    "plt.plot(np.array(result_hrp_vis).cumsum(), label = 'HRP', color = 'red')\n",
    "# plt.plot(np.array(result_smooth_vis).cumsum(), label = 'Forecasting', color = 'blue')\n",
    "plt.legend()\n",
    "plt.show()"
   ]
  },
  {
   "cell_type": "code",
   "execution_count": 0,
   "metadata": {},
   "outputs": [],
   "source": [
    "from util.metrics import sharpe_iid\n",
    "print(sharpe_iid(np.array(result_equal_vis), factor=255, log=False))\n",
    "print(sharpe_iid(np.array(result_hrp_vis), factor=255, log=False))\n"
   ]
  },
  {
   "cell_type": "code",
   "execution_count": 0,
   "metadata": {},
   "outputs": [],
   "source": [
    "plt.figure(figsize = (12, 3))\n",
    "for a in actions_hrp:    \n",
    "    plt.bar(np.arange(N_ASSETS), a, color = 'grey', alpha = 0.25)\n",
    "    plt.xticks(np.arange(N_ASSETS), env.data.columns, rotation='vertical')\n",
    "plt.show()"
   ]
  },
  {
   "cell_type": "code",
   "execution_count": null,
   "metadata": {},
   "outputs": [],
   "source": []
  },
  {
   "cell_type": "code",
   "execution_count": null,
   "metadata": {},
   "outputs": [],
   "source": []
  },
  {
   "cell_type": "code",
   "execution_count": null,
   "metadata": {},
   "outputs": [],
   "source": []
  },
  {
   "cell_type": "code",
   "execution_count": null,
   "metadata": {},
   "outputs": [],
   "source": []
  }
 ],
 "metadata": {
  "kernelspec": {
   "display_name": "Python 3",
   "language": "python",
   "name": "python3"
  },
  "language_info": {
   "codemirror_mode": {
    "name": "ipython",
    "version": 3
   },
   "file_extension": ".py",
   "mimetype": "text/x-python",
   "name": "python",
   "nbconvert_exporter": "python",
   "pygments_lexer": "ipython3",
   "version": "3.7.0"
  }
 },
 "nbformat": 4,
 "nbformat_minor": 2
}