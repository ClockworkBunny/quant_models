{
 "nbformat": 4,
 "nbformat_minor": 2,
 "metadata": {
  "language_info": {
   "name": "python",
   "codemirror_mode": {
    "name": "ipython",
    "version": 3
   },
   "version": "3.7.0"
  },
  "orig_nbformat": 2,
  "file_extension": ".py",
  "mimetype": "text/x-python",
  "name": "python",
  "npconvert_exporter": "python",
  "pygments_lexer": "ipython3",
  "version": 3
 },
 "cells": [
  {
   "cell_type": "markdown",
   "execution_count": null,
   "metadata": {},
   "outputs": [],
   "source": [
    "## Ipython Notebooks Templates\n",
    "\n",
    "Add the package path for testing"
   ]
  },
  {
   "cell_type": "code",
   "execution_count": 1,
   "metadata": {},
   "outputs": [],
   "source": [
    "import sys\n",
    "sys.path.append('E:\\\\git_folder\\\\quant_models')"
   ]
  },
  {
   "cell_type": "markdown",
   "execution_count": 2,
   "metadata": {},
   "outputs": [],
   "source": [
    "## Start Testing"
   ]
  },
  {
   "cell_type": "code",
   "execution_count": 2,
   "metadata": {},
   "outputs": [],
   "source": [
    "from util.metrics import sharpe_iid, compute_deflated_sharpe_ratio, \\\n",
    "        sharpe_non_iid, sharpe_iid_adjusted          "
   ]
  },
  {
   "cell_type": "markdown",
   "execution_count": null,
   "metadata": {},
   "outputs": [],
   "source": [
    "#### Part 1 Simulate Return Matrix\n",
    "\n",
    "The logics is given as:\n",
    "\n",
    "1. Generate N random algos that each list consists of 1, 0, -1\n",
    "2. Apply the N algos on the XU1 price to get the return \n",
    "3. Resample the PNL to daily PNL"
   ]
  },
  {
   "cell_type": "code",
   "execution_count": 3,
   "metadata": {},
   "outputs": [],
   "source": [
    "import pandas as pd\n",
    "from util.utils import sample_df, sample_pnl\n",
    "import numpy as np\n",
    "import random\n",
    "random.seed(50)\n",
    "np.random.seed(50)"
   ]
  },
  {
   "cell_type": "code",
   "execution_count": 4,
   "metadata": {},
   "outputs": [],
   "source": [
    "import pandas as pd\n",
    "data_fn = \"././data/xu1_1min.csv\"\n",
    "df_price = pd.read_csv(data_fn)"
   ]
  },
  {
   "cell_type": "code",
   "execution_count": 5,
   "metadata": {},
   "outputs": [],
   "source": [
    "test_df = df_price.copy()\n",
    "test_df.loc[:,'datetime'] = pd.to_datetime(test_df.datetime)\n",
    "test_df.set_index('datetime', inplace=True)\n",
    "test_df = test_df.loc[test_df.index > pd.to_datetime(\"2017-01-01\"),:]"
   ]
  },
  {
   "cell_type": "code",
   "execution_count": 6,
   "metadata": {},
   "outputs": [],
   "source": [
    "df_5min = sample_df(test_df, \"30T\")"
   ]
  },
  {
   "cell_type": "code",
   "execution_count": 7,
   "metadata": {},
   "outputs": [],
   "source": [
    "df_5min['pct'] = df_5min.open.pct_change()\n",
    "df_5min.dropna(inplace=True)"
   ]
  },
  {
   "cell_type": "code",
   "execution_count": 8,
   "metadata": {},
   "outputs": [],
   "source": [
    "N_data = df_5min.count()['open']"
   ]
  },
  {
   "cell_type": "code",
   "execution_count": 9,
   "metadata": {},
   "outputs": [],
   "source": [
    "# random generate strategy\n",
    "N_stat = 1000\n",
    "bs_stats = [np.random.randint(3, size=N_data) -1 for idx in range(N_stat)]\n",
    "bs_stats = np.array(bs_stats).transpose()"
   ]
  },
  {
   "cell_type": "code",
   "execution_count": 10,
   "metadata": {},
   "outputs": [
    {
     "name": "stdout",
     "output_type": "stream",
     "text": "(31444, 1000)\n"
    }
   ],
   "source": [
    "print(bs_stats.shape)"
   ]
  },
  {
   "cell_type": "code",
   "execution_count": 11,
   "metadata": {},
   "outputs": [],
   "source": [
    "df_5min = df_5min[['pct']]"
   ]
  },
  {
   "cell_type": "code",
   "execution_count": 12,
   "metadata": {},
   "outputs": [
    {
     "data": {
      "text/plain": "(31444, 1)"
     },
     "execution_count": 12,
     "metadata": {},
     "output_type": "execute_result"
    }
   ],
   "source": [
    "df_5min.shape"
   ]
  },
  {
   "cell_type": "code",
   "execution_count": 13,
   "metadata": {},
   "outputs": [],
   "source": [
    "for idx in range(N_stat):\n",
    "    # trade signl * pct will be the pnl\n",
    "    col_name = 'strat_{}'.format(idx)\n",
    "    df_5min[col_name] = bs_stats[:,idx]\n",
    "    df_5min[col_name] = df_5min['pct'] * df_5min[col_name]"
   ]
  },
  {
   "cell_type": "markdown",
   "execution_count": 29,
   "metadata": {},
   "outputs": [
    {
     "data": {
      "text/html": "<div>\n<style scoped>\n    .dataframe tbody tr th:only-of-type {\n        vertical-align: middle;\n    }\n\n    .dataframe tbody tr th {\n        vertical-align: top;\n    }\n\n    .dataframe thead th {\n        text-align: right;\n    }\n</style>\n<table border=\"1\" class=\"dataframe\">\n  <thead>\n    <tr style=\"text-align: right;\">\n      <th></th>\n      <th>pct</th>\n      <th>strat_0</th>\n      <th>strat_1</th>\n      <th>strat_2</th>\n      <th>strat_3</th>\n      <th>strat_4</th>\n      <th>strat_5</th>\n      <th>strat_6</th>\n      <th>strat_7</th>\n      <th>strat_8</th>\n      <th>...</th>\n      <th>strat_990</th>\n      <th>strat_991</th>\n      <th>strat_992</th>\n      <th>strat_993</th>\n      <th>strat_994</th>\n      <th>strat_995</th>\n      <th>strat_996</th>\n      <th>strat_997</th>\n      <th>strat_998</th>\n      <th>strat_999</th>\n    </tr>\n    <tr>\n      <th>datetime</th>\n      <th></th>\n      <th></th>\n      <th></th>\n      <th></th>\n      <th></th>\n      <th></th>\n      <th></th>\n      <th></th>\n      <th></th>\n      <th></th>\n      <th></th>\n      <th></th>\n      <th></th>\n      <th></th>\n      <th></th>\n      <th></th>\n      <th></th>\n      <th></th>\n      <th></th>\n      <th></th>\n      <th></th>\n    </tr>\n  </thead>\n  <tbody>\n    <tr>\n      <th>2017-01-03 09:00:00</th>\n      <td>0.000000</td>\n      <td>0.000000</td>\n      <td>0.000000</td>\n      <td>0.000000</td>\n      <td>-0.000000</td>\n      <td>0.000000</td>\n      <td>0.0</td>\n      <td>0.000000</td>\n      <td>-0.000000</td>\n      <td>0.000000</td>\n      <td>...</td>\n      <td>0.000000</td>\n      <td>0.000000</td>\n      <td>0.000000</td>\n      <td>0.000000</td>\n      <td>-0.000000</td>\n      <td>0.000000</td>\n      <td>0.000000</td>\n      <td>-0.000000</td>\n      <td>-0.000000</td>\n      <td>0.000000</td>\n    </tr>\n    <tr>\n      <th>2017-01-03 09:30:00</th>\n      <td>0.001754</td>\n      <td>0.000000</td>\n      <td>0.001754</td>\n      <td>0.001754</td>\n      <td>-0.001754</td>\n      <td>0.001754</td>\n      <td>0.0</td>\n      <td>-0.001754</td>\n      <td>0.000000</td>\n      <td>0.000000</td>\n      <td>...</td>\n      <td>0.000000</td>\n      <td>-0.001754</td>\n      <td>0.000000</td>\n      <td>0.000000</td>\n      <td>-0.001754</td>\n      <td>-0.001754</td>\n      <td>0.000000</td>\n      <td>0.001754</td>\n      <td>0.000000</td>\n      <td>-0.001754</td>\n    </tr>\n    <tr>\n      <th>2017-01-03 10:00:00</th>\n      <td>0.012253</td>\n      <td>0.012253</td>\n      <td>-0.012253</td>\n      <td>0.012253</td>\n      <td>0.012253</td>\n      <td>0.012253</td>\n      <td>0.0</td>\n      <td>0.012253</td>\n      <td>0.012253</td>\n      <td>0.000000</td>\n      <td>...</td>\n      <td>0.012253</td>\n      <td>-0.012253</td>\n      <td>-0.012253</td>\n      <td>0.000000</td>\n      <td>-0.012253</td>\n      <td>0.000000</td>\n      <td>0.000000</td>\n      <td>-0.012253</td>\n      <td>0.012253</td>\n      <td>0.012253</td>\n    </tr>\n    <tr>\n      <th>2017-01-03 10:30:00</th>\n      <td>0.002470</td>\n      <td>-0.002470</td>\n      <td>0.002470</td>\n      <td>0.002470</td>\n      <td>-0.002470</td>\n      <td>0.000000</td>\n      <td>0.0</td>\n      <td>-0.002470</td>\n      <td>0.000000</td>\n      <td>-0.002470</td>\n      <td>...</td>\n      <td>0.002470</td>\n      <td>-0.002470</td>\n      <td>0.002470</td>\n      <td>0.000000</td>\n      <td>0.000000</td>\n      <td>0.000000</td>\n      <td>0.002470</td>\n      <td>0.002470</td>\n      <td>0.000000</td>\n      <td>0.002470</td>\n    </tr>\n    <tr>\n      <th>2017-01-03 11:00:00</th>\n      <td>-0.004189</td>\n      <td>-0.000000</td>\n      <td>-0.004189</td>\n      <td>0.004189</td>\n      <td>-0.004189</td>\n      <td>-0.000000</td>\n      <td>-0.0</td>\n      <td>0.004189</td>\n      <td>-0.000000</td>\n      <td>-0.004189</td>\n      <td>...</td>\n      <td>-0.004189</td>\n      <td>-0.000000</td>\n      <td>-0.004189</td>\n      <td>-0.004189</td>\n      <td>0.004189</td>\n      <td>-0.004189</td>\n      <td>0.004189</td>\n      <td>-0.004189</td>\n      <td>-0.000000</td>\n      <td>-0.004189</td>\n    </tr>\n  </tbody>\n</table>\n<p>5 rows × 1001 columns</p>\n</div>",
      "text/plain": "                          pct   strat_0   strat_1   strat_2   strat_3  \\\ndatetime                                                                \n2017-01-03 09:00:00  0.000000  0.000000  0.000000  0.000000 -0.000000   \n2017-01-03 09:30:00  0.001754  0.000000  0.001754  0.001754 -0.001754   \n2017-01-03 10:00:00  0.012253  0.012253 -0.012253  0.012253  0.012253   \n2017-01-03 10:30:00  0.002470 -0.002470  0.002470  0.002470 -0.002470   \n2017-01-03 11:00:00 -0.004189 -0.000000 -0.004189  0.004189 -0.004189   \n\n                      strat_4  strat_5   strat_6   strat_7   strat_8  ...  \\\ndatetime                                                              ...   \n2017-01-03 09:00:00  0.000000      0.0  0.000000 -0.000000  0.000000  ...   \n2017-01-03 09:30:00  0.001754      0.0 -0.001754  0.000000  0.000000  ...   \n2017-01-03 10:00:00  0.012253      0.0  0.012253  0.012253  0.000000  ...   \n2017-01-03 10:30:00  0.000000      0.0 -0.002470  0.000000 -0.002470  ...   \n2017-01-03 11:00:00 -0.000000     -0.0  0.004189 -0.000000 -0.004189  ...   \n\n                     strat_990  strat_991  strat_992  strat_993  strat_994  \\\ndatetime                                                                     \n2017-01-03 09:00:00   0.000000   0.000000   0.000000   0.000000  -0.000000   \n2017-01-03 09:30:00   0.000000  -0.001754   0.000000   0.000000  -0.001754   \n2017-01-03 10:00:00   0.012253  -0.012253  -0.012253   0.000000  -0.012253   \n2017-01-03 10:30:00   0.002470  -0.002470   0.002470   0.000000   0.000000   \n2017-01-03 11:00:00  -0.004189  -0.000000  -0.004189  -0.004189   0.004189   \n\n                     strat_995  strat_996  strat_997  strat_998  strat_999  \ndatetime                                                                    \n2017-01-03 09:00:00   0.000000   0.000000  -0.000000  -0.000000   0.000000  \n2017-01-03 09:30:00  -0.001754   0.000000   0.001754   0.000000  -0.001754  \n2017-01-03 10:00:00   0.000000   0.000000  -0.012253   0.012253   0.012253  \n2017-01-03 10:30:00   0.000000   0.002470   0.002470   0.000000   0.002470  \n2017-01-03 11:00:00  -0.004189   0.004189  -0.004189  -0.000000  -0.004189  \n\n[5 rows x 1001 columns]"
     },
     "execution_count": 29,
     "metadata": {},
     "output_type": "execute_result"
    }
   ],
   "source": [
    "### "
   ]
  },
  {
   "cell_type": "code",
   "execution_count": 14,
   "metadata": {},
   "outputs": [],
   "source": [
    "df_5min.drop(columns=['pct'], inplace=True)"
   ]
  },
  {
   "cell_type": "code",
   "execution_count": 15,
   "metadata": {},
   "outputs": [
    {
     "data": {
      "text/html": "<div>\n<style scoped>\n    .dataframe tbody tr th:only-of-type {\n        vertical-align: middle;\n    }\n\n    .dataframe tbody tr th {\n        vertical-align: top;\n    }\n\n    .dataframe thead th {\n        text-align: right;\n    }\n</style>\n<table border=\"1\" class=\"dataframe\">\n  <thead>\n    <tr style=\"text-align: right;\">\n      <th></th>\n      <th>strat_0</th>\n      <th>strat_1</th>\n      <th>strat_2</th>\n      <th>strat_3</th>\n      <th>strat_4</th>\n      <th>strat_5</th>\n      <th>strat_6</th>\n      <th>strat_7</th>\n      <th>strat_8</th>\n      <th>strat_9</th>\n      <th>...</th>\n      <th>strat_990</th>\n      <th>strat_991</th>\n      <th>strat_992</th>\n      <th>strat_993</th>\n      <th>strat_994</th>\n      <th>strat_995</th>\n      <th>strat_996</th>\n      <th>strat_997</th>\n      <th>strat_998</th>\n      <th>strat_999</th>\n    </tr>\n    <tr>\n      <th>datetime</th>\n      <th></th>\n      <th></th>\n      <th></th>\n      <th></th>\n      <th></th>\n      <th></th>\n      <th></th>\n      <th></th>\n      <th></th>\n      <th></th>\n      <th></th>\n      <th></th>\n      <th></th>\n      <th></th>\n      <th></th>\n      <th></th>\n      <th></th>\n      <th></th>\n      <th></th>\n      <th></th>\n      <th></th>\n    </tr>\n  </thead>\n  <tbody>\n    <tr>\n      <th>2017-01-03 09:00:00</th>\n      <td>-0.000000</td>\n      <td>-0.000000</td>\n      <td>-0.000000</td>\n      <td>0.000000</td>\n      <td>-0.000000</td>\n      <td>0.000000</td>\n      <td>-0.000000</td>\n      <td>-0.000000</td>\n      <td>-0.000000</td>\n      <td>-0.000000</td>\n      <td>...</td>\n      <td>0.000000</td>\n      <td>-0.000000</td>\n      <td>0.00000</td>\n      <td>0.000000</td>\n      <td>0.000000</td>\n      <td>-0.000000</td>\n      <td>-0.000000</td>\n      <td>-0.000000</td>\n      <td>0.000000</td>\n      <td>0.000000</td>\n    </tr>\n    <tr>\n      <th>2017-01-03 09:30:00</th>\n      <td>-0.001754</td>\n      <td>0.001754</td>\n      <td>0.000000</td>\n      <td>-0.001754</td>\n      <td>0.001754</td>\n      <td>0.001754</td>\n      <td>-0.001754</td>\n      <td>0.000000</td>\n      <td>-0.001754</td>\n      <td>0.000000</td>\n      <td>...</td>\n      <td>-0.001754</td>\n      <td>0.001754</td>\n      <td>0.00000</td>\n      <td>0.000000</td>\n      <td>0.001754</td>\n      <td>-0.001754</td>\n      <td>0.000000</td>\n      <td>-0.001754</td>\n      <td>-0.001754</td>\n      <td>0.001754</td>\n    </tr>\n    <tr>\n      <th>2017-01-03 10:00:00</th>\n      <td>0.000000</td>\n      <td>0.000000</td>\n      <td>-0.012253</td>\n      <td>0.000000</td>\n      <td>-0.012253</td>\n      <td>0.012253</td>\n      <td>0.000000</td>\n      <td>-0.012253</td>\n      <td>-0.012253</td>\n      <td>0.012253</td>\n      <td>...</td>\n      <td>0.000000</td>\n      <td>0.012253</td>\n      <td>0.00000</td>\n      <td>0.012253</td>\n      <td>0.000000</td>\n      <td>0.012253</td>\n      <td>-0.012253</td>\n      <td>-0.012253</td>\n      <td>-0.012253</td>\n      <td>0.000000</td>\n    </tr>\n    <tr>\n      <th>2017-01-03 10:30:00</th>\n      <td>0.000000</td>\n      <td>-0.002470</td>\n      <td>-0.002470</td>\n      <td>-0.002470</td>\n      <td>0.002470</td>\n      <td>-0.002470</td>\n      <td>0.002470</td>\n      <td>-0.002470</td>\n      <td>-0.002470</td>\n      <td>0.002470</td>\n      <td>...</td>\n      <td>-0.002470</td>\n      <td>-0.002470</td>\n      <td>-0.00247</td>\n      <td>-0.002470</td>\n      <td>0.002470</td>\n      <td>0.002470</td>\n      <td>-0.002470</td>\n      <td>-0.002470</td>\n      <td>0.002470</td>\n      <td>0.002470</td>\n    </tr>\n    <tr>\n      <th>2017-01-03 11:00:00</th>\n      <td>-0.004189</td>\n      <td>0.004189</td>\n      <td>-0.000000</td>\n      <td>0.004189</td>\n      <td>-0.000000</td>\n      <td>-0.004189</td>\n      <td>-0.000000</td>\n      <td>-0.004189</td>\n      <td>-0.000000</td>\n      <td>0.004189</td>\n      <td>...</td>\n      <td>-0.000000</td>\n      <td>-0.000000</td>\n      <td>-0.00000</td>\n      <td>-0.000000</td>\n      <td>-0.000000</td>\n      <td>0.004189</td>\n      <td>-0.000000</td>\n      <td>-0.000000</td>\n      <td>-0.000000</td>\n      <td>-0.000000</td>\n    </tr>\n  </tbody>\n</table>\n<p>5 rows × 1000 columns</p>\n</div>",
      "text/plain": "                      strat_0   strat_1   strat_2   strat_3   strat_4  \\\ndatetime                                                                \n2017-01-03 09:00:00 -0.000000 -0.000000 -0.000000  0.000000 -0.000000   \n2017-01-03 09:30:00 -0.001754  0.001754  0.000000 -0.001754  0.001754   \n2017-01-03 10:00:00  0.000000  0.000000 -0.012253  0.000000 -0.012253   \n2017-01-03 10:30:00  0.000000 -0.002470 -0.002470 -0.002470  0.002470   \n2017-01-03 11:00:00 -0.004189  0.004189 -0.000000  0.004189 -0.000000   \n\n                      strat_5   strat_6   strat_7   strat_8   strat_9  ...  \\\ndatetime                                                               ...   \n2017-01-03 09:00:00  0.000000 -0.000000 -0.000000 -0.000000 -0.000000  ...   \n2017-01-03 09:30:00  0.001754 -0.001754  0.000000 -0.001754  0.000000  ...   \n2017-01-03 10:00:00  0.012253  0.000000 -0.012253 -0.012253  0.012253  ...   \n2017-01-03 10:30:00 -0.002470  0.002470 -0.002470 -0.002470  0.002470  ...   \n2017-01-03 11:00:00 -0.004189 -0.000000 -0.004189 -0.000000  0.004189  ...   \n\n                     strat_990  strat_991  strat_992  strat_993  strat_994  \\\ndatetime                                                                     \n2017-01-03 09:00:00   0.000000  -0.000000    0.00000   0.000000   0.000000   \n2017-01-03 09:30:00  -0.001754   0.001754    0.00000   0.000000   0.001754   \n2017-01-03 10:00:00   0.000000   0.012253    0.00000   0.012253   0.000000   \n2017-01-03 10:30:00  -0.002470  -0.002470   -0.00247  -0.002470   0.002470   \n2017-01-03 11:00:00  -0.000000  -0.000000   -0.00000  -0.000000  -0.000000   \n\n                     strat_995  strat_996  strat_997  strat_998  strat_999  \ndatetime                                                                    \n2017-01-03 09:00:00  -0.000000  -0.000000  -0.000000   0.000000   0.000000  \n2017-01-03 09:30:00  -0.001754   0.000000  -0.001754  -0.001754   0.001754  \n2017-01-03 10:00:00   0.012253  -0.012253  -0.012253  -0.012253   0.000000  \n2017-01-03 10:30:00   0.002470  -0.002470  -0.002470   0.002470   0.002470  \n2017-01-03 11:00:00   0.004189  -0.000000  -0.000000  -0.000000  -0.000000  \n\n[5 rows x 1000 columns]"
     },
     "execution_count": 15,
     "metadata": {},
     "output_type": "execute_result"
    }
   ],
   "source": [
    "df_5min.head()"
   ]
  },
  {
   "cell_type": "code",
   "execution_count": 16,
   "metadata": {},
   "outputs": [],
   "source": [
    "pnl_daily = sample_pnl(df_5min,'1D', cum_mode=False)"
   ]
  },
  {
   "cell_type": "code",
   "execution_count": 17,
   "metadata": {},
   "outputs": [
    {
     "data": {
      "text/html": "<div>\n<style scoped>\n    .dataframe tbody tr th:only-of-type {\n        vertical-align: middle;\n    }\n\n    .dataframe tbody tr th {\n        vertical-align: top;\n    }\n\n    .dataframe thead th {\n        text-align: right;\n    }\n</style>\n<table border=\"1\" class=\"dataframe\">\n  <thead>\n    <tr style=\"text-align: right;\">\n      <th></th>\n      <th>strat_0</th>\n      <th>strat_1</th>\n      <th>strat_2</th>\n      <th>strat_3</th>\n      <th>strat_4</th>\n      <th>strat_5</th>\n      <th>strat_6</th>\n      <th>strat_7</th>\n      <th>strat_8</th>\n      <th>strat_9</th>\n      <th>...</th>\n      <th>strat_990</th>\n      <th>strat_991</th>\n      <th>strat_992</th>\n      <th>strat_993</th>\n      <th>strat_994</th>\n      <th>strat_995</th>\n      <th>strat_996</th>\n      <th>strat_997</th>\n      <th>strat_998</th>\n      <th>strat_999</th>\n    </tr>\n    <tr>\n      <th>datetime</th>\n      <th></th>\n      <th></th>\n      <th></th>\n      <th></th>\n      <th></th>\n      <th></th>\n      <th></th>\n      <th></th>\n      <th></th>\n      <th></th>\n      <th></th>\n      <th></th>\n      <th></th>\n      <th></th>\n      <th></th>\n      <th></th>\n      <th></th>\n      <th></th>\n      <th></th>\n      <th></th>\n      <th></th>\n    </tr>\n  </thead>\n  <tbody>\n    <tr>\n      <th>2017-01-03</th>\n      <td>-0.000486</td>\n      <td>0.003714</td>\n      <td>-0.010504</td>\n      <td>-0.001757</td>\n      <td>0.001379</td>\n      <td>0.006361</td>\n      <td>0.005167</td>\n      <td>-0.018658</td>\n      <td>-0.006823</td>\n      <td>0.021391</td>\n      <td>...</td>\n      <td>-0.007695</td>\n      <td>0.012777</td>\n      <td>0.002730</td>\n      <td>5.326021e-03</td>\n      <td>0.010425</td>\n      <td>0.012208</td>\n      <td>-0.014230</td>\n      <td>-1.572981e-02</td>\n      <td>-0.016479</td>\n      <td>0.009165</td>\n    </tr>\n    <tr>\n      <th>2017-01-04</th>\n      <td>-0.002982</td>\n      <td>-0.003198</td>\n      <td>-0.001485</td>\n      <td>-0.003928</td>\n      <td>-0.006171</td>\n      <td>-0.002722</td>\n      <td>0.001713</td>\n      <td>0.000708</td>\n      <td>0.001478</td>\n      <td>0.002705</td>\n      <td>...</td>\n      <td>-0.006418</td>\n      <td>-0.004702</td>\n      <td>0.001736</td>\n      <td>3.940992e-03</td>\n      <td>0.002698</td>\n      <td>-0.001238</td>\n      <td>0.005931</td>\n      <td>-3.209748e-03</td>\n      <td>0.006679</td>\n      <td>-0.006158</td>\n    </tr>\n    <tr>\n      <th>2017-01-05</th>\n      <td>-0.000496</td>\n      <td>-0.001481</td>\n      <td>0.001714</td>\n      <td>0.000006</td>\n      <td>-0.008826</td>\n      <td>-0.001723</td>\n      <td>-0.001225</td>\n      <td>0.003180</td>\n      <td>0.000485</td>\n      <td>-0.007855</td>\n      <td>...</td>\n      <td>0.001235</td>\n      <td>0.000241</td>\n      <td>0.006148</td>\n      <td>-8.099976e-03</td>\n      <td>-0.001478</td>\n      <td>0.001960</td>\n      <td>-0.001965</td>\n      <td>-5.395710e-03</td>\n      <td>0.001712</td>\n      <td>-0.004424</td>\n    </tr>\n    <tr>\n      <th>2017-01-06</th>\n      <td>-0.004922</td>\n      <td>-0.000732</td>\n      <td>-0.002221</td>\n      <td>0.006906</td>\n      <td>0.003446</td>\n      <td>0.001240</td>\n      <td>0.001728</td>\n      <td>0.003431</td>\n      <td>0.003436</td>\n      <td>-0.002957</td>\n      <td>...</td>\n      <td>0.004172</td>\n      <td>-0.001221</td>\n      <td>0.008118</td>\n      <td>-3.201678e-03</td>\n      <td>0.000734</td>\n      <td>-0.004430</td>\n      <td>0.004181</td>\n      <td>-1.472083e-03</td>\n      <td>-0.002700</td>\n      <td>0.002940</td>\n    </tr>\n    <tr>\n      <th>2017-01-07</th>\n      <td>0.000494</td>\n      <td>0.000988</td>\n      <td>-0.001235</td>\n      <td>0.000000</td>\n      <td>0.000741</td>\n      <td>0.000741</td>\n      <td>-0.000741</td>\n      <td>-0.000494</td>\n      <td>-0.000247</td>\n      <td>0.001235</td>\n      <td>...</td>\n      <td>-0.000988</td>\n      <td>-0.000988</td>\n      <td>-0.001482</td>\n      <td>1.218724e-07</td>\n      <td>0.001729</td>\n      <td>-0.001482</td>\n      <td>-0.000741</td>\n      <td>1.219026e-07</td>\n      <td>-0.001235</td>\n      <td>0.000494</td>\n    </tr>\n  </tbody>\n</table>\n<p>5 rows × 1000 columns</p>\n</div>",
      "text/plain": "             strat_0   strat_1   strat_2   strat_3   strat_4   strat_5  \\\ndatetime                                                                 \n2017-01-03 -0.000486  0.003714 -0.010504 -0.001757  0.001379  0.006361   \n2017-01-04 -0.002982 -0.003198 -0.001485 -0.003928 -0.006171 -0.002722   \n2017-01-05 -0.000496 -0.001481  0.001714  0.000006 -0.008826 -0.001723   \n2017-01-06 -0.004922 -0.000732 -0.002221  0.006906  0.003446  0.001240   \n2017-01-07  0.000494  0.000988 -0.001235  0.000000  0.000741  0.000741   \n\n             strat_6   strat_7   strat_8   strat_9  ...  strat_990  strat_991  \\\ndatetime                                            ...                         \n2017-01-03  0.005167 -0.018658 -0.006823  0.021391  ...  -0.007695   0.012777   \n2017-01-04  0.001713  0.000708  0.001478  0.002705  ...  -0.006418  -0.004702   \n2017-01-05 -0.001225  0.003180  0.000485 -0.007855  ...   0.001235   0.000241   \n2017-01-06  0.001728  0.003431  0.003436 -0.002957  ...   0.004172  -0.001221   \n2017-01-07 -0.000741 -0.000494 -0.000247  0.001235  ...  -0.000988  -0.000988   \n\n            strat_992     strat_993  strat_994  strat_995  strat_996  \\\ndatetime                                                               \n2017-01-03   0.002730  5.326021e-03   0.010425   0.012208  -0.014230   \n2017-01-04   0.001736  3.940992e-03   0.002698  -0.001238   0.005931   \n2017-01-05   0.006148 -8.099976e-03  -0.001478   0.001960  -0.001965   \n2017-01-06   0.008118 -3.201678e-03   0.000734  -0.004430   0.004181   \n2017-01-07  -0.001482  1.218724e-07   0.001729  -0.001482  -0.000741   \n\n               strat_997  strat_998  strat_999  \ndatetime                                        \n2017-01-03 -1.572981e-02  -0.016479   0.009165  \n2017-01-04 -3.209748e-03   0.006679  -0.006158  \n2017-01-05 -5.395710e-03   0.001712  -0.004424  \n2017-01-06 -1.472083e-03  -0.002700   0.002940  \n2017-01-07  1.219026e-07  -0.001235   0.000494  \n\n[5 rows x 1000 columns]"
     },
     "execution_count": 17,
     "metadata": {},
     "output_type": "execute_result"
    }
   ],
   "source": [
    "pnl_daily.head()"
   ]
  },
  {
   "cell_type": "code",
   "execution_count": 18,
   "metadata": {},
   "outputs": [],
   "source": [
    "# Split Pnl_daily into insample and outsample\n",
    "pnl_insample  = pnl_daily.loc[pnl_daily.index <= pd.to_datetime('2017-06-01'), :]\n",
    "pnl_outsample = pnl_daily.loc[pnl_daily.index >  pd.to_datetime('2017-06-01'), :]"
   ]
  },
  {
   "cell_type": "code",
   "execution_count": 19,
   "metadata": {},
   "outputs": [
    {
     "data": {
      "text/html": "<div>\n<style scoped>\n    .dataframe tbody tr th:only-of-type {\n        vertical-align: middle;\n    }\n\n    .dataframe tbody tr th {\n        vertical-align: top;\n    }\n\n    .dataframe thead th {\n        text-align: right;\n    }\n</style>\n<table border=\"1\" class=\"dataframe\">\n  <thead>\n    <tr style=\"text-align: right;\">\n      <th></th>\n      <th>strat_0</th>\n      <th>strat_1</th>\n      <th>strat_2</th>\n      <th>strat_3</th>\n      <th>strat_4</th>\n      <th>strat_5</th>\n      <th>strat_6</th>\n      <th>strat_7</th>\n      <th>strat_8</th>\n      <th>strat_9</th>\n      <th>...</th>\n      <th>strat_990</th>\n      <th>strat_991</th>\n      <th>strat_992</th>\n      <th>strat_993</th>\n      <th>strat_994</th>\n      <th>strat_995</th>\n      <th>strat_996</th>\n      <th>strat_997</th>\n      <th>strat_998</th>\n      <th>strat_999</th>\n    </tr>\n    <tr>\n      <th>datetime</th>\n      <th></th>\n      <th></th>\n      <th></th>\n      <th></th>\n      <th></th>\n      <th></th>\n      <th></th>\n      <th></th>\n      <th></th>\n      <th></th>\n      <th></th>\n      <th></th>\n      <th></th>\n      <th></th>\n      <th></th>\n      <th></th>\n      <th></th>\n      <th></th>\n      <th></th>\n      <th></th>\n      <th></th>\n    </tr>\n  </thead>\n  <tbody>\n    <tr>\n      <th>2017-01-03</th>\n      <td>-0.000486</td>\n      <td>0.003714</td>\n      <td>-0.010504</td>\n      <td>-0.001757</td>\n      <td>0.001379</td>\n      <td>0.006361</td>\n      <td>0.005167</td>\n      <td>-0.018658</td>\n      <td>-0.006823</td>\n      <td>0.021391</td>\n      <td>...</td>\n      <td>-0.007695</td>\n      <td>0.012777</td>\n      <td>0.002730</td>\n      <td>5.326021e-03</td>\n      <td>0.010425</td>\n      <td>0.012208</td>\n      <td>-0.014230</td>\n      <td>-1.572981e-02</td>\n      <td>-0.016479</td>\n      <td>0.009165</td>\n    </tr>\n    <tr>\n      <th>2017-01-04</th>\n      <td>-0.002982</td>\n      <td>-0.003198</td>\n      <td>-0.001485</td>\n      <td>-0.003928</td>\n      <td>-0.006171</td>\n      <td>-0.002722</td>\n      <td>0.001713</td>\n      <td>0.000708</td>\n      <td>0.001478</td>\n      <td>0.002705</td>\n      <td>...</td>\n      <td>-0.006418</td>\n      <td>-0.004702</td>\n      <td>0.001736</td>\n      <td>3.940992e-03</td>\n      <td>0.002698</td>\n      <td>-0.001238</td>\n      <td>0.005931</td>\n      <td>-3.209748e-03</td>\n      <td>0.006679</td>\n      <td>-0.006158</td>\n    </tr>\n    <tr>\n      <th>2017-01-05</th>\n      <td>-0.000496</td>\n      <td>-0.001481</td>\n      <td>0.001714</td>\n      <td>0.000006</td>\n      <td>-0.008826</td>\n      <td>-0.001723</td>\n      <td>-0.001225</td>\n      <td>0.003180</td>\n      <td>0.000485</td>\n      <td>-0.007855</td>\n      <td>...</td>\n      <td>0.001235</td>\n      <td>0.000241</td>\n      <td>0.006148</td>\n      <td>-8.099976e-03</td>\n      <td>-0.001478</td>\n      <td>0.001960</td>\n      <td>-0.001965</td>\n      <td>-5.395710e-03</td>\n      <td>0.001712</td>\n      <td>-0.004424</td>\n    </tr>\n    <tr>\n      <th>2017-01-06</th>\n      <td>-0.004922</td>\n      <td>-0.000732</td>\n      <td>-0.002221</td>\n      <td>0.006906</td>\n      <td>0.003446</td>\n      <td>0.001240</td>\n      <td>0.001728</td>\n      <td>0.003431</td>\n      <td>0.003436</td>\n      <td>-0.002957</td>\n      <td>...</td>\n      <td>0.004172</td>\n      <td>-0.001221</td>\n      <td>0.008118</td>\n      <td>-3.201678e-03</td>\n      <td>0.000734</td>\n      <td>-0.004430</td>\n      <td>0.004181</td>\n      <td>-1.472083e-03</td>\n      <td>-0.002700</td>\n      <td>0.002940</td>\n    </tr>\n    <tr>\n      <th>2017-01-07</th>\n      <td>0.000494</td>\n      <td>0.000988</td>\n      <td>-0.001235</td>\n      <td>0.000000</td>\n      <td>0.000741</td>\n      <td>0.000741</td>\n      <td>-0.000741</td>\n      <td>-0.000494</td>\n      <td>-0.000247</td>\n      <td>0.001235</td>\n      <td>...</td>\n      <td>-0.000988</td>\n      <td>-0.000988</td>\n      <td>-0.001482</td>\n      <td>1.218724e-07</td>\n      <td>0.001729</td>\n      <td>-0.001482</td>\n      <td>-0.000741</td>\n      <td>1.219026e-07</td>\n      <td>-0.001235</td>\n      <td>0.000494</td>\n    </tr>\n  </tbody>\n</table>\n<p>5 rows × 1000 columns</p>\n</div>",
      "text/plain": "             strat_0   strat_1   strat_2   strat_3   strat_4   strat_5  \\\ndatetime                                                                 \n2017-01-03 -0.000486  0.003714 -0.010504 -0.001757  0.001379  0.006361   \n2017-01-04 -0.002982 -0.003198 -0.001485 -0.003928 -0.006171 -0.002722   \n2017-01-05 -0.000496 -0.001481  0.001714  0.000006 -0.008826 -0.001723   \n2017-01-06 -0.004922 -0.000732 -0.002221  0.006906  0.003446  0.001240   \n2017-01-07  0.000494  0.000988 -0.001235  0.000000  0.000741  0.000741   \n\n             strat_6   strat_7   strat_8   strat_9  ...  strat_990  strat_991  \\\ndatetime                                            ...                         \n2017-01-03  0.005167 -0.018658 -0.006823  0.021391  ...  -0.007695   0.012777   \n2017-01-04  0.001713  0.000708  0.001478  0.002705  ...  -0.006418  -0.004702   \n2017-01-05 -0.001225  0.003180  0.000485 -0.007855  ...   0.001235   0.000241   \n2017-01-06  0.001728  0.003431  0.003436 -0.002957  ...   0.004172  -0.001221   \n2017-01-07 -0.000741 -0.000494 -0.000247  0.001235  ...  -0.000988  -0.000988   \n\n            strat_992     strat_993  strat_994  strat_995  strat_996  \\\ndatetime                                                               \n2017-01-03   0.002730  5.326021e-03   0.010425   0.012208  -0.014230   \n2017-01-04   0.001736  3.940992e-03   0.002698  -0.001238   0.005931   \n2017-01-05   0.006148 -8.099976e-03  -0.001478   0.001960  -0.001965   \n2017-01-06   0.008118 -3.201678e-03   0.000734  -0.004430   0.004181   \n2017-01-07  -0.001482  1.218724e-07   0.001729  -0.001482  -0.000741   \n\n               strat_997  strat_998  strat_999  \ndatetime                                        \n2017-01-03 -1.572981e-02  -0.016479   0.009165  \n2017-01-04 -3.209748e-03   0.006679  -0.006158  \n2017-01-05 -5.395710e-03   0.001712  -0.004424  \n2017-01-06 -1.472083e-03  -0.002700   0.002940  \n2017-01-07  1.219026e-07  -0.001235   0.000494  \n\n[5 rows x 1000 columns]"
     },
     "execution_count": 19,
     "metadata": {},
     "output_type": "execute_result"
    }
   ],
   "source": [
    "pnl_daily.head()"
   ]
  },
  {
   "cell_type": "markdown",
   "execution_count": 27,
   "metadata": {},
   "outputs": [
    {
     "ename": "SyntaxError",
     "evalue": "invalid syntax (<ipython-input-27-0520962a24e8>, line 3)",
     "output_type": "error",
     "traceback": [
      "\u001b[1;36m  File \u001b[1;32m\"<ipython-input-27-0520962a24e8>\"\u001b[1;36m, line \u001b[1;32m3\u001b[0m\n\u001b[1;33m    * IID Sharpe\u001b[0m\n\u001b[1;37m               ^\u001b[0m\n\u001b[1;31mSyntaxError\u001b[0m\u001b[1;31m:\u001b[0m invalid syntax\n"
     ]
    }
   ],
   "source": [
    "#### Part 2 Testing Sharpe ratio and its variants\n",
    "\n",
    "* IID Sharpe\n",
    "* IID Sharpe Adjusted\n",
    "* Sharpe_non_iid"
   ]
  },
  {
   "cell_type": "code",
   "execution_count": 20,
   "metadata": {},
   "outputs": [
    {
     "name": "stdout",
     "output_type": "stream",
     "text": "<class 'numpy.ndarray'>\n(1080,)\n"
    }
   ],
   "source": [
    "rtns_pct = pnl_daily.strat_105.values\n",
    "print(type(rtns_pct))\n",
    "print(rtns_pct.shape)"
   ]
  },
  {
   "cell_type": "code",
   "execution_count": 21,
   "metadata": {},
   "outputs": [
    {
     "name": "stdout",
     "output_type": "stream",
     "text": "0.24542544330318658\n"
    }
   ],
   "source": [
    "# normal sharpe\n",
    "sharpe = sharpe_iid(rtns_pct, bench=0, factor=252, log=False)\n",
    "print(sharpe)"
   ]
  },
  {
   "cell_type": "code",
   "execution_count": 22,
   "metadata": {},
   "outputs": [
    {
     "name": "stdout",
     "output_type": "stream",
     "text": "0.24530880549200637\n"
    }
   ],
   "source": [
    "# IID adjusted sharpe\n",
    "adj_sharpe = sharpe_iid_adjusted(rtns_pct, bench=0, factor=252, log=False)\n",
    "print(adj_sharpe)"
   ]
  },
  {
   "cell_type": "code",
   "execution_count": 23,
   "metadata": {},
   "outputs": [
    {
     "name": "stdout",
     "output_type": "stream",
     "text": "0.4422447094531206\n"
    }
   ],
   "source": [
    "# None IID adjusted sharpe\n",
    "nonIIDsharpe = sharpe_non_iid(rtns_pct, bench=0, factor=252, p_critical=0.05, log=False)\n",
    "# since the algo is random, the Ljung-Box test for autocorrelation can be passed\n",
    "# the value is the same as the normal sharpe\n",
    "print(nonIIDsharpe)"
   ]
  },
  {
   "cell_type": "markdown",
   "execution_count": null,
   "metadata": {},
   "outputs": [],
   "source": []
  },
  {
   "cell_type": "markdown",
   "execution_count": 26,
   "metadata": {},
   "outputs": [
    {
     "ename": "SyntaxError",
     "evalue": "invalid syntax (<ipython-input-26-e9ce9137773a>, line 3)",
     "output_type": "error",
     "traceback": [
      "\u001b[1;36m  File \u001b[1;32m\"<ipython-input-26-e9ce9137773a>\"\u001b[1;36m, line \u001b[1;32m3\u001b[0m\n\u001b[1;33m    * it will consider the insample and outsample performance\u001b[0m\n\u001b[1;37m            ^\u001b[0m\n\u001b[1;31mSyntaxError\u001b[0m\u001b[1;31m:\u001b[0m invalid syntax\n"
     ]
    }
   ],
   "source": [
    "#### Part 3 Compute the deflated ration for the shapre\n",
    "\n",
    "* it will consider the insample and outsample performance\n",
    "* \n",
    "* from in_sample: the number of trials, the std of computed sharpe   \n",
    "  -> reduce the selection bias\n",
    "* the return sequence for estimated SR: the number of days,  the skew and kurtosis of the return sequence, the sharpe  \n",
    "  -> reduce the non-normal bias\n",
    "* The computed deflated sharpe is in the range (0, 1). The less, the better"
   ]
  },
  {
   "cell_type": "code",
   "execution_count": 24,
   "metadata": {},
   "outputs": [],
   "source": [
    "\n",
    "sharpe_list = pnl_insample.apply(lambda x: sharpe_iid(x, factor=252, log=False))"
   ]
  },
  {
   "cell_type": "code",
   "execution_count": 25,
   "metadata": {},
   "outputs": [
    {
     "data": {
      "text/plain": "Index(['strat_0', 'strat_1', 'strat_2', 'strat_3', 'strat_4', 'strat_5',\n       'strat_6', 'strat_7', 'strat_8', 'strat_9',\n       ...\n       'strat_990', 'strat_991', 'strat_992', 'strat_993', 'strat_994',\n       'strat_995', 'strat_996', 'strat_997', 'strat_998', 'strat_999'],\n      dtype='object', length=1000)"
     },
     "execution_count": 25,
     "metadata": {},
     "output_type": "execute_result"
    }
   ],
   "source": [
    "sharpe_list.index"
   ]
  },
  {
   "cell_type": "markdown",
   "execution_count": null,
   "metadata": {},
   "outputs": [],
   "source": [
    "###  The best algo in the insample period"
   ]
  },
  {
   "cell_type": "code",
   "execution_count": 26,
   "metadata": {},
   "outputs": [],
   "source": [
    "max_sharpe = sharpe_list.max()\n",
    "std_sharpe = sharpe_list.std()\n",
    "bset_strat = sharpe_list.idxmax()\n",
    "nb_trials  = N_stat"
   ]
  },
  {
   "cell_type": "code",
   "execution_count": 27,
   "metadata": {},
   "outputs": [
    {
     "name": "stdout",
     "output_type": "stream",
     "text": "best random algo is strat_186 with a sharpe 3.9622877630897646\n"
    }
   ],
   "source": [
    "print('best random algo is {} with a sharpe {}'.format(bset_strat, max_sharpe))"
   ]
  },
  {
   "cell_type": "markdown",
   "execution_count": null,
   "metadata": {},
   "outputs": [],
   "source": [
    "####  The selected algo in the outsample period"
   ]
  },
  {
   "cell_type": "code",
   "execution_count": 28,
   "metadata": {},
   "outputs": [],
   "source": [
    "test_pnl_oos = pnl_outsample[bset_strat]\n",
    "test_rtns = test_pnl_oos.values\n",
    "test_pnl_is = pnl_insample[bset_strat]\n",
    "test_rtns_is = test_pnl_is.values\n",
    "estimated_sharpe = sharpe_iid(test_rtns, factor=252, log=False)"
   ]
  },
  {
   "cell_type": "markdown",
   "execution_count": null,
   "metadata": {},
   "outputs": [],
   "source": [
    "#### Compute the deflation of In-sample SR Estimation"
   ]
  },
  {
   "cell_type": "code",
   "execution_count": 29,
   "metadata": {},
   "outputs": [
    {
     "name": "stdout",
     "output_type": "stream",
     "text": "sharpe computed: 3.9622877630897646\n"
    }
   ],
   "source": [
    "print('sharpe computed: {}'.format(max_sharpe))"
   ]
  },
  {
   "cell_type": "code",
   "execution_count": 30,
   "metadata": {},
   "outputs": [],
   "source": [
    "ratio_deflated = compute_deflated_sharpe_ratio(max_sharpe, std_sharpe, nb_trials, test_rtns_is)"
   ]
  },
  {
   "cell_type": "code",
   "execution_count": 31,
   "metadata": {},
   "outputs": [
    {
     "name": "stdout",
     "output_type": "stream",
     "text": "0.0727152803789416\n"
    }
   ],
   "source": [
    "print(ratio_deflated)"
   ]
  },
  {
   "cell_type": "markdown",
   "execution_count": 46,
   "metadata": {},
   "outputs": [],
   "source": [
    "#### Compute the deflation of OOS SR Estimation"
   ]
  },
  {
   "cell_type": "code",
   "execution_count": 32,
   "metadata": {},
   "outputs": [
    {
     "name": "stdout",
     "output_type": "stream",
     "text": "sharpe computed: 0.4956008512229527\n"
    }
   ],
   "source": [
    "print('sharpe computed: {}'.format(estimated_sharpe))"
   ]
  },
  {
   "cell_type": "code",
   "execution_count": 33,
   "metadata": {},
   "outputs": [],
   "source": [
    "ratio_deflated = compute_deflated_sharpe_ratio(estimated_sharpe, std_sharpe, nb_trials, test_rtns)"
   ]
  },
  {
   "cell_type": "code",
   "execution_count": 34,
   "metadata": {},
   "outputs": [
    {
     "name": "stdout",
     "output_type": "stream",
     "text": "0.0\n"
    }
   ],
   "source": [
    "print(ratio_deflated)"
   ]
  },
  {
   "cell_type": "markdown",
   "execution_count": null,
   "metadata": {},
   "outputs": [],
   "source": [
    "###  Pass the test\n",
    "\n",
    "Since the best strat is totally data mining producted (randomly selected), it should not be used even if the in-sample sharpe is almost 4. Then, the computed deflated ratio is 0, which can filter the strategy as a false discovery. The ratio can be understood as the probability of the tested algo may have a postive sharpe in the future. The higher, the better"
   ]
  }
 ]
}