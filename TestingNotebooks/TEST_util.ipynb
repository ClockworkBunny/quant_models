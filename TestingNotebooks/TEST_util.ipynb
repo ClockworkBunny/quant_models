{
 "nbformat": 4,
 "nbformat_minor": 2,
 "metadata": {
  "language_info": {
   "name": "python",
   "codemirror_mode": {
    "name": "ipython",
    "version": 3
   },
   "version": "3.7.0"
  },
  "orig_nbformat": 2,
  "file_extension": ".py",
  "mimetype": "text/x-python",
  "name": "python",
  "npconvert_exporter": "python",
  "pygments_lexer": "ipython3",
  "version": 3
 },
 "cells": [
  {
   "cell_type": "markdown",
   "execution_count": null,
   "metadata": {},
   "outputs": [],
   "source": [
    "## Ipython Notebooks for testing util functions\n",
    "\n",
    "1. resample\n",
    "2. daily vol counting\n",
    "3. timezone chagne\n",
    "4. filter"
   ]
  },
  {
   "cell_type": "code",
   "execution_count": 1,
   "metadata": {},
   "outputs": [],
   "source": [
    "import sys\n",
    "sys.path.append('E:\\\\git_folder\\\\quant_models')"
   ]
  },
  {
   "cell_type": "code",
   "execution_count": 2,
   "metadata": {},
   "outputs": [
    {
     "name": "stdout",
     "output_type": "stream",
     "text": "['', 'C:\\\\Users\\\\ZHAORU~1\\\\AppData\\\\Local\\\\Temp\\\\9edc9679-8599-47bc-9bb3-5fef8a927042', 'E:\\\\Anaconda\\\\python37.zip', 'E:\\\\Anaconda\\\\DLLs', 'E:\\\\Anaconda\\\\lib', 'E:\\\\Anaconda', 'C:\\\\Users\\\\Zhao Rui\\\\AppData\\\\Roaming\\\\Python\\\\Python37\\\\site-packages', 'E:\\\\Anaconda\\\\lib\\\\site-packages', 'E:\\\\Anaconda\\\\lib\\\\site-packages\\\\win32', 'E:\\\\Anaconda\\\\lib\\\\site-packages\\\\win32\\\\lib', 'E:\\\\Anaconda\\\\lib\\\\site-packages\\\\Pythonwin', 'E:\\\\Anaconda\\\\lib\\\\site-packages\\\\IPython\\\\extensions', 'C:\\\\Users\\\\Zhao Rui\\\\.ipython', 'E:\\\\git_folder\\\\quant_models']\n"
    }
   ],
   "source": [
    "print(sys.path)"
   ]
  },
  {
   "cell_type": "code",
   "execution_count": 3,
   "metadata": {},
   "outputs": [],
   "source": [
    "from util.utils import get_daily_vol, sample_df, convert_tz, filter_df_time"
   ]
  },
  {
   "cell_type": "markdown",
   "execution_count": null,
   "metadata": {},
   "outputs": [],
   "source": [
    "#### Data importing"
   ]
  },
  {
   "cell_type": "code",
   "execution_count": 4,
   "metadata": {},
   "outputs": [],
   "source": [
    "from util.fast_smooth import smooth, smooth_normal"
   ]
  },
  {
   "cell_type": "code",
   "execution_count": 5,
   "metadata": {},
   "outputs": [],
   "source": [
    "import pandas as pd\n",
    "data_fn = \"././data/xu1_1min.csv\"\n",
    "df_price = pd.read_csv(data_fn)"
   ]
  },
  {
   "cell_type": "code",
   "execution_count": 6,
   "metadata": {},
   "outputs": [],
   "source": [
    "test_df = df_price.copy()\n",
    "test_df.loc[:,'datetime'] = pd.to_datetime(test_df.datetime)\n",
    "test_df.set_index('datetime', inplace=True)"
   ]
  },
  {
   "cell_type": "code",
   "execution_count": 7,
   "metadata": {},
   "outputs": [
    {
     "data": {
      "text/html": "<div>\n<style scoped>\n    .dataframe tbody tr th:only-of-type {\n        vertical-align: middle;\n    }\n\n    .dataframe tbody tr th {\n        vertical-align: top;\n    }\n\n    .dataframe thead th {\n        text-align: right;\n    }\n</style>\n<table border=\"1\" class=\"dataframe\">\n  <thead>\n    <tr style=\"text-align: right;\">\n      <th></th>\n      <th>open</th>\n      <th>high</th>\n      <th>low</th>\n      <th>close</th>\n      <th>volume</th>\n    </tr>\n    <tr>\n      <th>datetime</th>\n      <th></th>\n      <th></th>\n      <th></th>\n      <th></th>\n      <th></th>\n    </tr>\n  </thead>\n  <tbody>\n    <tr>\n      <th>2014-06-27 00:47:00</th>\n      <td>6635.0</td>\n      <td>6635.0</td>\n      <td>6635.0</td>\n      <td>6635.0</td>\n      <td>1.0</td>\n    </tr>\n    <tr>\n      <th>2014-06-27 00:48:00</th>\n      <td>6630.0</td>\n      <td>6630.0</td>\n      <td>6625.0</td>\n      <td>6625.0</td>\n      <td>23.0</td>\n    </tr>\n    <tr>\n      <th>2014-06-27 00:50:00</th>\n      <td>6630.0</td>\n      <td>6630.0</td>\n      <td>6625.0</td>\n      <td>6625.0</td>\n      <td>44.0</td>\n    </tr>\n    <tr>\n      <th>2014-06-27 00:52:00</th>\n      <td>6630.0</td>\n      <td>6630.0</td>\n      <td>6630.0</td>\n      <td>6630.0</td>\n      <td>5.0</td>\n    </tr>\n    <tr>\n      <th>2014-06-27 00:55:00</th>\n      <td>6630.0</td>\n      <td>6630.0</td>\n      <td>6630.0</td>\n      <td>6630.0</td>\n      <td>12.0</td>\n    </tr>\n  </tbody>\n</table>\n</div>",
      "text/plain": "                       open    high     low   close  volume\ndatetime                                                   \n2014-06-27 00:47:00  6635.0  6635.0  6635.0  6635.0     1.0\n2014-06-27 00:48:00  6630.0  6630.0  6625.0  6625.0    23.0\n2014-06-27 00:50:00  6630.0  6630.0  6625.0  6625.0    44.0\n2014-06-27 00:52:00  6630.0  6630.0  6630.0  6630.0     5.0\n2014-06-27 00:55:00  6630.0  6630.0  6630.0  6630.0    12.0"
     },
     "execution_count": 7,
     "metadata": {},
     "output_type": "execute_result"
    }
   ],
   "source": [
    "test_df.head()"
   ]
  },
  {
   "cell_type": "markdown",
   "execution_count": null,
   "metadata": {},
   "outputs": [],
   "source": [
    "#### Test the bar sampling functions"
   ]
  },
  {
   "cell_type": "code",
   "execution_count": 8,
   "metadata": {},
   "outputs": [],
   "source": [
    "df_sampled = sample_df(test_df, '10T')"
   ]
  },
  {
   "cell_type": "markdown",
   "execution_count": null,
   "metadata": {},
   "outputs": [],
   "source": [
    "### Test the filter function"
   ]
  },
  {
   "cell_type": "code",
   "execution_count": 9,
   "metadata": {},
   "outputs": [],
   "source": [
    "raw_price = df_sampled['open'].values"
   ]
  },
  {
   "cell_type": "code",
   "execution_count": 10,
   "metadata": {},
   "outputs": [
    {
     "data": {
      "text/plain": "numpy.ndarray"
     },
     "execution_count": 10,
     "metadata": {},
     "output_type": "execute_result"
    }
   ],
   "source": [
    "type(raw_price)"
   ]
  },
  {
   "cell_type": "code",
   "execution_count": 19,
   "metadata": {},
   "outputs": [
    {
     "name": "stdout",
     "output_type": "stream",
     "text": "1min 36s ± 2.02 s per loop (mean ± std. dev. of 7 runs, 1 loop each)\n"
    }
   ],
   "source": [
    "%timeit new_price = smooth(raw_price, 1000)"
   ]
  },
  {
   "cell_type": "code",
   "execution_count": 12,
   "metadata": {},
   "outputs": [
    {
     "name": "stdout",
     "output_type": "stream",
     "text": "1min 2s ± 331 ms per loop (mean ± std. dev. of 7 runs, 1 loop each)\n"
    }
   ],
   "source": [
    "%timeit new_price2 = smooth_normal(raw_price, 1000) "
   ]
  },
  {
   "cell_type": "markdown",
   "execution_count": null,
   "metadata": {},
   "outputs": [],
   "source": [
    "#### Daily Vol Computed"
   ]
  },
  {
   "cell_type": "code",
   "execution_count": 13,
   "metadata": {},
   "outputs": [],
   "source": [
    "vol_df = get_daily_vol(df_sampled, 100, numday=1)"
   ]
  },
  {
   "cell_type": "code",
   "execution_count": 14,
   "metadata": {},
   "outputs": [
    {
     "data": {
      "text/html": "<div>\n<style scoped>\n    .dataframe tbody tr th:only-of-type {\n        vertical-align: middle;\n    }\n\n    .dataframe tbody tr th {\n        vertical-align: top;\n    }\n\n    .dataframe thead th {\n        text-align: right;\n    }\n</style>\n<table border=\"1\" class=\"dataframe\">\n  <thead>\n    <tr style=\"text-align: right;\">\n      <th></th>\n      <th>vol</th>\n    </tr>\n    <tr>\n      <th>datetime</th>\n      <th></th>\n    </tr>\n  </thead>\n  <tbody>\n    <tr>\n      <th>2014-06-28 01:00:00</th>\n      <td>0.001065</td>\n    </tr>\n    <tr>\n      <th>2014-06-28 01:10:00</th>\n      <td>0.000870</td>\n    </tr>\n    <tr>\n      <th>2014-06-28 01:20:00</th>\n      <td>0.000718</td>\n    </tr>\n    <tr>\n      <th>2014-06-28 01:30:00</th>\n      <td>0.000987</td>\n    </tr>\n    <tr>\n      <th>2014-06-28 02:10:00</th>\n      <td>0.000912</td>\n    </tr>\n  </tbody>\n</table>\n</div>",
      "text/plain": "                          vol\ndatetime                     \n2014-06-28 01:00:00  0.001065\n2014-06-28 01:10:00  0.000870\n2014-06-28 01:20:00  0.000718\n2014-06-28 01:30:00  0.000987\n2014-06-28 02:10:00  0.000912"
     },
     "execution_count": 14,
     "metadata": {},
     "output_type": "execute_result"
    }
   ],
   "source": [
    "vol_df.head()"
   ]
  },
  {
   "cell_type": "markdown",
   "execution_count": null,
   "metadata": {},
   "outputs": [],
   "source": [
    "### Timezone change"
   ]
  },
  {
   "cell_type": "code",
   "execution_count": 15,
   "metadata": {},
   "outputs": [
    {
     "data": {
      "text/html": "<div>\n<style scoped>\n    .dataframe tbody tr th:only-of-type {\n        vertical-align: middle;\n    }\n\n    .dataframe tbody tr th {\n        vertical-align: top;\n    }\n\n    .dataframe thead th {\n        text-align: right;\n    }\n</style>\n<table border=\"1\" class=\"dataframe\">\n  <thead>\n    <tr style=\"text-align: right;\">\n      <th></th>\n      <th>open</th>\n      <th>close</th>\n      <th>low</th>\n      <th>high</th>\n      <th>volume</th>\n    </tr>\n    <tr>\n      <th>datetime</th>\n      <th></th>\n      <th></th>\n      <th></th>\n      <th></th>\n      <th></th>\n    </tr>\n  </thead>\n  <tbody>\n    <tr>\n      <th>2014-06-26 12:40:00</th>\n      <td>6635.0</td>\n      <td>6625.0</td>\n      <td>6625.0</td>\n      <td>6635.0</td>\n      <td>24.0</td>\n    </tr>\n    <tr>\n      <th>2014-06-26 12:50:00</th>\n      <td>6630.0</td>\n      <td>6635.0</td>\n      <td>6625.0</td>\n      <td>6635.0</td>\n      <td>95.0</td>\n    </tr>\n    <tr>\n      <th>2014-06-26 13:00:00</th>\n      <td>6635.0</td>\n      <td>6630.0</td>\n      <td>6630.0</td>\n      <td>6640.0</td>\n      <td>157.0</td>\n    </tr>\n    <tr>\n      <th>2014-06-26 13:10:00</th>\n      <td>6635.0</td>\n      <td>6635.0</td>\n      <td>6635.0</td>\n      <td>6635.0</td>\n      <td>528.0</td>\n    </tr>\n    <tr>\n      <th>2014-06-26 13:20:00</th>\n      <td>6635.0</td>\n      <td>6635.0</td>\n      <td>6635.0</td>\n      <td>6635.0</td>\n      <td>68.0</td>\n    </tr>\n  </tbody>\n</table>\n</div>",
      "text/plain": "                       open   close     low    high  volume\ndatetime                                                   \n2014-06-26 12:40:00  6635.0  6625.0  6625.0  6635.0    24.0\n2014-06-26 12:50:00  6630.0  6635.0  6625.0  6635.0    95.0\n2014-06-26 13:00:00  6635.0  6630.0  6630.0  6640.0   157.0\n2014-06-26 13:10:00  6635.0  6635.0  6635.0  6635.0   528.0\n2014-06-26 13:20:00  6635.0  6635.0  6635.0  6635.0    68.0"
     },
     "execution_count": 15,
     "metadata": {},
     "output_type": "execute_result"
    }
   ],
   "source": [
    "df_us = convert_tz(df_sampled,'SG', 'US')\n",
    "df_us.head()"
   ]
  },
  {
   "cell_type": "code",
   "execution_count": 16,
   "metadata": {},
   "outputs": [
    {
     "data": {
      "text/html": "<div>\n<style scoped>\n    .dataframe tbody tr th:only-of-type {\n        vertical-align: middle;\n    }\n\n    .dataframe tbody tr th {\n        vertical-align: top;\n    }\n\n    .dataframe thead th {\n        text-align: right;\n    }\n</style>\n<table border=\"1\" class=\"dataframe\">\n  <thead>\n    <tr style=\"text-align: right;\">\n      <th></th>\n      <th>open</th>\n      <th>close</th>\n      <th>low</th>\n      <th>high</th>\n      <th>volume</th>\n    </tr>\n    <tr>\n      <th>datetime</th>\n      <th></th>\n      <th></th>\n      <th></th>\n      <th></th>\n      <th></th>\n    </tr>\n  </thead>\n  <tbody>\n    <tr>\n      <th>2014-06-27 00:40:00</th>\n      <td>6635.0</td>\n      <td>6625.0</td>\n      <td>6625.0</td>\n      <td>6635.0</td>\n      <td>24.0</td>\n    </tr>\n    <tr>\n      <th>2014-06-27 00:50:00</th>\n      <td>6630.0</td>\n      <td>6635.0</td>\n      <td>6625.0</td>\n      <td>6635.0</td>\n      <td>95.0</td>\n    </tr>\n    <tr>\n      <th>2014-06-27 01:00:00</th>\n      <td>6635.0</td>\n      <td>6630.0</td>\n      <td>6630.0</td>\n      <td>6640.0</td>\n      <td>157.0</td>\n    </tr>\n    <tr>\n      <th>2014-06-27 01:10:00</th>\n      <td>6635.0</td>\n      <td>6635.0</td>\n      <td>6635.0</td>\n      <td>6635.0</td>\n      <td>528.0</td>\n    </tr>\n    <tr>\n      <th>2014-06-27 01:20:00</th>\n      <td>6635.0</td>\n      <td>6635.0</td>\n      <td>6635.0</td>\n      <td>6635.0</td>\n      <td>68.0</td>\n    </tr>\n    <tr>\n      <th>2014-06-27 01:30:00</th>\n      <td>6635.0</td>\n      <td>6635.0</td>\n      <td>6635.0</td>\n      <td>6635.0</td>\n      <td>13.0</td>\n    </tr>\n    <tr>\n      <th>2014-06-27 01:40:00</th>\n      <td>6630.0</td>\n      <td>6630.0</td>\n      <td>6630.0</td>\n      <td>6630.0</td>\n      <td>7.0</td>\n    </tr>\n    <tr>\n      <th>2014-06-27 01:50:00</th>\n      <td>6630.0</td>\n      <td>6630.0</td>\n      <td>6630.0</td>\n      <td>6630.0</td>\n      <td>1.0</td>\n    </tr>\n    <tr>\n      <th>2014-06-27 02:00:00</th>\n      <td>6630.0</td>\n      <td>6630.0</td>\n      <td>6625.0</td>\n      <td>6630.0</td>\n      <td>37.0</td>\n    </tr>\n    <tr>\n      <th>2014-06-27 02:10:00</th>\n      <td>6625.0</td>\n      <td>6625.0</td>\n      <td>6625.0</td>\n      <td>6625.0</td>\n      <td>83.0</td>\n    </tr>\n    <tr>\n      <th>2014-06-27 02:20:00</th>\n      <td>6625.0</td>\n      <td>6625.0</td>\n      <td>6625.0</td>\n      <td>6625.0</td>\n      <td>19.0</td>\n    </tr>\n    <tr>\n      <th>2014-06-27 02:50:00</th>\n      <td>6625.0</td>\n      <td>6625.0</td>\n      <td>6625.0</td>\n      <td>6625.0</td>\n      <td>5.0</td>\n    </tr>\n    <tr>\n      <th>2014-06-27 03:00:00</th>\n      <td>6625.0</td>\n      <td>6625.0</td>\n      <td>6625.0</td>\n      <td>6625.0</td>\n      <td>6.0</td>\n    </tr>\n    <tr>\n      <th>2014-06-27 03:10:00</th>\n      <td>6630.0</td>\n      <td>6630.0</td>\n      <td>6630.0</td>\n      <td>6630.0</td>\n      <td>24.0</td>\n    </tr>\n    <tr>\n      <th>2014-06-27 03:20:00</th>\n      <td>6630.0</td>\n      <td>6630.0</td>\n      <td>6630.0</td>\n      <td>6630.0</td>\n      <td>3.0</td>\n    </tr>\n    <tr>\n      <th>2014-06-27 03:30:00</th>\n      <td>6630.0</td>\n      <td>6630.0</td>\n      <td>6630.0</td>\n      <td>6630.0</td>\n      <td>1.0</td>\n    </tr>\n    <tr>\n      <th>2014-06-27 03:40:00</th>\n      <td>6630.0</td>\n      <td>6630.0</td>\n      <td>6630.0</td>\n      <td>6630.0</td>\n      <td>19.0</td>\n    </tr>\n    <tr>\n      <th>2014-06-27 03:50:00</th>\n      <td>6630.0</td>\n      <td>6630.0</td>\n      <td>6630.0</td>\n      <td>6630.0</td>\n      <td>7.0</td>\n    </tr>\n    <tr>\n      <th>2014-06-27 04:20:00</th>\n      <td>6630.0</td>\n      <td>6630.0</td>\n      <td>6630.0</td>\n      <td>6630.0</td>\n      <td>12.0</td>\n    </tr>\n    <tr>\n      <th>2014-06-27 04:40:00</th>\n      <td>6625.0</td>\n      <td>6630.0</td>\n      <td>6625.0</td>\n      <td>6630.0</td>\n      <td>5.0</td>\n    </tr>\n    <tr>\n      <th>2014-06-27 04:50:00</th>\n      <td>6630.0</td>\n      <td>6630.0</td>\n      <td>6630.0</td>\n      <td>6630.0</td>\n      <td>1.0</td>\n    </tr>\n    <tr>\n      <th>2014-06-27 05:10:00</th>\n      <td>6630.0</td>\n      <td>6625.0</td>\n      <td>6620.0</td>\n      <td>6630.0</td>\n      <td>23.0</td>\n    </tr>\n    <tr>\n      <th>2014-06-27 05:20:00</th>\n      <td>6625.0</td>\n      <td>6625.0</td>\n      <td>6625.0</td>\n      <td>6625.0</td>\n      <td>15.0</td>\n    </tr>\n    <tr>\n      <th>2014-06-27 05:40:00</th>\n      <td>6620.0</td>\n      <td>6625.0</td>\n      <td>6620.0</td>\n      <td>6625.0</td>\n      <td>210.0</td>\n    </tr>\n    <tr>\n      <th>2014-06-27 05:50:00</th>\n      <td>6620.0</td>\n      <td>6615.0</td>\n      <td>6615.0</td>\n      <td>6620.0</td>\n      <td>289.0</td>\n    </tr>\n    <tr>\n      <th>2014-06-27 06:00:00</th>\n      <td>6615.0</td>\n      <td>6615.0</td>\n      <td>6615.0</td>\n      <td>6615.0</td>\n      <td>29.0</td>\n    </tr>\n    <tr>\n      <th>2014-06-27 06:10:00</th>\n      <td>6610.0</td>\n      <td>6610.0</td>\n      <td>6610.0</td>\n      <td>6610.0</td>\n      <td>2.0</td>\n    </tr>\n    <tr>\n      <th>2014-06-27 06:20:00</th>\n      <td>6615.0</td>\n      <td>6615.0</td>\n      <td>6615.0</td>\n      <td>6615.0</td>\n      <td>2.0</td>\n    </tr>\n    <tr>\n      <th>2014-06-27 06:30:00</th>\n      <td>6620.0</td>\n      <td>6620.0</td>\n      <td>6620.0</td>\n      <td>6620.0</td>\n      <td>1.0</td>\n    </tr>\n    <tr>\n      <th>2014-06-27 06:50:00</th>\n      <td>6615.0</td>\n      <td>6615.0</td>\n      <td>6615.0</td>\n      <td>6615.0</td>\n      <td>2.0</td>\n    </tr>\n    <tr>\n      <th>2014-06-27 07:00:00</th>\n      <td>6615.0</td>\n      <td>6615.0</td>\n      <td>6615.0</td>\n      <td>6615.0</td>\n      <td>173.0</td>\n    </tr>\n    <tr>\n      <th>2014-06-27 07:20:00</th>\n      <td>6620.0</td>\n      <td>6620.0</td>\n      <td>6620.0</td>\n      <td>6620.0</td>\n      <td>1.0</td>\n    </tr>\n    <tr>\n      <th>2014-06-27 07:50:00</th>\n      <td>6625.0</td>\n      <td>6625.0</td>\n      <td>6625.0</td>\n      <td>6625.0</td>\n      <td>1.0</td>\n    </tr>\n    <tr>\n      <th>2014-06-27 08:00:00</th>\n      <td>6625.0</td>\n      <td>6630.0</td>\n      <td>6625.0</td>\n      <td>6630.0</td>\n      <td>26.0</td>\n    </tr>\n    <tr>\n      <th>2014-06-27 08:10:00</th>\n      <td>6630.0</td>\n      <td>6630.0</td>\n      <td>6630.0</td>\n      <td>6630.0</td>\n      <td>18.0</td>\n    </tr>\n    <tr>\n      <th>2014-06-27 08:20:00</th>\n      <td>6630.0</td>\n      <td>6635.0</td>\n      <td>6630.0</td>\n      <td>6635.0</td>\n      <td>4.0</td>\n    </tr>\n    <tr>\n      <th>2014-06-27 08:30:00</th>\n      <td>6635.0</td>\n      <td>6630.0</td>\n      <td>6630.0</td>\n      <td>6635.0</td>\n      <td>33.0</td>\n    </tr>\n    <tr>\n      <th>2014-06-27 08:50:00</th>\n      <td>6630.0</td>\n      <td>6630.0</td>\n      <td>6630.0</td>\n      <td>6630.0</td>\n      <td>30.0</td>\n    </tr>\n    <tr>\n      <th>2014-06-27 09:40:00</th>\n      <td>6630.0</td>\n      <td>6630.0</td>\n      <td>6630.0</td>\n      <td>6630.0</td>\n      <td>6.0</td>\n    </tr>\n    <tr>\n      <th>2014-06-27 09:50:00</th>\n      <td>6630.0</td>\n      <td>6625.0</td>\n      <td>6625.0</td>\n      <td>6630.0</td>\n      <td>12.0</td>\n    </tr>\n    <tr>\n      <th>2014-06-27 17:00:00</th>\n      <td>6635.0</td>\n      <td>6635.0</td>\n      <td>6635.0</td>\n      <td>6640.0</td>\n      <td>1100.0</td>\n    </tr>\n    <tr>\n      <th>2014-06-27 17:10:00</th>\n      <td>6630.0</td>\n      <td>6630.0</td>\n      <td>6605.0</td>\n      <td>6635.0</td>\n      <td>1911.0</td>\n    </tr>\n    <tr>\n      <th>2014-06-27 17:20:00</th>\n      <td>6625.0</td>\n      <td>6615.0</td>\n      <td>6615.0</td>\n      <td>6630.0</td>\n      <td>1341.0</td>\n    </tr>\n    <tr>\n      <th>2014-06-27 17:30:00</th>\n      <td>6620.0</td>\n      <td>6620.0</td>\n      <td>6595.0</td>\n      <td>6625.0</td>\n      <td>5211.0</td>\n    </tr>\n    <tr>\n      <th>2014-06-27 17:40:00</th>\n      <td>6620.0</td>\n      <td>6615.0</td>\n      <td>6610.0</td>\n      <td>6620.0</td>\n      <td>5025.0</td>\n    </tr>\n    <tr>\n      <th>2014-06-27 17:50:00</th>\n      <td>6615.0</td>\n      <td>6610.0</td>\n      <td>6600.0</td>\n      <td>6615.0</td>\n      <td>3999.0</td>\n    </tr>\n    <tr>\n      <th>2014-06-27 18:00:00</th>\n      <td>6610.0</td>\n      <td>6605.0</td>\n      <td>6600.0</td>\n      <td>6615.0</td>\n      <td>5349.0</td>\n    </tr>\n    <tr>\n      <th>2014-06-27 18:10:00</th>\n      <td>6610.0</td>\n      <td>6605.0</td>\n      <td>6595.0</td>\n      <td>6610.0</td>\n      <td>1769.0</td>\n    </tr>\n    <tr>\n      <th>2014-06-27 18:20:00</th>\n      <td>6610.0</td>\n      <td>6600.0</td>\n      <td>6600.0</td>\n      <td>6610.0</td>\n      <td>716.0</td>\n    </tr>\n    <tr>\n      <th>2014-06-27 18:30:00</th>\n      <td>6605.0</td>\n      <td>6605.0</td>\n      <td>6600.0</td>\n      <td>6615.0</td>\n      <td>2274.0</td>\n    </tr>\n  </tbody>\n</table>\n</div>",
      "text/plain": "                       open   close     low    high  volume\ndatetime                                                   \n2014-06-27 00:40:00  6635.0  6625.0  6625.0  6635.0    24.0\n2014-06-27 00:50:00  6630.0  6635.0  6625.0  6635.0    95.0\n2014-06-27 01:00:00  6635.0  6630.0  6630.0  6640.0   157.0\n2014-06-27 01:10:00  6635.0  6635.0  6635.0  6635.0   528.0\n2014-06-27 01:20:00  6635.0  6635.0  6635.0  6635.0    68.0\n2014-06-27 01:30:00  6635.0  6635.0  6635.0  6635.0    13.0\n2014-06-27 01:40:00  6630.0  6630.0  6630.0  6630.0     7.0\n2014-06-27 01:50:00  6630.0  6630.0  6630.0  6630.0     1.0\n2014-06-27 02:00:00  6630.0  6630.0  6625.0  6630.0    37.0\n2014-06-27 02:10:00  6625.0  6625.0  6625.0  6625.0    83.0\n2014-06-27 02:20:00  6625.0  6625.0  6625.0  6625.0    19.0\n2014-06-27 02:50:00  6625.0  6625.0  6625.0  6625.0     5.0\n2014-06-27 03:00:00  6625.0  6625.0  6625.0  6625.0     6.0\n2014-06-27 03:10:00  6630.0  6630.0  6630.0  6630.0    24.0\n2014-06-27 03:20:00  6630.0  6630.0  6630.0  6630.0     3.0\n2014-06-27 03:30:00  6630.0  6630.0  6630.0  6630.0     1.0\n2014-06-27 03:40:00  6630.0  6630.0  6630.0  6630.0    19.0\n2014-06-27 03:50:00  6630.0  6630.0  6630.0  6630.0     7.0\n2014-06-27 04:20:00  6630.0  6630.0  6630.0  6630.0    12.0\n2014-06-27 04:40:00  6625.0  6630.0  6625.0  6630.0     5.0\n2014-06-27 04:50:00  6630.0  6630.0  6630.0  6630.0     1.0\n2014-06-27 05:10:00  6630.0  6625.0  6620.0  6630.0    23.0\n2014-06-27 05:20:00  6625.0  6625.0  6625.0  6625.0    15.0\n2014-06-27 05:40:00  6620.0  6625.0  6620.0  6625.0   210.0\n2014-06-27 05:50:00  6620.0  6615.0  6615.0  6620.0   289.0\n2014-06-27 06:00:00  6615.0  6615.0  6615.0  6615.0    29.0\n2014-06-27 06:10:00  6610.0  6610.0  6610.0  6610.0     2.0\n2014-06-27 06:20:00  6615.0  6615.0  6615.0  6615.0     2.0\n2014-06-27 06:30:00  6620.0  6620.0  6620.0  6620.0     1.0\n2014-06-27 06:50:00  6615.0  6615.0  6615.0  6615.0     2.0\n2014-06-27 07:00:00  6615.0  6615.0  6615.0  6615.0   173.0\n2014-06-27 07:20:00  6620.0  6620.0  6620.0  6620.0     1.0\n2014-06-27 07:50:00  6625.0  6625.0  6625.0  6625.0     1.0\n2014-06-27 08:00:00  6625.0  6630.0  6625.0  6630.0    26.0\n2014-06-27 08:10:00  6630.0  6630.0  6630.0  6630.0    18.0\n2014-06-27 08:20:00  6630.0  6635.0  6630.0  6635.0     4.0\n2014-06-27 08:30:00  6635.0  6630.0  6630.0  6635.0    33.0\n2014-06-27 08:50:00  6630.0  6630.0  6630.0  6630.0    30.0\n2014-06-27 09:40:00  6630.0  6630.0  6630.0  6630.0     6.0\n2014-06-27 09:50:00  6630.0  6625.0  6625.0  6630.0    12.0\n2014-06-27 17:00:00  6635.0  6635.0  6635.0  6640.0  1100.0\n2014-06-27 17:10:00  6630.0  6630.0  6605.0  6635.0  1911.0\n2014-06-27 17:20:00  6625.0  6615.0  6615.0  6630.0  1341.0\n2014-06-27 17:30:00  6620.0  6620.0  6595.0  6625.0  5211.0\n2014-06-27 17:40:00  6620.0  6615.0  6610.0  6620.0  5025.0\n2014-06-27 17:50:00  6615.0  6610.0  6600.0  6615.0  3999.0\n2014-06-27 18:00:00  6610.0  6605.0  6600.0  6615.0  5349.0\n2014-06-27 18:10:00  6610.0  6605.0  6595.0  6610.0  1769.0\n2014-06-27 18:20:00  6610.0  6600.0  6600.0  6610.0   716.0\n2014-06-27 18:30:00  6605.0  6605.0  6600.0  6615.0  2274.0"
     },
     "execution_count": 16,
     "metadata": {},
     "output_type": "execute_result"
    }
   ],
   "source": [
    "df_sampled = convert_tz(df_us,'US', 'SG')\n",
    "df_sampled.head(50)"
   ]
  },
  {
   "cell_type": "markdown",
   "execution_count": null,
   "metadata": {},
   "outputs": [],
   "source": [
    "### Filter dataframe based on intervals"
   ]
  },
  {
   "cell_type": "code",
   "execution_count": 17,
   "metadata": {},
   "outputs": [],
   "source": [
    "newdf = filter_df_time(df_sampled, [('9:30', '11:00'), ('13:00', '14:00')])"
   ]
  },
  {
   "cell_type": "code",
   "execution_count": 18,
   "metadata": {},
   "outputs": [
    {
     "data": {
      "text/html": "<div>\n<style scoped>\n    .dataframe tbody tr th:only-of-type {\n        vertical-align: middle;\n    }\n\n    .dataframe tbody tr th {\n        vertical-align: top;\n    }\n\n    .dataframe thead th {\n        text-align: right;\n    }\n</style>\n<table border=\"1\" class=\"dataframe\">\n  <thead>\n    <tr style=\"text-align: right;\">\n      <th></th>\n      <th>open</th>\n      <th>close</th>\n      <th>low</th>\n      <th>high</th>\n      <th>volume</th>\n    </tr>\n    <tr>\n      <th>datetime</th>\n      <th></th>\n      <th></th>\n      <th></th>\n      <th></th>\n      <th></th>\n    </tr>\n  </thead>\n  <tbody>\n    <tr>\n      <th>2014-06-27 09:40:00</th>\n      <td>6630.0</td>\n      <td>6630.0</td>\n      <td>6630.0</td>\n      <td>6630.0</td>\n      <td>6.0</td>\n    </tr>\n    <tr>\n      <th>2014-06-27 09:50:00</th>\n      <td>6630.0</td>\n      <td>6625.0</td>\n      <td>6625.0</td>\n      <td>6630.0</td>\n      <td>12.0</td>\n    </tr>\n    <tr>\n      <th>2014-06-28 09:50:00</th>\n      <td>6610.0</td>\n      <td>6610.0</td>\n      <td>6610.0</td>\n      <td>6615.0</td>\n      <td>10.0</td>\n    </tr>\n    <tr>\n      <th>2014-07-01 09:40:00</th>\n      <td>6650.0</td>\n      <td>6650.0</td>\n      <td>6650.0</td>\n      <td>6650.0</td>\n      <td>1.0</td>\n    </tr>\n    <tr>\n      <th>2014-07-01 09:50:00</th>\n      <td>6650.0</td>\n      <td>6650.0</td>\n      <td>6650.0</td>\n      <td>6655.0</td>\n      <td>25.0</td>\n    </tr>\n    <tr>\n      <th>2014-07-02 09:40:00</th>\n      <td>6655.0</td>\n      <td>6655.0</td>\n      <td>6655.0</td>\n      <td>6655.0</td>\n      <td>14.0</td>\n    </tr>\n    <tr>\n      <th>2014-07-02 09:50:00</th>\n      <td>6655.0</td>\n      <td>6645.0</td>\n      <td>6645.0</td>\n      <td>6655.0</td>\n      <td>19.0</td>\n    </tr>\n    <tr>\n      <th>2014-07-03 09:50:00</th>\n      <td>6690.0</td>\n      <td>6690.0</td>\n      <td>6685.0</td>\n      <td>6690.0</td>\n      <td>30.0</td>\n    </tr>\n    <tr>\n      <th>2014-07-04 09:30:00</th>\n      <td>6725.0</td>\n      <td>6725.0</td>\n      <td>6725.0</td>\n      <td>6725.0</td>\n      <td>1.0</td>\n    </tr>\n    <tr>\n      <th>2014-07-04 09:40:00</th>\n      <td>6725.0</td>\n      <td>6725.0</td>\n      <td>6725.0</td>\n      <td>6725.0</td>\n      <td>1.0</td>\n    </tr>\n  </tbody>\n</table>\n</div>",
      "text/plain": "                       open   close     low    high  volume\ndatetime                                                   \n2014-06-27 09:40:00  6630.0  6630.0  6630.0  6630.0     6.0\n2014-06-27 09:50:00  6630.0  6625.0  6625.0  6630.0    12.0\n2014-06-28 09:50:00  6610.0  6610.0  6610.0  6615.0    10.0\n2014-07-01 09:40:00  6650.0  6650.0  6650.0  6650.0     1.0\n2014-07-01 09:50:00  6650.0  6650.0  6650.0  6655.0    25.0\n2014-07-02 09:40:00  6655.0  6655.0  6655.0  6655.0    14.0\n2014-07-02 09:50:00  6655.0  6645.0  6645.0  6655.0    19.0\n2014-07-03 09:50:00  6690.0  6690.0  6685.0  6690.0    30.0\n2014-07-04 09:30:00  6725.0  6725.0  6725.0  6725.0     1.0\n2014-07-04 09:40:00  6725.0  6725.0  6725.0  6725.0     1.0"
     },
     "execution_count": 18,
     "metadata": {},
     "output_type": "execute_result"
    }
   ],
   "source": [
    "newdf.head(10)"
   ]
  }
 ]
}