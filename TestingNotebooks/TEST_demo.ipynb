{
 "nbformat": 4,
 "nbformat_minor": 2,
 "metadata": {
  "language_info": {
   "name": "python",
   "codemirror_mode": {
    "name": "ipython",
    "version": 3
   },
   "version": "3.7.0"
  },
  "orig_nbformat": 2,
  "file_extension": ".py",
  "mimetype": "text/x-python",
  "name": "python",
  "npconvert_exporter": "python",
  "pygments_lexer": "ipython3",
  "version": 3
 },
 "cells": [
  {
   "cell_type": "markdown",
   "execution_count": null,
   "metadata": {},
   "outputs": [],
   "source": [
    "## Ipython Notebooks for testing custombar\n",
    "\n",
    "1. TickBar, VolBar, DollarBar\n",
    "2. Imbalance Bar\n",
    "3. Imbalance Run Bar\n"
   ]
  },
  {
   "cell_type": "code",
   "execution_count": 1,
   "metadata": {},
   "outputs": [],
   "source": [
    "import sys\n",
    "sys.path.append('E:\\\\git_folder\\\\quant_models')"
   ]
  },
  {
   "cell_type": "code",
   "execution_count": 2,
   "metadata": {},
   "outputs": [],
   "source": [
    "import talib"
   ]
  },
  {
   "cell_type": "markdown",
   "execution_count": null,
   "metadata": {},
   "outputs": [],
   "source": [
    "#### Data importing"
   ]
  },
  {
   "cell_type": "code",
   "execution_count": 3,
   "metadata": {},
   "outputs": [],
   "source": [
    "import pandas as pd\n",
    "data_fn = \"././data/xu1_1min.csv\"\n",
    "df_price = pd.read_csv(data_fn)"
   ]
  },
  {
   "cell_type": "code",
   "execution_count": 4,
   "metadata": {},
   "outputs": [
    {
     "data": {
      "text/html": "<div>\n<style scoped>\n    .dataframe tbody tr th:only-of-type {\n        vertical-align: middle;\n    }\n\n    .dataframe tbody tr th {\n        vertical-align: top;\n    }\n\n    .dataframe thead th {\n        text-align: right;\n    }\n</style>\n<table border=\"1\" class=\"dataframe\">\n  <thead>\n    <tr style=\"text-align: right;\">\n      <th></th>\n      <th>datetime</th>\n      <th>open</th>\n      <th>high</th>\n      <th>low</th>\n      <th>close</th>\n      <th>volume</th>\n    </tr>\n  </thead>\n  <tbody>\n    <tr>\n      <th>0</th>\n      <td>2014-06-27 00:47:00</td>\n      <td>6635.0</td>\n      <td>6635.0</td>\n      <td>6635.0</td>\n      <td>6635.0</td>\n      <td>1.0</td>\n    </tr>\n    <tr>\n      <th>1</th>\n      <td>2014-06-27 00:48:00</td>\n      <td>6630.0</td>\n      <td>6630.0</td>\n      <td>6625.0</td>\n      <td>6625.0</td>\n      <td>23.0</td>\n    </tr>\n    <tr>\n      <th>2</th>\n      <td>2014-06-27 00:50:00</td>\n      <td>6630.0</td>\n      <td>6630.0</td>\n      <td>6625.0</td>\n      <td>6625.0</td>\n      <td>44.0</td>\n    </tr>\n    <tr>\n      <th>3</th>\n      <td>2014-06-27 00:52:00</td>\n      <td>6630.0</td>\n      <td>6630.0</td>\n      <td>6630.0</td>\n      <td>6630.0</td>\n      <td>5.0</td>\n    </tr>\n    <tr>\n      <th>4</th>\n      <td>2014-06-27 00:55:00</td>\n      <td>6630.0</td>\n      <td>6630.0</td>\n      <td>6630.0</td>\n      <td>6630.0</td>\n      <td>12.0</td>\n    </tr>\n    <tr>\n      <th>1173478</th>\n      <td>2019-12-18 13:59:00</td>\n      <td>14270.0</td>\n      <td>14270.0</td>\n      <td>14265.0</td>\n      <td>14265.0</td>\n      <td>892.0</td>\n    </tr>\n    <tr>\n      <th>1173479</th>\n      <td>2019-12-18 14:00:00</td>\n      <td>14262.5</td>\n      <td>14262.5</td>\n      <td>14245.0</td>\n      <td>14250.0</td>\n      <td>1923.0</td>\n    </tr>\n    <tr>\n      <th>1173480</th>\n      <td>2019-12-18 14:01:00</td>\n      <td>14250.0</td>\n      <td>14255.0</td>\n      <td>14250.0</td>\n      <td>14255.0</td>\n      <td>348.0</td>\n    </tr>\n    <tr>\n      <th>1173481</th>\n      <td>2019-12-18 14:02:00</td>\n      <td>14252.5</td>\n      <td>14255.0</td>\n      <td>14247.5</td>\n      <td>14247.5</td>\n      <td>589.0</td>\n    </tr>\n    <tr>\n      <th>1173482</th>\n      <td>2019-12-18 14:03:00</td>\n      <td>14245.0</td>\n      <td>14252.5</td>\n      <td>14245.0</td>\n      <td>14247.5</td>\n      <td>334.0</td>\n    </tr>\n  </tbody>\n</table>\n</div>",
      "text/plain": "                    datetime     open     high      low    close  volume\n0        2014-06-27 00:47:00   6635.0   6635.0   6635.0   6635.0     1.0\n1        2014-06-27 00:48:00   6630.0   6630.0   6625.0   6625.0    23.0\n2        2014-06-27 00:50:00   6630.0   6630.0   6625.0   6625.0    44.0\n3        2014-06-27 00:52:00   6630.0   6630.0   6630.0   6630.0     5.0\n4        2014-06-27 00:55:00   6630.0   6630.0   6630.0   6630.0    12.0\n1173478  2019-12-18 13:59:00  14270.0  14270.0  14265.0  14265.0   892.0\n1173479  2019-12-18 14:00:00  14262.5  14262.5  14245.0  14250.0  1923.0\n1173480  2019-12-18 14:01:00  14250.0  14255.0  14250.0  14255.0   348.0\n1173481  2019-12-18 14:02:00  14252.5  14255.0  14247.5  14247.5   589.0\n1173482  2019-12-18 14:03:00  14245.0  14252.5  14245.0  14247.5   334.0"
     },
     "execution_count": 4,
     "metadata": {},
     "output_type": "execute_result"
    }
   ],
   "source": [
    "df_price.head().append(df_price.tail())"
   ]
  },
  {
   "cell_type": "code",
   "execution_count": 5,
   "metadata": {},
   "outputs": [],
   "source": [
    "from ta_features.core import extract_tafea"
   ]
  },
  {
   "cell_type": "code",
   "execution_count": 6,
   "metadata": {},
   "outputs": [],
   "source": [
    "test_df = df_price.copy()\n",
    "test_df.loc[:,'datetime'] = pd.to_datetime(test_df.datetime)\n",
    "test_df.set_index('datetime', inplace=True)\n",
    "test_df = test_df.loc[test_df.index > pd.to_datetime(\"2018-01-01\"),:]"
   ]
  },
  {
   "cell_type": "code",
   "execution_count": 7,
   "metadata": {},
   "outputs": [],
   "source": [
    "test_df['symbol'] = 'test'"
   ]
  },
  {
   "cell_type": "code",
   "execution_count": 8,
   "metadata": {},
   "outputs": [
    {
     "name": "stderr",
     "output_type": "stream",
     "text": "E:\\git_folder\\quant_models\\ta_features\\_ta_factors.py:437: RuntimeWarning: invalid value encountered in true_divide\n  return np.divide(np.subtract(df.loc[:, self.map_dict['default']].values,avr),std)\n                 MFI_000    MFI_001    MFI_002  MINUS_DI_000  MINUS_DI_001  \\\nsymbol                                                                       \ntest   536354  67.423927  63.164707  59.056190     13.134988     22.566850   \n       536355  72.402292  65.343387  60.607875      0.134797      0.846243   \n\n               MINUS_DI_002  PLUS_DI_000  PLUS_DI_001  PLUS_DI_002    RSI_000  \\\nsymbol                                                                          \ntest   536354     24.334239    21.735037    22.091535    22.330106  46.897977   \n       536355      1.602484    91.768413    90.065846    88.486262  97.000562   \n\n               ...  ZSCORE_001  ZSCORE_002  ZSCORE_003  NATR_000  NATR_001  \\\nsymbol         ...                                                           \ntest   536354  ...   -0.241155   -1.022953   -0.275075  0.076876  0.082531   \n       536355  ...    3.741493    5.383585    7.675160  4.623692  1.584845   \n\n               NATR_002  NATR_003  NATR_004  NATR_005       BOP  \nsymbol                                                           \ntest   536354  0.087111  0.087862  0.087087  0.086316  0.250000  \n       536355  0.979769  0.719601  0.523471  0.446840  0.333333  \n\n[2 rows x 41 columns]\n"
    }
   ],
   "source": [
    "test_df.sort_values(by=['symbol'], inplace=True)\n",
    "test_df.dropna(inplace=True)\n",
    "df_fea = test_df.groupby('symbol').apply(extract_tafea)\n",
    "print(df_fea.tail(2))"
   ]
  },
  {
   "cell_type": "code",
   "execution_count": 9,
   "metadata": {},
   "outputs": [],
   "source": [
    "hh = talib.OBV(test_df.close, test_df.volume)\n",
    "# OBV removed"
   ]
  },
  {
   "cell_type": "code",
   "execution_count": 10,
   "metadata": {},
   "outputs": [],
   "source": [
    "hh = talib.ADOSC(test_df.high, test_df.low, test_df.close, test_df.volume)"
   ]
  },
  {
   "cell_type": "code",
   "execution_count": 11,
   "metadata": {},
   "outputs": [
    {
     "data": {
      "text/html": "<div>\n<style scoped>\n    .dataframe tbody tr th:only-of-type {\n        vertical-align: middle;\n    }\n\n    .dataframe tbody tr th {\n        vertical-align: top;\n    }\n\n    .dataframe thead th {\n        text-align: right;\n    }\n</style>\n<table border=\"1\" class=\"dataframe\">\n  <thead>\n    <tr style=\"text-align: right;\">\n      <th></th>\n      <th>open</th>\n      <th>high</th>\n      <th>low</th>\n      <th>close</th>\n      <th>volume</th>\n      <th>symbol</th>\n    </tr>\n    <tr>\n      <th>datetime</th>\n      <th></th>\n      <th></th>\n      <th></th>\n      <th></th>\n      <th></th>\n      <th></th>\n    </tr>\n  </thead>\n  <tbody>\n    <tr>\n      <th>2018-01-02 08:59:00</th>\n      <td>13250.0</td>\n      <td>13250.0</td>\n      <td>13245.0</td>\n      <td>13247.5</td>\n      <td>111.0</td>\n      <td>test</td>\n    </tr>\n    <tr>\n      <th>2019-04-29 16:25:00</th>\n      <td>13660.0</td>\n      <td>13660.0</td>\n      <td>13660.0</td>\n      <td>13660.0</td>\n      <td>1.0</td>\n      <td>test</td>\n    </tr>\n    <tr>\n      <th>2019-04-29 16:23:00</th>\n      <td>13657.5</td>\n      <td>13657.5</td>\n      <td>13657.5</td>\n      <td>13657.5</td>\n      <td>1.0</td>\n      <td>test</td>\n    </tr>\n    <tr>\n      <th>2019-04-29 16:22:00</th>\n      <td>13660.0</td>\n      <td>13660.0</td>\n      <td>13660.0</td>\n      <td>13660.0</td>\n      <td>6.0</td>\n      <td>test</td>\n    </tr>\n    <tr>\n      <th>2019-04-29 16:20:00</th>\n      <td>13657.5</td>\n      <td>13660.0</td>\n      <td>13657.5</td>\n      <td>13660.0</td>\n      <td>29.0</td>\n      <td>test</td>\n    </tr>\n  </tbody>\n</table>\n</div>",
      "text/plain": "                        open     high      low    close  volume symbol\ndatetime                                                              \n2018-01-02 08:59:00  13250.0  13250.0  13245.0  13247.5   111.0   test\n2019-04-29 16:25:00  13660.0  13660.0  13660.0  13660.0     1.0   test\n2019-04-29 16:23:00  13657.5  13657.5  13657.5  13657.5     1.0   test\n2019-04-29 16:22:00  13660.0  13660.0  13660.0  13660.0     6.0   test\n2019-04-29 16:20:00  13657.5  13660.0  13657.5  13660.0    29.0   test"
     },
     "execution_count": 11,
     "metadata": {},
     "output_type": "execute_result"
    }
   ],
   "source": [
    "test_df.head()"
   ]
  },
  {
   "cell_type": "code",
   "execution_count": 12,
   "metadata": {},
   "outputs": [
    {
     "data": {
      "text/plain": "datetime\n2018-09-10 15:37:00    236.768043\n2018-09-10 15:36:00    269.499092\n2018-09-10 15:35:00    204.616421\n2018-09-10 15:34:00    190.017473\n2018-09-10 15:33:00     62.407223\n2018-09-10 15:32:00     -6.182475\n2018-09-10 15:31:00     12.456510\n2018-09-10 15:30:00    -17.323588\n2018-09-10 15:28:00    -27.931484\n2019-12-18 14:03:00    -65.156094\ndtype: float64"
     },
     "execution_count": 12,
     "metadata": {},
     "output_type": "execute_result"
    }
   ],
   "source": [
    "hh.tail(10)\n",
    "# adosc removed"
   ]
  },
  {
   "cell_type": "code",
   "execution_count": 13,
   "metadata": {},
   "outputs": [],
   "source": [
    "real = talib.PLUS_DI(test_df.high, test_df.low, test_df.close, timeperiod=14)"
   ]
  },
  {
   "cell_type": "code",
   "execution_count": 14,
   "metadata": {},
   "outputs": [
    {
     "name": "stdout",
     "output_type": "stream",
     "text": "Help on function NATR in module talib._ta_lib:\n\nNATR(...)\n    NATR(high, low, close[, timeperiod=?])\n    \n    Normalized Average True Range (Volatility Indicators)\n    \n    Inputs:\n        prices: ['high', 'low', 'close']\n    Parameters:\n        timeperiod: 14\n    Outputs:\n        real\n\n"
    }
   ],
   "source": [
    "help(talib.NATR)"
   ]
  },
  {
   "cell_type": "code",
   "execution_count": 15,
   "metadata": {},
   "outputs": [],
   "source": [
    "real = talib.SAREXT(test_df.high,test_df.low )"
   ]
  },
  {
   "cell_type": "code",
   "execution_count": 16,
   "metadata": {},
   "outputs": [],
   "source": [
    "real = talib.HT_PHASOR(test_df.close)"
   ]
  },
  {
   "cell_type": "code",
   "execution_count": 17,
   "metadata": {},
   "outputs": [
    {
     "data": {
      "text/plain": "datetime\n2018-01-02 08:59:00          NaN\n2019-04-29 16:25:00          NaN\n2019-04-29 16:23:00          NaN\n2019-04-29 16:22:00          NaN\n2019-04-29 16:20:00          NaN\n2019-04-29 16:19:00          NaN\n2019-04-29 16:18:00          NaN\n2019-04-29 16:16:00          NaN\n2019-04-29 16:15:00          NaN\n2019-04-29 16:14:00          NaN\n2019-04-29 16:12:00          NaN\n2019-04-29 16:11:00          NaN\n2019-04-29 16:10:00          NaN\n2019-04-29 16:07:00          NaN\n2019-04-29 16:28:00          NaN\n2019-04-29 16:05:00          NaN\n2019-04-29 16:00:00          NaN\n2019-04-29 15:58:00          NaN\n2019-04-29 15:55:00          NaN\n2019-04-29 15:54:00          NaN\n2019-04-29 15:53:00          NaN\n2019-04-29 15:52:00          NaN\n2019-04-29 15:51:00          NaN\n2019-04-29 15:49:00          NaN\n2019-04-29 15:48:00          NaN\n2019-04-29 15:46:00          NaN\n2019-04-29 15:45:00          NaN\n2019-04-29 15:44:00          NaN\n2019-04-29 15:43:00          NaN\n2019-04-29 16:03:00          NaN\n                         ...    \n2019-05-01 20:25:00    -2.892550\n2019-05-01 20:24:00    -3.007167\n2019-05-01 20:23:00   -11.948810\n2019-05-01 20:22:00   -13.396093\n2019-05-01 21:04:00    -3.023784\n2019-05-01 22:44:00     3.799340\n2019-05-01 21:05:00     4.260786\n2019-05-01 21:08:00    -9.685859\n2019-05-01 21:37:00   -21.688112\n2019-05-01 21:36:00   -49.495845\n2019-05-01 21:35:00   -29.512974\n2019-05-01 21:34:00    38.621208\n2019-05-01 21:33:00    17.259353\n2019-05-01 21:32:00   -12.332641\n2019-05-01 21:31:00     6.138735\n2019-05-01 21:30:00    12.250250\n2019-05-01 21:29:00    19.794374\n2019-05-01 21:28:00    20.974075\n2019-05-01 21:27:00    19.307325\n2019-05-01 21:26:00    19.508705\n2019-05-01 21:25:00    13.042965\n2019-05-01 21:24:00     8.524324\n2019-05-01 21:23:00    -3.394520\n2019-05-01 21:22:00   -11.694820\n2019-05-01 21:21:00   -13.302623\n2019-05-01 21:20:00   -18.864337\n2019-05-01 21:19:00   -12.069256\n2019-05-01 21:18:00     0.265999\n2019-05-01 21:17:00     8.854890\n2019-05-01 21:16:00    11.869631\nLength: 3001, dtype: float64"
     },
     "execution_count": 17,
     "metadata": {},
     "output_type": "execute_result"
    }
   ],
   "source": [
    "real[1].head(3001)"
   ]
  },
  {
   "cell_type": "code",
   "execution_count": 18,
   "metadata": {},
   "outputs": [
    {
     "data": {
      "text/html": "<div>\n<style scoped>\n    .dataframe tbody tr th:only-of-type {\n        vertical-align: middle;\n    }\n\n    .dataframe tbody tr th {\n        vertical-align: top;\n    }\n\n    .dataframe thead th {\n        text-align: right;\n    }\n</style>\n<table border=\"1\" class=\"dataframe\">\n  <thead>\n    <tr style=\"text-align: right;\">\n      <th></th>\n      <th>open</th>\n      <th>high</th>\n      <th>low</th>\n      <th>close</th>\n      <th>volume</th>\n      <th>symbol</th>\n    </tr>\n    <tr>\n      <th>datetime</th>\n      <th></th>\n      <th></th>\n      <th></th>\n      <th></th>\n      <th></th>\n      <th></th>\n    </tr>\n  </thead>\n  <tbody>\n    <tr>\n      <th>2018-01-02 08:59:00</th>\n      <td>13250.0</td>\n      <td>13250.0</td>\n      <td>13245.0</td>\n      <td>13247.5</td>\n      <td>111.0</td>\n      <td>test</td>\n    </tr>\n    <tr>\n      <th>2019-04-29 16:25:00</th>\n      <td>13660.0</td>\n      <td>13660.0</td>\n      <td>13660.0</td>\n      <td>13660.0</td>\n      <td>1.0</td>\n      <td>test</td>\n    </tr>\n    <tr>\n      <th>2019-04-29 16:23:00</th>\n      <td>13657.5</td>\n      <td>13657.5</td>\n      <td>13657.5</td>\n      <td>13657.5</td>\n      <td>1.0</td>\n      <td>test</td>\n    </tr>\n    <tr>\n      <th>2019-04-29 16:22:00</th>\n      <td>13660.0</td>\n      <td>13660.0</td>\n      <td>13660.0</td>\n      <td>13660.0</td>\n      <td>6.0</td>\n      <td>test</td>\n    </tr>\n    <tr>\n      <th>2019-04-29 16:20:00</th>\n      <td>13657.5</td>\n      <td>13660.0</td>\n      <td>13657.5</td>\n      <td>13660.0</td>\n      <td>29.0</td>\n      <td>test</td>\n    </tr>\n  </tbody>\n</table>\n</div>",
      "text/plain": "                        open     high      low    close  volume symbol\ndatetime                                                              \n2018-01-02 08:59:00  13250.0  13250.0  13245.0  13247.5   111.0   test\n2019-04-29 16:25:00  13660.0  13660.0  13660.0  13660.0     1.0   test\n2019-04-29 16:23:00  13657.5  13657.5  13657.5  13657.5     1.0   test\n2019-04-29 16:22:00  13660.0  13660.0  13660.0  13660.0     6.0   test\n2019-04-29 16:20:00  13657.5  13660.0  13657.5  13660.0    29.0   test"
     },
     "execution_count": 18,
     "metadata": {},
     "output_type": "execute_result"
    }
   ],
   "source": [
    "test_df.head()"
   ]
  },
  {
   "cell_type": "code",
   "execution_count": null,
   "metadata": {},
   "outputs": [],
   "source": []
  }
 ]
}