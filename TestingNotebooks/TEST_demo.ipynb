{
 "nbformat": 4,
 "nbformat_minor": 2,
 "metadata": {
  "language_info": {
   "name": "python",
   "codemirror_mode": {
    "name": "ipython",
    "version": 3
   },
   "version": "3.7.0"
  },
  "orig_nbformat": 2,
  "file_extension": ".py",
  "mimetype": "text/x-python",
  "name": "python",
  "npconvert_exporter": "python",
  "pygments_lexer": "ipython3",
  "version": 3
 },
 "cells": [
  {
   "cell_type": "markdown",
   "execution_count": null,
   "metadata": {},
   "outputs": [],
   "source": [
    "## Ipython Notebooks for testing custombar\n",
    "\n",
    "1. TickBar, VolBar, DollarBar\n",
    "2. Imbalance Bar\n",
    "3. Imbalance Run Bar\n"
   ]
  },
  {
   "cell_type": "code",
   "execution_count": 1,
   "metadata": {},
   "outputs": [],
   "source": [
    "import sys\n",
    "sys.path.append('E:\\\\git_folder\\\\quant_models')"
   ]
  },
  {
   "cell_type": "code",
   "execution_count": 2,
   "metadata": {},
   "outputs": [],
   "source": [
    "import talib"
   ]
  },
  {
   "cell_type": "markdown",
   "execution_count": null,
   "metadata": {},
   "outputs": [],
   "source": [
    "#### Data importing"
   ]
  },
  {
   "cell_type": "code",
   "execution_count": 3,
   "metadata": {},
   "outputs": [],
   "source": [
    "import pandas as pd\n",
    "data_fn = \"././data/xu1_1min.csv\"\n",
    "df_price = pd.read_csv(data_fn)"
   ]
  },
  {
   "cell_type": "code",
   "execution_count": 4,
   "metadata": {},
   "outputs": [
    {
     "data": {
      "text/html": "<div>\n<style scoped>\n    .dataframe tbody tr th:only-of-type {\n        vertical-align: middle;\n    }\n\n    .dataframe tbody tr th {\n        vertical-align: top;\n    }\n\n    .dataframe thead th {\n        text-align: right;\n    }\n</style>\n<table border=\"1\" class=\"dataframe\">\n  <thead>\n    <tr style=\"text-align: right;\">\n      <th></th>\n      <th>datetime</th>\n      <th>open</th>\n      <th>high</th>\n      <th>low</th>\n      <th>close</th>\n      <th>volume</th>\n    </tr>\n  </thead>\n  <tbody>\n    <tr>\n      <th>0</th>\n      <td>2014-06-27 00:47:00</td>\n      <td>6635.0</td>\n      <td>6635.0</td>\n      <td>6635.0</td>\n      <td>6635.0</td>\n      <td>1.0</td>\n    </tr>\n    <tr>\n      <th>1</th>\n      <td>2014-06-27 00:48:00</td>\n      <td>6630.0</td>\n      <td>6630.0</td>\n      <td>6625.0</td>\n      <td>6625.0</td>\n      <td>23.0</td>\n    </tr>\n    <tr>\n      <th>2</th>\n      <td>2014-06-27 00:50:00</td>\n      <td>6630.0</td>\n      <td>6630.0</td>\n      <td>6625.0</td>\n      <td>6625.0</td>\n      <td>44.0</td>\n    </tr>\n    <tr>\n      <th>3</th>\n      <td>2014-06-27 00:52:00</td>\n      <td>6630.0</td>\n      <td>6630.0</td>\n      <td>6630.0</td>\n      <td>6630.0</td>\n      <td>5.0</td>\n    </tr>\n    <tr>\n      <th>4</th>\n      <td>2014-06-27 00:55:00</td>\n      <td>6630.0</td>\n      <td>6630.0</td>\n      <td>6630.0</td>\n      <td>6630.0</td>\n      <td>12.0</td>\n    </tr>\n    <tr>\n      <th>1173478</th>\n      <td>2019-12-18 13:59:00</td>\n      <td>14270.0</td>\n      <td>14270.0</td>\n      <td>14265.0</td>\n      <td>14265.0</td>\n      <td>892.0</td>\n    </tr>\n    <tr>\n      <th>1173479</th>\n      <td>2019-12-18 14:00:00</td>\n      <td>14262.5</td>\n      <td>14262.5</td>\n      <td>14245.0</td>\n      <td>14250.0</td>\n      <td>1923.0</td>\n    </tr>\n    <tr>\n      <th>1173480</th>\n      <td>2019-12-18 14:01:00</td>\n      <td>14250.0</td>\n      <td>14255.0</td>\n      <td>14250.0</td>\n      <td>14255.0</td>\n      <td>348.0</td>\n    </tr>\n    <tr>\n      <th>1173481</th>\n      <td>2019-12-18 14:02:00</td>\n      <td>14252.5</td>\n      <td>14255.0</td>\n      <td>14247.5</td>\n      <td>14247.5</td>\n      <td>589.0</td>\n    </tr>\n    <tr>\n      <th>1173482</th>\n      <td>2019-12-18 14:03:00</td>\n      <td>14245.0</td>\n      <td>14252.5</td>\n      <td>14245.0</td>\n      <td>14247.5</td>\n      <td>334.0</td>\n    </tr>\n  </tbody>\n</table>\n</div>",
      "text/plain": "                    datetime     open     high      low    close  volume\n0        2014-06-27 00:47:00   6635.0   6635.0   6635.0   6635.0     1.0\n1        2014-06-27 00:48:00   6630.0   6630.0   6625.0   6625.0    23.0\n2        2014-06-27 00:50:00   6630.0   6630.0   6625.0   6625.0    44.0\n3        2014-06-27 00:52:00   6630.0   6630.0   6630.0   6630.0     5.0\n4        2014-06-27 00:55:00   6630.0   6630.0   6630.0   6630.0    12.0\n1173478  2019-12-18 13:59:00  14270.0  14270.0  14265.0  14265.0   892.0\n1173479  2019-12-18 14:00:00  14262.5  14262.5  14245.0  14250.0  1923.0\n1173480  2019-12-18 14:01:00  14250.0  14255.0  14250.0  14255.0   348.0\n1173481  2019-12-18 14:02:00  14252.5  14255.0  14247.5  14247.5   589.0\n1173482  2019-12-18 14:03:00  14245.0  14252.5  14245.0  14247.5   334.0"
     },
     "execution_count": 4,
     "metadata": {},
     "output_type": "execute_result"
    }
   ],
   "source": [
    "df_price.head().append(df_price.tail())"
   ]
  },
  {
   "cell_type": "code",
   "execution_count": 18,
   "metadata": {},
   "outputs": [],
   "source": [
    "test_df = df_price.copy()\n",
    "test_df.loc[:,'datetime'] = pd.to_datetime(test_df.datetime)\n",
    "test_df.set_index('datetime', inplace=True)\n",
    "test_df = test_df.loc[test_df.index > pd.to_datetime(\"2018-01-01\"),:]"
   ]
  },
  {
   "cell_type": "code",
   "execution_count": 6,
   "metadata": {},
   "outputs": [],
   "source": [
    "hh = talib.OBV(test_df.close, test_df.volume)\n",
    "# OBV removed"
   ]
  },
  {
   "cell_type": "code",
   "execution_count": 7,
   "metadata": {},
   "outputs": [],
   "source": [
    "hh = talib.ADOSC(test_df.high, test_df.low, test_df.close, test_df.volume)"
   ]
  },
  {
   "cell_type": "code",
   "execution_count": 8,
   "metadata": {},
   "outputs": [
    {
     "data": {
      "text/html": "<div>\n<style scoped>\n    .dataframe tbody tr th:only-of-type {\n        vertical-align: middle;\n    }\n\n    .dataframe tbody tr th {\n        vertical-align: top;\n    }\n\n    .dataframe thead th {\n        text-align: right;\n    }\n</style>\n<table border=\"1\" class=\"dataframe\">\n  <thead>\n    <tr style=\"text-align: right;\">\n      <th></th>\n      <th>open</th>\n      <th>high</th>\n      <th>low</th>\n      <th>close</th>\n      <th>volume</th>\n    </tr>\n    <tr>\n      <th>datetime</th>\n      <th></th>\n      <th></th>\n      <th></th>\n      <th></th>\n      <th></th>\n    </tr>\n  </thead>\n  <tbody>\n    <tr>\n      <th>2019-01-01 00:01:00</th>\n      <td>10400.0</td>\n      <td>10400.0</td>\n      <td>10395.0</td>\n      <td>10400.0</td>\n      <td>30.0</td>\n    </tr>\n    <tr>\n      <th>2019-01-01 00:02:00</th>\n      <td>10400.0</td>\n      <td>10405.0</td>\n      <td>10400.0</td>\n      <td>10402.5</td>\n      <td>15.0</td>\n    </tr>\n    <tr>\n      <th>2019-01-01 00:03:00</th>\n      <td>10402.5</td>\n      <td>10407.5</td>\n      <td>10400.0</td>\n      <td>10407.5</td>\n      <td>53.0</td>\n    </tr>\n    <tr>\n      <th>2019-01-01 00:04:00</th>\n      <td>10405.0</td>\n      <td>10405.0</td>\n      <td>10402.5</td>\n      <td>10402.5</td>\n      <td>2.0</td>\n    </tr>\n    <tr>\n      <th>2019-01-01 00:05:00</th>\n      <td>10407.5</td>\n      <td>10407.5</td>\n      <td>10402.5</td>\n      <td>10402.5</td>\n      <td>7.0</td>\n    </tr>\n  </tbody>\n</table>\n</div>",
      "text/plain": "                        open     high      low    close  volume\ndatetime                                                       \n2019-01-01 00:01:00  10400.0  10400.0  10395.0  10400.0    30.0\n2019-01-01 00:02:00  10400.0  10405.0  10400.0  10402.5    15.0\n2019-01-01 00:03:00  10402.5  10407.5  10400.0  10407.5    53.0\n2019-01-01 00:04:00  10405.0  10405.0  10402.5  10402.5     2.0\n2019-01-01 00:05:00  10407.5  10407.5  10402.5  10402.5     7.0"
     },
     "execution_count": 8,
     "metadata": {},
     "output_type": "execute_result"
    }
   ],
   "source": [
    "test_df.head()"
   ]
  },
  {
   "cell_type": "code",
   "execution_count": 9,
   "metadata": {},
   "outputs": [
    {
     "data": {
      "text/plain": "datetime\n2019-12-18 13:54:00     -21.056969\n2019-12-18 13:55:00      40.065884\n2019-12-18 13:56:00    -119.298938\n2019-12-18 13:57:00    -269.739189\n2019-12-18 13:58:00    -553.670275\n2019-12-18 13:59:00    -903.308421\n2019-12-18 14:00:00   -1226.450533\n2019-12-18 14:01:00   -1136.422258\n2019-12-18 14:02:00   -1183.690486\n2019-12-18 14:03:00   -1130.843504\ndtype: float64"
     },
     "execution_count": 9,
     "metadata": {},
     "output_type": "execute_result"
    }
   ],
   "source": [
    "hh.tail(10)\n",
    "# adosc removed"
   ]
  },
  {
   "cell_type": "code",
   "execution_count": 10,
   "metadata": {},
   "outputs": [],
   "source": [
    "real = talib.PLUS_DI(test_df.high, test_df.low, test_df.close, timeperiod=14)"
   ]
  },
  {
   "cell_type": "code",
   "execution_count": 11,
   "metadata": {},
   "outputs": [
    {
     "name": "stdout",
     "output_type": "stream",
     "text": "Help on function NATR in module talib._ta_lib:\n\nNATR(...)\n    NATR(high, low, close[, timeperiod=?])\n    \n    Normalized Average True Range (Volatility Indicators)\n    \n    Inputs:\n        prices: ['high', 'low', 'close']\n    Parameters:\n        timeperiod: 14\n    Outputs:\n        real\n\n"
    }
   ],
   "source": [
    "help(talib.NATR)"
   ]
  },
  {
   "cell_type": "code",
   "execution_count": 12,
   "metadata": {},
   "outputs": [],
   "source": [
    "real = talib.SAREXT(test_df.high,test_df.low )"
   ]
  },
  {
   "cell_type": "code",
   "execution_count": 45,
   "metadata": {},
   "outputs": [],
   "source": [
    "real = talib.HT_PHASOR(test_df.close)"
   ]
  },
  {
   "cell_type": "code",
   "execution_count": 49,
   "metadata": {},
   "outputs": [
    {
     "data": {
      "text/plain": "datetime\n2018-01-02 08:59:00          NaN\n2018-01-02 09:00:00          NaN\n2018-01-02 09:01:00          NaN\n2018-01-02 09:02:00          NaN\n2018-01-02 09:03:00          NaN\n2018-01-02 09:04:00          NaN\n2018-01-02 09:05:00          NaN\n2018-01-02 09:06:00          NaN\n2018-01-02 09:07:00          NaN\n2018-01-02 09:08:00          NaN\n2018-01-02 09:09:00          NaN\n2018-01-02 09:10:00          NaN\n2018-01-02 09:11:00          NaN\n2018-01-02 09:12:00          NaN\n2018-01-02 09:13:00          NaN\n2018-01-02 09:14:00          NaN\n2018-01-02 09:15:00          NaN\n2018-01-02 09:16:00          NaN\n2018-01-02 09:17:00          NaN\n2018-01-02 09:18:00          NaN\n2018-01-02 09:19:00          NaN\n2018-01-02 09:20:00          NaN\n2018-01-02 09:21:00          NaN\n2018-01-02 09:22:00          NaN\n2018-01-02 09:23:00          NaN\n2018-01-02 09:24:00          NaN\n2018-01-02 09:25:00          NaN\n2018-01-02 09:26:00          NaN\n2018-01-02 09:27:00          NaN\n2018-01-02 09:28:00          NaN\n                         ...    \n2018-01-05 15:48:00    -1.405178\n2018-01-05 15:49:00    -2.298837\n2018-01-05 15:50:00    -0.387858\n2018-01-05 15:51:00     0.795368\n2018-01-05 15:52:00     0.892999\n2018-01-05 15:53:00    -0.623109\n2018-01-05 15:54:00    -2.236081\n2018-01-05 15:55:00    -0.794883\n2018-01-05 15:56:00     1.702843\n2018-01-05 15:57:00     6.692528\n2018-01-05 15:58:00     6.322443\n2018-01-05 15:59:00    -1.068037\n2018-01-05 16:00:00    -7.248241\n2018-01-05 16:01:00    -7.437073\n2018-01-05 16:02:00     1.794178\n2018-01-05 16:03:00     9.742877\n2018-01-05 16:04:00    11.630063\n2018-01-05 16:05:00     7.997900\n2018-01-05 16:06:00    -0.868189\n2018-01-05 16:07:00    -6.304433\n2018-01-05 16:08:00    -9.378076\n2018-01-05 16:09:00    -9.067577\n2018-01-05 16:10:00    -2.922994\n2018-01-05 16:11:00     1.335808\n2018-01-05 16:12:00     2.828103\n2018-01-05 16:13:00     3.430516\n2018-01-05 16:14:00     1.350117\n2018-01-05 16:15:00     1.708961\n2018-01-05 16:16:00     1.033980\n2018-01-05 16:17:00    -1.047402\nLength: 3001, dtype: float64"
     },
     "execution_count": 49,
     "metadata": {},
     "output_type": "execute_result"
    }
   ],
   "source": [
    "real[1].head(3001)"
   ]
  },
  {
   "cell_type": "code",
   "execution_count": 50,
   "metadata": {},
   "outputs": [
    {
     "data": {
      "text/html": "<div>\n<style scoped>\n    .dataframe tbody tr th:only-of-type {\n        vertical-align: middle;\n    }\n\n    .dataframe tbody tr th {\n        vertical-align: top;\n    }\n\n    .dataframe thead th {\n        text-align: right;\n    }\n</style>\n<table border=\"1\" class=\"dataframe\">\n  <thead>\n    <tr style=\"text-align: right;\">\n      <th></th>\n      <th>open</th>\n      <th>high</th>\n      <th>low</th>\n      <th>close</th>\n      <th>volume</th>\n    </tr>\n    <tr>\n      <th>datetime</th>\n      <th></th>\n      <th></th>\n      <th></th>\n      <th></th>\n      <th></th>\n    </tr>\n  </thead>\n  <tbody>\n    <tr>\n      <th>2018-01-02 08:59:00</th>\n      <td>13250.0</td>\n      <td>13250.0</td>\n      <td>13245.0</td>\n      <td>13247.5</td>\n      <td>111.0</td>\n    </tr>\n    <tr>\n      <th>2018-01-02 09:00:00</th>\n      <td>13247.5</td>\n      <td>13270.0</td>\n      <td>13242.5</td>\n      <td>13267.5</td>\n      <td>481.0</td>\n    </tr>\n    <tr>\n      <th>2018-01-02 09:01:00</th>\n      <td>13267.5</td>\n      <td>13280.0</td>\n      <td>13262.5</td>\n      <td>13280.0</td>\n      <td>387.0</td>\n    </tr>\n    <tr>\n      <th>2018-01-02 09:02:00</th>\n      <td>13280.0</td>\n      <td>13285.0</td>\n      <td>13280.0</td>\n      <td>13282.5</td>\n      <td>260.0</td>\n    </tr>\n    <tr>\n      <th>2018-01-02 09:03:00</th>\n      <td>13282.5</td>\n      <td>13285.0</td>\n      <td>13272.5</td>\n      <td>13275.0</td>\n      <td>180.0</td>\n    </tr>\n  </tbody>\n</table>\n</div>",
      "text/plain": "                        open     high      low    close  volume\ndatetime                                                       \n2018-01-02 08:59:00  13250.0  13250.0  13245.0  13247.5   111.0\n2018-01-02 09:00:00  13247.5  13270.0  13242.5  13267.5   481.0\n2018-01-02 09:01:00  13267.5  13280.0  13262.5  13280.0   387.0\n2018-01-02 09:02:00  13280.0  13285.0  13280.0  13282.5   260.0\n2018-01-02 09:03:00  13282.5  13285.0  13272.5  13275.0   180.0"
     },
     "execution_count": 50,
     "metadata": {},
     "output_type": "execute_result"
    }
   ],
   "source": [
    "test_df.head()"
   ]
  },
  {
   "cell_type": "code",
   "execution_count": null,
   "metadata": {},
   "outputs": [],
   "source": []
  }
 ]
}