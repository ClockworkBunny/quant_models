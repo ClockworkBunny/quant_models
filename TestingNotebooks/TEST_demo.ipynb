{
 "nbformat": 4,
 "nbformat_minor": 2,
 "metadata": {
  "language_info": {
   "name": "python",
   "codemirror_mode": {
    "name": "ipython",
    "version": 3
   },
   "version": "3.7.0"
  },
  "orig_nbformat": 2,
  "file_extension": ".py",
  "mimetype": "text/x-python",
  "name": "python",
  "npconvert_exporter": "python",
  "pygments_lexer": "ipython3",
  "version": 3
 },
 "cells": [
  {
   "cell_type": "markdown",
   "execution_count": null,
   "metadata": {},
   "outputs": [],
   "source": [
    "## Ipython Notebooks for testing custombar\n",
    "\n",
    "1. TickBar, VolBar, DollarBar\n",
    "2. Imbalance Bar\n",
    "3. Imbalance Run Bar\n"
   ]
  },
  {
   "cell_type": "code",
   "execution_count": 1,
   "metadata": {},
   "outputs": [],
   "source": [
    "import sys\n",
    "sys.path.append('E:\\\\git_folder\\\\quant_models')"
   ]
  },
  {
   "cell_type": "code",
   "execution_count": 2,
   "metadata": {},
   "outputs": [],
   "source": [
    "import talib"
   ]
  },
  {
   "cell_type": "markdown",
   "execution_count": null,
   "metadata": {},
   "outputs": [],
   "source": [
    "#### Data importing"
   ]
  },
  {
   "cell_type": "code",
   "execution_count": 3,
   "metadata": {},
   "outputs": [],
   "source": [
    "import pandas as pd\n",
    "data_fn = \"././data/xu1_1min.csv\"\n",
    "df_price = pd.read_csv(data_fn)"
   ]
  },
  {
   "cell_type": "code",
   "execution_count": 4,
   "metadata": {},
   "outputs": [
    {
     "data": {
      "text/html": "<div>\n<style scoped>\n    .dataframe tbody tr th:only-of-type {\n        vertical-align: middle;\n    }\n\n    .dataframe tbody tr th {\n        vertical-align: top;\n    }\n\n    .dataframe thead th {\n        text-align: right;\n    }\n</style>\n<table border=\"1\" class=\"dataframe\">\n  <thead>\n    <tr style=\"text-align: right;\">\n      <th></th>\n      <th>datetime</th>\n      <th>open</th>\n      <th>high</th>\n      <th>low</th>\n      <th>close</th>\n      <th>volume</th>\n    </tr>\n  </thead>\n  <tbody>\n    <tr>\n      <th>0</th>\n      <td>2014-06-27 00:47:00</td>\n      <td>6635.0</td>\n      <td>6635.0</td>\n      <td>6635.0</td>\n      <td>6635.0</td>\n      <td>1.0</td>\n    </tr>\n    <tr>\n      <th>1</th>\n      <td>2014-06-27 00:48:00</td>\n      <td>6630.0</td>\n      <td>6630.0</td>\n      <td>6625.0</td>\n      <td>6625.0</td>\n      <td>23.0</td>\n    </tr>\n    <tr>\n      <th>2</th>\n      <td>2014-06-27 00:50:00</td>\n      <td>6630.0</td>\n      <td>6630.0</td>\n      <td>6625.0</td>\n      <td>6625.0</td>\n      <td>44.0</td>\n    </tr>\n    <tr>\n      <th>3</th>\n      <td>2014-06-27 00:52:00</td>\n      <td>6630.0</td>\n      <td>6630.0</td>\n      <td>6630.0</td>\n      <td>6630.0</td>\n      <td>5.0</td>\n    </tr>\n    <tr>\n      <th>4</th>\n      <td>2014-06-27 00:55:00</td>\n      <td>6630.0</td>\n      <td>6630.0</td>\n      <td>6630.0</td>\n      <td>6630.0</td>\n      <td>12.0</td>\n    </tr>\n    <tr>\n      <th>1173478</th>\n      <td>2019-12-18 13:59:00</td>\n      <td>14270.0</td>\n      <td>14270.0</td>\n      <td>14265.0</td>\n      <td>14265.0</td>\n      <td>892.0</td>\n    </tr>\n    <tr>\n      <th>1173479</th>\n      <td>2019-12-18 14:00:00</td>\n      <td>14262.5</td>\n      <td>14262.5</td>\n      <td>14245.0</td>\n      <td>14250.0</td>\n      <td>1923.0</td>\n    </tr>\n    <tr>\n      <th>1173480</th>\n      <td>2019-12-18 14:01:00</td>\n      <td>14250.0</td>\n      <td>14255.0</td>\n      <td>14250.0</td>\n      <td>14255.0</td>\n      <td>348.0</td>\n    </tr>\n    <tr>\n      <th>1173481</th>\n      <td>2019-12-18 14:02:00</td>\n      <td>14252.5</td>\n      <td>14255.0</td>\n      <td>14247.5</td>\n      <td>14247.5</td>\n      <td>589.0</td>\n    </tr>\n    <tr>\n      <th>1173482</th>\n      <td>2019-12-18 14:03:00</td>\n      <td>14245.0</td>\n      <td>14252.5</td>\n      <td>14245.0</td>\n      <td>14247.5</td>\n      <td>334.0</td>\n    </tr>\n  </tbody>\n</table>\n</div>",
      "text/plain": "                    datetime     open     high      low    close  volume\n0        2014-06-27 00:47:00   6635.0   6635.0   6635.0   6635.0     1.0\n1        2014-06-27 00:48:00   6630.0   6630.0   6625.0   6625.0    23.0\n2        2014-06-27 00:50:00   6630.0   6630.0   6625.0   6625.0    44.0\n3        2014-06-27 00:52:00   6630.0   6630.0   6630.0   6630.0     5.0\n4        2014-06-27 00:55:00   6630.0   6630.0   6630.0   6630.0    12.0\n1173478  2019-12-18 13:59:00  14270.0  14270.0  14265.0  14265.0   892.0\n1173479  2019-12-18 14:00:00  14262.5  14262.5  14245.0  14250.0  1923.0\n1173480  2019-12-18 14:01:00  14250.0  14255.0  14250.0  14255.0   348.0\n1173481  2019-12-18 14:02:00  14252.5  14255.0  14247.5  14247.5   589.0\n1173482  2019-12-18 14:03:00  14245.0  14252.5  14245.0  14247.5   334.0"
     },
     "execution_count": 4,
     "metadata": {},
     "output_type": "execute_result"
    }
   ],
   "source": [
    "df_price.head().append(df_price.tail())"
   ]
  },
  {
   "cell_type": "code",
   "execution_count": 22,
   "metadata": {},
   "outputs": [],
   "source": [
    "test_df = df_price.copy()\n",
    "test_df.loc[:,'datetime'] = pd.to_datetime(test_df.datetime)\n",
    "test_df.set_index('datetime', inplace=True)\n",
    "test_df = test_df.loc[test_df.index > pd.to_datetime(\"2019-12-01\"),:]"
   ]
  },
  {
   "cell_type": "code",
   "execution_count": 24,
   "metadata": {},
   "outputs": [],
   "source": [
    "hh = talib.OBV(test_df.close, test_df.volume)\n",
    "# OBV removed"
   ]
  },
  {
   "cell_type": "code",
   "execution_count": 40,
   "metadata": {},
   "outputs": [],
   "source": [
    "hh = talib.ADOSC(test_df.high, test_df.low, test_df.close, test_df.volume)"
   ]
  },
  {
   "cell_type": "code",
   "execution_count": 44,
   "metadata": {},
   "outputs": [
    {
     "data": {
      "text/html": "<div>\n<style scoped>\n    .dataframe tbody tr th:only-of-type {\n        vertical-align: middle;\n    }\n\n    .dataframe tbody tr th {\n        vertical-align: top;\n    }\n\n    .dataframe thead th {\n        text-align: right;\n    }\n</style>\n<table border=\"1\" class=\"dataframe\">\n  <thead>\n    <tr style=\"text-align: right;\">\n      <th></th>\n      <th>open</th>\n      <th>high</th>\n      <th>low</th>\n      <th>close</th>\n      <th>volume</th>\n    </tr>\n    <tr>\n      <th>datetime</th>\n      <th></th>\n      <th></th>\n      <th></th>\n      <th></th>\n      <th></th>\n    </tr>\n  </thead>\n  <tbody>\n    <tr>\n      <th>2019-12-02 08:59:00</th>\n      <td>13647.5</td>\n      <td>13650.0</td>\n      <td>13645.0</td>\n      <td>13645.0</td>\n      <td>70.0</td>\n    </tr>\n    <tr>\n      <th>2019-12-02 09:00:00</th>\n      <td>13645.0</td>\n      <td>13657.5</td>\n      <td>13640.0</td>\n      <td>13650.0</td>\n      <td>1079.0</td>\n    </tr>\n    <tr>\n      <th>2019-12-02 09:01:00</th>\n      <td>13647.5</td>\n      <td>13655.0</td>\n      <td>13647.5</td>\n      <td>13655.0</td>\n      <td>318.0</td>\n    </tr>\n    <tr>\n      <th>2019-12-02 09:02:00</th>\n      <td>13652.5</td>\n      <td>13655.0</td>\n      <td>13647.5</td>\n      <td>13650.0</td>\n      <td>237.0</td>\n    </tr>\n    <tr>\n      <th>2019-12-02 09:03:00</th>\n      <td>13647.5</td>\n      <td>13650.0</td>\n      <td>13642.5</td>\n      <td>13642.5</td>\n      <td>149.0</td>\n    </tr>\n  </tbody>\n</table>\n</div>",
      "text/plain": "                        open     high      low    close  volume\ndatetime                                                       \n2019-12-02 08:59:00  13647.5  13650.0  13645.0  13645.0    70.0\n2019-12-02 09:00:00  13645.0  13657.5  13640.0  13650.0  1079.0\n2019-12-02 09:01:00  13647.5  13655.0  13647.5  13655.0   318.0\n2019-12-02 09:02:00  13652.5  13655.0  13647.5  13650.0   237.0\n2019-12-02 09:03:00  13647.5  13650.0  13642.5  13642.5   149.0"
     },
     "execution_count": 44,
     "metadata": {},
     "output_type": "execute_result"
    }
   ],
   "source": [
    "test_df.head()"
   ]
  },
  {
   "cell_type": "code",
   "execution_count": 43,
   "metadata": {},
   "outputs": [
    {
     "data": {
      "text/plain": "datetime\n2019-12-18 13:54:00     -21.056969\n2019-12-18 13:55:00      40.065884\n2019-12-18 13:56:00    -119.298938\n2019-12-18 13:57:00    -269.739189\n2019-12-18 13:58:00    -553.670275\n2019-12-18 13:59:00    -903.308421\n2019-12-18 14:00:00   -1226.450533\n2019-12-18 14:01:00   -1136.422258\n2019-12-18 14:02:00   -1183.690486\n2019-12-18 14:03:00   -1130.843504\ndtype: float64"
     },
     "execution_count": 43,
     "metadata": {},
     "output_type": "execute_result"
    }
   ],
   "source": [
    "hh.tail(10)\n",
    "# adosc removed"
   ]
  },
  {
   "cell_type": "code",
   "execution_count": 52,
   "metadata": {},
   "outputs": [],
   "source": [
    "real = talib.PLUS_DI(test_df.high, test_df.low, test_df.close, timeperiod=14)"
   ]
  },
  {
   "cell_type": "code",
   "execution_count": 130,
   "metadata": {},
   "outputs": [
    {
     "name": "stdout",
     "output_type": "stream",
     "text": "Help on function NATR in module talib._ta_lib:\n\nNATR(...)\n    NATR(high, low, close[, timeperiod=?])\n    \n    Normalized Average True Range (Volatility Indicators)\n    \n    Inputs:\n        prices: ['high', 'low', 'close']\n    Parameters:\n        timeperiod: 14\n    Outputs:\n        real\n\n"
    }
   ],
   "source": [
    "help(talib.NATR)"
   ]
  },
  {
   "cell_type": "code",
   "execution_count": 150,
   "metadata": {},
   "outputs": [],
   "source": [
    "real = talib.SAREXT(test_df.high,test_df.low )"
   ]
  },
  {
   "cell_type": "code",
   "execution_count": 151,
   "metadata": {},
   "outputs": [
    {
     "data": {
      "text/plain": "14320.907915784328"
     },
     "execution_count": 151,
     "metadata": {},
     "output_type": "execute_result"
    }
   ],
   "source": [
    "real = talib.SAREXT(test_df.close)\n"
   ]
  },
  {
   "cell_type": "code",
   "execution_count": null,
   "metadata": {},
   "outputs": [],
   "source": []
  },
  {
   "cell_type": "code",
   "execution_count": null,
   "metadata": {},
   "outputs": [],
   "source": []
  }
 ]
}