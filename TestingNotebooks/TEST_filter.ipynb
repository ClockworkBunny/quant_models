{
 "nbformat": 4,
 "nbformat_minor": 2,
 "metadata": {
  "language_info": {
   "name": "python",
   "codemirror_mode": {
    "name": "ipython",
    "version": 3
   },
   "version": "3.7.0-final"
  },
  "orig_nbformat": 2,
  "file_extension": ".py",
  "mimetype": "text/x-python",
  "name": "python",
  "npconvert_exporter": "python",
  "pygments_lexer": "ipython3",
  "version": 3,
  "kernelspec": {
   "name": "python37064bitvirtualenv3dffd933d01b475ab328d964de1e8d1b",
   "display_name": "Python 3.7.0 64-bit (virtualenv)"
  }
 },
 "cells": [
  {
   "cell_type": "markdown",
   "execution_count": null,
   "metadata": {},
   "outputs": [],
   "source": [
    "## Ipython Notebooks Templates\n",
    "\n",
    "Add the package path for testing"
   ]
  },
  {
   "cell_type": "code",
   "execution_count": 1,
   "metadata": {},
   "outputs": [],
   "source": [
    "import sys\n",
    "sys.path.append('E:\\\\git_folder\\\\quant_models')\n",
    "from util.utils import sample_df"
   ]
  },
  {
   "cell_type": "code",
   "execution_count": 2,
   "metadata": {},
   "outputs": [],
   "source": [
    "from filters.adv_filters import emd_filter,wvlet_filter,smooth_algo"
   ]
  },
  {
   "cell_type": "code",
   "execution_count": 4,
   "metadata": {},
   "outputs": [],
   "source": [
    "import pandas as pd\n",
    "data_fn = \"../../data/xu1_1min.csv\"\n",
    "df_price = pd.read_csv(data_fn)\n",
    "test_df = df_price.copy()\n",
    "test_df.loc[:,'datetime'] = pd.to_datetime(test_df.datetime)\n",
    "test_df.set_index('datetime', inplace=True)\n",
    "df_sampled = sample_df(test_df, '30T')"
   ]
  },
  {
   "cell_type": "code",
   "execution_count": 7,
   "metadata": {},
   "outputs": [
    {
     "data": {
      "text/html": "<div>\n<style scoped>\n    .dataframe tbody tr th:only-of-type {\n        vertical-align: middle;\n    }\n\n    .dataframe tbody tr th {\n        vertical-align: top;\n    }\n\n    .dataframe thead th {\n        text-align: right;\n    }\n</style>\n<table border=\"1\" class=\"dataframe\">\n  <thead>\n    <tr style=\"text-align: right;\">\n      <th></th>\n      <th>open</th>\n      <th>close</th>\n      <th>low</th>\n      <th>high</th>\n      <th>volume</th>\n    </tr>\n    <tr>\n      <th>datetime</th>\n      <th></th>\n      <th></th>\n      <th></th>\n      <th></th>\n      <th></th>\n    </tr>\n  </thead>\n  <tbody>\n    <tr>\n      <th>2014-06-27 00:30:00</th>\n      <td>6635.0</td>\n      <td>6635.0</td>\n      <td>6625.0</td>\n      <td>6635.0</td>\n      <td>119.0</td>\n    </tr>\n    <tr>\n      <th>2014-06-27 01:00:00</th>\n      <td>6635.0</td>\n      <td>6635.0</td>\n      <td>6630.0</td>\n      <td>6640.0</td>\n      <td>753.0</td>\n    </tr>\n    <tr>\n      <th>2014-06-27 01:30:00</th>\n      <td>6635.0</td>\n      <td>6630.0</td>\n      <td>6630.0</td>\n      <td>6635.0</td>\n      <td>21.0</td>\n    </tr>\n    <tr>\n      <th>2014-06-27 02:00:00</th>\n      <td>6630.0</td>\n      <td>6625.0</td>\n      <td>6625.0</td>\n      <td>6630.0</td>\n      <td>139.0</td>\n    </tr>\n    <tr>\n      <th>2014-06-27 02:30:00</th>\n      <td>6625.0</td>\n      <td>6625.0</td>\n      <td>6625.0</td>\n      <td>6625.0</td>\n      <td>5.0</td>\n    </tr>\n  </tbody>\n</table>\n</div>",
      "text/plain": "                       open   close     low    high  volume\ndatetime                                                   \n2014-06-27 00:30:00  6635.0  6635.0  6625.0  6635.0   119.0\n2014-06-27 01:00:00  6635.0  6635.0  6630.0  6640.0   753.0\n2014-06-27 01:30:00  6635.0  6630.0  6630.0  6635.0    21.0\n2014-06-27 02:00:00  6630.0  6625.0  6625.0  6630.0   139.0\n2014-06-27 02:30:00  6625.0  6625.0  6625.0  6625.0     5.0"
     },
     "execution_count": 7,
     "metadata": {},
     "output_type": "execute_result"
    }
   ],
   "source": [
    "df_sampled.head()"
   ]
  },
  {
   "cell_type": "code",
   "execution_count": 8,
   "metadata": {},
   "outputs": [
    {
     "name": "stdout",
     "output_type": "stream",
     "text": "Help on function emd_filter in module filters.adv_filters:\n\nemd_filter(raw_time_series, threshold=0.5)\n    This method is required by all the bar types and is used to create the desired bars.\n    :params\n    1. raw_time_series: (time series in numpy array)\n    2. threshold:       (float number)\n    it denotes how much low-frequency components will be kept. It should be in the range of [0, 1]\n    \n    :return: the same-length data\n\n"
    }
   ],
   "source": [
    "## For EMD\n",
    "help(emd_filter)"
   ]
  },
  {
   "cell_type": "code",
   "execution_count": 9,
   "metadata": {},
   "outputs": [],
   "source": [
    "new_open = smooth_algo(df_sampled.open.values,2000,emd_filter, {'threshold':0.5})"
   ]
  },
  {
   "cell_type": "code",
   "execution_count": 0,
   "metadata": {},
   "outputs": [],
   "source": [
    "## For Wavelet\n",
    "help(wvlet_filter)"
   ]
  },
  {
   "cell_type": "code",
   "execution_count": null,
   "metadata": {},
   "outputs": [],
   "source": [
    "new_open = smooth_algo(df_sampled.open.values,2000,wvlet_filter, {'threshold':0.5})"
   ]
  }
 ]
}