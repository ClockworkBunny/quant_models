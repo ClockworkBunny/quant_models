{
 "nbformat": 4,
 "nbformat_minor": 2,
 "metadata": {
  "language_info": {
   "name": "python",
   "codemirror_mode": {
    "name": "ipython",
    "version": 3
   },
   "version": "3.7.0-final"
  },
  "orig_nbformat": 2,
  "file_extension": ".py",
  "mimetype": "text/x-python",
  "name": "python",
  "npconvert_exporter": "python",
  "pygments_lexer": "ipython3",
  "version": 3,
  "kernelspec": {
   "name": "python37064bitvirtualenv3dffd933d01b475ab328d964de1e8d1b",
   "display_name": "Python 3.7.0 64-bit (virtualenv)"
  }
 },
 "cells": [
  {
   "cell_type": "markdown",
   "execution_count": null,
   "metadata": {},
   "outputs": [],
   "source": [
    "## Ipython Notebooks Templates\n",
    "\n",
    "Add the package path for testing"
   ]
  },
  {
   "cell_type": "code",
   "execution_count": 7,
   "metadata": {},
   "outputs": [],
   "source": [
    "import sys\n",
    "sys.path.append('E:\\\\git_folder\\\\quant_models')\n",
    "from util.utils import sample_df"
   ]
  },
  {
   "cell_type": "code",
   "execution_count": 8,
   "metadata": {},
   "outputs": [],
   "source": [
    "from filters.adv_filters import emd_filter,wvlet_filter,smooth_algo"
   ]
  },
  {
   "cell_type": "code",
   "execution_count": 9,
   "metadata": {},
   "outputs": [],
   "source": [
    "import pandas as pd\n",
    "data_fn = \"../../data/xu1_1min.csv\"\n",
    "df_price = pd.read_csv(data_fn)\n",
    "test_df = df_price.copy()\n",
    "test_df.loc[:,'datetime'] = pd.to_datetime(test_df.datetime)\n",
    "test_df.set_index('datetime', inplace=True)\n",
    "df_sampled = sample_df(test_df, '30T')"
   ]
  },
  {
   "cell_type": "code",
   "execution_count": 10,
   "metadata": {},
   "outputs": [
    {
     "data": {
      "text/html": "<div>\n<style scoped>\n    .dataframe tbody tr th:only-of-type {\n        vertical-align: middle;\n    }\n\n    .dataframe tbody tr th {\n        vertical-align: top;\n    }\n\n    .dataframe thead th {\n        text-align: right;\n    }\n</style>\n<table border=\"1\" class=\"dataframe\">\n  <thead>\n    <tr style=\"text-align: right;\">\n      <th></th>\n      <th>open</th>\n      <th>close</th>\n      <th>low</th>\n      <th>high</th>\n      <th>volume</th>\n    </tr>\n    <tr>\n      <th>datetime</th>\n      <th></th>\n      <th></th>\n      <th></th>\n      <th></th>\n      <th></th>\n    </tr>\n  </thead>\n  <tbody>\n    <tr>\n      <th>2019-12-18 12:00:00</th>\n      <td>14277.5</td>\n      <td>14275.0</td>\n      <td>14272.5</td>\n      <td>14277.5</td>\n      <td>518.0</td>\n    </tr>\n    <tr>\n      <th>2019-12-18 12:30:00</th>\n      <td>14272.5</td>\n      <td>14270.0</td>\n      <td>14267.5</td>\n      <td>14275.0</td>\n      <td>501.0</td>\n    </tr>\n    <tr>\n      <th>2019-12-18 13:00:00</th>\n      <td>14270.0</td>\n      <td>14297.5</td>\n      <td>14262.5</td>\n      <td>14302.5</td>\n      <td>12497.0</td>\n    </tr>\n    <tr>\n      <th>2019-12-18 13:30:00</th>\n      <td>14295.0</td>\n      <td>14265.0</td>\n      <td>14265.0</td>\n      <td>14305.0</td>\n      <td>7790.0</td>\n    </tr>\n    <tr>\n      <th>2019-12-18 14:00:00</th>\n      <td>14262.5</td>\n      <td>14247.5</td>\n      <td>14245.0</td>\n      <td>14262.5</td>\n      <td>3194.0</td>\n    </tr>\n  </tbody>\n</table>\n</div>",
      "text/plain": "                        open    close      low     high   volume\ndatetime                                                        \n2019-12-18 12:00:00  14277.5  14275.0  14272.5  14277.5    518.0\n2019-12-18 12:30:00  14272.5  14270.0  14267.5  14275.0    501.0\n2019-12-18 13:00:00  14270.0  14297.5  14262.5  14302.5  12497.0\n2019-12-18 13:30:00  14295.0  14265.0  14265.0  14305.0   7790.0\n2019-12-18 14:00:00  14262.5  14247.5  14245.0  14262.5   3194.0"
     },
     "execution_count": 10,
     "metadata": {},
     "output_type": "execute_result"
    }
   ],
   "source": [
    "df_sampled.tail()"
   ]
  },
  {
   "cell_type": "code",
   "execution_count": 11,
   "metadata": {},
   "outputs": [],
   "source": [
    "df_test = df_sampled['2019-12-01':]"
   ]
  },
  {
   "cell_type": "code",
   "execution_count": 12,
   "metadata": {},
   "outputs": [
    {
     "name": "stdout",
     "output_type": "stream",
     "text": "Help on function emd_filter in module filters.adv_filters:\n\nemd_filter(raw_time_series, threshold=0.5)\n    This method is required by all the bar types and is used to create the desired bars.\n    :params\n    1. raw_time_series: (time series in numpy array)\n    2. threshold:       (float number)\n    it denotes how much low-frequency components will be kept. It should be in the range of [0, 1]\n    \n    :return: the same-length data\n\n"
    }
   ],
   "source": [
    "## For EMD\n",
    "help(emd_filter)"
   ]
  },
  {
   "cell_type": "code",
   "execution_count": 13,
   "metadata": {},
   "outputs": [],
   "source": [
    "new_open = smooth_algo(df_test.open.values,1000,emd_filter, {'threshold':0.5})"
   ]
  },
  {
   "cell_type": "code",
   "execution_count": 14,
   "metadata": {},
   "outputs": [
    {
     "name": "stdout",
     "output_type": "stream",
     "text": "Help on function wvlet_filter in module filters.adv_filters:\n\nwvlet_filter(raw_time_series, wavelet='db4', level=1, title=None)\n    wavelet smooth function\n    :params\n    1. raw_time_series: (time series in numpy array)\n    2. wavelet:       type of wavelet (string)\n    3. level: cut-off level\n    \n    :return: the same-length data\n\n"
    }
   ],
   "source": [
    "## For Wavelet\n",
    "help(wvlet_filter)"
   ]
  },
  {
   "cell_type": "code",
   "execution_count": 15,
   "metadata": {},
   "outputs": [],
   "source": [
    "new_open = smooth_algo(df_sampled.open.values,2000,wvlet_filter, {'wavelet':'db1', 'level': 1})"
   ]
  },
  {
   "cell_type": "code",
   "execution_count": null,
   "metadata": {},
   "outputs": [],
   "source": []
  }
 ]
}