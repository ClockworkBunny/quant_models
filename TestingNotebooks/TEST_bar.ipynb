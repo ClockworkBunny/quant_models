{
 "nbformat": 4,
 "nbformat_minor": 2,
 "metadata": {
  "language_info": {
   "name": "python",
   "codemirror_mode": {
    "name": "ipython",
    "version": 3
   },
   "version": "3.7.0"
  },
  "orig_nbformat": 2,
  "file_extension": ".py",
  "mimetype": "text/x-python",
  "name": "python",
  "npconvert_exporter": "python",
  "pygments_lexer": "ipython3",
  "version": 3
 },
 "cells": [
  {
   "cell_type": "markdown",
   "execution_count": null,
   "metadata": {},
   "outputs": [],
   "source": [
    "## Ipython Notebooks for testing custombar\n",
    "\n",
    "1. resample\n",
    "2. daily vol counting\n",
    "3. timezone chagne\n",
    "4. filter"
   ]
  },
  {
   "cell_type": "code",
   "execution_count": 1,
   "metadata": {},
   "outputs": [],
   "source": [
    "import sys\n",
    "sys.path.append('E:\\\\git_folder\\\\quant_models')"
   ]
  },
  {
   "cell_type": "code",
   "execution_count": 2,
   "metadata": {},
   "outputs": [],
   "source": [
    "from custombar import TickBar, VolBar, DollarBar\n",
    "from custombar import Imbalance_Bar, Imbalance_Run_Bar"
   ]
  },
  {
   "cell_type": "markdown",
   "execution_count": null,
   "metadata": {},
   "outputs": [],
   "source": [
    "#### Data importing"
   ]
  },
  {
   "cell_type": "code",
   "execution_count": 3,
   "metadata": {},
   "outputs": [],
   "source": [
    "import pandas as pd\n",
    "data_fn = \"././data/xu1_1min.csv\"\n",
    "df_price = pd.read_csv(data_fn)"
   ]
  },
  {
   "cell_type": "code",
   "execution_count": 4,
   "metadata": {},
   "outputs": [
    {
     "data": {
      "text/html": "<div>\n<style scoped>\n    .dataframe tbody tr th:only-of-type {\n        vertical-align: middle;\n    }\n\n    .dataframe tbody tr th {\n        vertical-align: top;\n    }\n\n    .dataframe thead th {\n        text-align: right;\n    }\n</style>\n<table border=\"1\" class=\"dataframe\">\n  <thead>\n    <tr style=\"text-align: right;\">\n      <th></th>\n      <th>datetime</th>\n      <th>open</th>\n      <th>high</th>\n      <th>low</th>\n      <th>close</th>\n      <th>volume</th>\n    </tr>\n  </thead>\n  <tbody>\n    <tr>\n      <th>0</th>\n      <td>2014-06-27 00:47:00</td>\n      <td>6635.0</td>\n      <td>6635.0</td>\n      <td>6635.0</td>\n      <td>6635.0</td>\n      <td>1.0</td>\n    </tr>\n    <tr>\n      <th>1</th>\n      <td>2014-06-27 00:48:00</td>\n      <td>6630.0</td>\n      <td>6630.0</td>\n      <td>6625.0</td>\n      <td>6625.0</td>\n      <td>23.0</td>\n    </tr>\n    <tr>\n      <th>2</th>\n      <td>2014-06-27 00:50:00</td>\n      <td>6630.0</td>\n      <td>6630.0</td>\n      <td>6625.0</td>\n      <td>6625.0</td>\n      <td>44.0</td>\n    </tr>\n    <tr>\n      <th>3</th>\n      <td>2014-06-27 00:52:00</td>\n      <td>6630.0</td>\n      <td>6630.0</td>\n      <td>6630.0</td>\n      <td>6630.0</td>\n      <td>5.0</td>\n    </tr>\n    <tr>\n      <th>4</th>\n      <td>2014-06-27 00:55:00</td>\n      <td>6630.0</td>\n      <td>6630.0</td>\n      <td>6630.0</td>\n      <td>6630.0</td>\n      <td>12.0</td>\n    </tr>\n    <tr>\n      <th>1173478</th>\n      <td>2019-12-18 13:59:00</td>\n      <td>14270.0</td>\n      <td>14270.0</td>\n      <td>14265.0</td>\n      <td>14265.0</td>\n      <td>892.0</td>\n    </tr>\n    <tr>\n      <th>1173479</th>\n      <td>2019-12-18 14:00:00</td>\n      <td>14262.5</td>\n      <td>14262.5</td>\n      <td>14245.0</td>\n      <td>14250.0</td>\n      <td>1923.0</td>\n    </tr>\n    <tr>\n      <th>1173480</th>\n      <td>2019-12-18 14:01:00</td>\n      <td>14250.0</td>\n      <td>14255.0</td>\n      <td>14250.0</td>\n      <td>14255.0</td>\n      <td>348.0</td>\n    </tr>\n    <tr>\n      <th>1173481</th>\n      <td>2019-12-18 14:02:00</td>\n      <td>14252.5</td>\n      <td>14255.0</td>\n      <td>14247.5</td>\n      <td>14247.5</td>\n      <td>589.0</td>\n    </tr>\n    <tr>\n      <th>1173482</th>\n      <td>2019-12-18 14:03:00</td>\n      <td>14245.0</td>\n      <td>14252.5</td>\n      <td>14245.0</td>\n      <td>14247.5</td>\n      <td>334.0</td>\n    </tr>\n  </tbody>\n</table>\n</div>",
      "text/plain": "                    datetime     open     high      low    close  volume\n0        2014-06-27 00:47:00   6635.0   6635.0   6635.0   6635.0     1.0\n1        2014-06-27 00:48:00   6630.0   6630.0   6625.0   6625.0    23.0\n2        2014-06-27 00:50:00   6630.0   6630.0   6625.0   6625.0    44.0\n3        2014-06-27 00:52:00   6630.0   6630.0   6630.0   6630.0     5.0\n4        2014-06-27 00:55:00   6630.0   6630.0   6630.0   6630.0    12.0\n1173478  2019-12-18 13:59:00  14270.0  14270.0  14265.0  14265.0   892.0\n1173479  2019-12-18 14:00:00  14262.5  14262.5  14245.0  14250.0  1923.0\n1173480  2019-12-18 14:01:00  14250.0  14255.0  14250.0  14255.0   348.0\n1173481  2019-12-18 14:02:00  14252.5  14255.0  14247.5  14247.5   589.0\n1173482  2019-12-18 14:03:00  14245.0  14252.5  14245.0  14247.5   334.0"
     },
     "execution_count": 4,
     "metadata": {},
     "output_type": "execute_result"
    }
   ],
   "source": [
    "df_price.head().append(df_price.tail())"
   ]
  },
  {
   "cell_type": "code",
   "execution_count": 5,
   "metadata": {},
   "outputs": [
    {
     "data": {
      "text/html": "<div>\n<style scoped>\n    .dataframe tbody tr th:only-of-type {\n        vertical-align: middle;\n    }\n\n    .dataframe tbody tr th {\n        vertical-align: top;\n    }\n\n    .dataframe thead th {\n        text-align: right;\n    }\n</style>\n<table border=\"1\" class=\"dataframe\">\n  <thead>\n    <tr style=\"text-align: right;\">\n      <th></th>\n      <th>datetime</th>\n      <th>open</th>\n      <th>high</th>\n      <th>low</th>\n      <th>close</th>\n      <th>volume</th>\n    </tr>\n  </thead>\n  <tbody>\n    <tr>\n      <th>0</th>\n      <td>2014-06-27 00:47:00</td>\n      <td>6635.0</td>\n      <td>6635.0</td>\n      <td>6635.0</td>\n      <td>6635.0</td>\n      <td>1.0</td>\n    </tr>\n    <tr>\n      <th>1</th>\n      <td>2014-06-27 00:48:00</td>\n      <td>6630.0</td>\n      <td>6630.0</td>\n      <td>6625.0</td>\n      <td>6625.0</td>\n      <td>23.0</td>\n    </tr>\n    <tr>\n      <th>2</th>\n      <td>2014-06-27 00:50:00</td>\n      <td>6630.0</td>\n      <td>6630.0</td>\n      <td>6625.0</td>\n      <td>6625.0</td>\n      <td>44.0</td>\n    </tr>\n    <tr>\n      <th>3</th>\n      <td>2014-06-27 00:52:00</td>\n      <td>6630.0</td>\n      <td>6630.0</td>\n      <td>6630.0</td>\n      <td>6630.0</td>\n      <td>5.0</td>\n    </tr>\n    <tr>\n      <th>4</th>\n      <td>2014-06-27 00:55:00</td>\n      <td>6630.0</td>\n      <td>6630.0</td>\n      <td>6630.0</td>\n      <td>6630.0</td>\n      <td>12.0</td>\n    </tr>\n  </tbody>\n</table>\n</div>",
      "text/plain": "              datetime    open    high     low   close  volume\n0  2014-06-27 00:47:00  6635.0  6635.0  6635.0  6635.0     1.0\n1  2014-06-27 00:48:00  6630.0  6630.0  6625.0  6625.0    23.0\n2  2014-06-27 00:50:00  6630.0  6630.0  6625.0  6625.0    44.0\n3  2014-06-27 00:52:00  6630.0  6630.0  6630.0  6630.0     5.0\n4  2014-06-27 00:55:00  6630.0  6630.0  6630.0  6630.0    12.0"
     },
     "execution_count": 5,
     "metadata": {},
     "output_type": "execute_result"
    }
   ],
   "source": [
    "df_price.head()"
   ]
  },
  {
   "cell_type": "code",
   "execution_count": 6,
   "metadata": {},
   "outputs": [],
   "source": [
    "test_df = df_price.copy()\n",
    "test_df.loc[:,'datetime'] = pd.to_datetime(test_df.datetime)\n",
    "test_df.set_index('datetime', inplace=True)\n",
    "test_df = test_df.loc[test_df.index > pd.to_datetime(\"2016-01-01\"),:]"
   ]
  },
  {
   "cell_type": "code",
   "execution_count": 7,
   "metadata": {},
   "outputs": [
    {
     "data": {
      "text/html": "<div>\n<style scoped>\n    .dataframe tbody tr th:only-of-type {\n        vertical-align: middle;\n    }\n\n    .dataframe tbody tr th {\n        vertical-align: top;\n    }\n\n    .dataframe thead th {\n        text-align: right;\n    }\n</style>\n<table border=\"1\" class=\"dataframe\">\n  <thead>\n    <tr style=\"text-align: right;\">\n      <th></th>\n      <th>open</th>\n      <th>high</th>\n      <th>low</th>\n      <th>close</th>\n      <th>volume</th>\n    </tr>\n    <tr>\n      <th>datetime</th>\n      <th></th>\n      <th></th>\n      <th></th>\n      <th></th>\n      <th></th>\n    </tr>\n  </thead>\n  <tbody>\n    <tr>\n      <th>2016-01-04 17:00:00</th>\n      <td>10460.0</td>\n      <td>10485.0</td>\n      <td>10460.0</td>\n      <td>10470.0</td>\n      <td>443.0</td>\n    </tr>\n    <tr>\n      <th>2016-01-04 17:01:00</th>\n      <td>10472.5</td>\n      <td>10472.5</td>\n      <td>10467.5</td>\n      <td>10472.5</td>\n      <td>160.0</td>\n    </tr>\n    <tr>\n      <th>2016-01-04 17:02:00</th>\n      <td>10470.0</td>\n      <td>10470.0</td>\n      <td>10455.0</td>\n      <td>10460.0</td>\n      <td>242.0</td>\n    </tr>\n    <tr>\n      <th>2016-01-04 17:03:00</th>\n      <td>10457.5</td>\n      <td>10460.0</td>\n      <td>10435.0</td>\n      <td>10435.0</td>\n      <td>344.0</td>\n    </tr>\n    <tr>\n      <th>2016-01-04 17:04:00</th>\n      <td>10432.5</td>\n      <td>10450.0</td>\n      <td>10432.5</td>\n      <td>10435.0</td>\n      <td>497.0</td>\n    </tr>\n  </tbody>\n</table>\n</div>",
      "text/plain": "                        open     high      low    close  volume\ndatetime                                                       \n2016-01-04 17:00:00  10460.0  10485.0  10460.0  10470.0   443.0\n2016-01-04 17:01:00  10472.5  10472.5  10467.5  10472.5   160.0\n2016-01-04 17:02:00  10470.0  10470.0  10455.0  10460.0   242.0\n2016-01-04 17:03:00  10457.5  10460.0  10435.0  10435.0   344.0\n2016-01-04 17:04:00  10432.5  10450.0  10432.5  10435.0   497.0"
     },
     "execution_count": 7,
     "metadata": {},
     "output_type": "execute_result"
    }
   ],
   "source": [
    "test_df.head()"
   ]
  },
  {
   "cell_type": "code",
   "execution_count": 8,
   "metadata": {},
   "outputs": [],
   "source": [
    "colmap = {\"open\":\"price\"}\n"
   ]
  },
  {
   "cell_type": "markdown",
   "execution_count": null,
   "metadata": {},
   "outputs": [],
   "source": [
    "#### Testing the Volume Bar Function"
   ]
  },
  {
   "cell_type": "code",
   "execution_count": 9,
   "metadata": {},
   "outputs": [],
   "source": [
    "volbar_model = VolBar(threshold=4000, dictcol=colmap)"
   ]
  },
  {
   "cell_type": "code",
   "execution_count": 10,
   "metadata": {},
   "outputs": [],
   "source": [
    "vol_df = volbar_model.transform(test_df)"
   ]
  },
  {
   "cell_type": "code",
   "execution_count": 19,
   "metadata": {},
   "outputs": [
    {
     "data": {
      "text/html": "<div>\n<style scoped>\n    .dataframe tbody tr th:only-of-type {\n        vertical-align: middle;\n    }\n\n    .dataframe tbody tr th {\n        vertical-align: top;\n    }\n\n    .dataframe thead th {\n        text-align: right;\n    }\n</style>\n<table border=\"1\" class=\"dataframe\">\n  <thead>\n    <tr style=\"text-align: right;\">\n      <th></th>\n      <th>open</th>\n      <th>high</th>\n      <th>low</th>\n      <th>close</th>\n      <th>volume</th>\n    </tr>\n    <tr>\n      <th>datetime</th>\n      <th></th>\n      <th></th>\n      <th></th>\n      <th></th>\n      <th></th>\n    </tr>\n  </thead>\n  <tbody>\n    <tr>\n      <th>2016-01-04 17:12:00</th>\n      <td>10412.5</td>\n      <td>10412.5</td>\n      <td>10367.5</td>\n      <td>10382.5</td>\n      <td>5356.0</td>\n    </tr>\n    <tr>\n      <th>2016-01-04 17:21:00</th>\n      <td>10382.5</td>\n      <td>10387.5</td>\n      <td>10352.5</td>\n      <td>10387.5</td>\n      <td>5978.0</td>\n    </tr>\n    <tr>\n      <th>2016-01-04 17:30:00</th>\n      <td>10387.5</td>\n      <td>10430.0</td>\n      <td>10380.0</td>\n      <td>10430.0</td>\n      <td>5858.0</td>\n    </tr>\n    <tr>\n      <th>2016-01-04 17:33:00</th>\n      <td>10430.0</td>\n      <td>10430.0</td>\n      <td>10417.5</td>\n      <td>10417.5</td>\n      <td>6190.0</td>\n    </tr>\n    <tr>\n      <th>2016-01-04 17:38:00</th>\n      <td>10417.5</td>\n      <td>10417.5</td>\n      <td>10355.0</td>\n      <td>10355.0</td>\n      <td>5449.0</td>\n    </tr>\n  </tbody>\n</table>\n</div>",
      "text/plain": "                        open     high      low    close  volume\ndatetime                                                       \n2016-01-04 17:12:00  10412.5  10412.5  10367.5  10382.5  5356.0\n2016-01-04 17:21:00  10382.5  10387.5  10352.5  10387.5  5978.0\n2016-01-04 17:30:00  10387.5  10430.0  10380.0  10430.0  5858.0\n2016-01-04 17:33:00  10430.0  10430.0  10417.5  10417.5  6190.0\n2016-01-04 17:38:00  10417.5  10417.5  10355.0  10355.0  5449.0"
     },
     "execution_count": 19,
     "metadata": {},
     "output_type": "execute_result"
    }
   ],
   "source": [
    "vol_df.head()"
   ]
  },
  {
   "cell_type": "code",
   "execution_count": 12,
   "metadata": {},
   "outputs": [],
   "source": [
    "t_vol = test_df['volume']"
   ]
  },
  {
   "cell_type": "code",
   "execution_count": 13,
   "metadata": {},
   "outputs": [],
   "source": [
    "idx = [30,45,64, 105]"
   ]
  },
  {
   "cell_type": "code",
   "execution_count": 14,
   "metadata": {},
   "outputs": [],
   "source": [
    "hh = test_df.iloc[idx,:]['close'].drop_duplicates()"
   ]
  },
  {
   "cell_type": "code",
   "execution_count": 17,
   "metadata": {},
   "outputs": [
    {
     "data": {
      "text/plain": "datetime\n2016-01-04 17:30:00    10380.0\n2016-01-04 17:45:00    10320.0\n2016-01-04 18:04:00    10217.5\n2016-01-04 18:45:00    10150.0\nName: close, dtype: float64"
     },
     "execution_count": 17,
     "metadata": {},
     "output_type": "execute_result"
    }
   ],
   "source": [
    "hh.tail()"
   ]
  },
  {
   "cell_type": "code",
   "execution_count": null,
   "metadata": {},
   "outputs": [],
   "source": []
  },
  {
   "cell_type": "code",
   "execution_count": null,
   "metadata": {},
   "outputs": [],
   "source": []
  }
 ]
}