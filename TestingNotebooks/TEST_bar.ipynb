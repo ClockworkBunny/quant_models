{
 "nbformat": 4,
 "nbformat_minor": 2,
 "metadata": {
  "language_info": {
   "name": "python",
   "codemirror_mode": {
    "name": "ipython",
    "version": 3
   },
   "version": "3.7.0"
  },
  "orig_nbformat": 2,
  "file_extension": ".py",
  "mimetype": "text/x-python",
  "name": "python",
  "npconvert_exporter": "python",
  "pygments_lexer": "ipython3",
  "version": 3
 },
 "cells": [
  {
   "cell_type": "markdown",
   "execution_count": null,
   "metadata": {},
   "outputs": [],
   "source": [
    "## Ipython Notebooks for testing custombar\n",
    "\n",
    "1. TickBar, VolBar, DollarBar\n",
    "2. Imbalance Bar\n",
    "3. Imbalance Run Bar\n"
   ]
  },
  {
   "cell_type": "code",
   "execution_count": 1,
   "metadata": {},
   "outputs": [],
   "source": [
    "import sys\n",
    "sys.path.append('E:\\\\git_folder\\\\quant_models')"
   ]
  },
  {
   "cell_type": "code",
   "execution_count": 2,
   "metadata": {},
   "outputs": [],
   "source": [
    "from custombar import TickBar, VolBar, DollarBar\n",
    "from custombar import Imbalance_Bar, Imbalance_Run_Bar"
   ]
  },
  {
   "cell_type": "markdown",
   "execution_count": null,
   "metadata": {},
   "outputs": [],
   "source": [
    "#### Data importing"
   ]
  },
  {
   "cell_type": "code",
   "execution_count": 3,
   "metadata": {},
   "outputs": [],
   "source": [
    "import pandas as pd\n",
    "data_fn = \"././data/xu1_1min.csv\"\n",
    "df_price = pd.read_csv(data_fn)"
   ]
  },
  {
   "cell_type": "code",
   "execution_count": 4,
   "metadata": {},
   "outputs": [
    {
     "data": {
      "text/html": "<div>\n<style scoped>\n    .dataframe tbody tr th:only-of-type {\n        vertical-align: middle;\n    }\n\n    .dataframe tbody tr th {\n        vertical-align: top;\n    }\n\n    .dataframe thead th {\n        text-align: right;\n    }\n</style>\n<table border=\"1\" class=\"dataframe\">\n  <thead>\n    <tr style=\"text-align: right;\">\n      <th></th>\n      <th>datetime</th>\n      <th>open</th>\n      <th>high</th>\n      <th>low</th>\n      <th>close</th>\n      <th>volume</th>\n    </tr>\n  </thead>\n  <tbody>\n    <tr>\n      <th>0</th>\n      <td>2014-06-27 00:47:00</td>\n      <td>6635.0</td>\n      <td>6635.0</td>\n      <td>6635.0</td>\n      <td>6635.0</td>\n      <td>1.0</td>\n    </tr>\n    <tr>\n      <th>1</th>\n      <td>2014-06-27 00:48:00</td>\n      <td>6630.0</td>\n      <td>6630.0</td>\n      <td>6625.0</td>\n      <td>6625.0</td>\n      <td>23.0</td>\n    </tr>\n    <tr>\n      <th>2</th>\n      <td>2014-06-27 00:50:00</td>\n      <td>6630.0</td>\n      <td>6630.0</td>\n      <td>6625.0</td>\n      <td>6625.0</td>\n      <td>44.0</td>\n    </tr>\n    <tr>\n      <th>3</th>\n      <td>2014-06-27 00:52:00</td>\n      <td>6630.0</td>\n      <td>6630.0</td>\n      <td>6630.0</td>\n      <td>6630.0</td>\n      <td>5.0</td>\n    </tr>\n    <tr>\n      <th>4</th>\n      <td>2014-06-27 00:55:00</td>\n      <td>6630.0</td>\n      <td>6630.0</td>\n      <td>6630.0</td>\n      <td>6630.0</td>\n      <td>12.0</td>\n    </tr>\n    <tr>\n      <th>1173478</th>\n      <td>2019-12-18 13:59:00</td>\n      <td>14270.0</td>\n      <td>14270.0</td>\n      <td>14265.0</td>\n      <td>14265.0</td>\n      <td>892.0</td>\n    </tr>\n    <tr>\n      <th>1173479</th>\n      <td>2019-12-18 14:00:00</td>\n      <td>14262.5</td>\n      <td>14262.5</td>\n      <td>14245.0</td>\n      <td>14250.0</td>\n      <td>1923.0</td>\n    </tr>\n    <tr>\n      <th>1173480</th>\n      <td>2019-12-18 14:01:00</td>\n      <td>14250.0</td>\n      <td>14255.0</td>\n      <td>14250.0</td>\n      <td>14255.0</td>\n      <td>348.0</td>\n    </tr>\n    <tr>\n      <th>1173481</th>\n      <td>2019-12-18 14:02:00</td>\n      <td>14252.5</td>\n      <td>14255.0</td>\n      <td>14247.5</td>\n      <td>14247.5</td>\n      <td>589.0</td>\n    </tr>\n    <tr>\n      <th>1173482</th>\n      <td>2019-12-18 14:03:00</td>\n      <td>14245.0</td>\n      <td>14252.5</td>\n      <td>14245.0</td>\n      <td>14247.5</td>\n      <td>334.0</td>\n    </tr>\n  </tbody>\n</table>\n</div>",
      "text/plain": "                    datetime     open     high      low    close  volume\n0        2014-06-27 00:47:00   6635.0   6635.0   6635.0   6635.0     1.0\n1        2014-06-27 00:48:00   6630.0   6630.0   6625.0   6625.0    23.0\n2        2014-06-27 00:50:00   6630.0   6630.0   6625.0   6625.0    44.0\n3        2014-06-27 00:52:00   6630.0   6630.0   6630.0   6630.0     5.0\n4        2014-06-27 00:55:00   6630.0   6630.0   6630.0   6630.0    12.0\n1173478  2019-12-18 13:59:00  14270.0  14270.0  14265.0  14265.0   892.0\n1173479  2019-12-18 14:00:00  14262.5  14262.5  14245.0  14250.0  1923.0\n1173480  2019-12-18 14:01:00  14250.0  14255.0  14250.0  14255.0   348.0\n1173481  2019-12-18 14:02:00  14252.5  14255.0  14247.5  14247.5   589.0\n1173482  2019-12-18 14:03:00  14245.0  14252.5  14245.0  14247.5   334.0"
     },
     "execution_count": 4,
     "metadata": {},
     "output_type": "execute_result"
    }
   ],
   "source": [
    "df_price.head().append(df_price.tail())"
   ]
  },
  {
   "cell_type": "code",
   "execution_count": 5,
   "metadata": {},
   "outputs": [],
   "source": [
    "test_df = df_price.copy()\n",
    "test_df.loc[:,'datetime'] = pd.to_datetime(test_df.datetime)\n",
    "test_df.set_index('datetime', inplace=True)\n",
    "test_df = test_df.loc[test_df.index > pd.to_datetime(\"2016-01-01\"),:]"
   ]
  },
  {
   "cell_type": "code",
   "execution_count": 6,
   "metadata": {},
   "outputs": [
    {
     "data": {
      "text/html": "<div>\n<style scoped>\n    .dataframe tbody tr th:only-of-type {\n        vertical-align: middle;\n    }\n\n    .dataframe tbody tr th {\n        vertical-align: top;\n    }\n\n    .dataframe thead th {\n        text-align: right;\n    }\n</style>\n<table border=\"1\" class=\"dataframe\">\n  <thead>\n    <tr style=\"text-align: right;\">\n      <th></th>\n      <th>open</th>\n      <th>high</th>\n      <th>low</th>\n      <th>close</th>\n      <th>volume</th>\n    </tr>\n    <tr>\n      <th>datetime</th>\n      <th></th>\n      <th></th>\n      <th></th>\n      <th></th>\n      <th></th>\n    </tr>\n  </thead>\n  <tbody>\n    <tr>\n      <th>2016-01-04 17:00:00</th>\n      <td>10460.0</td>\n      <td>10485.0</td>\n      <td>10460.0</td>\n      <td>10470.0</td>\n      <td>443.0</td>\n    </tr>\n    <tr>\n      <th>2016-01-04 17:01:00</th>\n      <td>10472.5</td>\n      <td>10472.5</td>\n      <td>10467.5</td>\n      <td>10472.5</td>\n      <td>160.0</td>\n    </tr>\n    <tr>\n      <th>2016-01-04 17:02:00</th>\n      <td>10470.0</td>\n      <td>10470.0</td>\n      <td>10455.0</td>\n      <td>10460.0</td>\n      <td>242.0</td>\n    </tr>\n    <tr>\n      <th>2016-01-04 17:03:00</th>\n      <td>10457.5</td>\n      <td>10460.0</td>\n      <td>10435.0</td>\n      <td>10435.0</td>\n      <td>344.0</td>\n    </tr>\n    <tr>\n      <th>2016-01-04 17:04:00</th>\n      <td>10432.5</td>\n      <td>10450.0</td>\n      <td>10432.5</td>\n      <td>10435.0</td>\n      <td>497.0</td>\n    </tr>\n  </tbody>\n</table>\n</div>",
      "text/plain": "                        open     high      low    close  volume\ndatetime                                                       \n2016-01-04 17:00:00  10460.0  10485.0  10460.0  10470.0   443.0\n2016-01-04 17:01:00  10472.5  10472.5  10467.5  10472.5   160.0\n2016-01-04 17:02:00  10470.0  10470.0  10455.0  10460.0   242.0\n2016-01-04 17:03:00  10457.5  10460.0  10435.0  10435.0   344.0\n2016-01-04 17:04:00  10432.5  10450.0  10432.5  10435.0   497.0"
     },
     "execution_count": 6,
     "metadata": {},
     "output_type": "execute_result"
    }
   ],
   "source": [
    "test_df.head()"
   ]
  },
  {
   "cell_type": "code",
   "execution_count": 7,
   "metadata": {},
   "outputs": [],
   "source": [
    "colmap = {\"open\":\"price\"}\n"
   ]
  },
  {
   "cell_type": "markdown",
   "execution_count": null,
   "metadata": {},
   "outputs": [],
   "source": [
    "#### Testing Volume Bar Function"
   ]
  },
  {
   "cell_type": "code",
   "execution_count": 8,
   "metadata": {},
   "outputs": [],
   "source": [
    "volbar_model = VolBar(threshold=40000, dictcol=colmap)"
   ]
  },
  {
   "source": [
    "vol_df = volbar_model.transform(test_df)"
   ],
   "cell_type": "code",
   "outputs": [],
   "metadata": {},
   "execution_count": 9
  },
  {
   "source": [
    "vol_df.tail()"
   ],
   "cell_type": "code",
   "outputs": [
    {
     "output_type": "execute_result",
     "data": {
      "text/plain": "                        open     high      low    close   volume\ndatetime                                                        \n2019-12-17 13:19:00  14270.0  14352.5  14267.5  14285.0  41454.0\n2019-12-17 13:52:00  14285.0  14325.0  14250.0  14255.0  42903.0\n2019-12-17 14:59:00  14255.0  14277.5  14207.5  14255.0  41113.0\n2019-12-18 03:12:00  14255.0  14305.0  14245.0  14302.5  40136.0\n2019-12-18 09:59:00  14302.5  14327.5  14267.5  14280.0  40272.0",
      "text/html": "<div>\n<style scoped>\n    .dataframe tbody tr th:only-of-type {\n        vertical-align: middle;\n    }\n\n    .dataframe tbody tr th {\n        vertical-align: top;\n    }\n\n    .dataframe thead th {\n        text-align: right;\n    }\n</style>\n<table border=\"1\" class=\"dataframe\">\n  <thead>\n    <tr style=\"text-align: right;\">\n      <th></th>\n      <th>open</th>\n      <th>high</th>\n      <th>low</th>\n      <th>close</th>\n      <th>volume</th>\n    </tr>\n    <tr>\n      <th>datetime</th>\n      <th></th>\n      <th></th>\n      <th></th>\n      <th></th>\n      <th></th>\n    </tr>\n  </thead>\n  <tbody>\n    <tr>\n      <th>2019-12-17 13:19:00</th>\n      <td>14270.0</td>\n      <td>14352.5</td>\n      <td>14267.5</td>\n      <td>14285.0</td>\n      <td>41454.0</td>\n    </tr>\n    <tr>\n      <th>2019-12-17 13:52:00</th>\n      <td>14285.0</td>\n      <td>14325.0</td>\n      <td>14250.0</td>\n      <td>14255.0</td>\n      <td>42903.0</td>\n    </tr>\n    <tr>\n      <th>2019-12-17 14:59:00</th>\n      <td>14255.0</td>\n      <td>14277.5</td>\n      <td>14207.5</td>\n      <td>14255.0</td>\n      <td>41113.0</td>\n    </tr>\n    <tr>\n      <th>2019-12-18 03:12:00</th>\n      <td>14255.0</td>\n      <td>14305.0</td>\n      <td>14245.0</td>\n      <td>14302.5</td>\n      <td>40136.0</td>\n    </tr>\n    <tr>\n      <th>2019-12-18 09:59:00</th>\n      <td>14302.5</td>\n      <td>14327.5</td>\n      <td>14267.5</td>\n      <td>14280.0</td>\n      <td>40272.0</td>\n    </tr>\n  </tbody>\n</table>\n</div>"
     },
     "metadata": {},
     "execution_count": 10
    }
   ],
   "metadata": {},
   "execution_count": 10
  },
  {
   "source": [
    "7e10"
   ],
   "cell_type": "code",
   "outputs": [
    {
     "output_type": "execute_result",
     "data": {
      "text/plain": "70000000000.0"
     },
     "metadata": {},
     "execution_count": 11
    }
   ],
   "metadata": {},
   "execution_count": 11
  },
  {
   "cell_type": "markdown",
   "execution_count": null,
   "metadata": {},
   "outputs": [],
   "source": [
    "#### Testing Dollar Bar Function"
   ]
  },
  {
   "source": [
    "dollarbar_model = DollarBar(threshold=7e9, dictcol=colmap)"
   ],
   "cell_type": "code",
   "outputs": [],
   "metadata": {},
   "execution_count": 12
  },
  {
   "source": [
    "dollar_df = dollarbar_model.transform(test_df)"
   ],
   "cell_type": "code",
   "outputs": [],
   "metadata": {},
   "execution_count": 13
  },
  {
   "source": [
    "dollar_df.head()"
   ],
   "cell_type": "code",
   "outputs": [
    {
     "output_type": "execute_result",
     "data": {
      "text/plain": "                       open     high     low   close    volume\ndatetime                                                      \n2016-01-06 18:09:00  9985.0  10122.5  9190.0  9752.5  725586.0\n2016-01-08 21:21:00  9752.5   9860.0  9275.0  9472.5  737863.0\n2016-01-13 02:37:00  9472.5   9582.5  9047.5  9167.5  751270.0\n2016-01-15 21:52:00  9167.5   9500.0  8905.0  9260.0  757951.0\n2016-01-20 19:19:00  9260.0   9400.0  9007.5  9227.5  761875.0",
      "text/html": "<div>\n<style scoped>\n    .dataframe tbody tr th:only-of-type {\n        vertical-align: middle;\n    }\n\n    .dataframe tbody tr th {\n        vertical-align: top;\n    }\n\n    .dataframe thead th {\n        text-align: right;\n    }\n</style>\n<table border=\"1\" class=\"dataframe\">\n  <thead>\n    <tr style=\"text-align: right;\">\n      <th></th>\n      <th>open</th>\n      <th>high</th>\n      <th>low</th>\n      <th>close</th>\n      <th>volume</th>\n    </tr>\n    <tr>\n      <th>datetime</th>\n      <th></th>\n      <th></th>\n      <th></th>\n      <th></th>\n      <th></th>\n    </tr>\n  </thead>\n  <tbody>\n    <tr>\n      <th>2016-01-06 18:09:00</th>\n      <td>9985.0</td>\n      <td>10122.5</td>\n      <td>9190.0</td>\n      <td>9752.5</td>\n      <td>725586.0</td>\n    </tr>\n    <tr>\n      <th>2016-01-08 21:21:00</th>\n      <td>9752.5</td>\n      <td>9860.0</td>\n      <td>9275.0</td>\n      <td>9472.5</td>\n      <td>737863.0</td>\n    </tr>\n    <tr>\n      <th>2016-01-13 02:37:00</th>\n      <td>9472.5</td>\n      <td>9582.5</td>\n      <td>9047.5</td>\n      <td>9167.5</td>\n      <td>751270.0</td>\n    </tr>\n    <tr>\n      <th>2016-01-15 21:52:00</th>\n      <td>9167.5</td>\n      <td>9500.0</td>\n      <td>8905.0</td>\n      <td>9260.0</td>\n      <td>757951.0</td>\n    </tr>\n    <tr>\n      <th>2016-01-20 19:19:00</th>\n      <td>9260.0</td>\n      <td>9400.0</td>\n      <td>9007.5</td>\n      <td>9227.5</td>\n      <td>761875.0</td>\n    </tr>\n  </tbody>\n</table>\n</div>"
     },
     "metadata": {},
     "execution_count": 14
    }
   ],
   "metadata": {},
   "execution_count": 14
  },
  {
   "cell_type": "markdown",
   "execution_count": 20,
   "metadata": {},
   "outputs": [],
   "source": [
    "#### Testing Tick Bar Function\n",
    "\n",
    "Due to the testing data is only minute bar, therefore it will be the equal-interval sampling"
   ]
  },
  {
   "cell_type": "code",
   "execution_count": 16,
   "metadata": {},
   "outputs": [],
   "source": [
    "tickbar_model = TickBar(threshold=45, dictcol=colmap)\n",
    "tick_df = tickbar_model.transform(test_df)"
   ]
  },
  {
   "cell_type": "code",
   "execution_count": 17,
   "metadata": {},
   "outputs": [
    {
     "data": {
      "text/html": "<div>\n<style scoped>\n    .dataframe tbody tr th:only-of-type {\n        vertical-align: middle;\n    }\n\n    .dataframe tbody tr th {\n        vertical-align: top;\n    }\n\n    .dataframe thead th {\n        text-align: right;\n    }\n</style>\n<table border=\"1\" class=\"dataframe\">\n  <thead>\n    <tr style=\"text-align: right;\">\n      <th></th>\n      <th>open</th>\n      <th>high</th>\n      <th>low</th>\n      <th>close</th>\n      <th>volume</th>\n    </tr>\n    <tr>\n      <th>datetime</th>\n      <th></th>\n      <th></th>\n      <th></th>\n      <th></th>\n      <th></th>\n    </tr>\n  </thead>\n  <tbody>\n    <tr>\n      <th>2016-01-04 17:44:00</th>\n      <td>10372.5</td>\n      <td>10372.5</td>\n      <td>10100.0</td>\n      <td>10152.5</td>\n      <td>69679.0</td>\n    </tr>\n    <tr>\n      <th>2016-01-04 18:29:00</th>\n      <td>10152.5</td>\n      <td>10182.5</td>\n      <td>10095.0</td>\n      <td>10095.0</td>\n      <td>32554.0</td>\n    </tr>\n    <tr>\n      <th>2016-01-04 19:14:00</th>\n      <td>10095.0</td>\n      <td>10147.5</td>\n      <td>10095.0</td>\n      <td>10100.0</td>\n      <td>10952.0</td>\n    </tr>\n    <tr>\n      <th>2016-01-04 19:59:00</th>\n      <td>10100.0</td>\n      <td>10105.0</td>\n      <td>10087.5</td>\n      <td>10097.5</td>\n      <td>2148.0</td>\n    </tr>\n    <tr>\n      <th>2016-01-04 20:45:00</th>\n      <td>10097.5</td>\n      <td>10097.5</td>\n      <td>9940.0</td>\n      <td>9950.0</td>\n      <td>30251.0</td>\n    </tr>\n  </tbody>\n</table>\n</div>",
      "text/plain": "                        open     high      low    close   volume\ndatetime                                                        \n2016-01-04 17:44:00  10372.5  10372.5  10100.0  10152.5  69679.0\n2016-01-04 18:29:00  10152.5  10182.5  10095.0  10095.0  32554.0\n2016-01-04 19:14:00  10095.0  10147.5  10095.0  10100.0  10952.0\n2016-01-04 19:59:00  10100.0  10105.0  10087.5  10097.5   2148.0\n2016-01-04 20:45:00  10097.5  10097.5   9940.0   9950.0  30251.0"
     },
     "execution_count": 17,
     "metadata": {},
     "output_type": "execute_result"
    }
   ],
   "source": [
    "tick_df.head()"
   ]
  },
  {
   "cell_type": "markdown",
   "execution_count": null,
   "metadata": {},
   "outputs": [],
   "source": [
    "#### Testing Imbalanced Bar"
   ]
  },
  {
   "cell_type": "code",
   "execution_count": 18,
   "metadata": {},
   "outputs": [
    {
     "name": "stderr",
     "output_type": "stream",
     "text": "E:\\git_folder\\quant_models\\custombar\\_imbtickbar.py:68: RuntimeWarning: invalid value encountered in greater\n  if np.abs(cum_theta) > self.exp_num_ticks * np.abs(self.expected_imbalance):\n"
    }
   ],
   "source": [
    "tickbar_model = Imbalance_Bar(dictcol=colmap, mode='tick')\n",
    "tick_df = tickbar_model.transform(test_df)"
   ]
  },
  {
   "cell_type": "code",
   "execution_count": 19,
   "metadata": {},
   "outputs": [
    {
     "data": {
      "text/html": "<div>\n<style scoped>\n    .dataframe tbody tr th:only-of-type {\n        vertical-align: middle;\n    }\n\n    .dataframe tbody tr th {\n        vertical-align: top;\n    }\n\n    .dataframe thead th {\n        text-align: right;\n    }\n</style>\n<table border=\"1\" class=\"dataframe\">\n  <thead>\n    <tr style=\"text-align: right;\">\n      <th></th>\n      <th>open</th>\n      <th>high</th>\n      <th>low</th>\n      <th>close</th>\n      <th>volume</th>\n    </tr>\n    <tr>\n      <th>datetime</th>\n      <th></th>\n      <th></th>\n      <th></th>\n      <th></th>\n      <th></th>\n    </tr>\n  </thead>\n  <tbody>\n    <tr>\n      <th>2016-01-15 23:12:00</th>\n      <td>9097.5</td>\n      <td>9500.0</td>\n      <td>8500.0</td>\n      <td>8660.0</td>\n      <td>3372980.0</td>\n    </tr>\n    <tr>\n      <th>2016-02-03 19:17:00</th>\n      <td>8660.0</td>\n      <td>9495.0</td>\n      <td>8462.5</td>\n      <td>9492.5</td>\n      <td>3894632.0</td>\n    </tr>\n    <tr>\n      <th>2016-03-05 08:48:00</th>\n      <td>9492.5</td>\n      <td>9517.5</td>\n      <td>9005.0</td>\n      <td>9265.0</td>\n      <td>1384167.0</td>\n    </tr>\n    <tr>\n      <th>2016-03-15 09:57:00</th>\n      <td>9265.0</td>\n      <td>9637.5</td>\n      <td>9135.0</td>\n      <td>9632.5</td>\n      <td>967619.0</td>\n    </tr>\n    <tr>\n      <th>2016-03-19 06:49:00</th>\n      <td>9632.5</td>\n      <td>9830.0</td>\n      <td>9442.5</td>\n      <td>9457.5</td>\n      <td>1026363.0</td>\n    </tr>\n  </tbody>\n</table>\n</div>",
      "text/plain": "                       open    high     low   close     volume\ndatetime                                                      \n2016-01-15 23:12:00  9097.5  9500.0  8500.0  8660.0  3372980.0\n2016-02-03 19:17:00  8660.0  9495.0  8462.5  9492.5  3894632.0\n2016-03-05 08:48:00  9492.5  9517.5  9005.0  9265.0  1384167.0\n2016-03-15 09:57:00  9265.0  9637.5  9135.0  9632.5   967619.0\n2016-03-19 06:49:00  9632.5  9830.0  9442.5  9457.5  1026363.0"
     },
     "execution_count": 19,
     "metadata": {},
     "output_type": "execute_result"
    }
   ],
   "source": [
    "tick_df.head()"
   ]
  },
  {
   "cell_type": "markdown",
   "execution_count": null,
   "metadata": {},
   "outputs": [],
   "source": [
    "#### Testing Imbalanced Run Bar"
   ]
  },
  {
   "cell_type": "code",
   "execution_count": 22,
   "metadata": {},
   "outputs": [],
   "source": [
    "tickbar_model = Imbalance_Run_Bar(dictcol=colmap, mode='volume', exp_num_ticks_init=5)\n",
    "tick_df = tickbar_model.transform(test_df)"
   ]
  },
  {
   "cell_type": "code",
   "execution_count": 23,
   "metadata": {},
   "outputs": [
    {
     "data": {
      "text/html": "<div>\n<style scoped>\n    .dataframe tbody tr th:only-of-type {\n        vertical-align: middle;\n    }\n\n    .dataframe tbody tr th {\n        vertical-align: top;\n    }\n\n    .dataframe thead th {\n        text-align: right;\n    }\n</style>\n<table border=\"1\" class=\"dataframe\">\n  <thead>\n    <tr style=\"text-align: right;\">\n      <th></th>\n      <th>open</th>\n      <th>high</th>\n      <th>low</th>\n      <th>close</th>\n      <th>volume</th>\n    </tr>\n    <tr>\n      <th>datetime</th>\n      <th></th>\n      <th></th>\n      <th></th>\n      <th></th>\n      <th></th>\n    </tr>\n  </thead>\n  <tbody>\n    <tr>\n      <th>2016-01-04 21:31:00</th>\n      <td>9932.5</td>\n      <td>10037.5</td>\n      <td>9662.5</td>\n      <td>10022.5</td>\n      <td>189633.0</td>\n    </tr>\n    <tr>\n      <th>2016-01-05 17:52:00</th>\n      <td>10022.5</td>\n      <td>10085.0</td>\n      <td>9812.5</td>\n      <td>9812.5</td>\n      <td>182662.0</td>\n    </tr>\n    <tr>\n      <th>2016-01-05 22:14:00</th>\n      <td>9812.5</td>\n      <td>10077.5</td>\n      <td>9812.5</td>\n      <td>9957.5</td>\n      <td>187911.0</td>\n    </tr>\n    <tr>\n      <th>2016-01-06 18:45:00</th>\n      <td>9957.5</td>\n      <td>10122.5</td>\n      <td>9552.5</td>\n      <td>9552.5</td>\n      <td>199601.0</td>\n    </tr>\n    <tr>\n      <th>2016-01-07 17:49:00</th>\n      <td>9552.5</td>\n      <td>9610.0</td>\n      <td>9190.0</td>\n      <td>9467.5</td>\n      <td>205291.0</td>\n    </tr>\n  </tbody>\n</table>\n</div>",
      "text/plain": "                        open     high     low    close    volume\ndatetime                                                        \n2016-01-04 21:31:00   9932.5  10037.5  9662.5  10022.5  189633.0\n2016-01-05 17:52:00  10022.5  10085.0  9812.5   9812.5  182662.0\n2016-01-05 22:14:00   9812.5  10077.5  9812.5   9957.5  187911.0\n2016-01-06 18:45:00   9957.5  10122.5  9552.5   9552.5  199601.0\n2016-01-07 17:49:00   9552.5   9610.0  9190.0   9467.5  205291.0"
     },
     "execution_count": 23,
     "metadata": {},
     "output_type": "execute_result"
    }
   ],
   "source": [
    "tick_df.head()"
   ]
  }
 ]
}