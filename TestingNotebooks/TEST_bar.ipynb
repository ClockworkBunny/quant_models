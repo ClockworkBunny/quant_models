{
 "nbformat": 4,
 "nbformat_minor": 2,
 "metadata": {
  "language_info": {
   "name": "python",
   "codemirror_mode": {
    "name": "ipython",
    "version": 3
   },
   "version": "3.7.0"
  },
  "orig_nbformat": 2,
  "file_extension": ".py",
  "mimetype": "text/x-python",
  "name": "python",
  "npconvert_exporter": "python",
  "pygments_lexer": "ipython3",
  "version": 3
 },
 "cells": [
  {
   "cell_type": "markdown",
   "execution_count": null,
   "metadata": {},
   "outputs": [],
   "source": [
    "## Ipython Notebooks for testing custombar\n",
    "\n",
    "1. resample\n",
    "2. daily vol counting\n",
    "3. timezone chagne\n",
    "4. filter"
   ]
  },
  {
   "cell_type": "code",
   "execution_count": 1,
   "metadata": {},
   "outputs": [],
   "source": [
    "import sys\n",
    "sys.path.append('E:\\\\git_folder\\\\quant_models')"
   ]
  },
  {
   "cell_type": "code",
   "execution_count": 2,
   "metadata": {},
   "outputs": [],
   "source": [
    "from custombar import TickBar, VolBar, DollarBar\n",
    "from custombar import Imbalance_Bar, Imbalance_Run_Bar"
   ]
  },
  {
   "cell_type": "markdown",
   "execution_count": null,
   "metadata": {},
   "outputs": [],
   "source": [
    "#### Data importing"
   ]
  },
  {
   "cell_type": "code",
   "execution_count": 3,
   "metadata": {},
   "outputs": [],
   "source": [
    "import pandas as pd\n",
    "data_fn = \"././data/xu1_1min.csv\"\n",
    "df_price = pd.read_csv(data_fn)"
   ]
  },
  {
   "cell_type": "code",
   "execution_count": 4,
   "metadata": {},
   "outputs": [
    {
     "data": {
      "text/html": "<div>\n<style scoped>\n    .dataframe tbody tr th:only-of-type {\n        vertical-align: middle;\n    }\n\n    .dataframe tbody tr th {\n        vertical-align: top;\n    }\n\n    .dataframe thead th {\n        text-align: right;\n    }\n</style>\n<table border=\"1\" class=\"dataframe\">\n  <thead>\n    <tr style=\"text-align: right;\">\n      <th></th>\n      <th>datetime</th>\n      <th>open</th>\n      <th>high</th>\n      <th>low</th>\n      <th>close</th>\n      <th>volume</th>\n    </tr>\n  </thead>\n  <tbody>\n    <tr>\n      <th>0</th>\n      <td>2014-06-27 00:47:00</td>\n      <td>6635.0</td>\n      <td>6635.0</td>\n      <td>6635.0</td>\n      <td>6635.0</td>\n      <td>1.0</td>\n    </tr>\n    <tr>\n      <th>1</th>\n      <td>2014-06-27 00:48:00</td>\n      <td>6630.0</td>\n      <td>6630.0</td>\n      <td>6625.0</td>\n      <td>6625.0</td>\n      <td>23.0</td>\n    </tr>\n    <tr>\n      <th>2</th>\n      <td>2014-06-27 00:50:00</td>\n      <td>6630.0</td>\n      <td>6630.0</td>\n      <td>6625.0</td>\n      <td>6625.0</td>\n      <td>44.0</td>\n    </tr>\n    <tr>\n      <th>3</th>\n      <td>2014-06-27 00:52:00</td>\n      <td>6630.0</td>\n      <td>6630.0</td>\n      <td>6630.0</td>\n      <td>6630.0</td>\n      <td>5.0</td>\n    </tr>\n    <tr>\n      <th>4</th>\n      <td>2014-06-27 00:55:00</td>\n      <td>6630.0</td>\n      <td>6630.0</td>\n      <td>6630.0</td>\n      <td>6630.0</td>\n      <td>12.0</td>\n    </tr>\n    <tr>\n      <th>1173478</th>\n      <td>2019-12-18 13:59:00</td>\n      <td>14270.0</td>\n      <td>14270.0</td>\n      <td>14265.0</td>\n      <td>14265.0</td>\n      <td>892.0</td>\n    </tr>\n    <tr>\n      <th>1173479</th>\n      <td>2019-12-18 14:00:00</td>\n      <td>14262.5</td>\n      <td>14262.5</td>\n      <td>14245.0</td>\n      <td>14250.0</td>\n      <td>1923.0</td>\n    </tr>\n    <tr>\n      <th>1173480</th>\n      <td>2019-12-18 14:01:00</td>\n      <td>14250.0</td>\n      <td>14255.0</td>\n      <td>14250.0</td>\n      <td>14255.0</td>\n      <td>348.0</td>\n    </tr>\n    <tr>\n      <th>1173481</th>\n      <td>2019-12-18 14:02:00</td>\n      <td>14252.5</td>\n      <td>14255.0</td>\n      <td>14247.5</td>\n      <td>14247.5</td>\n      <td>589.0</td>\n    </tr>\n    <tr>\n      <th>1173482</th>\n      <td>2019-12-18 14:03:00</td>\n      <td>14245.0</td>\n      <td>14252.5</td>\n      <td>14245.0</td>\n      <td>14247.5</td>\n      <td>334.0</td>\n    </tr>\n  </tbody>\n</table>\n</div>",
      "text/plain": "                    datetime     open     high      low    close  volume\n0        2014-06-27 00:47:00   6635.0   6635.0   6635.0   6635.0     1.0\n1        2014-06-27 00:48:00   6630.0   6630.0   6625.0   6625.0    23.0\n2        2014-06-27 00:50:00   6630.0   6630.0   6625.0   6625.0    44.0\n3        2014-06-27 00:52:00   6630.0   6630.0   6630.0   6630.0     5.0\n4        2014-06-27 00:55:00   6630.0   6630.0   6630.0   6630.0    12.0\n1173478  2019-12-18 13:59:00  14270.0  14270.0  14265.0  14265.0   892.0\n1173479  2019-12-18 14:00:00  14262.5  14262.5  14245.0  14250.0  1923.0\n1173480  2019-12-18 14:01:00  14250.0  14255.0  14250.0  14255.0   348.0\n1173481  2019-12-18 14:02:00  14252.5  14255.0  14247.5  14247.5   589.0\n1173482  2019-12-18 14:03:00  14245.0  14252.5  14245.0  14247.5   334.0"
     },
     "execution_count": 4,
     "metadata": {},
     "output_type": "execute_result"
    }
   ],
   "source": [
    "df_price.head().append(df_price.tail())"
   ]
  },
  {
   "cell_type": "code",
   "execution_count": 5,
   "metadata": {},
   "outputs": [
    {
     "data": {
      "text/html": "<div>\n<style scoped>\n    .dataframe tbody tr th:only-of-type {\n        vertical-align: middle;\n    }\n\n    .dataframe tbody tr th {\n        vertical-align: top;\n    }\n\n    .dataframe thead th {\n        text-align: right;\n    }\n</style>\n<table border=\"1\" class=\"dataframe\">\n  <thead>\n    <tr style=\"text-align: right;\">\n      <th></th>\n      <th>datetime</th>\n      <th>open</th>\n      <th>high</th>\n      <th>low</th>\n      <th>close</th>\n      <th>volume</th>\n    </tr>\n  </thead>\n  <tbody>\n    <tr>\n      <th>0</th>\n      <td>2014-06-27 00:47:00</td>\n      <td>6635.0</td>\n      <td>6635.0</td>\n      <td>6635.0</td>\n      <td>6635.0</td>\n      <td>1.0</td>\n    </tr>\n    <tr>\n      <th>1</th>\n      <td>2014-06-27 00:48:00</td>\n      <td>6630.0</td>\n      <td>6630.0</td>\n      <td>6625.0</td>\n      <td>6625.0</td>\n      <td>23.0</td>\n    </tr>\n    <tr>\n      <th>2</th>\n      <td>2014-06-27 00:50:00</td>\n      <td>6630.0</td>\n      <td>6630.0</td>\n      <td>6625.0</td>\n      <td>6625.0</td>\n      <td>44.0</td>\n    </tr>\n    <tr>\n      <th>3</th>\n      <td>2014-06-27 00:52:00</td>\n      <td>6630.0</td>\n      <td>6630.0</td>\n      <td>6630.0</td>\n      <td>6630.0</td>\n      <td>5.0</td>\n    </tr>\n    <tr>\n      <th>4</th>\n      <td>2014-06-27 00:55:00</td>\n      <td>6630.0</td>\n      <td>6630.0</td>\n      <td>6630.0</td>\n      <td>6630.0</td>\n      <td>12.0</td>\n    </tr>\n    <tr>\n      <th>5</th>\n      <td>2014-06-27 00:56:00</td>\n      <td>6635.0</td>\n      <td>6635.0</td>\n      <td>6635.0</td>\n      <td>6635.0</td>\n      <td>8.0</td>\n    </tr>\n    <tr>\n      <th>6</th>\n      <td>2014-06-27 00:57:00</td>\n      <td>6630.0</td>\n      <td>6630.0</td>\n      <td>6625.0</td>\n      <td>6630.0</td>\n      <td>9.0</td>\n    </tr>\n    <tr>\n      <th>7</th>\n      <td>2014-06-27 00:58:00</td>\n      <td>6635.0</td>\n      <td>6635.0</td>\n      <td>6635.0</td>\n      <td>6635.0</td>\n      <td>17.0</td>\n    </tr>\n    <tr>\n      <th>8</th>\n      <td>2014-06-27 01:04:00</td>\n      <td>6635.0</td>\n      <td>6640.0</td>\n      <td>6635.0</td>\n      <td>6640.0</td>\n      <td>140.0</td>\n    </tr>\n    <tr>\n      <th>9</th>\n      <td>2014-06-27 01:05:00</td>\n      <td>6635.0</td>\n      <td>6640.0</td>\n      <td>6635.0</td>\n      <td>6640.0</td>\n      <td>15.0</td>\n    </tr>\n    <tr>\n      <th>10</th>\n      <td>2014-06-27 01:06:00</td>\n      <td>6630.0</td>\n      <td>6630.0</td>\n      <td>6630.0</td>\n      <td>6630.0</td>\n      <td>2.0</td>\n    </tr>\n    <tr>\n      <th>11</th>\n      <td>2014-06-27 01:11:00</td>\n      <td>6635.0</td>\n      <td>6635.0</td>\n      <td>6635.0</td>\n      <td>6635.0</td>\n      <td>4.0</td>\n    </tr>\n    <tr>\n      <th>12</th>\n      <td>2014-06-27 01:14:00</td>\n      <td>6635.0</td>\n      <td>6635.0</td>\n      <td>6635.0</td>\n      <td>6635.0</td>\n      <td>474.0</td>\n    </tr>\n    <tr>\n      <th>13</th>\n      <td>2014-06-27 01:19:00</td>\n      <td>6635.0</td>\n      <td>6635.0</td>\n      <td>6635.0</td>\n      <td>6635.0</td>\n      <td>50.0</td>\n    </tr>\n    <tr>\n      <th>14</th>\n      <td>2014-06-27 01:21:00</td>\n      <td>6635.0</td>\n      <td>6635.0</td>\n      <td>6635.0</td>\n      <td>6635.0</td>\n      <td>50.0</td>\n    </tr>\n    <tr>\n      <th>15</th>\n      <td>2014-06-27 01:29:00</td>\n      <td>6635.0</td>\n      <td>6635.0</td>\n      <td>6635.0</td>\n      <td>6635.0</td>\n      <td>18.0</td>\n    </tr>\n    <tr>\n      <th>16</th>\n      <td>2014-06-27 01:38:00</td>\n      <td>6635.0</td>\n      <td>6635.0</td>\n      <td>6635.0</td>\n      <td>6635.0</td>\n      <td>13.0</td>\n    </tr>\n    <tr>\n      <th>17</th>\n      <td>2014-06-27 01:43:00</td>\n      <td>6630.0</td>\n      <td>6630.0</td>\n      <td>6630.0</td>\n      <td>6630.0</td>\n      <td>7.0</td>\n    </tr>\n    <tr>\n      <th>18</th>\n      <td>2014-06-27 01:53:00</td>\n      <td>6630.0</td>\n      <td>6630.0</td>\n      <td>6630.0</td>\n      <td>6630.0</td>\n      <td>1.0</td>\n    </tr>\n    <tr>\n      <th>19</th>\n      <td>2014-06-27 02:02:00</td>\n      <td>6630.0</td>\n      <td>6630.0</td>\n      <td>6630.0</td>\n      <td>6630.0</td>\n      <td>19.0</td>\n    </tr>\n    <tr>\n      <th>20</th>\n      <td>2014-06-27 02:03:00</td>\n      <td>6630.0</td>\n      <td>6630.0</td>\n      <td>6630.0</td>\n      <td>6630.0</td>\n      <td>7.0</td>\n    </tr>\n    <tr>\n      <th>21</th>\n      <td>2014-06-27 02:04:00</td>\n      <td>6625.0</td>\n      <td>6625.0</td>\n      <td>6625.0</td>\n      <td>6625.0</td>\n      <td>3.0</td>\n    </tr>\n    <tr>\n      <th>22</th>\n      <td>2014-06-27 02:05:00</td>\n      <td>6625.0</td>\n      <td>6630.0</td>\n      <td>6625.0</td>\n      <td>6630.0</td>\n      <td>6.0</td>\n    </tr>\n    <tr>\n      <th>23</th>\n      <td>2014-06-27 02:07:00</td>\n      <td>6630.0</td>\n      <td>6630.0</td>\n      <td>6630.0</td>\n      <td>6630.0</td>\n      <td>2.0</td>\n    </tr>\n    <tr>\n      <th>24</th>\n      <td>2014-06-27 02:10:00</td>\n      <td>6625.0</td>\n      <td>6625.0</td>\n      <td>6625.0</td>\n      <td>6625.0</td>\n      <td>82.0</td>\n    </tr>\n    <tr>\n      <th>25</th>\n      <td>2014-06-27 02:17:00</td>\n      <td>6625.0</td>\n      <td>6625.0</td>\n      <td>6625.0</td>\n      <td>6625.0</td>\n      <td>1.0</td>\n    </tr>\n    <tr>\n      <th>26</th>\n      <td>2014-06-27 02:23:00</td>\n      <td>6625.0</td>\n      <td>6625.0</td>\n      <td>6625.0</td>\n      <td>6625.0</td>\n      <td>18.0</td>\n    </tr>\n    <tr>\n      <th>27</th>\n      <td>2014-06-27 02:27:00</td>\n      <td>6625.0</td>\n      <td>6625.0</td>\n      <td>6625.0</td>\n      <td>6625.0</td>\n      <td>1.0</td>\n    </tr>\n    <tr>\n      <th>28</th>\n      <td>2014-06-27 02:53:00</td>\n      <td>6625.0</td>\n      <td>6625.0</td>\n      <td>6625.0</td>\n      <td>6625.0</td>\n      <td>4.0</td>\n    </tr>\n    <tr>\n      <th>29</th>\n      <td>2014-06-27 02:58:00</td>\n      <td>6625.0</td>\n      <td>6625.0</td>\n      <td>6625.0</td>\n      <td>6625.0</td>\n      <td>1.0</td>\n    </tr>\n    <tr>\n      <th>...</th>\n      <td>...</td>\n      <td>...</td>\n      <td>...</td>\n      <td>...</td>\n      <td>...</td>\n      <td>...</td>\n    </tr>\n    <tr>\n      <th>70</th>\n      <td>2014-06-27 08:10:00</td>\n      <td>6630.0</td>\n      <td>6630.0</td>\n      <td>6630.0</td>\n      <td>6630.0</td>\n      <td>18.0</td>\n    </tr>\n    <tr>\n      <th>71</th>\n      <td>2014-06-27 08:23:00</td>\n      <td>6630.0</td>\n      <td>6630.0</td>\n      <td>6630.0</td>\n      <td>6630.0</td>\n      <td>3.0</td>\n    </tr>\n    <tr>\n      <th>72</th>\n      <td>2014-06-27 08:24:00</td>\n      <td>6635.0</td>\n      <td>6635.0</td>\n      <td>6635.0</td>\n      <td>6635.0</td>\n      <td>1.0</td>\n    </tr>\n    <tr>\n      <th>73</th>\n      <td>2014-06-27 08:31:00</td>\n      <td>6635.0</td>\n      <td>6635.0</td>\n      <td>6635.0</td>\n      <td>6635.0</td>\n      <td>15.0</td>\n    </tr>\n    <tr>\n      <th>74</th>\n      <td>2014-06-27 08:32:00</td>\n      <td>6635.0</td>\n      <td>6635.0</td>\n      <td>6635.0</td>\n      <td>6635.0</td>\n      <td>5.0</td>\n    </tr>\n    <tr>\n      <th>75</th>\n      <td>2014-06-27 08:34:00</td>\n      <td>6630.0</td>\n      <td>6630.0</td>\n      <td>6630.0</td>\n      <td>6630.0</td>\n      <td>3.0</td>\n    </tr>\n    <tr>\n      <th>76</th>\n      <td>2014-06-27 08:35:00</td>\n      <td>6630.0</td>\n      <td>6630.0</td>\n      <td>6630.0</td>\n      <td>6630.0</td>\n      <td>10.0</td>\n    </tr>\n    <tr>\n      <th>77</th>\n      <td>2014-06-27 08:53:00</td>\n      <td>6630.0</td>\n      <td>6630.0</td>\n      <td>6630.0</td>\n      <td>6630.0</td>\n      <td>30.0</td>\n    </tr>\n    <tr>\n      <th>78</th>\n      <td>2014-06-27 09:47:00</td>\n      <td>6630.0</td>\n      <td>6630.0</td>\n      <td>6630.0</td>\n      <td>6630.0</td>\n      <td>6.0</td>\n    </tr>\n    <tr>\n      <th>79</th>\n      <td>2014-06-27 09:59:00</td>\n      <td>6630.0</td>\n      <td>6630.0</td>\n      <td>6625.0</td>\n      <td>6625.0</td>\n      <td>12.0</td>\n    </tr>\n    <tr>\n      <th>80</th>\n      <td>2014-06-27 17:00:00</td>\n      <td>6635.0</td>\n      <td>6635.0</td>\n      <td>6635.0</td>\n      <td>6635.0</td>\n      <td>551.0</td>\n    </tr>\n    <tr>\n      <th>81</th>\n      <td>2014-06-27 17:01:00</td>\n      <td>6635.0</td>\n      <td>6635.0</td>\n      <td>6635.0</td>\n      <td>6635.0</td>\n      <td>26.0</td>\n    </tr>\n    <tr>\n      <th>82</th>\n      <td>2014-06-27 17:02:00</td>\n      <td>6635.0</td>\n      <td>6635.0</td>\n      <td>6635.0</td>\n      <td>6635.0</td>\n      <td>19.0</td>\n    </tr>\n    <tr>\n      <th>83</th>\n      <td>2014-06-27 17:03:00</td>\n      <td>6635.0</td>\n      <td>6635.0</td>\n      <td>6635.0</td>\n      <td>6635.0</td>\n      <td>1.0</td>\n    </tr>\n    <tr>\n      <th>84</th>\n      <td>2014-06-27 17:04:00</td>\n      <td>6635.0</td>\n      <td>6640.0</td>\n      <td>6635.0</td>\n      <td>6640.0</td>\n      <td>40.0</td>\n    </tr>\n    <tr>\n      <th>85</th>\n      <td>2014-06-27 17:05:00</td>\n      <td>6640.0</td>\n      <td>6640.0</td>\n      <td>6640.0</td>\n      <td>6640.0</td>\n      <td>351.0</td>\n    </tr>\n    <tr>\n      <th>86</th>\n      <td>2014-06-27 17:06:00</td>\n      <td>6640.0</td>\n      <td>6640.0</td>\n      <td>6640.0</td>\n      <td>6640.0</td>\n      <td>23.0</td>\n    </tr>\n    <tr>\n      <th>87</th>\n      <td>2014-06-27 17:07:00</td>\n      <td>6640.0</td>\n      <td>6640.0</td>\n      <td>6640.0</td>\n      <td>6640.0</td>\n      <td>43.0</td>\n    </tr>\n    <tr>\n      <th>88</th>\n      <td>2014-06-27 17:08:00</td>\n      <td>6635.0</td>\n      <td>6635.0</td>\n      <td>6635.0</td>\n      <td>6635.0</td>\n      <td>7.0</td>\n    </tr>\n    <tr>\n      <th>89</th>\n      <td>2014-06-27 17:09:00</td>\n      <td>6635.0</td>\n      <td>6635.0</td>\n      <td>6635.0</td>\n      <td>6635.0</td>\n      <td>39.0</td>\n    </tr>\n    <tr>\n      <th>90</th>\n      <td>2014-06-27 17:10:00</td>\n      <td>6630.0</td>\n      <td>6635.0</td>\n      <td>6630.0</td>\n      <td>6635.0</td>\n      <td>77.0</td>\n    </tr>\n    <tr>\n      <th>91</th>\n      <td>2014-06-27 17:11:00</td>\n      <td>6630.0</td>\n      <td>6635.0</td>\n      <td>6630.0</td>\n      <td>6635.0</td>\n      <td>27.0</td>\n    </tr>\n    <tr>\n      <th>92</th>\n      <td>2014-06-27 17:12:00</td>\n      <td>6635.0</td>\n      <td>6635.0</td>\n      <td>6635.0</td>\n      <td>6635.0</td>\n      <td>27.0</td>\n    </tr>\n    <tr>\n      <th>93</th>\n      <td>2014-06-27 17:13:00</td>\n      <td>6635.0</td>\n      <td>6635.0</td>\n      <td>6630.0</td>\n      <td>6630.0</td>\n      <td>105.0</td>\n    </tr>\n    <tr>\n      <th>94</th>\n      <td>2014-06-27 17:14:00</td>\n      <td>6630.0</td>\n      <td>6630.0</td>\n      <td>6615.0</td>\n      <td>6615.0</td>\n      <td>76.0</td>\n    </tr>\n    <tr>\n      <th>95</th>\n      <td>2014-06-27 17:15:00</td>\n      <td>6615.0</td>\n      <td>6620.0</td>\n      <td>6605.0</td>\n      <td>6620.0</td>\n      <td>581.0</td>\n    </tr>\n    <tr>\n      <th>96</th>\n      <td>2014-06-27 17:16:00</td>\n      <td>6620.0</td>\n      <td>6625.0</td>\n      <td>6620.0</td>\n      <td>6625.0</td>\n      <td>308.0</td>\n    </tr>\n    <tr>\n      <th>97</th>\n      <td>2014-06-27 17:17:00</td>\n      <td>6625.0</td>\n      <td>6630.0</td>\n      <td>6625.0</td>\n      <td>6630.0</td>\n      <td>600.0</td>\n    </tr>\n    <tr>\n      <th>98</th>\n      <td>2014-06-27 17:18:00</td>\n      <td>6630.0</td>\n      <td>6630.0</td>\n      <td>6625.0</td>\n      <td>6625.0</td>\n      <td>33.0</td>\n    </tr>\n    <tr>\n      <th>99</th>\n      <td>2014-06-27 17:19:00</td>\n      <td>6630.0</td>\n      <td>6630.0</td>\n      <td>6625.0</td>\n      <td>6630.0</td>\n      <td>77.0</td>\n    </tr>\n  </tbody>\n</table>\n<p>100 rows × 6 columns</p>\n</div>",
      "text/plain": "               datetime    open    high     low   close  volume\n0   2014-06-27 00:47:00  6635.0  6635.0  6635.0  6635.0     1.0\n1   2014-06-27 00:48:00  6630.0  6630.0  6625.0  6625.0    23.0\n2   2014-06-27 00:50:00  6630.0  6630.0  6625.0  6625.0    44.0\n3   2014-06-27 00:52:00  6630.0  6630.0  6630.0  6630.0     5.0\n4   2014-06-27 00:55:00  6630.0  6630.0  6630.0  6630.0    12.0\n5   2014-06-27 00:56:00  6635.0  6635.0  6635.0  6635.0     8.0\n6   2014-06-27 00:57:00  6630.0  6630.0  6625.0  6630.0     9.0\n7   2014-06-27 00:58:00  6635.0  6635.0  6635.0  6635.0    17.0\n8   2014-06-27 01:04:00  6635.0  6640.0  6635.0  6640.0   140.0\n9   2014-06-27 01:05:00  6635.0  6640.0  6635.0  6640.0    15.0\n10  2014-06-27 01:06:00  6630.0  6630.0  6630.0  6630.0     2.0\n11  2014-06-27 01:11:00  6635.0  6635.0  6635.0  6635.0     4.0\n12  2014-06-27 01:14:00  6635.0  6635.0  6635.0  6635.0   474.0\n13  2014-06-27 01:19:00  6635.0  6635.0  6635.0  6635.0    50.0\n14  2014-06-27 01:21:00  6635.0  6635.0  6635.0  6635.0    50.0\n15  2014-06-27 01:29:00  6635.0  6635.0  6635.0  6635.0    18.0\n16  2014-06-27 01:38:00  6635.0  6635.0  6635.0  6635.0    13.0\n17  2014-06-27 01:43:00  6630.0  6630.0  6630.0  6630.0     7.0\n18  2014-06-27 01:53:00  6630.0  6630.0  6630.0  6630.0     1.0\n19  2014-06-27 02:02:00  6630.0  6630.0  6630.0  6630.0    19.0\n20  2014-06-27 02:03:00  6630.0  6630.0  6630.0  6630.0     7.0\n21  2014-06-27 02:04:00  6625.0  6625.0  6625.0  6625.0     3.0\n22  2014-06-27 02:05:00  6625.0  6630.0  6625.0  6630.0     6.0\n23  2014-06-27 02:07:00  6630.0  6630.0  6630.0  6630.0     2.0\n24  2014-06-27 02:10:00  6625.0  6625.0  6625.0  6625.0    82.0\n25  2014-06-27 02:17:00  6625.0  6625.0  6625.0  6625.0     1.0\n26  2014-06-27 02:23:00  6625.0  6625.0  6625.0  6625.0    18.0\n27  2014-06-27 02:27:00  6625.0  6625.0  6625.0  6625.0     1.0\n28  2014-06-27 02:53:00  6625.0  6625.0  6625.0  6625.0     4.0\n29  2014-06-27 02:58:00  6625.0  6625.0  6625.0  6625.0     1.0\n..                  ...     ...     ...     ...     ...     ...\n70  2014-06-27 08:10:00  6630.0  6630.0  6630.0  6630.0    18.0\n71  2014-06-27 08:23:00  6630.0  6630.0  6630.0  6630.0     3.0\n72  2014-06-27 08:24:00  6635.0  6635.0  6635.0  6635.0     1.0\n73  2014-06-27 08:31:00  6635.0  6635.0  6635.0  6635.0    15.0\n74  2014-06-27 08:32:00  6635.0  6635.0  6635.0  6635.0     5.0\n75  2014-06-27 08:34:00  6630.0  6630.0  6630.0  6630.0     3.0\n76  2014-06-27 08:35:00  6630.0  6630.0  6630.0  6630.0    10.0\n77  2014-06-27 08:53:00  6630.0  6630.0  6630.0  6630.0    30.0\n78  2014-06-27 09:47:00  6630.0  6630.0  6630.0  6630.0     6.0\n79  2014-06-27 09:59:00  6630.0  6630.0  6625.0  6625.0    12.0\n80  2014-06-27 17:00:00  6635.0  6635.0  6635.0  6635.0   551.0\n81  2014-06-27 17:01:00  6635.0  6635.0  6635.0  6635.0    26.0\n82  2014-06-27 17:02:00  6635.0  6635.0  6635.0  6635.0    19.0\n83  2014-06-27 17:03:00  6635.0  6635.0  6635.0  6635.0     1.0\n84  2014-06-27 17:04:00  6635.0  6640.0  6635.0  6640.0    40.0\n85  2014-06-27 17:05:00  6640.0  6640.0  6640.0  6640.0   351.0\n86  2014-06-27 17:06:00  6640.0  6640.0  6640.0  6640.0    23.0\n87  2014-06-27 17:07:00  6640.0  6640.0  6640.0  6640.0    43.0\n88  2014-06-27 17:08:00  6635.0  6635.0  6635.0  6635.0     7.0\n89  2014-06-27 17:09:00  6635.0  6635.0  6635.0  6635.0    39.0\n90  2014-06-27 17:10:00  6630.0  6635.0  6630.0  6635.0    77.0\n91  2014-06-27 17:11:00  6630.0  6635.0  6630.0  6635.0    27.0\n92  2014-06-27 17:12:00  6635.0  6635.0  6635.0  6635.0    27.0\n93  2014-06-27 17:13:00  6635.0  6635.0  6630.0  6630.0   105.0\n94  2014-06-27 17:14:00  6630.0  6630.0  6615.0  6615.0    76.0\n95  2014-06-27 17:15:00  6615.0  6620.0  6605.0  6620.0   581.0\n96  2014-06-27 17:16:00  6620.0  6625.0  6620.0  6625.0   308.0\n97  2014-06-27 17:17:00  6625.0  6630.0  6625.0  6630.0   600.0\n98  2014-06-27 17:18:00  6630.0  6630.0  6625.0  6625.0    33.0\n99  2014-06-27 17:19:00  6630.0  6630.0  6625.0  6630.0    77.0\n\n[100 rows x 6 columns]"
     },
     "execution_count": 5,
     "metadata": {},
     "output_type": "execute_result"
    }
   ],
   "source": [
    "df_price.head(100)"
   ]
  },
  {
   "cell_type": "code",
   "execution_count": 6,
   "metadata": {},
   "outputs": [],
   "source": [
    "test_df = df_price.copy()\n",
    "test_df.loc[:,'datetime'] = pd.to_datetime(test_df.datetime)\n",
    "test_df.set_index('datetime', inplace=True)\n",
    "test_df = test_df.loc[test_df.index > pd.to_datetime(\"2016-01-01\"),:]"
   ]
  },
  {
   "cell_type": "code",
   "execution_count": 7,
   "metadata": {},
   "outputs": [
    {
     "data": {
      "text/html": "<div>\n<style scoped>\n    .dataframe tbody tr th:only-of-type {\n        vertical-align: middle;\n    }\n\n    .dataframe tbody tr th {\n        vertical-align: top;\n    }\n\n    .dataframe thead th {\n        text-align: right;\n    }\n</style>\n<table border=\"1\" class=\"dataframe\">\n  <thead>\n    <tr style=\"text-align: right;\">\n      <th></th>\n      <th>open</th>\n      <th>high</th>\n      <th>low</th>\n      <th>close</th>\n      <th>volume</th>\n    </tr>\n    <tr>\n      <th>datetime</th>\n      <th></th>\n      <th></th>\n      <th></th>\n      <th></th>\n      <th></th>\n    </tr>\n  </thead>\n  <tbody>\n    <tr>\n      <th>2016-01-04 17:00:00</th>\n      <td>10460.0</td>\n      <td>10485.0</td>\n      <td>10460.0</td>\n      <td>10470.0</td>\n      <td>443.0</td>\n    </tr>\n    <tr>\n      <th>2016-01-04 17:01:00</th>\n      <td>10472.5</td>\n      <td>10472.5</td>\n      <td>10467.5</td>\n      <td>10472.5</td>\n      <td>160.0</td>\n    </tr>\n    <tr>\n      <th>2016-01-04 17:02:00</th>\n      <td>10470.0</td>\n      <td>10470.0</td>\n      <td>10455.0</td>\n      <td>10460.0</td>\n      <td>242.0</td>\n    </tr>\n    <tr>\n      <th>2016-01-04 17:03:00</th>\n      <td>10457.5</td>\n      <td>10460.0</td>\n      <td>10435.0</td>\n      <td>10435.0</td>\n      <td>344.0</td>\n    </tr>\n    <tr>\n      <th>2016-01-04 17:04:00</th>\n      <td>10432.5</td>\n      <td>10450.0</td>\n      <td>10432.5</td>\n      <td>10435.0</td>\n      <td>497.0</td>\n    </tr>\n  </tbody>\n</table>\n</div>",
      "text/plain": "                        open     high      low    close  volume\ndatetime                                                       \n2016-01-04 17:00:00  10460.0  10485.0  10460.0  10470.0   443.0\n2016-01-04 17:01:00  10472.5  10472.5  10467.5  10472.5   160.0\n2016-01-04 17:02:00  10470.0  10470.0  10455.0  10460.0   242.0\n2016-01-04 17:03:00  10457.5  10460.0  10435.0  10435.0   344.0\n2016-01-04 17:04:00  10432.5  10450.0  10432.5  10435.0   497.0"
     },
     "execution_count": 7,
     "metadata": {},
     "output_type": "execute_result"
    }
   ],
   "source": [
    "test_df.head()"
   ]
  },
  {
   "cell_type": "markdown",
   "execution_count": null,
   "metadata": {},
   "outputs": [],
   "source": [
    "#### Testing the Volume Bar Function"
   ]
  },
  {
   "cell_type": "code",
   "execution_count": 0,
   "metadata": {},
   "outputs": [],
   "source": [
    "newdf.head(10)"
   ]
  }
 ]
}