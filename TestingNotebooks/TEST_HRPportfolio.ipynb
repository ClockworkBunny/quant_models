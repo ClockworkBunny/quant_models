{
 "cells": [
  {
   "cell_type": "markdown",
   "execution_count": null,
   "metadata": {},
   "outputs": [],
   "source": [
    "##  Part 1: Prepare Data"
   ]
  },
  {
   "cell_type": "code",
   "execution_count": 1,
   "metadata": {},
   "outputs": [],
   "source": [
    "import sys\n",
    "sys.path.append('E:\\\\git_folder\\\\quant_models')\n",
    "import warnings\n",
    "warnings.filterwarnings('ignore')\n",
    "\n",
    "import numpy as np\n",
    "import pandas as pd\n",
    "import os\n",
    "\n",
    "import random\n",
    "import matplotlib.pylab as plt"
   ]
  },
  {
   "cell_type": "code",
   "execution_count": 2,
   "metadata": {},
   "outputs": [],
   "source": [
    "N_ASSETS = 50 # 53\n",
    "WINDOW_FIT = 50\n",
    "WINDOW_HOLD = 10"
   ]
  },
  {
   "cell_type": "code",
   "execution_count": 3,
   "metadata": {},
   "outputs": [
    {
     "name": "stdout",
     "output_type": "stream",
     "text": "600585 SS T1440  601186 SS T1440  000338 SZ T1440  \\\ndatetime                                                        \n2012-01-05        12.121150         3.199641         5.200315   \n2012-01-06        11.845547         3.173823         5.231768   \n\n            600000 SS T1440  600104 SS T1440  000651 SZ T1440  \\\ndatetime                                                        \n2012-01-05         4.535425         9.543096         6.377904   \n2012-01-06         4.549730         9.362336         6.197429   \n\n            300142 SZ T1440  300003 SZ T1440  600606 SS T1440  \\\ndatetime                                                        \n2012-01-05         4.218003         6.119213         3.641050   \n2012-01-06         4.109909         6.148420         3.538664   \n\n            601288 SS T1440  ...  600900 SS T1440  002138 SZ T1440  \\\ndatetime                     ...                                     \n2012-01-05         1.724968  ...         4.688475         4.261747   \n2012-01-06         1.732618  ...         4.663865         4.286783   \n\n            300166 SZ T1440  600887 SS T1440  601166 SS T1440  \\\ndatetime                                                        \n2012-01-05         3.351367         5.396214         6.315697   \n2012-01-06         3.194520         5.446059         6.300016   \n\n            600176 SS T1440  600036 SS T1440  601169 SS T1440  \\\ndatetime                                                        \n2012-01-05         2.282695         8.559984         2.898077   \n2012-01-06         2.188641         8.551348         2.883872   \n\n            600535 SS T1440  601006 SS T1440  \ndatetime                                      \n2012-01-05        12.483671         4.857044  \n2012-01-06        12.337192         4.896018  \n\n[2 rows x 50 columns]\n"
    }
   ],
   "source": [
    "import pandas as pd\n",
    "from util.utils import get_daily_vol, sample_df, filter_df_time\n",
    "data_fn = \"././data/CNA_portfolio.csv\"\n",
    "df_pnl = pd.read_csv(data_fn)\n",
    "test_df = df_pnl.copy()\n",
    "test_df.rename(columns={'Date':'datetime'}, inplace=True)\n",
    "test_df.loc[:,'datetime'] = pd.to_datetime(test_df.datetime)\n",
    "test_df.set_index('datetime', inplace=True)\n",
    "arr = np.arange(test_df.shape[1])\n",
    "np.random.shuffle(arr)\n",
    "cols_selected = arr[:N_ASSETS]\n",
    "test_df = test_df.iloc[:,cols_selected]\n",
    "print(test_df.head(2))"
   ]
  },
  {
   "cell_type": "markdown",
   "execution_count": 26,
   "metadata": {},
   "outputs": [],
   "source": [
    "##  Part 2: Apply the portfolio adjusting method"
   ]
  },
  {
   "cell_type": "code",
   "execution_count": 14,
   "metadata": {},
   "outputs": [],
   "source": [
    "from portfolio.optimize import HRPOpt, AutoencoderOpt"
   ]
  },
  {
   "cell_type": "code",
   "execution_count": 15,
   "metadata": {},
   "outputs": [],
   "source": [
    "from portfolio.environment import EquityEnvironment"
   ]
  },
  {
   "cell_type": "code",
   "execution_count": 16,
   "metadata": {},
   "outputs": [],
   "source": [
    "hrp_algo = HRPOpt(N_ASSETS, allow_short=False)\n",
    "ae_algo  = AutoencoderOpt(N_ASSETS, allow_short=False)\n",
    "env = EquityEnvironment(test_df)"
   ]
  },
  {
   "cell_type": "code",
   "execution_count": 17,
   "metadata": {},
   "outputs": [],
   "source": [
    "used_agen = ae_algo"
   ]
  },
  {
   "cell_type": "code",
   "execution_count": 1,
   "metadata": {},
   "outputs": [
    {
     "ename": "NameError",
     "evalue": "name 'WINDOW_FIT' is not defined",
     "output_type": "error",
     "traceback": [
      "\u001b[1;31m---------------------------------------------------------------------------\u001b[0m",
      "\u001b[1;31mNameError\u001b[0m                                 Traceback (most recent call last)",
      "\u001b[1;32m<ipython-input-1-7ed1d4fec13f>\u001b[0m in \u001b[0;36m<module>\u001b[1;34m()\u001b[0m\n\u001b[0;32m      1\u001b[0m \u001b[0mresult_equal\u001b[0m\u001b[1;33m,\u001b[0m \u001b[0mresult_agent\u001b[0m   \u001b[1;33m=\u001b[0m \u001b[1;33m[\u001b[0m\u001b[1;33m]\u001b[0m\u001b[1;33m,\u001b[0m  \u001b[1;33m[\u001b[0m\u001b[1;33m]\u001b[0m\u001b[1;33m\u001b[0m\u001b[0m\n\u001b[0;32m      2\u001b[0m \u001b[0mactions_equal\u001b[0m\u001b[1;33m,\u001b[0m \u001b[0mactions_agent\u001b[0m \u001b[1;33m=\u001b[0m \u001b[1;33m[\u001b[0m\u001b[1;33m]\u001b[0m\u001b[1;33m,\u001b[0m \u001b[1;33m[\u001b[0m\u001b[1;33m]\u001b[0m\u001b[1;33m\u001b[0m\u001b[0m\n\u001b[1;32m----> 3\u001b[1;33m \u001b[1;32mfor\u001b[0m \u001b[0mi\u001b[0m \u001b[1;32min\u001b[0m \u001b[0mrange\u001b[0m\u001b[1;33m(\u001b[0m\u001b[0mWINDOW_FIT\u001b[0m\u001b[1;33m,\u001b[0m \u001b[0mlen\u001b[0m\u001b[1;33m(\u001b[0m\u001b[0mtest_df\u001b[0m\u001b[1;33m)\u001b[0m\u001b[1;33m,\u001b[0m \u001b[0mWINDOW_HOLD\u001b[0m\u001b[1;33m)\u001b[0m\u001b[1;33m:\u001b[0m\u001b[1;33m\u001b[0m\u001b[0m\n\u001b[0m\u001b[0;32m      4\u001b[0m     \u001b[0mstate\u001b[0m\u001b[1;33m,\u001b[0m \u001b[0mremove_cols\u001b[0m \u001b[1;33m=\u001b[0m \u001b[0menv\u001b[0m\u001b[1;33m.\u001b[0m\u001b[0mget_state\u001b[0m\u001b[1;33m(\u001b[0m\u001b[0mi\u001b[0m\u001b[1;33m,\u001b[0m \u001b[0mWINDOW_FIT\u001b[0m\u001b[1;33m,\u001b[0m \u001b[0mis_cov_matrix\u001b[0m\u001b[1;33m=\u001b[0m\u001b[1;32mFalse\u001b[0m\u001b[1;33m)\u001b[0m\u001b[1;33m\u001b[0m\u001b[0m\n\u001b[0;32m      5\u001b[0m     \u001b[0maction_equal\u001b[0m \u001b[1;33m=\u001b[0m \u001b[0mnp\u001b[0m\u001b[1;33m.\u001b[0m\u001b[0mones\u001b[0m\u001b[1;33m(\u001b[0m\u001b[0mN_ASSETS\u001b[0m\u001b[1;33m)\u001b[0m \u001b[1;33m/\u001b[0m \u001b[0mN_ASSETS\u001b[0m\u001b[1;33m\u001b[0m\u001b[0m\n",
      "\u001b[1;31mNameError\u001b[0m: name 'WINDOW_FIT' is not defined"
     ]
    }
   ],
   "source": [
    "result_equal, result_agent   = [],  [] \n",
    "actions_equal, actions_agent = [], []\n",
    "for i in range(WINDOW_FIT, len(test_df), WINDOW_HOLD):\n",
    "    state, remove_cols = env.get_state(i, WINDOW_FIT, is_cov_matrix=False)\n",
    "    action_equal = np.ones(N_ASSETS) / N_ASSETS\n",
    "    action_hrp = used_agen.act(state, state.shape[1])\n",
    "    state_action, _ = env.get_state(i+WINDOW_HOLD, WINDOW_HOLD, is_cov_matrix=False, is_fit=False)\n",
    "    if remove_cols:\n",
    "        action_equal = np.ones(state.shape[1]) / state.shape[1]\n",
    "        state_action = state_action.loc[:, state.columns]\n",
    "    r = np.dot(state_action, action_equal)\n",
    "    result_equal.append(r.tolist())\n",
    "    actions_equal.append(action_equal)\n",
    "    r = np.dot(state_action, action_hrp)\n",
    "    result_agent.append(r.tolist())\n",
    "    actions_agent.append(action_hrp)"
   ]
  },
  {
   "cell_type": "markdown",
   "execution_count": null,
   "metadata": {},
   "outputs": [],
   "source": [
    "##  Part 3: Visualizing the Results of Portofolio"
   ]
  },
  {
   "cell_type": "code",
   "execution_count": 0,
   "metadata": {},
   "outputs": [],
   "source": [
    "result_equal_vis = [item for sublist in result_equal for item in sublist]\n",
    "result_hrp_vis = [item for sublist in result_hrp for item in sublist]"
   ]
  },
  {
   "cell_type": "code",
   "execution_count": 0,
   "metadata": {},
   "outputs": [],
   "source": [
    "plt.figure(figsize = (12, 3))\n",
    "plt.plot(np.array(result_equal_vis).cumsum(), label = 'Benchmark', color = 'black')\n",
    "plt.plot(np.array(result_hrp_vis).cumsum(), label = 'HRP', color = 'red')\n",
    "# plt.plot(np.array(result_smooth_vis).cumsum(), label = 'Forecasting', color = 'blue')\n",
    "plt.legend()\n",
    "plt.show()"
   ]
  },
  {
   "cell_type": "code",
   "execution_count": 0,
   "metadata": {},
   "outputs": [],
   "source": [
    "from util.metrics import sharpe_iid\n",
    "print(sharpe_iid(np.array(result_equal_vis), factor=255, log=False))\n",
    "print(sharpe_iid(np.array(result_hrp_vis), factor=255, log=False))\n"
   ]
  },
  {
   "cell_type": "code",
   "execution_count": 0,
   "metadata": {},
   "outputs": [],
   "source": [
    "plt.figure(figsize = (12, 3))\n",
    "for a in actions_hrp:\n",
    "    asset_local = len(a)    \n",
    "    plt.bar(np.arange(asset_local), a, color = 'grey', alpha = 0.25)\n",
    "    plt.xticks(np.arange(asset_local), a.index, rotation='vertical')\n",
    "plt.show()"
   ]
  },
  {
   "cell_type": "code",
   "execution_count": 0,
   "metadata": {},
   "outputs": [],
   "source": [
    "actions_hrp[0].head()"
   ]
  }
 ],
 "metadata": {
  "kernelspec": {
   "display_name": "Python 3",
   "language": "python",
   "name": "python3"
  },
  "language_info": {
   "codemirror_mode": {
    "name": "ipython",
    "version": 3
   },
   "file_extension": ".py",
   "mimetype": "text/x-python",
   "name": "python",
   "nbconvert_exporter": "python",
   "pygments_lexer": "ipython3",
   "version": "3.7.0"
  }
 },
 "nbformat": 4,
 "nbformat_minor": 2
}