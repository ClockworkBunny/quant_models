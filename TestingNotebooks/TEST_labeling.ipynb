{
 "nbformat": 4,
 "nbformat_minor": 2,
 "metadata": {
  "language_info": {
   "name": "python",
   "codemirror_mode": {
    "name": "ipython",
    "version": 3
   },
   "version": "3.7.0"
  },
  "orig_nbformat": 2,
  "file_extension": ".py",
  "mimetype": "text/x-python",
  "name": "python",
  "npconvert_exporter": "python",
  "pygments_lexer": "ipython3",
  "version": 3
 },
 "cells": [
  {
   "cell_type": "markdown",
   "execution_count": null,
   "metadata": {},
   "outputs": [],
   "source": [
    "## Ipython Notebooks For Triple-Bar\n",
    "\n",
    "Add the package path for testing"
   ]
  },
  {
   "cell_type": "code",
   "execution_count": 1,
   "metadata": {},
   "outputs": [],
   "source": [
    "import sys\n",
    "sys.path.append('E:\\\\git_folder\\\\quant_models')"
   ]
  },
  {
   "cell_type": "code",
   "execution_count": 2,
   "metadata": {},
   "outputs": [
    {
     "name": "stdout",
     "output_type": "stream",
     "text": "open      1402\nclose     1402\nlow       1402\nhigh      1402\nvolume    1402\ndtype: int64\nopen      1219\nclose     1219\nlow       1219\nhigh      1219\nvolume    1219\ndtype: int64\n"
    }
   ],
   "source": [
    "import pandas as pd\n",
    "from util.utils import get_daily_vol, sample_df, filter_df_time\n",
    "data_fn = \"././data/xu1_1min.csv\"\n",
    "df_price = pd.read_csv(data_fn)\n",
    "test_df = df_price.copy()\n",
    "test_df.loc[:,'datetime'] = pd.to_datetime(test_df.datetime)\n",
    "test_df.set_index('datetime', inplace=True)\n",
    "df_testprice = test_df.loc[test_df.index > pd.to_datetime('2019-11-01')]\n",
    "df_sampled = sample_df(df_testprice, '30T')\n",
    "print(df_sampled.count())\n",
    "df_sampled = df_sampled.reindex(df_sampled.index.intersection(df_testprice.index))\n",
    "print(df_sampled.count())"
   ]
  },
  {
   "cell_type": "code",
   "execution_count": 3,
   "metadata": {},
   "outputs": [
    {
     "data": {
      "text/html": "<div>\n<style scoped>\n    .dataframe tbody tr th:only-of-type {\n        vertical-align: middle;\n    }\n\n    .dataframe tbody tr th {\n        vertical-align: top;\n    }\n\n    .dataframe thead th {\n        text-align: right;\n    }\n</style>\n<table border=\"1\" class=\"dataframe\">\n  <thead>\n    <tr style=\"text-align: right;\">\n      <th></th>\n      <th>open</th>\n      <th>close</th>\n      <th>low</th>\n      <th>high</th>\n      <th>volume</th>\n    </tr>\n    <tr>\n      <th>datetime</th>\n      <th></th>\n      <th></th>\n      <th></th>\n      <th></th>\n      <th></th>\n    </tr>\n  </thead>\n  <tbody>\n    <tr>\n      <th>2019-11-01 00:30:00</th>\n      <td>13865.0</td>\n      <td>13857.5</td>\n      <td>13850.0</td>\n      <td>13865.0</td>\n      <td>686.0</td>\n    </tr>\n    <tr>\n      <th>2019-11-01 01:00:00</th>\n      <td>13855.0</td>\n      <td>13855.0</td>\n      <td>13850.0</td>\n      <td>13860.0</td>\n      <td>438.0</td>\n    </tr>\n    <tr>\n      <th>2019-11-01 01:30:00</th>\n      <td>13855.0</td>\n      <td>13850.0</td>\n      <td>13850.0</td>\n      <td>13862.5</td>\n      <td>584.0</td>\n    </tr>\n    <tr>\n      <th>2019-11-01 02:00:00</th>\n      <td>13850.0</td>\n      <td>13852.5</td>\n      <td>13847.5</td>\n      <td>13857.5</td>\n      <td>288.0</td>\n    </tr>\n    <tr>\n      <th>2019-11-01 02:30:00</th>\n      <td>13852.5</td>\n      <td>13845.0</td>\n      <td>13840.0</td>\n      <td>13852.5</td>\n      <td>428.0</td>\n    </tr>\n  </tbody>\n</table>\n</div>",
      "text/plain": "                        open    close      low     high  volume\ndatetime                                                       \n2019-11-01 00:30:00  13865.0  13857.5  13850.0  13865.0   686.0\n2019-11-01 01:00:00  13855.0  13855.0  13850.0  13860.0   438.0\n2019-11-01 01:30:00  13855.0  13850.0  13850.0  13862.5   584.0\n2019-11-01 02:00:00  13850.0  13852.5  13847.5  13857.5   288.0\n2019-11-01 02:30:00  13852.5  13845.0  13840.0  13852.5   428.0"
     },
     "execution_count": 3,
     "metadata": {},
     "output_type": "execute_result"
    }
   ],
   "source": [
    "df_sampled.head()"
   ]
  },
  {
   "cell_type": "code",
   "execution_count": null,
   "metadata": {},
   "outputs": [],
   "source": []
  },
  {
   "cell_type": "markdown",
   "execution_count": 2,
   "metadata": {},
   "outputs": [],
   "source": [
    "## Start Testing"
   ]
  },
  {
   "cell_type": "code",
   "execution_count": 4,
   "metadata": {},
   "outputs": [],
   "source": [
    "df_sampled.tail(2)\n",
    "from labeling import get_events"
   ]
  },
  {
   "cell_type": "code",
   "execution_count": 49,
   "metadata": {},
   "outputs": [],
   "source": [
    "timedelta = pd.Timedelta('5 hours')\n",
    "nearest_index = df_sampled.index.searchsorted(df_sampled.index + timedelta)"
   ]
  },
  {
   "cell_type": "code",
   "execution_count": 50,
   "metadata": {},
   "outputs": [
    {
     "data": {
      "text/plain": "array([   9,    9,    9, ..., 1219, 1219, 1219], dtype=int64)"
     },
     "execution_count": 50,
     "metadata": {},
     "output_type": "execute_result"
    }
   ],
   "source": [
    "nearest_index"
   ]
  },
  {
   "cell_type": "code",
   "execution_count": 51,
   "metadata": {},
   "outputs": [],
   "source": [
    "from labeling import add_vertical_barrier"
   ]
  },
  {
   "cell_type": "code",
   "execution_count": 52,
   "metadata": {},
   "outputs": [],
   "source": [
    "vertical_barrier_times = add_vertical_barrier(df_testprice.open, df_sampled.index, num_hours=5)"
   ]
  },
  {
   "cell_type": "code",
   "execution_count": 53,
   "metadata": {},
   "outputs": [
    {
     "data": {
      "text/plain": "datetime\n2019-12-17 18:30:00   2019-12-17 23:30:00\n2019-12-17 19:00:00   2019-12-18 00:00:00\n2019-12-17 20:00:00   2019-12-18 01:00:00\n2019-12-17 20:30:00   2019-12-18 01:33:00\n2019-12-17 21:00:00   2019-12-18 02:00:00\n2019-12-17 21:30:00   2019-12-18 02:30:00\n2019-12-17 22:00:00   2019-12-18 03:00:00\n2019-12-17 22:30:00   2019-12-18 03:30:00\n2019-12-17 23:00:00   2019-12-18 04:00:00\n2019-12-17 23:30:00   2019-12-18 04:32:00\n2019-12-18 00:00:00   2019-12-18 05:00:00\n2019-12-18 00:30:00   2019-12-18 08:59:00\n2019-12-18 01:00:00   2019-12-18 08:59:00\n2019-12-18 02:00:00   2019-12-18 08:59:00\n2019-12-18 02:30:00   2019-12-18 08:59:00\n2019-12-18 03:00:00   2019-12-18 08:59:00\n2019-12-18 03:30:00   2019-12-18 08:59:00\n2019-12-18 04:00:00   2019-12-18 09:00:00\n2019-12-18 05:00:00   2019-12-18 10:00:00\n2019-12-18 09:00:00   2019-12-18 14:00:00\nName: datetime, dtype: datetime64[ns]"
     },
     "execution_count": 53,
     "metadata": {},
     "output_type": "execute_result"
    }
   ],
   "source": [
    "vertical_barrier_times.tail(20)"
   ]
  },
  {
   "cell_type": "code",
   "execution_count": 54,
   "metadata": {},
   "outputs": [],
   "source": [
    "target_vert = get_daily_vol(df_sampled)"
   ]
  },
  {
   "cell_type": "code",
   "execution_count": 55,
   "metadata": {},
   "outputs": [],
   "source": [
    "target = target_vert['vol']\n",
    "#t_events = df_sampled.index"
   ]
  },
  {
   "cell_type": "code",
   "execution_count": 56,
   "metadata": {},
   "outputs": [],
   "source": [
    "#target = target.loc[t_events]"
   ]
  },
  {
   "cell_type": "code",
   "execution_count": 57,
   "metadata": {},
   "outputs": [],
   "source": [
    "#target_vert.head()"
   ]
  },
  {
   "cell_type": "code",
   "execution_count": 58,
   "metadata": {},
   "outputs": [],
   "source": [
    "# = target.reindex(t_events)"
   ]
  },
  {
   "cell_type": "code",
   "execution_count": 59,
   "metadata": {},
   "outputs": [],
   "source": [
    "#targetv1.dropna(inplace=True)"
   ]
  },
  {
   "cell_type": "code",
   "execution_count": 60,
   "metadata": {},
   "outputs": [],
   "source": [
    "#target = targetv1.copy()"
   ]
  },
  {
   "cell_type": "code",
   "execution_count": 61,
   "metadata": {},
   "outputs": [
    {
     "name": "stderr",
     "output_type": "stream",
     "text": "2019-12-23 17:23:27.913754 100.0% apply_pt_sl_on_ent done after 0.07 minutes. Remaining 0.0 minutes.\n"
    }
   ],
   "source": [
    "events = get_events(df_testprice.open, target, df_sampled.index, min_ret=0.001, \n",
    "          num_threads = 3, vertical_barrier_times=vertical_barrier_times)"
   ]
  },
  {
   "cell_type": "code",
   "execution_count": 92,
   "metadata": {},
   "outputs": [
    {
     "data": {
      "text/html": "<div>\n<style scoped>\n    .dataframe tbody tr th:only-of-type {\n        vertical-align: middle;\n    }\n\n    .dataframe tbody tr th {\n        vertical-align: top;\n    }\n\n    .dataframe thead th {\n        text-align: right;\n    }\n</style>\n<table border=\"1\" class=\"dataframe\">\n  <thead>\n    <tr style=\"text-align: right;\">\n      <th></th>\n      <th>ret</th>\n      <th>trgt</th>\n      <th>bin</th>\n    </tr>\n    <tr>\n      <th>datetime</th>\n      <th></th>\n      <th></th>\n      <th></th>\n    </tr>\n  </thead>\n  <tbody>\n    <tr>\n      <th>2019-11-02 01:30:00</th>\n      <td>0.000879</td>\n      <td>0.000769</td>\n      <td>1</td>\n    </tr>\n    <tr>\n      <th>2019-11-02 02:00:00</th>\n      <td>-0.000527</td>\n      <td>0.001090</td>\n      <td>0</td>\n    </tr>\n    <tr>\n      <th>2019-11-02 02:30:00</th>\n      <td>-0.001404</td>\n      <td>0.000960</td>\n      <td>-1</td>\n    </tr>\n    <tr>\n      <th>2019-11-02 03:00:00</th>\n      <td>0.001054</td>\n      <td>0.000844</td>\n      <td>1</td>\n    </tr>\n    <tr>\n      <th>2019-11-02 03:30:00</th>\n      <td>0.001230</td>\n      <td>0.000901</td>\n      <td>1</td>\n    </tr>\n  </tbody>\n</table>\n</div>",
      "text/plain": "                          ret      trgt  bin\ndatetime                                    \n2019-11-02 01:30:00  0.000879  0.000769    1\n2019-11-02 02:00:00 -0.000527  0.001090    0\n2019-11-02 02:30:00 -0.001404  0.000960   -1\n2019-11-02 03:00:00  0.001054  0.000844    1\n2019-11-02 03:30:00  0.001230  0.000901    1"
     },
     "execution_count": 92,
     "metadata": {},
     "output_type": "execute_result"
    }
   ],
   "source": [
    "hh.head()"
   ]
  },
  {
   "cell_type": "code",
   "execution_count": 62,
   "metadata": {},
   "outputs": [],
   "source": [
    "final_hh = get_bins(events, df_testprice.open)"
   ]
  },
  {
   "cell_type": "code",
   "execution_count": 63,
   "metadata": {},
   "outputs": [],
   "source": [
    "final_hh.head()"
   ]
  },
  {
   "cell_type": "code",
   "execution_count": 64,
   "metadata": {},
   "outputs": [],
   "source": [
    "events = pd.concat({'ent': vertical_barrier_times, 'trgt': target, 'side': side_}, axis=1)"
   ]
  },
  {
   "cell_type": "code",
   "execution_count": 65,
   "metadata": {},
   "outputs": [],
   "source": [
    "events = events.dropna(subset=['side'])"
   ]
  },
  {
   "cell_type": "code",
   "execution_count": 66,
   "metadata": {},
   "outputs": [],
   "source": [
    "events = events.fillna(value={'trgt': 0.001})"
   ]
  },
  {
   "cell_type": "code",
   "execution_count": 67,
   "metadata": {},
   "outputs": [],
   "source": [
    "events = events.dropna(subset=['trgt'])"
   ]
  },
  {
   "cell_type": "code",
   "execution_count": 68,
   "metadata": {},
   "outputs": [
    {
     "data": {
      "text/html": "<div>\n<style scoped>\n    .dataframe tbody tr th:only-of-type {\n        vertical-align: middle;\n    }\n\n    .dataframe tbody tr th {\n        vertical-align: top;\n    }\n\n    .dataframe thead th {\n        text-align: right;\n    }\n</style>\n<table border=\"1\" class=\"dataframe\">\n  <thead>\n    <tr style=\"text-align: right;\">\n      <th></th>\n      <th>ent</th>\n      <th>side</th>\n      <th>trgt</th>\n    </tr>\n    <tr>\n      <th>datetime</th>\n      <th></th>\n      <th></th>\n      <th></th>\n    </tr>\n  </thead>\n  <tbody>\n    <tr>\n      <th>2019-11-02 01:30:00</th>\n      <td>2019-11-04 08:59:00</td>\n      <td>1.0</td>\n      <td>0.000769</td>\n    </tr>\n    <tr>\n      <th>2019-11-02 02:00:00</th>\n      <td>2019-11-04 08:59:00</td>\n      <td>1.0</td>\n      <td>0.001090</td>\n    </tr>\n    <tr>\n      <th>2019-11-02 02:30:00</th>\n      <td>2019-11-04 08:59:00</td>\n      <td>1.0</td>\n      <td>0.000960</td>\n    </tr>\n    <tr>\n      <th>2019-11-02 03:00:00</th>\n      <td>2019-11-04 08:59:00</td>\n      <td>1.0</td>\n      <td>0.000844</td>\n    </tr>\n    <tr>\n      <th>2019-11-02 03:30:00</th>\n      <td>2019-11-04 08:59:00</td>\n      <td>1.0</td>\n      <td>0.000901</td>\n    </tr>\n  </tbody>\n</table>\n</div>",
      "text/plain": "                                    ent  side      trgt\ndatetime                                               \n2019-11-02 01:30:00 2019-11-04 08:59:00   1.0  0.000769\n2019-11-02 02:00:00 2019-11-04 08:59:00   1.0  0.001090\n2019-11-02 02:30:00 2019-11-04 08:59:00   1.0  0.000960\n2019-11-02 03:00:00 2019-11-04 08:59:00   1.0  0.000844\n2019-11-02 03:30:00 2019-11-04 08:59:00   1.0  0.000901"
     },
     "execution_count": 68,
     "metadata": {},
     "output_type": "execute_result"
    }
   ],
   "source": [
    "events.head()\n"
   ]
  },
  {
   "cell_type": "code",
   "execution_count": 69,
   "metadata": {},
   "outputs": [],
   "source": [
    "# Snippet 3.1, page 44, Daily Volatility Estimates\n",
    "from util.multiprocess import mp_pandas_obj\n",
    "from labeling import apply_pt_sl_on_ent"
   ]
  },
  {
   "cell_type": "code",
   "execution_count": 70,
   "metadata": {},
   "outputs": [],
   "source": [
    "num_threads = 2"
   ]
  },
  {
   "cell_type": "code",
   "execution_count": 71,
   "metadata": {},
   "outputs": [
    {
     "data": {
      "text/html": "<div>\n<style scoped>\n    .dataframe tbody tr th:only-of-type {\n        vertical-align: middle;\n    }\n\n    .dataframe tbody tr th {\n        vertical-align: top;\n    }\n\n    .dataframe thead th {\n        text-align: right;\n    }\n</style>\n<table border=\"1\" class=\"dataframe\">\n  <thead>\n    <tr style=\"text-align: right;\">\n      <th></th>\n      <th>ent</th>\n      <th>side</th>\n      <th>trgt</th>\n    </tr>\n    <tr>\n      <th>datetime</th>\n      <th></th>\n      <th></th>\n      <th></th>\n    </tr>\n  </thead>\n  <tbody>\n    <tr>\n      <th>2019-11-02 01:30:00</th>\n      <td>2019-11-04 08:59:00</td>\n      <td>1.0</td>\n      <td>0.000769</td>\n    </tr>\n    <tr>\n      <th>2019-11-02 02:00:00</th>\n      <td>2019-11-04 08:59:00</td>\n      <td>1.0</td>\n      <td>0.001090</td>\n    </tr>\n    <tr>\n      <th>2019-11-02 02:30:00</th>\n      <td>2019-11-04 08:59:00</td>\n      <td>1.0</td>\n      <td>0.000960</td>\n    </tr>\n    <tr>\n      <th>2019-11-02 03:00:00</th>\n      <td>2019-11-04 08:59:00</td>\n      <td>1.0</td>\n      <td>0.000844</td>\n    </tr>\n    <tr>\n      <th>2019-11-02 03:30:00</th>\n      <td>2019-11-04 08:59:00</td>\n      <td>1.0</td>\n      <td>0.000901</td>\n    </tr>\n    <tr>\n      <th>2019-11-02 04:00:00</th>\n      <td>2019-11-04 08:59:00</td>\n      <td>1.0</td>\n      <td>0.000949</td>\n    </tr>\n    <tr>\n      <th>2019-11-02 04:30:00</th>\n      <td>2019-11-04 08:59:00</td>\n      <td>1.0</td>\n      <td>0.000894</td>\n    </tr>\n    <tr>\n      <th>2019-11-04 09:00:00</th>\n      <td>2019-11-04 14:00:00</td>\n      <td>1.0</td>\n      <td>0.009570</td>\n    </tr>\n    <tr>\n      <th>2019-11-04 09:30:00</th>\n      <td>2019-11-04 14:30:00</td>\n      <td>1.0</td>\n      <td>0.011794</td>\n    </tr>\n    <tr>\n      <th>2019-11-04 10:00:00</th>\n      <td>2019-11-04 15:00:00</td>\n      <td>1.0</td>\n      <td>0.013282</td>\n    </tr>\n    <tr>\n      <th>2019-11-04 10:30:00</th>\n      <td>2019-11-04 15:30:00</td>\n      <td>1.0</td>\n      <td>0.013554</td>\n    </tr>\n    <tr>\n      <th>2019-11-04 11:00:00</th>\n      <td>2019-11-04 16:00:00</td>\n      <td>1.0</td>\n      <td>0.013664</td>\n    </tr>\n    <tr>\n      <th>2019-11-04 11:30:00</th>\n      <td>2019-11-04 16:34:00</td>\n      <td>1.0</td>\n      <td>0.013662</td>\n    </tr>\n    <tr>\n      <th>2019-11-04 12:00:00</th>\n      <td>2019-11-04 17:00:00</td>\n      <td>1.0</td>\n      <td>0.013576</td>\n    </tr>\n    <tr>\n      <th>2019-11-04 12:30:00</th>\n      <td>2019-11-04 17:30:00</td>\n      <td>1.0</td>\n      <td>0.013438</td>\n    </tr>\n    <tr>\n      <th>2019-11-04 13:00:00</th>\n      <td>2019-11-04 18:00:00</td>\n      <td>1.0</td>\n      <td>0.013350</td>\n    </tr>\n    <tr>\n      <th>2019-11-04 13:30:00</th>\n      <td>2019-11-04 18:30:00</td>\n      <td>1.0</td>\n      <td>0.013156</td>\n    </tr>\n    <tr>\n      <th>2019-11-04 14:00:00</th>\n      <td>2019-11-04 19:00:00</td>\n      <td>1.0</td>\n      <td>0.012909</td>\n    </tr>\n    <tr>\n      <th>2019-11-04 14:30:00</th>\n      <td>2019-11-04 19:30:00</td>\n      <td>1.0</td>\n      <td>0.012656</td>\n    </tr>\n    <tr>\n      <th>2019-11-04 15:00:00</th>\n      <td>2019-11-04 20:04:00</td>\n      <td>1.0</td>\n      <td>0.012413</td>\n    </tr>\n    <tr>\n      <th>2019-11-04 15:30:00</th>\n      <td>2019-11-04 20:30:00</td>\n      <td>1.0</td>\n      <td>0.012117</td>\n    </tr>\n    <tr>\n      <th>2019-11-04 16:00:00</th>\n      <td>2019-11-04 21:00:00</td>\n      <td>1.0</td>\n      <td>0.011804</td>\n    </tr>\n    <tr>\n      <th>2019-11-04 17:00:00</th>\n      <td>2019-11-04 22:00:00</td>\n      <td>1.0</td>\n      <td>0.011509</td>\n    </tr>\n    <tr>\n      <th>2019-11-04 17:30:00</th>\n      <td>2019-11-04 22:30:00</td>\n      <td>1.0</td>\n      <td>0.011234</td>\n    </tr>\n    <tr>\n      <th>2019-11-04 18:00:00</th>\n      <td>2019-11-04 23:01:00</td>\n      <td>1.0</td>\n      <td>0.010970</td>\n    </tr>\n    <tr>\n      <th>2019-11-04 18:30:00</th>\n      <td>2019-11-04 23:30:00</td>\n      <td>1.0</td>\n      <td>0.010717</td>\n    </tr>\n    <tr>\n      <th>2019-11-04 19:00:00</th>\n      <td>2019-11-05 00:00:00</td>\n      <td>1.0</td>\n      <td>0.010481</td>\n    </tr>\n    <tr>\n      <th>2019-11-04 19:30:00</th>\n      <td>2019-11-05 00:30:00</td>\n      <td>1.0</td>\n      <td>0.010253</td>\n    </tr>\n    <tr>\n      <th>2019-11-04 20:30:00</th>\n      <td>2019-11-05 01:30:00</td>\n      <td>1.0</td>\n      <td>0.010041</td>\n    </tr>\n    <tr>\n      <th>2019-11-04 21:00:00</th>\n      <td>2019-11-05 02:00:00</td>\n      <td>1.0</td>\n      <td>0.009832</td>\n    </tr>\n    <tr>\n      <th>...</th>\n      <td>...</td>\n      <td>...</td>\n      <td>...</td>\n    </tr>\n    <tr>\n      <th>2019-12-17 18:30:00</th>\n      <td>2019-12-17 23:30:00</td>\n      <td>1.0</td>\n      <td>0.007154</td>\n    </tr>\n    <tr>\n      <th>2019-12-17 19:00:00</th>\n      <td>2019-12-18 00:00:00</td>\n      <td>1.0</td>\n      <td>0.007087</td>\n    </tr>\n    <tr>\n      <th>2019-12-17 20:00:00</th>\n      <td>2019-12-18 01:00:00</td>\n      <td>1.0</td>\n      <td>0.007020</td>\n    </tr>\n    <tr>\n      <th>2019-12-17 20:30:00</th>\n      <td>2019-12-18 01:33:00</td>\n      <td>1.0</td>\n      <td>0.006952</td>\n    </tr>\n    <tr>\n      <th>2019-12-17 21:00:00</th>\n      <td>2019-12-18 02:00:00</td>\n      <td>1.0</td>\n      <td>0.006886</td>\n    </tr>\n    <tr>\n      <th>2019-12-17 21:30:00</th>\n      <td>2019-12-18 02:30:00</td>\n      <td>1.0</td>\n      <td>0.006821</td>\n    </tr>\n    <tr>\n      <th>2019-12-17 22:00:00</th>\n      <td>2019-12-18 03:00:00</td>\n      <td>1.0</td>\n      <td>0.006755</td>\n    </tr>\n    <tr>\n      <th>2019-12-17 22:30:00</th>\n      <td>2019-12-18 03:30:00</td>\n      <td>1.0</td>\n      <td>0.006688</td>\n    </tr>\n    <tr>\n      <th>2019-12-17 23:00:00</th>\n      <td>2019-12-18 04:00:00</td>\n      <td>1.0</td>\n      <td>0.006624</td>\n    </tr>\n    <tr>\n      <th>2019-12-17 23:30:00</th>\n      <td>2019-12-18 04:32:00</td>\n      <td>1.0</td>\n      <td>0.006558</td>\n    </tr>\n    <tr>\n      <th>2019-12-18 00:00:00</th>\n      <td>2019-12-18 05:00:00</td>\n      <td>1.0</td>\n      <td>0.006493</td>\n    </tr>\n    <tr>\n      <th>2019-12-18 00:30:00</th>\n      <td>2019-12-18 08:59:00</td>\n      <td>1.0</td>\n      <td>0.006428</td>\n    </tr>\n    <tr>\n      <th>2019-12-18 01:00:00</th>\n      <td>2019-12-18 08:59:00</td>\n      <td>1.0</td>\n      <td>0.006365</td>\n    </tr>\n    <tr>\n      <th>2019-12-18 02:00:00</th>\n      <td>2019-12-18 08:59:00</td>\n      <td>1.0</td>\n      <td>0.006302</td>\n    </tr>\n    <tr>\n      <th>2019-12-18 02:30:00</th>\n      <td>2019-12-18 08:59:00</td>\n      <td>1.0</td>\n      <td>0.006241</td>\n    </tr>\n    <tr>\n      <th>2019-12-18 03:00:00</th>\n      <td>2019-12-18 08:59:00</td>\n      <td>1.0</td>\n      <td>0.006182</td>\n    </tr>\n    <tr>\n      <th>2019-12-18 03:30:00</th>\n      <td>2019-12-18 08:59:00</td>\n      <td>1.0</td>\n      <td>0.006128</td>\n    </tr>\n    <tr>\n      <th>2019-12-18 04:00:00</th>\n      <td>2019-12-18 09:00:00</td>\n      <td>1.0</td>\n      <td>0.006076</td>\n    </tr>\n    <tr>\n      <th>2019-12-18 05:00:00</th>\n      <td>2019-12-18 10:00:00</td>\n      <td>1.0</td>\n      <td>0.006028</td>\n    </tr>\n    <tr>\n      <th>2019-12-18 09:00:00</th>\n      <td>2019-12-18 14:00:00</td>\n      <td>1.0</td>\n      <td>0.005979</td>\n    </tr>\n    <tr>\n      <th>2019-12-18 09:30:00</th>\n      <td>NaT</td>\n      <td>1.0</td>\n      <td>0.006000</td>\n    </tr>\n    <tr>\n      <th>2019-12-18 10:00:00</th>\n      <td>NaT</td>\n      <td>1.0</td>\n      <td>0.006039</td>\n    </tr>\n    <tr>\n      <th>2019-12-18 10:30:00</th>\n      <td>NaT</td>\n      <td>1.0</td>\n      <td>0.006003</td>\n    </tr>\n    <tr>\n      <th>2019-12-18 11:00:00</th>\n      <td>NaT</td>\n      <td>1.0</td>\n      <td>0.005948</td>\n    </tr>\n    <tr>\n      <th>2019-12-18 11:30:00</th>\n      <td>NaT</td>\n      <td>1.0</td>\n      <td>0.005919</td>\n    </tr>\n    <tr>\n      <th>2019-12-18 12:00:00</th>\n      <td>NaT</td>\n      <td>1.0</td>\n      <td>0.005895</td>\n    </tr>\n    <tr>\n      <th>2019-12-18 12:30:00</th>\n      <td>NaT</td>\n      <td>1.0</td>\n      <td>0.005878</td>\n    </tr>\n    <tr>\n      <th>2019-12-18 13:00:00</th>\n      <td>NaT</td>\n      <td>1.0</td>\n      <td>0.005837</td>\n    </tr>\n    <tr>\n      <th>2019-12-18 13:30:00</th>\n      <td>NaT</td>\n      <td>1.0</td>\n      <td>0.006040</td>\n    </tr>\n    <tr>\n      <th>2019-12-18 14:00:00</th>\n      <td>NaT</td>\n      <td>1.0</td>\n      <td>0.006271</td>\n    </tr>\n  </tbody>\n</table>\n<p>1179 rows × 3 columns</p>\n</div>",
      "text/plain": "                                    ent  side      trgt\ndatetime                                               \n2019-11-02 01:30:00 2019-11-04 08:59:00   1.0  0.000769\n2019-11-02 02:00:00 2019-11-04 08:59:00   1.0  0.001090\n2019-11-02 02:30:00 2019-11-04 08:59:00   1.0  0.000960\n2019-11-02 03:00:00 2019-11-04 08:59:00   1.0  0.000844\n2019-11-02 03:30:00 2019-11-04 08:59:00   1.0  0.000901\n2019-11-02 04:00:00 2019-11-04 08:59:00   1.0  0.000949\n2019-11-02 04:30:00 2019-11-04 08:59:00   1.0  0.000894\n2019-11-04 09:00:00 2019-11-04 14:00:00   1.0  0.009570\n2019-11-04 09:30:00 2019-11-04 14:30:00   1.0  0.011794\n2019-11-04 10:00:00 2019-11-04 15:00:00   1.0  0.013282\n2019-11-04 10:30:00 2019-11-04 15:30:00   1.0  0.013554\n2019-11-04 11:00:00 2019-11-04 16:00:00   1.0  0.013664\n2019-11-04 11:30:00 2019-11-04 16:34:00   1.0  0.013662\n2019-11-04 12:00:00 2019-11-04 17:00:00   1.0  0.013576\n2019-11-04 12:30:00 2019-11-04 17:30:00   1.0  0.013438\n2019-11-04 13:00:00 2019-11-04 18:00:00   1.0  0.013350\n2019-11-04 13:30:00 2019-11-04 18:30:00   1.0  0.013156\n2019-11-04 14:00:00 2019-11-04 19:00:00   1.0  0.012909\n2019-11-04 14:30:00 2019-11-04 19:30:00   1.0  0.012656\n2019-11-04 15:00:00 2019-11-04 20:04:00   1.0  0.012413\n2019-11-04 15:30:00 2019-11-04 20:30:00   1.0  0.012117\n2019-11-04 16:00:00 2019-11-04 21:00:00   1.0  0.011804\n2019-11-04 17:00:00 2019-11-04 22:00:00   1.0  0.011509\n2019-11-04 17:30:00 2019-11-04 22:30:00   1.0  0.011234\n2019-11-04 18:00:00 2019-11-04 23:01:00   1.0  0.010970\n2019-11-04 18:30:00 2019-11-04 23:30:00   1.0  0.010717\n2019-11-04 19:00:00 2019-11-05 00:00:00   1.0  0.010481\n2019-11-04 19:30:00 2019-11-05 00:30:00   1.0  0.010253\n2019-11-04 20:30:00 2019-11-05 01:30:00   1.0  0.010041\n2019-11-04 21:00:00 2019-11-05 02:00:00   1.0  0.009832\n...                                 ...   ...       ...\n2019-12-17 18:30:00 2019-12-17 23:30:00   1.0  0.007154\n2019-12-17 19:00:00 2019-12-18 00:00:00   1.0  0.007087\n2019-12-17 20:00:00 2019-12-18 01:00:00   1.0  0.007020\n2019-12-17 20:30:00 2019-12-18 01:33:00   1.0  0.006952\n2019-12-17 21:00:00 2019-12-18 02:00:00   1.0  0.006886\n2019-12-17 21:30:00 2019-12-18 02:30:00   1.0  0.006821\n2019-12-17 22:00:00 2019-12-18 03:00:00   1.0  0.006755\n2019-12-17 22:30:00 2019-12-18 03:30:00   1.0  0.006688\n2019-12-17 23:00:00 2019-12-18 04:00:00   1.0  0.006624\n2019-12-17 23:30:00 2019-12-18 04:32:00   1.0  0.006558\n2019-12-18 00:00:00 2019-12-18 05:00:00   1.0  0.006493\n2019-12-18 00:30:00 2019-12-18 08:59:00   1.0  0.006428\n2019-12-18 01:00:00 2019-12-18 08:59:00   1.0  0.006365\n2019-12-18 02:00:00 2019-12-18 08:59:00   1.0  0.006302\n2019-12-18 02:30:00 2019-12-18 08:59:00   1.0  0.006241\n2019-12-18 03:00:00 2019-12-18 08:59:00   1.0  0.006182\n2019-12-18 03:30:00 2019-12-18 08:59:00   1.0  0.006128\n2019-12-18 04:00:00 2019-12-18 09:00:00   1.0  0.006076\n2019-12-18 05:00:00 2019-12-18 10:00:00   1.0  0.006028\n2019-12-18 09:00:00 2019-12-18 14:00:00   1.0  0.005979\n2019-12-18 09:30:00                 NaT   1.0  0.006000\n2019-12-18 10:00:00                 NaT   1.0  0.006039\n2019-12-18 10:30:00                 NaT   1.0  0.006003\n2019-12-18 11:00:00                 NaT   1.0  0.005948\n2019-12-18 11:30:00                 NaT   1.0  0.005919\n2019-12-18 12:00:00                 NaT   1.0  0.005895\n2019-12-18 12:30:00                 NaT   1.0  0.005878\n2019-12-18 13:00:00                 NaT   1.0  0.005837\n2019-12-18 13:30:00                 NaT   1.0  0.006040\n2019-12-18 14:00:00                 NaT   1.0  0.006271\n\n[1179 rows x 3 columns]"
     },
     "execution_count": 71,
     "metadata": {},
     "output_type": "execute_result"
    }
   ],
   "source": [
    "events.head(2000)"
   ]
  },
  {
   "cell_type": "code",
   "execution_count": 72,
   "metadata": {},
   "outputs": [],
   "source": [
    "first_touch_dates = apply_pt_sl_on_ent(df_testprice.open, events, pt_sl_, events.index)"
   ]
  },
  {
   "cell_type": "code",
   "execution_count": 73,
   "metadata": {},
   "outputs": [
    {
     "data": {
      "text/html": "<div>\n<style scoped>\n    .dataframe tbody tr th:only-of-type {\n        vertical-align: middle;\n    }\n\n    .dataframe tbody tr th {\n        vertical-align: top;\n    }\n\n    .dataframe thead th {\n        text-align: right;\n    }\n</style>\n<table border=\"1\" class=\"dataframe\">\n  <thead>\n    <tr style=\"text-align: right;\">\n      <th></th>\n      <th>ent</th>\n      <th>sl</th>\n      <th>pt</th>\n    </tr>\n    <tr>\n      <th>datetime</th>\n      <th></th>\n      <th></th>\n      <th></th>\n    </tr>\n  </thead>\n  <tbody>\n    <tr>\n      <th>2019-11-02 01:30:00</th>\n      <td>2019-11-04 08:59:00</td>\n      <td>NaT</td>\n      <td>2019-11-02 01:51:00</td>\n    </tr>\n    <tr>\n      <th>2019-11-02 02:00:00</th>\n      <td>2019-11-04 08:59:00</td>\n      <td>2019-11-02 03:12:00</td>\n      <td>NaT</td>\n    </tr>\n    <tr>\n      <th>2019-11-02 02:30:00</th>\n      <td>2019-11-04 08:59:00</td>\n      <td>2019-11-02 02:36:00</td>\n      <td>NaT</td>\n    </tr>\n    <tr>\n      <th>2019-11-02 03:00:00</th>\n      <td>2019-11-04 08:59:00</td>\n      <td>NaT</td>\n      <td>2019-11-02 03:38:00</td>\n    </tr>\n    <tr>\n      <th>2019-11-02 03:30:00</th>\n      <td>2019-11-04 08:59:00</td>\n      <td>NaT</td>\n      <td>2019-11-02 04:09:00</td>\n    </tr>\n  </tbody>\n</table>\n</div>",
      "text/plain": "                                    ent                  sl  \\\ndatetime                                                      \n2019-11-02 01:30:00 2019-11-04 08:59:00                 NaT   \n2019-11-02 02:00:00 2019-11-04 08:59:00 2019-11-02 03:12:00   \n2019-11-02 02:30:00 2019-11-04 08:59:00 2019-11-02 02:36:00   \n2019-11-02 03:00:00 2019-11-04 08:59:00                 NaT   \n2019-11-02 03:30:00 2019-11-04 08:59:00                 NaT   \n\n                                     pt  \ndatetime                                 \n2019-11-02 01:30:00 2019-11-02 01:51:00  \n2019-11-02 02:00:00                 NaT  \n2019-11-02 02:30:00                 NaT  \n2019-11-02 03:00:00 2019-11-02 03:38:00  \n2019-11-02 03:30:00 2019-11-02 04:09:00  "
     },
     "execution_count": 73,
     "metadata": {},
     "output_type": "execute_result"
    }
   ],
   "source": [
    "first_touch_dates.head(5)"
   ]
  },
  {
   "cell_type": "code",
   "execution_count": 74,
   "metadata": {},
   "outputs": [
    {
     "data": {
      "text/html": "<div>\n<style scoped>\n    .dataframe tbody tr th:only-of-type {\n        vertical-align: middle;\n    }\n\n    .dataframe tbody tr th {\n        vertical-align: top;\n    }\n\n    .dataframe thead th {\n        text-align: right;\n    }\n</style>\n<table border=\"1\" class=\"dataframe\">\n  <thead>\n    <tr style=\"text-align: right;\">\n      <th></th>\n      <th>ent</th>\n      <th>side</th>\n      <th>trgt</th>\n    </tr>\n    <tr>\n      <th>datetime</th>\n      <th></th>\n      <th></th>\n      <th></th>\n    </tr>\n  </thead>\n  <tbody>\n    <tr>\n      <th>2019-11-02 01:30:00</th>\n      <td>2019-11-04 08:59:00</td>\n      <td>1.0</td>\n      <td>0.000769</td>\n    </tr>\n    <tr>\n      <th>2019-11-02 02:00:00</th>\n      <td>2019-11-04 08:59:00</td>\n      <td>1.0</td>\n      <td>0.001090</td>\n    </tr>\n    <tr>\n      <th>2019-11-02 02:30:00</th>\n      <td>2019-11-04 08:59:00</td>\n      <td>1.0</td>\n      <td>0.000960</td>\n    </tr>\n    <tr>\n      <th>2019-11-02 03:00:00</th>\n      <td>2019-11-04 08:59:00</td>\n      <td>1.0</td>\n      <td>0.000844</td>\n    </tr>\n    <tr>\n      <th>2019-11-02 03:30:00</th>\n      <td>2019-11-04 08:59:00</td>\n      <td>1.0</td>\n      <td>0.000901</td>\n    </tr>\n  </tbody>\n</table>\n</div>",
      "text/plain": "                                    ent  side      trgt\ndatetime                                               \n2019-11-02 01:30:00 2019-11-04 08:59:00   1.0  0.000769\n2019-11-02 02:00:00 2019-11-04 08:59:00   1.0  0.001090\n2019-11-02 02:30:00 2019-11-04 08:59:00   1.0  0.000960\n2019-11-02 03:00:00 2019-11-04 08:59:00   1.0  0.000844\n2019-11-02 03:30:00 2019-11-04 08:59:00   1.0  0.000901"
     },
     "execution_count": 74,
     "metadata": {},
     "output_type": "execute_result"
    }
   ],
   "source": [
    "events.head(5)"
   ]
  },
  {
   "cell_type": "code",
   "execution_count": 75,
   "metadata": {},
   "outputs": [],
   "source": [
    "gg = first_touch_dates.dropna(how='all').min(axis=1)"
   ]
  },
  {
   "cell_type": "code",
   "execution_count": 76,
   "metadata": {},
   "outputs": [
    {
     "data": {
      "text/plain": "datetime\n2019-11-02 01:30:00   2019-11-02 01:51:00\n2019-11-02 02:00:00   2019-11-02 03:12:00\n2019-11-02 02:30:00   2019-11-02 02:36:00\n2019-11-02 03:00:00   2019-11-02 03:38:00\n2019-11-02 03:30:00   2019-11-02 04:09:00\ndtype: datetime64[ns]"
     },
     "execution_count": 76,
     "metadata": {},
     "output_type": "execute_result"
    }
   ],
   "source": [
    "gg.head()"
   ]
  },
  {
   "cell_type": "code",
   "execution_count": 77,
   "metadata": {},
   "outputs": [],
   "source": [
    "events['ent'] = first_touch_dates.dropna(how='all').min(axis=1)"
   ]
  },
  {
   "cell_type": "code",
   "execution_count": 78,
   "metadata": {},
   "outputs": [
    {
     "data": {
      "text/html": "<div>\n<style scoped>\n    .dataframe tbody tr th:only-of-type {\n        vertical-align: middle;\n    }\n\n    .dataframe tbody tr th {\n        vertical-align: top;\n    }\n\n    .dataframe thead th {\n        text-align: right;\n    }\n</style>\n<table border=\"1\" class=\"dataframe\">\n  <thead>\n    <tr style=\"text-align: right;\">\n      <th></th>\n      <th>ent</th>\n      <th>side</th>\n      <th>trgt</th>\n    </tr>\n    <tr>\n      <th>datetime</th>\n      <th></th>\n      <th></th>\n      <th></th>\n    </tr>\n  </thead>\n  <tbody>\n    <tr>\n      <th>2019-11-02 01:30:00</th>\n      <td>2019-11-02 01:51:00</td>\n      <td>1.0</td>\n      <td>0.000769</td>\n    </tr>\n    <tr>\n      <th>2019-11-02 02:00:00</th>\n      <td>2019-11-02 03:12:00</td>\n      <td>1.0</td>\n      <td>0.001090</td>\n    </tr>\n    <tr>\n      <th>2019-11-02 02:30:00</th>\n      <td>2019-11-02 02:36:00</td>\n      <td>1.0</td>\n      <td>0.000960</td>\n    </tr>\n    <tr>\n      <th>2019-11-02 03:00:00</th>\n      <td>2019-11-02 03:38:00</td>\n      <td>1.0</td>\n      <td>0.000844</td>\n    </tr>\n    <tr>\n      <th>2019-11-02 03:30:00</th>\n      <td>2019-11-02 04:09:00</td>\n      <td>1.0</td>\n      <td>0.000901</td>\n    </tr>\n  </tbody>\n</table>\n</div>",
      "text/plain": "                                    ent  side      trgt\ndatetime                                               \n2019-11-02 01:30:00 2019-11-02 01:51:00   1.0  0.000769\n2019-11-02 02:00:00 2019-11-02 03:12:00   1.0  0.001090\n2019-11-02 02:30:00 2019-11-02 02:36:00   1.0  0.000960\n2019-11-02 03:00:00 2019-11-02 03:38:00   1.0  0.000844\n2019-11-02 03:30:00 2019-11-02 04:09:00   1.0  0.000901"
     },
     "execution_count": 78,
     "metadata": {},
     "output_type": "execute_result"
    }
   ],
   "source": [
    "events.head()"
   ]
  },
  {
   "cell_type": "code",
   "execution_count": 79,
   "metadata": {},
   "outputs": [],
   "source": [
    "#events = events.drop('side', axis=1)\n",
    "events['pt'] = 1\n",
    "events['sl'] = 1"
   ]
  },
  {
   "cell_type": "code",
   "execution_count": 80,
   "metadata": {},
   "outputs": [
    {
     "data": {
      "text/html": "<div>\n<style scoped>\n    .dataframe tbody tr th:only-of-type {\n        vertical-align: middle;\n    }\n\n    .dataframe tbody tr th {\n        vertical-align: top;\n    }\n\n    .dataframe thead th {\n        text-align: right;\n    }\n</style>\n<table border=\"1\" class=\"dataframe\">\n  <thead>\n    <tr style=\"text-align: right;\">\n      <th></th>\n      <th>ent</th>\n      <th>side</th>\n      <th>trgt</th>\n      <th>pt</th>\n      <th>sl</th>\n    </tr>\n    <tr>\n      <th>datetime</th>\n      <th></th>\n      <th></th>\n      <th></th>\n      <th></th>\n      <th></th>\n    </tr>\n  </thead>\n  <tbody>\n    <tr>\n      <th>2019-11-02 01:30:00</th>\n      <td>2019-11-02 01:51:00</td>\n      <td>1.0</td>\n      <td>0.000769</td>\n      <td>1</td>\n      <td>1</td>\n    </tr>\n    <tr>\n      <th>2019-11-02 02:00:00</th>\n      <td>2019-11-02 03:12:00</td>\n      <td>1.0</td>\n      <td>0.001090</td>\n      <td>1</td>\n      <td>1</td>\n    </tr>\n  </tbody>\n</table>\n</div>",
      "text/plain": "                                    ent  side      trgt  pt  sl\ndatetime                                                       \n2019-11-02 01:30:00 2019-11-02 01:51:00   1.0  0.000769   1   1\n2019-11-02 02:00:00 2019-11-02 03:12:00   1.0  0.001090   1   1"
     },
     "execution_count": 80,
     "metadata": {},
     "output_type": "execute_result"
    }
   ],
   "source": [
    "events.head(2)"
   ]
  },
  {
   "cell_type": "code",
   "execution_count": 81,
   "metadata": {},
   "outputs": [
    {
     "name": "stderr",
     "output_type": "stream",
     "text": "2019-12-23 17:23:36.401057 100.0% apply_pt_sl_on_ent done after 0.07 minutes. Remaining 0.0 minutes.\n"
    }
   ],
   "source": [
    "\n",
    "first_touch_dates = mp_pandas_obj(func=apply_pt_sl_on_ent,\n",
    "                                  pd_obj=('molecule', events.index),\n",
    "                                  num_threads=2,\n",
    "                                  df_price=df_testprice.open,\n",
    "                                  events=events,\n",
    "                                  pt_sl=pt_sl_)\n"
   ]
  },
  {
   "cell_type": "code",
   "execution_count": 82,
   "metadata": {},
   "outputs": [],
   "source": [
    "#hh = apply_pt_sl_on_ent(df_testprice, events, pt_sl_, events.index)"
   ]
  },
  {
   "cell_type": "code",
   "execution_count": 83,
   "metadata": {},
   "outputs": [],
   "source": [
    "events = events.drop('side', axis=1)"
   ]
  },
  {
   "cell_type": "code",
   "execution_count": 84,
   "metadata": {},
   "outputs": [],
   "source": [
    "events['pt'] = 1\n",
    "events['sl'] = 1"
   ]
  },
  {
   "cell_type": "code",
   "execution_count": 85,
   "metadata": {},
   "outputs": [],
   "source": [
    "from labeling import get_bins, drop_labels"
   ]
  },
  {
   "cell_type": "code",
   "execution_count": 86,
   "metadata": {},
   "outputs": [
    {
     "data": {
      "text/html": "<div>\n<style scoped>\n    .dataframe tbody tr th:only-of-type {\n        vertical-align: middle;\n    }\n\n    .dataframe tbody tr th {\n        vertical-align: top;\n    }\n\n    .dataframe thead th {\n        text-align: right;\n    }\n</style>\n<table border=\"1\" class=\"dataframe\">\n  <thead>\n    <tr style=\"text-align: right;\">\n      <th></th>\n      <th>ent</th>\n      <th>trgt</th>\n      <th>pt</th>\n      <th>sl</th>\n    </tr>\n    <tr>\n      <th>datetime</th>\n      <th></th>\n      <th></th>\n      <th></th>\n      <th></th>\n    </tr>\n  </thead>\n  <tbody>\n    <tr>\n      <th>2019-11-02 01:30:00</th>\n      <td>2019-11-02 01:51:00</td>\n      <td>0.000769</td>\n      <td>1</td>\n      <td>1</td>\n    </tr>\n    <tr>\n      <th>2019-11-02 02:00:00</th>\n      <td>2019-11-02 03:12:00</td>\n      <td>0.001090</td>\n      <td>1</td>\n      <td>1</td>\n    </tr>\n    <tr>\n      <th>2019-11-02 02:30:00</th>\n      <td>2019-11-02 02:36:00</td>\n      <td>0.000960</td>\n      <td>1</td>\n      <td>1</td>\n    </tr>\n    <tr>\n      <th>2019-11-02 03:00:00</th>\n      <td>2019-11-02 03:38:00</td>\n      <td>0.000844</td>\n      <td>1</td>\n      <td>1</td>\n    </tr>\n    <tr>\n      <th>2019-11-02 03:30:00</th>\n      <td>2019-11-02 04:09:00</td>\n      <td>0.000901</td>\n      <td>1</td>\n      <td>1</td>\n    </tr>\n    <tr>\n      <th>2019-11-02 04:00:00</th>\n      <td>2019-11-04 08:59:00</td>\n      <td>0.000949</td>\n      <td>1</td>\n      <td>1</td>\n    </tr>\n    <tr>\n      <th>2019-11-02 04:30:00</th>\n      <td>2019-11-04 08:59:00</td>\n      <td>0.000894</td>\n      <td>1</td>\n      <td>1</td>\n    </tr>\n    <tr>\n      <th>2019-11-04 09:00:00</th>\n      <td>2019-11-04 14:00:00</td>\n      <td>0.009570</td>\n      <td>1</td>\n      <td>1</td>\n    </tr>\n    <tr>\n      <th>2019-11-04 09:30:00</th>\n      <td>2019-11-04 14:30:00</td>\n      <td>0.011794</td>\n      <td>1</td>\n      <td>1</td>\n    </tr>\n    <tr>\n      <th>2019-11-04 10:00:00</th>\n      <td>2019-11-04 15:00:00</td>\n      <td>0.013282</td>\n      <td>1</td>\n      <td>1</td>\n    </tr>\n    <tr>\n      <th>2019-11-04 10:30:00</th>\n      <td>2019-11-04 15:30:00</td>\n      <td>0.013554</td>\n      <td>1</td>\n      <td>1</td>\n    </tr>\n    <tr>\n      <th>2019-11-04 11:00:00</th>\n      <td>2019-11-04 16:00:00</td>\n      <td>0.013664</td>\n      <td>1</td>\n      <td>1</td>\n    </tr>\n    <tr>\n      <th>2019-11-04 11:30:00</th>\n      <td>2019-11-04 16:34:00</td>\n      <td>0.013662</td>\n      <td>1</td>\n      <td>1</td>\n    </tr>\n    <tr>\n      <th>2019-11-04 12:00:00</th>\n      <td>2019-11-04 17:00:00</td>\n      <td>0.013576</td>\n      <td>1</td>\n      <td>1</td>\n    </tr>\n    <tr>\n      <th>2019-11-04 12:30:00</th>\n      <td>2019-11-04 17:30:00</td>\n      <td>0.013438</td>\n      <td>1</td>\n      <td>1</td>\n    </tr>\n    <tr>\n      <th>2019-11-04 13:00:00</th>\n      <td>2019-11-04 18:00:00</td>\n      <td>0.013350</td>\n      <td>1</td>\n      <td>1</td>\n    </tr>\n    <tr>\n      <th>2019-11-04 13:30:00</th>\n      <td>2019-11-04 18:30:00</td>\n      <td>0.013156</td>\n      <td>1</td>\n      <td>1</td>\n    </tr>\n    <tr>\n      <th>2019-11-04 14:00:00</th>\n      <td>2019-11-04 19:00:00</td>\n      <td>0.012909</td>\n      <td>1</td>\n      <td>1</td>\n    </tr>\n    <tr>\n      <th>2019-11-04 14:30:00</th>\n      <td>2019-11-04 19:30:00</td>\n      <td>0.012656</td>\n      <td>1</td>\n      <td>1</td>\n    </tr>\n    <tr>\n      <th>2019-11-04 15:00:00</th>\n      <td>2019-11-04 20:04:00</td>\n      <td>0.012413</td>\n      <td>1</td>\n      <td>1</td>\n    </tr>\n    <tr>\n      <th>2019-11-04 15:30:00</th>\n      <td>2019-11-04 20:30:00</td>\n      <td>0.012117</td>\n      <td>1</td>\n      <td>1</td>\n    </tr>\n    <tr>\n      <th>2019-11-04 16:00:00</th>\n      <td>2019-11-04 21:00:00</td>\n      <td>0.011804</td>\n      <td>1</td>\n      <td>1</td>\n    </tr>\n    <tr>\n      <th>2019-11-04 17:00:00</th>\n      <td>2019-11-04 22:00:00</td>\n      <td>0.011509</td>\n      <td>1</td>\n      <td>1</td>\n    </tr>\n    <tr>\n      <th>2019-11-04 17:30:00</th>\n      <td>2019-11-04 22:30:00</td>\n      <td>0.011234</td>\n      <td>1</td>\n      <td>1</td>\n    </tr>\n    <tr>\n      <th>2019-11-04 18:00:00</th>\n      <td>2019-11-04 23:01:00</td>\n      <td>0.010970</td>\n      <td>1</td>\n      <td>1</td>\n    </tr>\n    <tr>\n      <th>2019-11-04 18:30:00</th>\n      <td>2019-11-04 23:30:00</td>\n      <td>0.010717</td>\n      <td>1</td>\n      <td>1</td>\n    </tr>\n    <tr>\n      <th>2019-11-04 19:00:00</th>\n      <td>2019-11-05 00:00:00</td>\n      <td>0.010481</td>\n      <td>1</td>\n      <td>1</td>\n    </tr>\n    <tr>\n      <th>2019-11-04 19:30:00</th>\n      <td>2019-11-05 00:30:00</td>\n      <td>0.010253</td>\n      <td>1</td>\n      <td>1</td>\n    </tr>\n    <tr>\n      <th>2019-11-04 20:30:00</th>\n      <td>2019-11-05 01:30:00</td>\n      <td>0.010041</td>\n      <td>1</td>\n      <td>1</td>\n    </tr>\n    <tr>\n      <th>2019-11-04 21:00:00</th>\n      <td>2019-11-05 02:00:00</td>\n      <td>0.009832</td>\n      <td>1</td>\n      <td>1</td>\n    </tr>\n    <tr>\n      <th>2019-11-04 21:30:00</th>\n      <td>2019-11-05 02:30:00</td>\n      <td>0.009630</td>\n      <td>1</td>\n      <td>1</td>\n    </tr>\n    <tr>\n      <th>2019-11-04 22:00:00</th>\n      <td>2019-11-05 03:00:00</td>\n      <td>0.009433</td>\n      <td>1</td>\n      <td>1</td>\n    </tr>\n    <tr>\n      <th>2019-11-04 22:30:00</th>\n      <td>2019-11-05 03:30:00</td>\n      <td>0.009241</td>\n      <td>1</td>\n      <td>1</td>\n    </tr>\n    <tr>\n      <th>2019-11-04 23:30:00</th>\n      <td>2019-11-05 04:30:00</td>\n      <td>0.009066</td>\n      <td>1</td>\n      <td>1</td>\n    </tr>\n    <tr>\n      <th>2019-11-05 00:00:00</th>\n      <td>2019-11-05 08:59:00</td>\n      <td>0.008899</td>\n      <td>1</td>\n      <td>1</td>\n    </tr>\n    <tr>\n      <th>2019-11-05 00:30:00</th>\n      <td>2019-11-05 08:59:00</td>\n      <td>0.008743</td>\n      <td>1</td>\n      <td>1</td>\n    </tr>\n    <tr>\n      <th>2019-11-05 01:00:00</th>\n      <td>2019-11-05 08:59:00</td>\n      <td>0.008588</td>\n      <td>1</td>\n      <td>1</td>\n    </tr>\n    <tr>\n      <th>2019-11-05 01:30:00</th>\n      <td>2019-11-05 08:59:00</td>\n      <td>0.008439</td>\n      <td>1</td>\n      <td>1</td>\n    </tr>\n    <tr>\n      <th>2019-11-05 02:00:00</th>\n      <td>2019-11-05 08:59:00</td>\n      <td>0.008297</td>\n      <td>1</td>\n      <td>1</td>\n    </tr>\n    <tr>\n      <th>2019-11-05 02:30:00</th>\n      <td>2019-11-05 08:59:00</td>\n      <td>0.008169</td>\n      <td>1</td>\n      <td>1</td>\n    </tr>\n    <tr>\n      <th>2019-11-05 03:00:00</th>\n      <td>2019-11-05 08:59:00</td>\n      <td>0.008043</td>\n      <td>1</td>\n      <td>1</td>\n    </tr>\n    <tr>\n      <th>2019-11-05 03:30:00</th>\n      <td>2019-11-05 08:59:00</td>\n      <td>0.007917</td>\n      <td>1</td>\n      <td>1</td>\n    </tr>\n    <tr>\n      <th>2019-11-05 04:00:00</th>\n      <td>2019-11-05 09:00:00</td>\n      <td>0.007798</td>\n      <td>1</td>\n      <td>1</td>\n    </tr>\n    <tr>\n      <th>2019-11-05 04:30:00</th>\n      <td>2019-11-05 09:30:00</td>\n      <td>0.007677</td>\n      <td>1</td>\n      <td>1</td>\n    </tr>\n    <tr>\n      <th>2019-11-05 09:00:00</th>\n      <td>2019-11-05 13:05:00</td>\n      <td>0.007588</td>\n      <td>1</td>\n      <td>1</td>\n    </tr>\n    <tr>\n      <th>2019-11-05 09:30:00</th>\n      <td>2019-11-05 11:02:00</td>\n      <td>0.007496</td>\n      <td>1</td>\n      <td>1</td>\n    </tr>\n    <tr>\n      <th>2019-11-05 10:00:00</th>\n      <td>2019-11-05 10:52:00</td>\n      <td>0.007440</td>\n      <td>1</td>\n      <td>1</td>\n    </tr>\n    <tr>\n      <th>2019-11-05 10:30:00</th>\n      <td>2019-11-05 10:52:00</td>\n      <td>0.007362</td>\n      <td>1</td>\n      <td>1</td>\n    </tr>\n    <tr>\n      <th>2019-11-05 11:00:00</th>\n      <td>2019-11-05 16:00:00</td>\n      <td>0.007256</td>\n      <td>1</td>\n      <td>1</td>\n    </tr>\n    <tr>\n      <th>2019-11-05 11:30:00</th>\n      <td>2019-11-05 14:42:00</td>\n      <td>0.007150</td>\n      <td>1</td>\n      <td>1</td>\n    </tr>\n  </tbody>\n</table>\n</div>",
      "text/plain": "                                    ent      trgt  pt  sl\ndatetime                                                 \n2019-11-02 01:30:00 2019-11-02 01:51:00  0.000769   1   1\n2019-11-02 02:00:00 2019-11-02 03:12:00  0.001090   1   1\n2019-11-02 02:30:00 2019-11-02 02:36:00  0.000960   1   1\n2019-11-02 03:00:00 2019-11-02 03:38:00  0.000844   1   1\n2019-11-02 03:30:00 2019-11-02 04:09:00  0.000901   1   1\n2019-11-02 04:00:00 2019-11-04 08:59:00  0.000949   1   1\n2019-11-02 04:30:00 2019-11-04 08:59:00  0.000894   1   1\n2019-11-04 09:00:00 2019-11-04 14:00:00  0.009570   1   1\n2019-11-04 09:30:00 2019-11-04 14:30:00  0.011794   1   1\n2019-11-04 10:00:00 2019-11-04 15:00:00  0.013282   1   1\n2019-11-04 10:30:00 2019-11-04 15:30:00  0.013554   1   1\n2019-11-04 11:00:00 2019-11-04 16:00:00  0.013664   1   1\n2019-11-04 11:30:00 2019-11-04 16:34:00  0.013662   1   1\n2019-11-04 12:00:00 2019-11-04 17:00:00  0.013576   1   1\n2019-11-04 12:30:00 2019-11-04 17:30:00  0.013438   1   1\n2019-11-04 13:00:00 2019-11-04 18:00:00  0.013350   1   1\n2019-11-04 13:30:00 2019-11-04 18:30:00  0.013156   1   1\n2019-11-04 14:00:00 2019-11-04 19:00:00  0.012909   1   1\n2019-11-04 14:30:00 2019-11-04 19:30:00  0.012656   1   1\n2019-11-04 15:00:00 2019-11-04 20:04:00  0.012413   1   1\n2019-11-04 15:30:00 2019-11-04 20:30:00  0.012117   1   1\n2019-11-04 16:00:00 2019-11-04 21:00:00  0.011804   1   1\n2019-11-04 17:00:00 2019-11-04 22:00:00  0.011509   1   1\n2019-11-04 17:30:00 2019-11-04 22:30:00  0.011234   1   1\n2019-11-04 18:00:00 2019-11-04 23:01:00  0.010970   1   1\n2019-11-04 18:30:00 2019-11-04 23:30:00  0.010717   1   1\n2019-11-04 19:00:00 2019-11-05 00:00:00  0.010481   1   1\n2019-11-04 19:30:00 2019-11-05 00:30:00  0.010253   1   1\n2019-11-04 20:30:00 2019-11-05 01:30:00  0.010041   1   1\n2019-11-04 21:00:00 2019-11-05 02:00:00  0.009832   1   1\n2019-11-04 21:30:00 2019-11-05 02:30:00  0.009630   1   1\n2019-11-04 22:00:00 2019-11-05 03:00:00  0.009433   1   1\n2019-11-04 22:30:00 2019-11-05 03:30:00  0.009241   1   1\n2019-11-04 23:30:00 2019-11-05 04:30:00  0.009066   1   1\n2019-11-05 00:00:00 2019-11-05 08:59:00  0.008899   1   1\n2019-11-05 00:30:00 2019-11-05 08:59:00  0.008743   1   1\n2019-11-05 01:00:00 2019-11-05 08:59:00  0.008588   1   1\n2019-11-05 01:30:00 2019-11-05 08:59:00  0.008439   1   1\n2019-11-05 02:00:00 2019-11-05 08:59:00  0.008297   1   1\n2019-11-05 02:30:00 2019-11-05 08:59:00  0.008169   1   1\n2019-11-05 03:00:00 2019-11-05 08:59:00  0.008043   1   1\n2019-11-05 03:30:00 2019-11-05 08:59:00  0.007917   1   1\n2019-11-05 04:00:00 2019-11-05 09:00:00  0.007798   1   1\n2019-11-05 04:30:00 2019-11-05 09:30:00  0.007677   1   1\n2019-11-05 09:00:00 2019-11-05 13:05:00  0.007588   1   1\n2019-11-05 09:30:00 2019-11-05 11:02:00  0.007496   1   1\n2019-11-05 10:00:00 2019-11-05 10:52:00  0.007440   1   1\n2019-11-05 10:30:00 2019-11-05 10:52:00  0.007362   1   1\n2019-11-05 11:00:00 2019-11-05 16:00:00  0.007256   1   1\n2019-11-05 11:30:00 2019-11-05 14:42:00  0.007150   1   1"
     },
     "execution_count": 86,
     "metadata": {},
     "output_type": "execute_result"
    }
   ],
   "source": [
    "events.head(50)"
   ]
  },
  {
   "cell_type": "code",
   "execution_count": 87,
   "metadata": {},
   "outputs": [],
   "source": [
    "hh = get_bins(events, df_sampled.open)"
   ]
  },
  {
   "cell_type": "code",
   "execution_count": 88,
   "metadata": {},
   "outputs": [
    {
     "data": {
      "text/html": "<div>\n<style scoped>\n    .dataframe tbody tr th:only-of-type {\n        vertical-align: middle;\n    }\n\n    .dataframe tbody tr th {\n        vertical-align: top;\n    }\n\n    .dataframe thead th {\n        text-align: right;\n    }\n</style>\n<table border=\"1\" class=\"dataframe\">\n  <thead>\n    <tr style=\"text-align: right;\">\n      <th></th>\n      <th>ret</th>\n      <th>trgt</th>\n      <th>bin</th>\n    </tr>\n    <tr>\n      <th>datetime</th>\n      <th></th>\n      <th></th>\n      <th></th>\n    </tr>\n  </thead>\n  <tbody>\n    <tr>\n      <th>2019-11-02 01:30:00</th>\n      <td>0.000879</td>\n      <td>0.000769</td>\n      <td>1</td>\n    </tr>\n    <tr>\n      <th>2019-11-02 02:00:00</th>\n      <td>-0.000527</td>\n      <td>0.001090</td>\n      <td>0</td>\n    </tr>\n    <tr>\n      <th>2019-11-02 02:30:00</th>\n      <td>-0.001404</td>\n      <td>0.000960</td>\n      <td>-1</td>\n    </tr>\n    <tr>\n      <th>2019-11-02 03:00:00</th>\n      <td>0.001054</td>\n      <td>0.000844</td>\n      <td>1</td>\n    </tr>\n    <tr>\n      <th>2019-11-02 03:30:00</th>\n      <td>0.001230</td>\n      <td>0.000901</td>\n      <td>1</td>\n    </tr>\n    <tr>\n      <th>2019-11-02 04:00:00</th>\n      <td>-0.000351</td>\n      <td>0.000949</td>\n      <td>0</td>\n    </tr>\n    <tr>\n      <th>2019-11-02 04:30:00</th>\n      <td>-0.000702</td>\n      <td>0.000894</td>\n      <td>0</td>\n    </tr>\n    <tr>\n      <th>2019-11-04 09:00:00</th>\n      <td>0.002634</td>\n      <td>0.009570</td>\n      <td>0</td>\n    </tr>\n    <tr>\n      <th>2019-11-04 09:30:00</th>\n      <td>0.002984</td>\n      <td>0.011794</td>\n      <td>0</td>\n    </tr>\n    <tr>\n      <th>2019-11-04 10:00:00</th>\n      <td>0.002455</td>\n      <td>0.013282</td>\n      <td>0</td>\n    </tr>\n    <tr>\n      <th>2019-11-04 10:30:00</th>\n      <td>0.004217</td>\n      <td>0.013554</td>\n      <td>0</td>\n    </tr>\n    <tr>\n      <th>2019-11-04 11:00:00</th>\n      <td>0.001925</td>\n      <td>0.013664</td>\n      <td>0</td>\n    </tr>\n    <tr>\n      <th>2019-11-04 11:30:00</th>\n      <td>0.004027</td>\n      <td>0.013662</td>\n      <td>0</td>\n    </tr>\n    <tr>\n      <th>2019-11-04 12:00:00</th>\n      <td>0.004202</td>\n      <td>0.013576</td>\n      <td>0</td>\n    </tr>\n    <tr>\n      <th>2019-11-04 12:30:00</th>\n      <td>0.004027</td>\n      <td>0.013438</td>\n      <td>0</td>\n    </tr>\n    <tr>\n      <th>2019-11-04 13:00:00</th>\n      <td>0.003677</td>\n      <td>0.013350</td>\n      <td>0</td>\n    </tr>\n    <tr>\n      <th>2019-11-04 13:30:00</th>\n      <td>0.005437</td>\n      <td>0.013156</td>\n      <td>0</td>\n    </tr>\n    <tr>\n      <th>2019-11-04 14:00:00</th>\n      <td>0.004554</td>\n      <td>0.012909</td>\n      <td>0</td>\n    </tr>\n    <tr>\n      <th>2019-11-04 14:30:00</th>\n      <td>0.003325</td>\n      <td>0.012656</td>\n      <td>0</td>\n    </tr>\n    <tr>\n      <th>2019-11-04 15:00:00</th>\n      <td>0.002974</td>\n      <td>0.012413</td>\n      <td>0</td>\n    </tr>\n    <tr>\n      <th>2019-11-04 15:30:00</th>\n      <td>0.003150</td>\n      <td>0.012117</td>\n      <td>0</td>\n    </tr>\n    <tr>\n      <th>2019-11-04 16:00:00</th>\n      <td>0.000873</td>\n      <td>0.011804</td>\n      <td>0</td>\n    </tr>\n    <tr>\n      <th>2019-11-04 17:00:00</th>\n      <td>0.000174</td>\n      <td>0.011509</td>\n      <td>0</td>\n    </tr>\n    <tr>\n      <th>2019-11-04 17:30:00</th>\n      <td>0.000349</td>\n      <td>0.011234</td>\n      <td>0</td>\n    </tr>\n    <tr>\n      <th>2019-11-04 18:00:00</th>\n      <td>0.000698</td>\n      <td>0.010970</td>\n      <td>0</td>\n    </tr>\n    <tr>\n      <th>2019-11-04 18:30:00</th>\n      <td>0.000523</td>\n      <td>0.010717</td>\n      <td>0</td>\n    </tr>\n    <tr>\n      <th>2019-11-04 19:00:00</th>\n      <td>-0.000349</td>\n      <td>0.010481</td>\n      <td>0</td>\n    </tr>\n    <tr>\n      <th>2019-11-04 19:30:00</th>\n      <td>-0.000523</td>\n      <td>0.010253</td>\n      <td>0</td>\n    </tr>\n    <tr>\n      <th>2019-11-04 20:30:00</th>\n      <td>-0.000349</td>\n      <td>0.010041</td>\n      <td>0</td>\n    </tr>\n    <tr>\n      <th>2019-11-04 21:00:00</th>\n      <td>0.000000</td>\n      <td>0.009832</td>\n      <td>0</td>\n    </tr>\n    <tr>\n      <th>...</th>\n      <td>...</td>\n      <td>...</td>\n      <td>...</td>\n    </tr>\n    <tr>\n      <th>2019-11-05 23:30:00</th>\n      <td>0.002971</td>\n      <td>0.006159</td>\n      <td>0</td>\n    </tr>\n    <tr>\n      <th>2019-11-06 00:00:00</th>\n      <td>0.001396</td>\n      <td>0.006137</td>\n      <td>0</td>\n    </tr>\n    <tr>\n      <th>2019-11-06 00:30:00</th>\n      <td>0.000698</td>\n      <td>0.006102</td>\n      <td>0</td>\n    </tr>\n    <tr>\n      <th>2019-11-06 01:00:00</th>\n      <td>0.000349</td>\n      <td>0.006066</td>\n      <td>0</td>\n    </tr>\n    <tr>\n      <th>2019-11-06 01:30:00</th>\n      <td>0.000698</td>\n      <td>0.006029</td>\n      <td>0</td>\n    </tr>\n    <tr>\n      <th>2019-11-06 02:00:00</th>\n      <td>0.000349</td>\n      <td>0.005985</td>\n      <td>0</td>\n    </tr>\n    <tr>\n      <th>2019-11-06 02:30:00</th>\n      <td>0.000174</td>\n      <td>0.005937</td>\n      <td>0</td>\n    </tr>\n    <tr>\n      <th>2019-11-06 03:30:00</th>\n      <td>0.000000</td>\n      <td>0.005873</td>\n      <td>0</td>\n    </tr>\n    <tr>\n      <th>2019-11-06 04:00:00</th>\n      <td>-0.000174</td>\n      <td>0.005812</td>\n      <td>0</td>\n    </tr>\n    <tr>\n      <th>2019-11-06 04:30:00</th>\n      <td>-0.001220</td>\n      <td>0.005747</td>\n      <td>0</td>\n    </tr>\n    <tr>\n      <th>2019-11-06 09:00:00</th>\n      <td>0.000349</td>\n      <td>0.005701</td>\n      <td>0</td>\n    </tr>\n    <tr>\n      <th>2019-11-06 09:30:00</th>\n      <td>-0.000698</td>\n      <td>0.005641</td>\n      <td>0</td>\n    </tr>\n    <tr>\n      <th>2019-11-06 10:00:00</th>\n      <td>-0.001222</td>\n      <td>0.005574</td>\n      <td>0</td>\n    </tr>\n    <tr>\n      <th>2019-11-06 10:30:00</th>\n      <td>-0.003488</td>\n      <td>0.005507</td>\n      <td>0</td>\n    </tr>\n    <tr>\n      <th>2019-11-06 11:00:00</th>\n      <td>-0.003665</td>\n      <td>0.005554</td>\n      <td>0</td>\n    </tr>\n    <tr>\n      <th>2019-11-06 11:30:00</th>\n      <td>-0.003312</td>\n      <td>0.005692</td>\n      <td>0</td>\n    </tr>\n    <tr>\n      <th>2019-11-06 12:00:00</th>\n      <td>-0.001570</td>\n      <td>0.005807</td>\n      <td>0</td>\n    </tr>\n    <tr>\n      <th>2019-11-06 12:30:00</th>\n      <td>-0.002094</td>\n      <td>0.005884</td>\n      <td>0</td>\n    </tr>\n    <tr>\n      <th>2019-11-06 13:00:00</th>\n      <td>-0.002965</td>\n      <td>0.005957</td>\n      <td>0</td>\n    </tr>\n    <tr>\n      <th>2019-11-06 13:30:00</th>\n      <td>-0.001918</td>\n      <td>0.006081</td>\n      <td>0</td>\n    </tr>\n    <tr>\n      <th>2019-11-06 14:00:00</th>\n      <td>-0.002788</td>\n      <td>0.006161</td>\n      <td>0</td>\n    </tr>\n    <tr>\n      <th>2019-11-06 14:30:00</th>\n      <td>-0.000175</td>\n      <td>0.006147</td>\n      <td>0</td>\n    </tr>\n    <tr>\n      <th>2019-11-06 15:00:00</th>\n      <td>0.001049</td>\n      <td>0.006135</td>\n      <td>0</td>\n    </tr>\n    <tr>\n      <th>2019-11-06 15:30:00</th>\n      <td>0.002625</td>\n      <td>0.006167</td>\n      <td>0</td>\n    </tr>\n    <tr>\n      <th>2019-11-06 16:00:00</th>\n      <td>0.003503</td>\n      <td>0.006166</td>\n      <td>0</td>\n    </tr>\n    <tr>\n      <th>2019-11-06 16:30:00</th>\n      <td>0.001399</td>\n      <td>0.006163</td>\n      <td>0</td>\n    </tr>\n    <tr>\n      <th>2019-11-06 17:00:00</th>\n      <td>0.000175</td>\n      <td>0.006160</td>\n      <td>0</td>\n    </tr>\n    <tr>\n      <th>2019-11-06 17:30:00</th>\n      <td>0.001049</td>\n      <td>0.006184</td>\n      <td>0</td>\n    </tr>\n    <tr>\n      <th>2019-11-06 18:00:00</th>\n      <td>0.000875</td>\n      <td>0.006207</td>\n      <td>0</td>\n    </tr>\n    <tr>\n      <th>2019-11-06 19:00:00</th>\n      <td>0.000874</td>\n      <td>0.006189</td>\n      <td>0</td>\n    </tr>\n  </tbody>\n</table>\n<p>100 rows × 3 columns</p>\n</div>",
      "text/plain": "                          ret      trgt  bin\ndatetime                                    \n2019-11-02 01:30:00  0.000879  0.000769    1\n2019-11-02 02:00:00 -0.000527  0.001090    0\n2019-11-02 02:30:00 -0.001404  0.000960   -1\n2019-11-02 03:00:00  0.001054  0.000844    1\n2019-11-02 03:30:00  0.001230  0.000901    1\n2019-11-02 04:00:00 -0.000351  0.000949    0\n2019-11-02 04:30:00 -0.000702  0.000894    0\n2019-11-04 09:00:00  0.002634  0.009570    0\n2019-11-04 09:30:00  0.002984  0.011794    0\n2019-11-04 10:00:00  0.002455  0.013282    0\n2019-11-04 10:30:00  0.004217  0.013554    0\n2019-11-04 11:00:00  0.001925  0.013664    0\n2019-11-04 11:30:00  0.004027  0.013662    0\n2019-11-04 12:00:00  0.004202  0.013576    0\n2019-11-04 12:30:00  0.004027  0.013438    0\n2019-11-04 13:00:00  0.003677  0.013350    0\n2019-11-04 13:30:00  0.005437  0.013156    0\n2019-11-04 14:00:00  0.004554  0.012909    0\n2019-11-04 14:30:00  0.003325  0.012656    0\n2019-11-04 15:00:00  0.002974  0.012413    0\n2019-11-04 15:30:00  0.003150  0.012117    0\n2019-11-04 16:00:00  0.000873  0.011804    0\n2019-11-04 17:00:00  0.000174  0.011509    0\n2019-11-04 17:30:00  0.000349  0.011234    0\n2019-11-04 18:00:00  0.000698  0.010970    0\n2019-11-04 18:30:00  0.000523  0.010717    0\n2019-11-04 19:00:00 -0.000349  0.010481    0\n2019-11-04 19:30:00 -0.000523  0.010253    0\n2019-11-04 20:30:00 -0.000349  0.010041    0\n2019-11-04 21:00:00  0.000000  0.009832    0\n...                       ...       ...  ...\n2019-11-05 23:30:00  0.002971  0.006159    0\n2019-11-06 00:00:00  0.001396  0.006137    0\n2019-11-06 00:30:00  0.000698  0.006102    0\n2019-11-06 01:00:00  0.000349  0.006066    0\n2019-11-06 01:30:00  0.000698  0.006029    0\n2019-11-06 02:00:00  0.000349  0.005985    0\n2019-11-06 02:30:00  0.000174  0.005937    0\n2019-11-06 03:30:00  0.000000  0.005873    0\n2019-11-06 04:00:00 -0.000174  0.005812    0\n2019-11-06 04:30:00 -0.001220  0.005747    0\n2019-11-06 09:00:00  0.000349  0.005701    0\n2019-11-06 09:30:00 -0.000698  0.005641    0\n2019-11-06 10:00:00 -0.001222  0.005574    0\n2019-11-06 10:30:00 -0.003488  0.005507    0\n2019-11-06 11:00:00 -0.003665  0.005554    0\n2019-11-06 11:30:00 -0.003312  0.005692    0\n2019-11-06 12:00:00 -0.001570  0.005807    0\n2019-11-06 12:30:00 -0.002094  0.005884    0\n2019-11-06 13:00:00 -0.002965  0.005957    0\n2019-11-06 13:30:00 -0.001918  0.006081    0\n2019-11-06 14:00:00 -0.002788  0.006161    0\n2019-11-06 14:30:00 -0.000175  0.006147    0\n2019-11-06 15:00:00  0.001049  0.006135    0\n2019-11-06 15:30:00  0.002625  0.006167    0\n2019-11-06 16:00:00  0.003503  0.006166    0\n2019-11-06 16:30:00  0.001399  0.006163    0\n2019-11-06 17:00:00  0.000175  0.006160    0\n2019-11-06 17:30:00  0.001049  0.006184    0\n2019-11-06 18:00:00  0.000875  0.006207    0\n2019-11-06 19:00:00  0.000874  0.006189    0\n\n[100 rows x 3 columns]"
     },
     "execution_count": 88,
     "metadata": {},
     "output_type": "execute_result"
    }
   ],
   "source": [
    "hh.head(100)"
   ]
  },
  {
   "cell_type": "code",
   "execution_count": 89,
   "metadata": {},
   "outputs": [],
   "source": [
    "new_events = drop_labels(hh)"
   ]
  },
  {
   "cell_type": "code",
   "execution_count": 90,
   "metadata": {},
   "outputs": [
    {
     "data": {
      "text/plain": "-1"
     },
     "execution_count": 90,
     "metadata": {},
     "output_type": "execute_result"
    }
   ],
   "source": [
    "new_events.bin.min()"
   ]
  },
  {
   "cell_type": "code",
   "execution_count": 91,
   "metadata": {},
   "outputs": [
    {
     "data": {
      "text/plain": " 0    1032\n 1      78\n-1      59\nName: bin, dtype: int64"
     },
     "execution_count": 91,
     "metadata": {},
     "output_type": "execute_result"
    }
   ],
   "source": [
    "hh.bin.value_counts()"
   ]
  },
  {
   "cell_type": "code",
   "execution_count": null,
   "metadata": {},
   "outputs": [],
   "source": []
  },
  {
   "cell_type": "code",
   "execution_count": null,
   "metadata": {},
   "outputs": [],
   "source": []
  }
 ]
}