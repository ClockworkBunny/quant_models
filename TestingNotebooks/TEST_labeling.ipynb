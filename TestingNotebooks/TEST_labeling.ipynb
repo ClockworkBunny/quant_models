{
 "nbformat": 4,
 "nbformat_minor": 2,
 "metadata": {
  "language_info": {
   "name": "python",
   "codemirror_mode": {
    "name": "ipython",
    "version": 3
   },
   "version": "3.7.0"
  },
  "orig_nbformat": 2,
  "file_extension": ".py",
  "mimetype": "text/x-python",
  "name": "python",
  "npconvert_exporter": "python",
  "pygments_lexer": "ipython3",
  "version": 3
 },
 "cells": [
  {
   "cell_type": "markdown",
   "execution_count": null,
   "metadata": {},
   "outputs": [],
   "source": [
    "## Ipython Notebooks For Triple-Bar\n",
    "\n",
    "Add the package path for testing"
   ]
  },
  {
   "cell_type": "code",
   "execution_count": 1,
   "metadata": {},
   "outputs": [],
   "source": [
    "import sys\n",
    "sys.path.append('E:\\\\git_folder\\\\quant_models')"
   ]
  },
  {
   "cell_type": "code",
   "execution_count": 2,
   "metadata": {},
   "outputs": [],
   "source": [
    "import pandas as pd\n",
    "from util.utils import get_daily_vol, sample_df\n",
    "data_fn = \"././data/xu1_1min.csv\"\n",
    "df_price = pd.read_csv(data_fn)\n",
    "test_df = df_price.copy()\n",
    "test_df.loc[:,'datetime'] = pd.to_datetime(test_df.datetime)\n",
    "test_df.set_index('datetime', inplace=True)\n",
    "df_testprice = test_df.loc[test_df.index > pd.to_datetime('2019-01-01')]\n",
    "df_sampled = sample_df(df_testprice, '10T')"
   ]
  },
  {
   "cell_type": "markdown",
   "execution_count": 2,
   "metadata": {},
   "outputs": [],
   "source": [
    "## Start Testing"
   ]
  },
  {
   "cell_type": "code",
   "execution_count": 3,
   "metadata": {},
   "outputs": [
    {
     "data": {
      "text/html": "<div>\n<style scoped>\n    .dataframe tbody tr th:only-of-type {\n        vertical-align: middle;\n    }\n\n    .dataframe tbody tr th {\n        vertical-align: top;\n    }\n\n    .dataframe thead th {\n        text-align: right;\n    }\n</style>\n<table border=\"1\" class=\"dataframe\">\n  <thead>\n    <tr style=\"text-align: right;\">\n      <th></th>\n      <th>open</th>\n      <th>close</th>\n      <th>low</th>\n      <th>high</th>\n      <th>volume</th>\n    </tr>\n    <tr>\n      <th>datetime</th>\n      <th></th>\n      <th></th>\n      <th></th>\n      <th></th>\n      <th></th>\n    </tr>\n  </thead>\n  <tbody>\n    <tr>\n      <th>2019-01-01 00:00:00</th>\n      <td>10400.0</td>\n      <td>10410.0</td>\n      <td>10395.0</td>\n      <td>10410.0</td>\n      <td>146.0</td>\n    </tr>\n    <tr>\n      <th>2019-01-01 00:10:00</th>\n      <td>10405.0</td>\n      <td>10402.5</td>\n      <td>10397.5</td>\n      <td>10405.0</td>\n      <td>94.0</td>\n    </tr>\n  </tbody>\n</table>\n</div>",
      "text/plain": "                        open    close      low     high  volume\ndatetime                                                       \n2019-01-01 00:00:00  10400.0  10410.0  10395.0  10410.0   146.0\n2019-01-01 00:10:00  10405.0  10402.5  10397.5  10405.0    94.0"
     },
     "execution_count": 3,
     "metadata": {},
     "output_type": "execute_result"
    }
   ],
   "source": [
    "df_sampled.head(2)"
   ]
  },
  {
   "cell_type": "code",
   "execution_count": 4,
   "metadata": {},
   "outputs": [],
   "source": [
    "timedelta = pd.Timedelta('1 hours')\n",
    "nearest_index = df_sampled.index.searchsorted(df_sampled.index + timedelta)"
   ]
  },
  {
   "cell_type": "code",
   "execution_count": 5,
   "metadata": {},
   "outputs": [
    {
     "data": {
      "text/plain": "array([    6,     7,     8, ..., 29607, 29607, 29607], dtype=int64)"
     },
     "execution_count": 5,
     "metadata": {},
     "output_type": "execute_result"
    }
   ],
   "source": [
    "nearest_index"
   ]
  },
  {
   "cell_type": "code",
   "execution_count": 6,
   "metadata": {},
   "outputs": [],
   "source": [
    "def add_vertical_barrier(t_events, close, num_days=0, num_hours=0, num_minutes=0, num_seconds=0):\n",
    "    \"\"\"\n",
    "    From AFML, Try to add a Vertical Barrier\n",
    "\n",
    "    For each index in t_events, it finds the timestamp of the next price bar at or immediately after\n",
    "    a number of days num_days. This vertical barrier can be passed as an optional argument t1 in get_events.\n",
    "\n",
    "    This function creates a series that has all the timestamps of when the vertical barrier would be reached.\n",
    "\n",
    "    :args\n",
    "    1. t_events: DatetimeIndex\n",
    "    2. df_price: the price dataframe which has the columns\n",
    "        datetime as the index\n",
    "        another column is can be price\n",
    "    3. Time diff parameters:\n",
    "        num_days: (int) number of days to add for vertical barrier\n",
    "        num_hours: (int) number of hours to add for vertical barrier\n",
    "        num_minutes: (int) number of minutes to add for vertical barrier\n",
    "        num_seconds: (int) number of seconds to add for vertical barrier'\n",
    "\n",
    "    :return:\n",
    "    (series) timestamps of vertical barriers\n",
    "    \"\"\"\n",
    "    timedelta = pd.Timedelta(\n",
    "        '{} days, {} hours, {} minutes, {} seconds'.format(num_days, num_hours, num_minutes, num_seconds))\n",
    "    # Find index to closest to vertical barrier\n",
    "    nearest_index = close.index.searchsorted(t_events + timedelta)\n",
    "\n",
    "    # Exclude indexes which are outside the range of close price index\n",
    "    nearest_index = nearest_index[nearest_index < close.shape[0]]\n",
    "\n",
    "    # Find price index closest to vertical barrier time stamp\n",
    "    nearest_timestamp = close.index[nearest_index]\n",
    "    filtered_events = t_events[:nearest_index.shape[0]]\n",
    "\n",
    "    vertical_barriers = pd.Series(data=nearest_timestamp, index=filtered_events)\n",
    "    return vertical_barriers"
   ]
  },
  {
   "cell_type": "code",
   "execution_count": 7,
   "metadata": {},
   "outputs": [],
   "source": [
    "vertical_barrier_times = add_vertical_barrier(df_sampled.index, df_sampled, num_hours=1)"
   ]
  },
  {
   "cell_type": "code",
   "execution_count": 8,
   "metadata": {},
   "outputs": [
    {
     "data": {
      "text/plain": "datetime\n2019-12-18 12:20:00   2019-12-18 13:20:00\n2019-12-18 12:30:00   2019-12-18 13:30:00\n2019-12-18 12:40:00   2019-12-18 13:40:00\n2019-12-18 12:50:00   2019-12-18 13:50:00\n2019-12-18 13:00:00   2019-12-18 14:00:00\nName: datetime, dtype: datetime64[ns]"
     },
     "execution_count": 8,
     "metadata": {},
     "output_type": "execute_result"
    }
   ],
   "source": [
    "vertical_barrier_times.tail()"
   ]
  },
  {
   "cell_type": "code",
   "execution_count": 9,
   "metadata": {},
   "outputs": [],
   "source": [
    "target_vert = get_daily_vol(df_sampled)"
   ]
  },
  {
   "cell_type": "code",
   "execution_count": 10,
   "metadata": {},
   "outputs": [],
   "source": [
    "target = target_vert['vol']\n",
    "t_events = df_sampled.index"
   ]
  },
  {
   "cell_type": "code",
   "execution_count": 11,
   "metadata": {},
   "outputs": [
    {
     "name": "stderr",
     "output_type": "stream",
     "text": "E:\\Anaconda\\lib\\site-packages\\ipykernel_launcher.py:1: FutureWarning: \nPassing list-likes to .loc or [] with any missing label will raise\nKeyError in the future, you can use .reindex() as an alternative.\n\nSee the documentation here:\nhttps://pandas.pydata.org/pandas-docs/stable/indexing.html#deprecate-loc-reindex-listlike\n  \"\"\"Entry point for launching an IPython kernel.\n"
    }
   ],
   "source": [
    "target = target.loc[t_events]"
   ]
  },
  {
   "cell_type": "code",
   "execution_count": 12,
   "metadata": {},
   "outputs": [
    {
     "data": {
      "text/html": "<div>\n<style scoped>\n    .dataframe tbody tr th:only-of-type {\n        vertical-align: middle;\n    }\n\n    .dataframe tbody tr th {\n        vertical-align: top;\n    }\n\n    .dataframe thead th {\n        text-align: right;\n    }\n</style>\n<table border=\"1\" class=\"dataframe\">\n  <thead>\n    <tr style=\"text-align: right;\">\n      <th></th>\n      <th>vol</th>\n    </tr>\n    <tr>\n      <th>datetime</th>\n      <th></th>\n    </tr>\n  </thead>\n  <tbody>\n    <tr>\n      <th>2019-01-02 09:00:00</th>\n      <td>0.000340</td>\n    </tr>\n    <tr>\n      <th>2019-01-02 09:10:00</th>\n      <td>0.000739</td>\n    </tr>\n    <tr>\n      <th>2019-01-02 09:20:00</th>\n      <td>0.000663</td>\n    </tr>\n    <tr>\n      <th>2019-01-02 09:30:00</th>\n      <td>0.001913</td>\n    </tr>\n    <tr>\n      <th>2019-01-02 09:40:00</th>\n      <td>0.003920</td>\n    </tr>\n  </tbody>\n</table>\n</div>",
      "text/plain": "                          vol\ndatetime                     \n2019-01-02 09:00:00  0.000340\n2019-01-02 09:10:00  0.000739\n2019-01-02 09:20:00  0.000663\n2019-01-02 09:30:00  0.001913\n2019-01-02 09:40:00  0.003920"
     },
     "execution_count": 12,
     "metadata": {},
     "output_type": "execute_result"
    }
   ],
   "source": [
    "target_vert.head()"
   ]
  },
  {
   "cell_type": "code",
   "execution_count": 13,
   "metadata": {},
   "outputs": [],
   "source": [
    "targetv1 = target.reindex(t_events)"
   ]
  },
  {
   "cell_type": "code",
   "execution_count": 14,
   "metadata": {},
   "outputs": [],
   "source": [
    "targetv1.dropna(inplace=True)"
   ]
  },
  {
   "cell_type": "code",
   "execution_count": 15,
   "metadata": {},
   "outputs": [],
   "source": [
    "target = targetv1.copy()"
   ]
  },
  {
   "cell_type": "code",
   "execution_count": 16,
   "metadata": {},
   "outputs": [
    {
     "data": {
      "text/plain": "datetime\n2019-01-02 09:00:00    0.000340\n2019-01-02 09:10:00    0.000739\n2019-01-02 09:20:00    0.000663\n2019-01-02 09:30:00    0.001913\n2019-01-02 09:40:00    0.003920\nName: vol, dtype: float64"
     },
     "execution_count": 16,
     "metadata": {},
     "output_type": "execute_result"
    }
   ],
   "source": [
    "target.head()"
   ]
  },
  {
   "cell_type": "code",
   "execution_count": 17,
   "metadata": {},
   "outputs": [],
   "source": [
    "side_ = pd.Series(1.0, index=target.index)"
   ]
  },
  {
   "cell_type": "code",
   "execution_count": 18,
   "metadata": {},
   "outputs": [],
   "source": [
    "pt_sl_ = [2, 2]"
   ]
  },
  {
   "cell_type": "code",
   "execution_count": 19,
   "metadata": {},
   "outputs": [],
   "source": [
    "events = pd.concat({'endt': vertical_barrier_times, 'trgt': target, 'side': side_}, axis=1)"
   ]
  },
  {
   "cell_type": "code",
   "execution_count": 20,
   "metadata": {},
   "outputs": [],
   "source": [
    "events = events.dropna(subset=['side'])"
   ]
  },
  {
   "cell_type": "code",
   "execution_count": 21,
   "metadata": {},
   "outputs": [],
   "source": [
    "events = events.fillna(value={'trgt': 0.001})"
   ]
  },
  {
   "cell_type": "code",
   "execution_count": 22,
   "metadata": {},
   "outputs": [],
   "source": [
    "events = events.dropna(subset=['trgt'])"
   ]
  },
  {
   "cell_type": "code",
   "execution_count": 23,
   "metadata": {},
   "outputs": [
    {
     "data": {
      "text/html": "<div>\n<style scoped>\n    .dataframe tbody tr th:only-of-type {\n        vertical-align: middle;\n    }\n\n    .dataframe tbody tr th {\n        vertical-align: top;\n    }\n\n    .dataframe thead th {\n        text-align: right;\n    }\n</style>\n<table border=\"1\" class=\"dataframe\">\n  <thead>\n    <tr style=\"text-align: right;\">\n      <th></th>\n      <th>endt</th>\n      <th>side</th>\n      <th>trgt</th>\n    </tr>\n    <tr>\n      <th>datetime</th>\n      <th></th>\n      <th></th>\n      <th></th>\n    </tr>\n  </thead>\n  <tbody>\n    <tr>\n      <th>2019-01-02 09:00:00</th>\n      <td>2019-01-02 10:00:00</td>\n      <td>1.0</td>\n      <td>0.000340</td>\n    </tr>\n    <tr>\n      <th>2019-01-02 09:10:00</th>\n      <td>2019-01-02 10:10:00</td>\n      <td>1.0</td>\n      <td>0.000739</td>\n    </tr>\n    <tr>\n      <th>2019-01-02 09:20:00</th>\n      <td>2019-01-02 10:20:00</td>\n      <td>1.0</td>\n      <td>0.000663</td>\n    </tr>\n    <tr>\n      <th>2019-01-02 09:30:00</th>\n      <td>2019-01-02 10:30:00</td>\n      <td>1.0</td>\n      <td>0.001913</td>\n    </tr>\n    <tr>\n      <th>2019-01-02 09:40:00</th>\n      <td>2019-01-02 10:40:00</td>\n      <td>1.0</td>\n      <td>0.003920</td>\n    </tr>\n  </tbody>\n</table>\n</div>",
      "text/plain": "                                   endt  side      trgt\ndatetime                                               \n2019-01-02 09:00:00 2019-01-02 10:00:00   1.0  0.000340\n2019-01-02 09:10:00 2019-01-02 10:10:00   1.0  0.000739\n2019-01-02 09:20:00 2019-01-02 10:20:00   1.0  0.000663\n2019-01-02 09:30:00 2019-01-02 10:30:00   1.0  0.001913\n2019-01-02 09:40:00 2019-01-02 10:40:00   1.0  0.003920"
     },
     "execution_count": 23,
     "metadata": {},
     "output_type": "execute_result"
    }
   ],
   "source": [
    "events.head()\n"
   ]
  },
  {
   "cell_type": "code",
   "execution_count": 24,
   "metadata": {},
   "outputs": [],
   "source": [
    "# Snippet 3.1, page 44, Daily Volatility Estimates\n",
    "from util.multiprocess import mp_pandas_obj"
   ]
  },
  {
   "cell_type": "code",
   "execution_count": 25,
   "metadata": {},
   "outputs": [],
   "source": [
    "# Snippet 3.2, page 45, Triple Barrier Labeling Method\n",
    "def apply_pt_sl_on_ent(close, events, pt_sl, molecule):\n",
    "    \"\"\"\n",
    "    Snippet 3.2, page 45, Triple Barrier Labeling Method\n",
    "\n",
    "    This function applies the triple-barrier labeling method. It works on a set of\n",
    "    datetime index values (molecule). This allows the program to parallelize the processing.\n",
    "\n",
    "    Mainly it returns a DataFrame of timestamps regarding the time when the first barriers were reached.\n",
    "\n",
    "    :param\n",
    "    1. close: A pandas series of prices\n",
    "    2. events: dataframe with two columns: ent: the timestamp of vertical barrier, when the value is np.nan, then no vertical bar\n",
    "                                           trgt: the unit width of the horizontal barriers.\n",
    "    3. pts1: pts1[0]*trgt is the\n",
    "    4. molecule: a list with the subset of event indcies that will be processed by a single thread.\n",
    "    :param pt_sl: (array) element 0, indicates the profit taking level; element 1 is stop loss level\n",
    "    :param molecule: (an array) a set of datetime index values for processing\n",
    "    :return: DataFrame of timestamps of when first barrier was touched\n",
    "    \"\"\"\n",
    "    # Apply stop loss/profit taking, if it takes place before ent (end of event)\n",
    "    events_ = events.loc[molecule]\n",
    "    out     = events_[['ent']].copy(deep=True)\n",
    "\n",
    "    profit_taking_multiple = pt_sl[0]\n",
    "    stop_loss_multiple     = pt_sl[1]\n",
    "\n",
    "    # Profit taking active\n",
    "    if profit_taking_multiple > 0:\n",
    "        profit_taking = profit_taking_multiple * events_['trgt']\n",
    "    else:\n",
    "        profit_taking = pd.Series(index=events.index)  # NaNs\n",
    "\n",
    "    # Stop loss active\n",
    "    if stop_loss_multiple > 0:\n",
    "        stop_loss = -stop_loss_multiple * events_['trgt']\n",
    "    else:\n",
    "        stop_loss = pd.Series(index=events.index)  # NaNs\n",
    "\n",
    "    # Get events\n",
    "    for loc, vertical_barrier in events_['ent'].fillna(close.index[-1]).iteritems():\n",
    "        closing_prices = close[loc: vertical_barrier]  # Path prices for a given trade\n",
    "        cum_returns = (closing_prices / close[loc] - 1) * events_.at[loc, 'side']  # Path returns\n",
    "        out.loc[loc, 'sl'] = cum_returns[cum_returns < stop_loss[loc]].index.min()  # Earliest stop loss date\n",
    "        out.loc[loc, 'pt'] = cum_returns[cum_returns > profit_taking[loc]].index.min()  # Earliest profit taking date\n",
    "    return out"
   ]
  },
  {
   "cell_type": "code",
   "execution_count": 26,
   "metadata": {},
   "outputs": [],
   "source": [
    "num_threads = 2"
   ]
  },
  {
   "cell_type": "code",
   "execution_count": 27,
   "metadata": {},
   "outputs": [],
   "source": [
    "first_touch_dates = mp_pandas_obj(func=apply_pt_sl_on_ent,\n",
    "                                  pd_obj=('molecule', events.index),\n",
    "                                  num_threads=num_threads,\n",
    "                                  close=df_testprice,\n",
    "                                  events=events,\n",
    "                                  pt_sl=pt_sl_)"
   ]
  },
  {
   "cell_type": "code",
   "execution_count": null,
   "metadata": {},
   "outputs": [],
   "source": [
    "hh = apply_pt_sl_on_ent(df_testprice, events, pt_sl_, events.index)"
   ]
  }
 ]
}