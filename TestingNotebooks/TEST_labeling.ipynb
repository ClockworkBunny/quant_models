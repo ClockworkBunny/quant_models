{
 "nbformat": 4,
 "nbformat_minor": 2,
 "metadata": {
  "language_info": {
   "name": "python",
   "codemirror_mode": {
    "name": "ipython",
    "version": 3
   },
   "version": "3.7.0"
  },
  "orig_nbformat": 2,
  "file_extension": ".py",
  "mimetype": "text/x-python",
  "name": "python",
  "npconvert_exporter": "python",
  "pygments_lexer": "ipython3",
  "version": 3
 },
 "cells": [
  {
   "cell_type": "markdown",
   "execution_count": null,
   "metadata": {},
   "outputs": [],
   "source": [
    "## Ipython Notebooks For Triple-Bar\n",
    "\n",
    "Add the package path for testing"
   ]
  },
  {
   "cell_type": "code",
   "execution_count": 1,
   "metadata": {},
   "outputs": [],
   "source": [
    "import sys\n",
    "sys.path.append('E:\\\\git_folder\\\\quant_models')"
   ]
  },
  {
   "cell_type": "code",
   "execution_count": 2,
   "metadata": {},
   "outputs": [],
   "source": [
    "import pandas as pd\n",
    "from util.utils import get_daily_vol, sample_df\n",
    "data_fn = \"././data/xu1_1min.csv\"\n",
    "df_price = pd.read_csv(data_fn)\n",
    "test_df = df_price.copy()\n",
    "test_df.loc[:,'datetime'] = pd.to_datetime(test_df.datetime)\n",
    "test_df.set_index('datetime', inplace=True)\n",
    "df_testprice = test_df.loc[test_df.index > pd.to_datetime('2019-10-01')]\n",
    "df_sampled = sample_df(df_testprice, '10T')"
   ]
  },
  {
   "cell_type": "markdown",
   "execution_count": 2,
   "metadata": {},
   "outputs": [],
   "source": [
    "## Start Testing"
   ]
  },
  {
   "cell_type": "code",
   "execution_count": 3,
   "metadata": {},
   "outputs": [
    {
     "data": {
      "text/html": "<div>\n<style scoped>\n    .dataframe tbody tr th:only-of-type {\n        vertical-align: middle;\n    }\n\n    .dataframe tbody tr th {\n        vertical-align: top;\n    }\n\n    .dataframe thead th {\n        text-align: right;\n    }\n</style>\n<table border=\"1\" class=\"dataframe\">\n  <thead>\n    <tr style=\"text-align: right;\">\n      <th></th>\n      <th>open</th>\n      <th>close</th>\n      <th>low</th>\n      <th>high</th>\n      <th>volume</th>\n    </tr>\n    <tr>\n      <th>datetime</th>\n      <th></th>\n      <th></th>\n      <th></th>\n      <th></th>\n      <th></th>\n    </tr>\n  </thead>\n  <tbody>\n    <tr>\n      <th>2019-12-18 13:50:00</th>\n      <td>14295.0</td>\n      <td>14265.0</td>\n      <td>14265.0</td>\n      <td>14302.5</td>\n      <td>3888.0</td>\n    </tr>\n    <tr>\n      <th>2019-12-18 14:00:00</th>\n      <td>14262.5</td>\n      <td>14247.5</td>\n      <td>14245.0</td>\n      <td>14262.5</td>\n      <td>3194.0</td>\n    </tr>\n  </tbody>\n</table>\n</div>",
      "text/plain": "                        open    close      low     high  volume\ndatetime                                                       \n2019-12-18 13:50:00  14295.0  14265.0  14265.0  14302.5  3888.0\n2019-12-18 14:00:00  14262.5  14247.5  14245.0  14262.5  3194.0"
     },
     "execution_count": 3,
     "metadata": {},
     "output_type": "execute_result"
    }
   ],
   "source": [
    "df_sampled.tail(2)"
   ]
  },
  {
   "cell_type": "code",
   "execution_count": 4,
   "metadata": {},
   "outputs": [],
   "source": [
    "timedelta = pd.Timedelta('2 hours')\n",
    "nearest_index = df_sampled.index.searchsorted(df_sampled.index + timedelta)"
   ]
  },
  {
   "cell_type": "code",
   "execution_count": 5,
   "metadata": {},
   "outputs": [
    {
     "data": {
      "text/plain": "array([  12,   13,   14, ..., 6736, 6736, 6736], dtype=int64)"
     },
     "execution_count": 5,
     "metadata": {},
     "output_type": "execute_result"
    }
   ],
   "source": [
    "nearest_index"
   ]
  },
  {
   "cell_type": "code",
   "execution_count": 6,
   "metadata": {},
   "outputs": [],
   "source": [
    "def add_vertical_barrier(t_events, close, num_days=0, num_hours=0, num_minutes=0, num_seconds=0):\n",
    "    \"\"\"\n",
    "    From AFML, Try to add a Vertical Barrier\n",
    "\n",
    "    For each index in t_events, it finds the timestamp of the next price bar at or immediately after\n",
    "    a number of days num_days. This vertical barrier can be passed as an optional argument t1 in get_events.\n",
    "\n",
    "    This function creates a series that has all the timestamps of when the vertical barrier would be reached.\n",
    "\n",
    "    :args\n",
    "    1. t_events: DatetimeIndex\n",
    "    2. df_price: the price dataframe which has the columns\n",
    "        datetime as the index\n",
    "        another column is can be price\n",
    "    3. Time diff parameters:\n",
    "        num_days: (int) number of days to add for vertical barrier\n",
    "        num_hours: (int) number of hours to add for vertical barrier\n",
    "        num_minutes: (int) number of minutes to add for vertical barrier\n",
    "        num_seconds: (int) number of seconds to add for vertical barrier'\n",
    "\n",
    "    :return:\n",
    "    (series) timestamps of vertical barriers\n",
    "    \"\"\"\n",
    "    timedelta = pd.Timedelta(\n",
    "        '{} days, {} hours, {} minutes, {} seconds'.format(num_days, num_hours, num_minutes, num_seconds))\n",
    "    # Find index to closest to vertical barrier\n",
    "    nearest_index = close.index.searchsorted(t_events + timedelta)\n",
    "\n",
    "    # Exclude indexes which are outside the range of close price index\n",
    "    nearest_index = nearest_index[nearest_index < close.shape[0]]\n",
    "\n",
    "    # Find price index closest to vertical barrier time stamp\n",
    "    nearest_timestamp = close.index[nearest_index]\n",
    "    filtered_events = t_events[:nearest_index.shape[0]]\n",
    "\n",
    "    vertical_barriers = pd.Series(data=nearest_timestamp, index=filtered_events)\n",
    "    return vertical_barriers"
   ]
  },
  {
   "cell_type": "code",
   "execution_count": 7,
   "metadata": {},
   "outputs": [],
   "source": [
    "vertical_barrier_times = add_vertical_barrier(df_sampled.index, df_sampled, num_hours=1)"
   ]
  },
  {
   "cell_type": "code",
   "execution_count": 8,
   "metadata": {},
   "outputs": [
    {
     "data": {
      "text/plain": "datetime\n2019-12-18 12:20:00   2019-12-18 13:20:00\n2019-12-18 12:30:00   2019-12-18 13:30:00\n2019-12-18 12:40:00   2019-12-18 13:40:00\n2019-12-18 12:50:00   2019-12-18 13:50:00\n2019-12-18 13:00:00   2019-12-18 14:00:00\nName: datetime, dtype: datetime64[ns]"
     },
     "execution_count": 8,
     "metadata": {},
     "output_type": "execute_result"
    }
   ],
   "source": [
    "vertical_barrier_times.tail()"
   ]
  },
  {
   "cell_type": "code",
   "execution_count": 9,
   "metadata": {},
   "outputs": [],
   "source": [
    "target_vert = get_daily_vol(df_sampled)"
   ]
  },
  {
   "cell_type": "code",
   "execution_count": 10,
   "metadata": {},
   "outputs": [],
   "source": [
    "target = target_vert['vol']\n",
    "t_events = df_sampled.index"
   ]
  },
  {
   "cell_type": "code",
   "execution_count": 11,
   "metadata": {},
   "outputs": [
    {
     "name": "stderr",
     "output_type": "stream",
     "text": "E:\\Anaconda\\lib\\site-packages\\ipykernel_launcher.py:1: FutureWarning: \nPassing list-likes to .loc or [] with any missing label will raise\nKeyError in the future, you can use .reindex() as an alternative.\n\nSee the documentation here:\nhttps://pandas.pydata.org/pandas-docs/stable/indexing.html#deprecate-loc-reindex-listlike\n  \"\"\"Entry point for launching an IPython kernel.\n"
    }
   ],
   "source": [
    "target = target.loc[t_events]"
   ]
  },
  {
   "cell_type": "code",
   "execution_count": 12,
   "metadata": {},
   "outputs": [
    {
     "data": {
      "text/html": "<div>\n<style scoped>\n    .dataframe tbody tr th:only-of-type {\n        vertical-align: middle;\n    }\n\n    .dataframe tbody tr th {\n        vertical-align: top;\n    }\n\n    .dataframe thead th {\n        text-align: right;\n    }\n</style>\n<table border=\"1\" class=\"dataframe\">\n  <thead>\n    <tr style=\"text-align: right;\">\n      <th></th>\n      <th>vol</th>\n    </tr>\n    <tr>\n      <th>datetime</th>\n      <th></th>\n    </tr>\n  </thead>\n  <tbody>\n    <tr>\n      <th>2019-10-02 00:20:00</th>\n      <td>0.000130</td>\n    </tr>\n    <tr>\n      <th>2019-10-02 00:30:00</th>\n      <td>0.000184</td>\n    </tr>\n    <tr>\n      <th>2019-10-02 00:40:00</th>\n      <td>0.000489</td>\n    </tr>\n    <tr>\n      <th>2019-10-02 00:50:00</th>\n      <td>0.000426</td>\n    </tr>\n    <tr>\n      <th>2019-10-02 01:00:00</th>\n      <td>0.000394</td>\n    </tr>\n  </tbody>\n</table>\n</div>",
      "text/plain": "                          vol\ndatetime                     \n2019-10-02 00:20:00  0.000130\n2019-10-02 00:30:00  0.000184\n2019-10-02 00:40:00  0.000489\n2019-10-02 00:50:00  0.000426\n2019-10-02 01:00:00  0.000394"
     },
     "execution_count": 12,
     "metadata": {},
     "output_type": "execute_result"
    }
   ],
   "source": [
    "target_vert.head()"
   ]
  },
  {
   "cell_type": "code",
   "execution_count": 13,
   "metadata": {},
   "outputs": [],
   "source": [
    "targetv1 = target.reindex(t_events)"
   ]
  },
  {
   "cell_type": "code",
   "execution_count": 14,
   "metadata": {},
   "outputs": [],
   "source": [
    "targetv1.dropna(inplace=True)"
   ]
  },
  {
   "cell_type": "code",
   "execution_count": 15,
   "metadata": {},
   "outputs": [],
   "source": [
    "target = targetv1.copy()"
   ]
  },
  {
   "cell_type": "code",
   "execution_count": 16,
   "metadata": {},
   "outputs": [
    {
     "data": {
      "text/plain": "datetime\n2019-10-02 00:20:00    0.000130\n2019-10-02 00:30:00    0.000184\n2019-10-02 00:40:00    0.000489\n2019-10-02 00:50:00    0.000426\n2019-10-02 01:00:00    0.000394\nName: vol, dtype: float64"
     },
     "execution_count": 16,
     "metadata": {},
     "output_type": "execute_result"
    }
   ],
   "source": [
    "target.head()"
   ]
  },
  {
   "cell_type": "code",
   "execution_count": 17,
   "metadata": {},
   "outputs": [],
   "source": [
    "side_ = pd.Series(1.0, index=target.index)"
   ]
  },
  {
   "cell_type": "code",
   "execution_count": 18,
   "metadata": {},
   "outputs": [],
   "source": [
    "pt_sl_ = [2, 2]"
   ]
  },
  {
   "cell_type": "code",
   "execution_count": 87,
   "metadata": {},
   "outputs": [],
   "source": [
    "events = pd.concat({'ent': vertical_barrier_times, 'trgt': target, 'side': side_}, axis=1)"
   ]
  },
  {
   "cell_type": "code",
   "execution_count": 88,
   "metadata": {},
   "outputs": [],
   "source": [
    "events = events.dropna(subset=['side'])"
   ]
  },
  {
   "cell_type": "code",
   "execution_count": 89,
   "metadata": {},
   "outputs": [],
   "source": [
    "events = events.fillna(value={'trgt': 0.001})"
   ]
  },
  {
   "cell_type": "code",
   "execution_count": 90,
   "metadata": {},
   "outputs": [],
   "source": [
    "events = events.dropna(subset=['trgt'])"
   ]
  },
  {
   "cell_type": "code",
   "execution_count": 91,
   "metadata": {},
   "outputs": [
    {
     "data": {
      "text/html": "<div>\n<style scoped>\n    .dataframe tbody tr th:only-of-type {\n        vertical-align: middle;\n    }\n\n    .dataframe tbody tr th {\n        vertical-align: top;\n    }\n\n    .dataframe thead th {\n        text-align: right;\n    }\n</style>\n<table border=\"1\" class=\"dataframe\">\n  <thead>\n    <tr style=\"text-align: right;\">\n      <th></th>\n      <th>ent</th>\n      <th>side</th>\n      <th>trgt</th>\n    </tr>\n    <tr>\n      <th>datetime</th>\n      <th></th>\n      <th></th>\n      <th></th>\n    </tr>\n  </thead>\n  <tbody>\n    <tr>\n      <th>2019-10-02 00:20:00</th>\n      <td>2019-10-02 01:20:00</td>\n      <td>1.0</td>\n      <td>0.000130</td>\n    </tr>\n    <tr>\n      <th>2019-10-02 00:30:00</th>\n      <td>2019-10-02 01:30:00</td>\n      <td>1.0</td>\n      <td>0.000184</td>\n    </tr>\n    <tr>\n      <th>2019-10-02 00:40:00</th>\n      <td>2019-10-02 01:40:00</td>\n      <td>1.0</td>\n      <td>0.000489</td>\n    </tr>\n    <tr>\n      <th>2019-10-02 00:50:00</th>\n      <td>2019-10-02 01:50:00</td>\n      <td>1.0</td>\n      <td>0.000426</td>\n    </tr>\n    <tr>\n      <th>2019-10-02 01:00:00</th>\n      <td>2019-10-02 02:00:00</td>\n      <td>1.0</td>\n      <td>0.000394</td>\n    </tr>\n  </tbody>\n</table>\n</div>",
      "text/plain": "                                    ent  side      trgt\ndatetime                                               \n2019-10-02 00:20:00 2019-10-02 01:20:00   1.0  0.000130\n2019-10-02 00:30:00 2019-10-02 01:30:00   1.0  0.000184\n2019-10-02 00:40:00 2019-10-02 01:40:00   1.0  0.000489\n2019-10-02 00:50:00 2019-10-02 01:50:00   1.0  0.000426\n2019-10-02 01:00:00 2019-10-02 02:00:00   1.0  0.000394"
     },
     "execution_count": 91,
     "metadata": {},
     "output_type": "execute_result"
    }
   ],
   "source": [
    "events.head()\n"
   ]
  },
  {
   "cell_type": "code",
   "execution_count": 80,
   "metadata": {},
   "outputs": [
    {
     "ename": "ImportError",
     "evalue": "cannot import name 'drop_labels' from 'util.multiprocess' (E:\\git_folder\\quant_models\\util\\multiprocess.py)",
     "output_type": "error",
     "traceback": [
      "\u001b[1;31m---------------------------------------------------------------------------\u001b[0m",
      "\u001b[1;31mImportError\u001b[0m                               Traceback (most recent call last)",
      "\u001b[1;32m<ipython-input-80-49f9bb8896bd>\u001b[0m in \u001b[0;36m<module>\u001b[1;34m()\u001b[0m\n\u001b[0;32m      1\u001b[0m \u001b[1;31m# Snippet 3.1, page 44, Daily Volatility Estimates\u001b[0m\u001b[1;33m\u001b[0m\u001b[1;33m\u001b[0m\u001b[0m\n\u001b[1;32m----> 2\u001b[1;33m \u001b[1;32mfrom\u001b[0m \u001b[0mutil\u001b[0m\u001b[1;33m.\u001b[0m\u001b[0mmultiprocess\u001b[0m \u001b[1;32mimport\u001b[0m \u001b[0mmp_pandas_obj\u001b[0m\u001b[1;33m,\u001b[0m \u001b[0mdrop_labels\u001b[0m\u001b[1;33m\u001b[0m\u001b[0m\n\u001b[0m",
      "\u001b[1;31mImportError\u001b[0m: cannot import name 'drop_labels' from 'util.multiprocess' (E:\\git_folder\\quant_models\\util\\multiprocess.py)"
     ]
    }
   ],
   "source": [
    "# Snippet 3.1, page 44, Daily Volatility Estimates\n",
    "from util.multiprocess import mp_pandas_obj, drop_labels"
   ]
  },
  {
   "cell_type": "code",
   "execution_count": 25,
   "metadata": {},
   "outputs": [],
   "source": [
    "# Snippet 3.2, page 45, Triple Barrier Labeling Method\n",
    "def apply_pt_sl_on_ent(close, events, pt_sl, molecule):\n",
    "    \"\"\"\n",
    "    Snippet 3.2, page 45, Triple Barrier Labeling Method\n",
    "\n",
    "    This function applies the triple-barrier labeling method. It works on a set of\n",
    "    datetime index values (molecule). This allows the program to parallelize the processing.\n",
    "\n",
    "    Mainly it returns a DataFrame of timestamps regarding the time when the first barriers were reached.\n",
    "\n",
    "    :param\n",
    "    1. close: A pandas series of prices\n",
    "    2. events: dataframe with two columns: ent: the timestamp of vertical barrier, when the value is np.nan, then no vertical bar\n",
    "                                           trgt: the unit width of the horizontal barriers.\n",
    "    3. pts1: pts1[0]*trgt is the\n",
    "    4. molecule: a list with the subset of event indcies that will be processed by a single thread.\n",
    "    :param pt_sl: (array) element 0, indicates the profit taking level; element 1 is stop loss level\n",
    "    :param molecule: (an array) a set of datetime index values for processing\n",
    "    :return: DataFrame of timestamps of when first barrier was touched\n",
    "    \"\"\"\n",
    "    # Apply stop loss/profit taking, if it takes place before ent (end of event)\n",
    "    events_ = events.loc[molecule]\n",
    "    out     = events_[['ent']].copy(deep=True)\n",
    "\n",
    "    profit_taking_multiple = pt_sl[0]\n",
    "    stop_loss_multiple     = pt_sl[1]\n",
    "\n",
    "    # Profit taking active\n",
    "    if profit_taking_multiple > 0:\n",
    "        profit_taking = profit_taking_multiple * events_['trgt']\n",
    "    else:\n",
    "        profit_taking = pd.Series(index=events.index)  # NaNs\n",
    "\n",
    "    # Stop loss active\n",
    "    if stop_loss_multiple > 0:\n",
    "        stop_loss = -stop_loss_multiple * events_['trgt']\n",
    "    else:\n",
    "        stop_loss = pd.Series(index=events.index)  # NaNs\n",
    "\n",
    "    # Get events\n",
    "    for loc, vertical_barrier in events_['ent'].fillna(close.index[-1]).iteritems():\n",
    "        closing_prices = close[loc: vertical_barrier]  # Path prices for a given trade\n",
    "        cum_returns = (closing_prices / close[loc] - 1) * events_.at[loc, 'side']  # Path returns\n",
    "        out.loc[loc, 'sl'] = cum_returns[cum_returns < stop_loss[loc]].index.min()  # Earliest stop loss date\n",
    "        out.loc[loc, 'pt'] = cum_returns[cum_returns > profit_taking[loc]].index.min()  # Earliest profit taking date\n",
    "    return out"
   ]
  },
  {
   "cell_type": "code",
   "execution_count": 26,
   "metadata": {},
   "outputs": [],
   "source": [
    "num_threads = 2"
   ]
  },
  {
   "cell_type": "code",
   "execution_count": 27,
   "metadata": {},
   "outputs": [
    {
     "data": {
      "text/html": "<div>\n<style scoped>\n    .dataframe tbody tr th:only-of-type {\n        vertical-align: middle;\n    }\n\n    .dataframe tbody tr th {\n        vertical-align: top;\n    }\n\n    .dataframe thead th {\n        text-align: right;\n    }\n</style>\n<table border=\"1\" class=\"dataframe\">\n  <thead>\n    <tr style=\"text-align: right;\">\n      <th></th>\n      <th>ent</th>\n      <th>side</th>\n      <th>trgt</th>\n    </tr>\n    <tr>\n      <th>datetime</th>\n      <th></th>\n      <th></th>\n      <th></th>\n    </tr>\n  </thead>\n  <tbody>\n    <tr>\n      <th>2019-10-02 00:20:00</th>\n      <td>2019-10-02 01:20:00</td>\n      <td>1.0</td>\n      <td>0.000130</td>\n    </tr>\n    <tr>\n      <th>2019-10-02 00:30:00</th>\n      <td>2019-10-02 01:30:00</td>\n      <td>1.0</td>\n      <td>0.000184</td>\n    </tr>\n    <tr>\n      <th>2019-10-02 00:40:00</th>\n      <td>2019-10-02 01:40:00</td>\n      <td>1.0</td>\n      <td>0.000489</td>\n    </tr>\n    <tr>\n      <th>2019-10-02 00:50:00</th>\n      <td>2019-10-02 01:50:00</td>\n      <td>1.0</td>\n      <td>0.000426</td>\n    </tr>\n    <tr>\n      <th>2019-10-02 01:00:00</th>\n      <td>2019-10-02 02:00:00</td>\n      <td>1.0</td>\n      <td>0.000394</td>\n    </tr>\n  </tbody>\n</table>\n</div>",
      "text/plain": "                                    ent  side      trgt\ndatetime                                               \n2019-10-02 00:20:00 2019-10-02 01:20:00   1.0  0.000130\n2019-10-02 00:30:00 2019-10-02 01:30:00   1.0  0.000184\n2019-10-02 00:40:00 2019-10-02 01:40:00   1.0  0.000489\n2019-10-02 00:50:00 2019-10-02 01:50:00   1.0  0.000426\n2019-10-02 01:00:00 2019-10-02 02:00:00   1.0  0.000394"
     },
     "execution_count": 27,
     "metadata": {},
     "output_type": "execute_result"
    }
   ],
   "source": [
    "events.head()"
   ]
  },
  {
   "cell_type": "code",
   "execution_count": 92,
   "metadata": {},
   "outputs": [],
   "source": [
    "first_touch_dates = apply_pt_sl_on_ent(df_sampled.open, events, pt_sl_, events.index)"
   ]
  },
  {
   "cell_type": "code",
   "execution_count": 43,
   "metadata": {},
   "outputs": [
    {
     "data": {
      "text/html": "<div>\n<style scoped>\n    .dataframe tbody tr th:only-of-type {\n        vertical-align: middle;\n    }\n\n    .dataframe tbody tr th {\n        vertical-align: top;\n    }\n\n    .dataframe thead th {\n        text-align: right;\n    }\n</style>\n<table border=\"1\" class=\"dataframe\">\n  <thead>\n    <tr style=\"text-align: right;\">\n      <th></th>\n      <th>ent</th>\n      <th>sl</th>\n      <th>pt</th>\n    </tr>\n    <tr>\n      <th>datetime</th>\n      <th></th>\n      <th></th>\n      <th></th>\n    </tr>\n  </thead>\n  <tbody>\n    <tr>\n      <th>2019-10-02 00:20:00</th>\n      <td>2019-10-02 01:20:00</td>\n      <td>2019-10-02 00:40:00</td>\n      <td>2019-10-02 00:50:00</td>\n    </tr>\n    <tr>\n      <th>2019-10-02 00:30:00</th>\n      <td>2019-10-02 01:30:00</td>\n      <td>2019-10-02 00:40:00</td>\n      <td>2019-10-02 00:50:00</td>\n    </tr>\n    <tr>\n      <th>2019-10-02 00:40:00</th>\n      <td>2019-10-02 01:40:00</td>\n      <td>NaT</td>\n      <td>2019-10-02 00:50:00</td>\n    </tr>\n    <tr>\n      <th>2019-10-02 00:50:00</th>\n      <td>2019-10-02 01:50:00</td>\n      <td>2019-10-02 01:10:00</td>\n      <td>NaT</td>\n    </tr>\n    <tr>\n      <th>2019-10-02 01:00:00</th>\n      <td>2019-10-02 02:00:00</td>\n      <td>2019-10-02 01:10:00</td>\n      <td>NaT</td>\n    </tr>\n    <tr>\n      <th>2019-10-02 01:10:00</th>\n      <td>2019-10-02 02:10:00</td>\n      <td>NaT</td>\n      <td>NaT</td>\n    </tr>\n    <tr>\n      <th>2019-10-02 01:20:00</th>\n      <td>2019-10-02 02:20:00</td>\n      <td>NaT</td>\n      <td>NaT</td>\n    </tr>\n    <tr>\n      <th>2019-10-02 01:30:00</th>\n      <td>2019-10-02 02:30:00</td>\n      <td>2019-10-02 02:10:00</td>\n      <td>NaT</td>\n    </tr>\n    <tr>\n      <th>2019-10-02 01:40:00</th>\n      <td>2019-10-02 02:40:00</td>\n      <td>2019-10-02 02:10:00</td>\n      <td>NaT</td>\n    </tr>\n    <tr>\n      <th>2019-10-02 01:50:00</th>\n      <td>2019-10-02 02:50:00</td>\n      <td>2019-10-02 02:10:00</td>\n      <td>NaT</td>\n    </tr>\n    <tr>\n      <th>2019-10-02 02:00:00</th>\n      <td>2019-10-02 03:00:00</td>\n      <td>NaT</td>\n      <td>NaT</td>\n    </tr>\n    <tr>\n      <th>2019-10-02 02:10:00</th>\n      <td>2019-10-02 03:10:00</td>\n      <td>NaT</td>\n      <td>2019-10-02 02:50:00</td>\n    </tr>\n    <tr>\n      <th>2019-10-02 02:20:00</th>\n      <td>2019-10-02 03:20:00</td>\n      <td>NaT</td>\n      <td>NaT</td>\n    </tr>\n    <tr>\n      <th>2019-10-02 02:30:00</th>\n      <td>2019-10-02 03:30:00</td>\n      <td>NaT</td>\n      <td>NaT</td>\n    </tr>\n    <tr>\n      <th>2019-10-02 02:40:00</th>\n      <td>2019-10-02 03:40:00</td>\n      <td>NaT</td>\n      <td>NaT</td>\n    </tr>\n    <tr>\n      <th>2019-10-02 02:50:00</th>\n      <td>2019-10-02 03:50:00</td>\n      <td>NaT</td>\n      <td>NaT</td>\n    </tr>\n    <tr>\n      <th>2019-10-02 03:00:00</th>\n      <td>2019-10-02 04:00:00</td>\n      <td>NaT</td>\n      <td>NaT</td>\n    </tr>\n    <tr>\n      <th>2019-10-02 03:10:00</th>\n      <td>2019-10-02 04:10:00</td>\n      <td>NaT</td>\n      <td>NaT</td>\n    </tr>\n    <tr>\n      <th>2019-10-02 03:20:00</th>\n      <td>2019-10-02 04:20:00</td>\n      <td>NaT</td>\n      <td>NaT</td>\n    </tr>\n    <tr>\n      <th>2019-10-02 03:30:00</th>\n      <td>2019-10-02 04:30:00</td>\n      <td>NaT</td>\n      <td>NaT</td>\n    </tr>\n  </tbody>\n</table>\n</div>",
      "text/plain": "                                    ent                  sl  \\\ndatetime                                                      \n2019-10-02 00:20:00 2019-10-02 01:20:00 2019-10-02 00:40:00   \n2019-10-02 00:30:00 2019-10-02 01:30:00 2019-10-02 00:40:00   \n2019-10-02 00:40:00 2019-10-02 01:40:00                 NaT   \n2019-10-02 00:50:00 2019-10-02 01:50:00 2019-10-02 01:10:00   \n2019-10-02 01:00:00 2019-10-02 02:00:00 2019-10-02 01:10:00   \n2019-10-02 01:10:00 2019-10-02 02:10:00                 NaT   \n2019-10-02 01:20:00 2019-10-02 02:20:00                 NaT   \n2019-10-02 01:30:00 2019-10-02 02:30:00 2019-10-02 02:10:00   \n2019-10-02 01:40:00 2019-10-02 02:40:00 2019-10-02 02:10:00   \n2019-10-02 01:50:00 2019-10-02 02:50:00 2019-10-02 02:10:00   \n2019-10-02 02:00:00 2019-10-02 03:00:00                 NaT   \n2019-10-02 02:10:00 2019-10-02 03:10:00                 NaT   \n2019-10-02 02:20:00 2019-10-02 03:20:00                 NaT   \n2019-10-02 02:30:00 2019-10-02 03:30:00                 NaT   \n2019-10-02 02:40:00 2019-10-02 03:40:00                 NaT   \n2019-10-02 02:50:00 2019-10-02 03:50:00                 NaT   \n2019-10-02 03:00:00 2019-10-02 04:00:00                 NaT   \n2019-10-02 03:10:00 2019-10-02 04:10:00                 NaT   \n2019-10-02 03:20:00 2019-10-02 04:20:00                 NaT   \n2019-10-02 03:30:00 2019-10-02 04:30:00                 NaT   \n\n                                     pt  \ndatetime                                 \n2019-10-02 00:20:00 2019-10-02 00:50:00  \n2019-10-02 00:30:00 2019-10-02 00:50:00  \n2019-10-02 00:40:00 2019-10-02 00:50:00  \n2019-10-02 00:50:00                 NaT  \n2019-10-02 01:00:00                 NaT  \n2019-10-02 01:10:00                 NaT  \n2019-10-02 01:20:00                 NaT  \n2019-10-02 01:30:00                 NaT  \n2019-10-02 01:40:00                 NaT  \n2019-10-02 01:50:00                 NaT  \n2019-10-02 02:00:00                 NaT  \n2019-10-02 02:10:00 2019-10-02 02:50:00  \n2019-10-02 02:20:00                 NaT  \n2019-10-02 02:30:00                 NaT  \n2019-10-02 02:40:00                 NaT  \n2019-10-02 02:50:00                 NaT  \n2019-10-02 03:00:00                 NaT  \n2019-10-02 03:10:00                 NaT  \n2019-10-02 03:20:00                 NaT  \n2019-10-02 03:30:00                 NaT  "
     },
     "execution_count": 43,
     "metadata": {},
     "output_type": "execute_result"
    }
   ],
   "source": [
    "first_touch_dates.head(20)"
   ]
  },
  {
   "cell_type": "code",
   "execution_count": 44,
   "metadata": {},
   "outputs": [
    {
     "data": {
      "text/html": "<div>\n<style scoped>\n    .dataframe tbody tr th:only-of-type {\n        vertical-align: middle;\n    }\n\n    .dataframe tbody tr th {\n        vertical-align: top;\n    }\n\n    .dataframe thead th {\n        text-align: right;\n    }\n</style>\n<table border=\"1\" class=\"dataframe\">\n  <thead>\n    <tr style=\"text-align: right;\">\n      <th></th>\n      <th>ent</th>\n      <th>trgt</th>\n      <th>endt</th>\n      <th>pt</th>\n      <th>sl</th>\n    </tr>\n    <tr>\n      <th>datetime</th>\n      <th></th>\n      <th></th>\n      <th></th>\n      <th></th>\n      <th></th>\n    </tr>\n  </thead>\n  <tbody>\n    <tr>\n      <th>2019-10-02 00:20:00</th>\n      <td>2019-10-02 01:20:00</td>\n      <td>0.000130</td>\n      <td>2019-10-02 00:40:00</td>\n      <td>2</td>\n      <td>2</td>\n    </tr>\n    <tr>\n      <th>2019-10-02 00:30:00</th>\n      <td>2019-10-02 01:30:00</td>\n      <td>0.000184</td>\n      <td>2019-10-02 00:40:00</td>\n      <td>2</td>\n      <td>2</td>\n    </tr>\n    <tr>\n      <th>2019-10-02 00:40:00</th>\n      <td>2019-10-02 01:40:00</td>\n      <td>0.000489</td>\n      <td>2019-10-02 00:50:00</td>\n      <td>2</td>\n      <td>2</td>\n    </tr>\n    <tr>\n      <th>2019-10-02 00:50:00</th>\n      <td>2019-10-02 01:50:00</td>\n      <td>0.000426</td>\n      <td>2019-10-02 01:10:00</td>\n      <td>2</td>\n      <td>2</td>\n    </tr>\n    <tr>\n      <th>2019-10-02 01:00:00</th>\n      <td>2019-10-02 02:00:00</td>\n      <td>0.000394</td>\n      <td>2019-10-02 01:10:00</td>\n      <td>2</td>\n      <td>2</td>\n    </tr>\n    <tr>\n      <th>2019-10-02 01:10:00</th>\n      <td>2019-10-02 02:10:00</td>\n      <td>0.000466</td>\n      <td>2019-10-02 02:10:00</td>\n      <td>2</td>\n      <td>2</td>\n    </tr>\n    <tr>\n      <th>2019-10-02 01:20:00</th>\n      <td>2019-10-02 02:20:00</td>\n      <td>0.000431</td>\n      <td>2019-10-02 02:20:00</td>\n      <td>2</td>\n      <td>2</td>\n    </tr>\n    <tr>\n      <th>2019-10-02 01:30:00</th>\n      <td>2019-10-02 02:30:00</td>\n      <td>0.000412</td>\n      <td>2019-10-02 02:10:00</td>\n      <td>2</td>\n      <td>2</td>\n    </tr>\n    <tr>\n      <th>2019-10-02 01:40:00</th>\n      <td>2019-10-02 02:40:00</td>\n      <td>0.000400</td>\n      <td>2019-10-02 02:10:00</td>\n      <td>2</td>\n      <td>2</td>\n    </tr>\n    <tr>\n      <th>2019-10-02 01:50:00</th>\n      <td>2019-10-02 02:50:00</td>\n      <td>0.000428</td>\n      <td>2019-10-02 02:10:00</td>\n      <td>2</td>\n      <td>2</td>\n    </tr>\n    <tr>\n      <th>2019-10-02 02:00:00</th>\n      <td>2019-10-02 03:00:00</td>\n      <td>0.000531</td>\n      <td>2019-10-02 03:00:00</td>\n      <td>2</td>\n      <td>2</td>\n    </tr>\n    <tr>\n      <th>2019-10-02 02:10:00</th>\n      <td>2019-10-02 03:10:00</td>\n      <td>0.000506</td>\n      <td>2019-10-02 02:50:00</td>\n      <td>2</td>\n      <td>2</td>\n    </tr>\n    <tr>\n      <th>2019-10-02 02:20:00</th>\n      <td>2019-10-02 03:20:00</td>\n      <td>0.000490</td>\n      <td>2019-10-02 03:20:00</td>\n      <td>2</td>\n      <td>2</td>\n    </tr>\n    <tr>\n      <th>2019-10-02 02:30:00</th>\n      <td>2019-10-02 03:30:00</td>\n      <td>0.000499</td>\n      <td>2019-10-02 03:30:00</td>\n      <td>2</td>\n      <td>2</td>\n    </tr>\n    <tr>\n      <th>2019-10-02 02:40:00</th>\n      <td>2019-10-02 03:40:00</td>\n      <td>0.000541</td>\n      <td>2019-10-02 03:40:00</td>\n      <td>2</td>\n      <td>2</td>\n    </tr>\n    <tr>\n      <th>2019-10-02 02:50:00</th>\n      <td>2019-10-02 03:50:00</td>\n      <td>0.000527</td>\n      <td>2019-10-02 03:50:00</td>\n      <td>2</td>\n      <td>2</td>\n    </tr>\n    <tr>\n      <th>2019-10-02 03:00:00</th>\n      <td>2019-10-02 04:00:00</td>\n      <td>0.000679</td>\n      <td>2019-10-02 04:00:00</td>\n      <td>2</td>\n      <td>2</td>\n    </tr>\n    <tr>\n      <th>2019-10-02 03:10:00</th>\n      <td>2019-10-02 04:10:00</td>\n      <td>0.000694</td>\n      <td>2019-10-02 04:10:00</td>\n      <td>2</td>\n      <td>2</td>\n    </tr>\n    <tr>\n      <th>2019-10-02 03:20:00</th>\n      <td>2019-10-02 04:20:00</td>\n      <td>0.000776</td>\n      <td>2019-10-02 04:20:00</td>\n      <td>2</td>\n      <td>2</td>\n    </tr>\n    <tr>\n      <th>2019-10-02 03:30:00</th>\n      <td>2019-10-02 04:30:00</td>\n      <td>0.000799</td>\n      <td>2019-10-02 04:30:00</td>\n      <td>2</td>\n      <td>2</td>\n    </tr>\n  </tbody>\n</table>\n</div>",
      "text/plain": "                                    ent      trgt                endt  pt  sl\ndatetime                                                                     \n2019-10-02 00:20:00 2019-10-02 01:20:00  0.000130 2019-10-02 00:40:00   2   2\n2019-10-02 00:30:00 2019-10-02 01:30:00  0.000184 2019-10-02 00:40:00   2   2\n2019-10-02 00:40:00 2019-10-02 01:40:00  0.000489 2019-10-02 00:50:00   2   2\n2019-10-02 00:50:00 2019-10-02 01:50:00  0.000426 2019-10-02 01:10:00   2   2\n2019-10-02 01:00:00 2019-10-02 02:00:00  0.000394 2019-10-02 01:10:00   2   2\n2019-10-02 01:10:00 2019-10-02 02:10:00  0.000466 2019-10-02 02:10:00   2   2\n2019-10-02 01:20:00 2019-10-02 02:20:00  0.000431 2019-10-02 02:20:00   2   2\n2019-10-02 01:30:00 2019-10-02 02:30:00  0.000412 2019-10-02 02:10:00   2   2\n2019-10-02 01:40:00 2019-10-02 02:40:00  0.000400 2019-10-02 02:10:00   2   2\n2019-10-02 01:50:00 2019-10-02 02:50:00  0.000428 2019-10-02 02:10:00   2   2\n2019-10-02 02:00:00 2019-10-02 03:00:00  0.000531 2019-10-02 03:00:00   2   2\n2019-10-02 02:10:00 2019-10-02 03:10:00  0.000506 2019-10-02 02:50:00   2   2\n2019-10-02 02:20:00 2019-10-02 03:20:00  0.000490 2019-10-02 03:20:00   2   2\n2019-10-02 02:30:00 2019-10-02 03:30:00  0.000499 2019-10-02 03:30:00   2   2\n2019-10-02 02:40:00 2019-10-02 03:40:00  0.000541 2019-10-02 03:40:00   2   2\n2019-10-02 02:50:00 2019-10-02 03:50:00  0.000527 2019-10-02 03:50:00   2   2\n2019-10-02 03:00:00 2019-10-02 04:00:00  0.000679 2019-10-02 04:00:00   2   2\n2019-10-02 03:10:00 2019-10-02 04:10:00  0.000694 2019-10-02 04:10:00   2   2\n2019-10-02 03:20:00 2019-10-02 04:20:00  0.000776 2019-10-02 04:20:00   2   2\n2019-10-02 03:30:00 2019-10-02 04:30:00  0.000799 2019-10-02 04:30:00   2   2"
     },
     "execution_count": 44,
     "metadata": {},
     "output_type": "execute_result"
    }
   ],
   "source": [
    "events.head(20)"
   ]
  },
  {
   "cell_type": "code",
   "execution_count": 54,
   "metadata": {},
   "outputs": [],
   "source": [
    "gg = first_touch_dates.dropna(how='all').min(axis=1)"
   ]
  },
  {
   "cell_type": "code",
   "execution_count": 55,
   "metadata": {},
   "outputs": [
    {
     "data": {
      "text/plain": "datetime\n2019-10-02 00:20:00   2019-10-02 00:40:00\n2019-10-02 00:30:00   2019-10-02 00:40:00\n2019-10-02 00:40:00   2019-10-02 00:50:00\n2019-10-02 00:50:00   2019-10-02 01:10:00\n2019-10-02 01:00:00   2019-10-02 01:10:00\ndtype: datetime64[ns]"
     },
     "execution_count": 55,
     "metadata": {},
     "output_type": "execute_result"
    }
   ],
   "source": [
    "gg.head()"
   ]
  },
  {
   "cell_type": "code",
   "execution_count": 65,
   "metadata": {},
   "outputs": [],
   "source": [
    "events['ent'] = first_touch_dates.dropna(how='all').min(axis=1)"
   ]
  },
  {
   "cell_type": "code",
   "execution_count": 66,
   "metadata": {},
   "outputs": [
    {
     "data": {
      "text/html": "<div>\n<style scoped>\n    .dataframe tbody tr th:only-of-type {\n        vertical-align: middle;\n    }\n\n    .dataframe tbody tr th {\n        vertical-align: top;\n    }\n\n    .dataframe thead th {\n        text-align: right;\n    }\n</style>\n<table border=\"1\" class=\"dataframe\">\n  <thead>\n    <tr style=\"text-align: right;\">\n      <th></th>\n      <th>ent</th>\n      <th>side</th>\n      <th>trgt</th>\n    </tr>\n    <tr>\n      <th>datetime</th>\n      <th></th>\n      <th></th>\n      <th></th>\n    </tr>\n  </thead>\n  <tbody>\n    <tr>\n      <th>2019-10-02 00:20:00</th>\n      <td>2019-10-02 00:40:00</td>\n      <td>1.0</td>\n      <td>0.000130</td>\n    </tr>\n    <tr>\n      <th>2019-10-02 00:30:00</th>\n      <td>2019-10-02 00:40:00</td>\n      <td>1.0</td>\n      <td>0.000184</td>\n    </tr>\n    <tr>\n      <th>2019-10-02 00:40:00</th>\n      <td>2019-10-02 00:50:00</td>\n      <td>1.0</td>\n      <td>0.000489</td>\n    </tr>\n    <tr>\n      <th>2019-10-02 00:50:00</th>\n      <td>2019-10-02 01:10:00</td>\n      <td>1.0</td>\n      <td>0.000426</td>\n    </tr>\n    <tr>\n      <th>2019-10-02 01:00:00</th>\n      <td>2019-10-02 01:10:00</td>\n      <td>1.0</td>\n      <td>0.000394</td>\n    </tr>\n  </tbody>\n</table>\n</div>",
      "text/plain": "                                    ent  side      trgt\ndatetime                                               \n2019-10-02 00:20:00 2019-10-02 00:40:00   1.0  0.000130\n2019-10-02 00:30:00 2019-10-02 00:40:00   1.0  0.000184\n2019-10-02 00:40:00 2019-10-02 00:50:00   1.0  0.000489\n2019-10-02 00:50:00 2019-10-02 01:10:00   1.0  0.000426\n2019-10-02 01:00:00 2019-10-02 01:10:00   1.0  0.000394"
     },
     "execution_count": 66,
     "metadata": {},
     "output_type": "execute_result"
    }
   ],
   "source": [
    "events.head()"
   ]
  },
  {
   "cell_type": "code",
   "execution_count": 37,
   "metadata": {},
   "outputs": [],
   "source": [
    "#events = events.drop('side', axis=1)\n",
    "events['pt'] = 2\n",
    "events['sl'] = 2"
   ]
  },
  {
   "cell_type": "code",
   "execution_count": 52,
   "metadata": {},
   "outputs": [
    {
     "data": {
      "text/html": "<div>\n<style scoped>\n    .dataframe tbody tr th:only-of-type {\n        vertical-align: middle;\n    }\n\n    .dataframe tbody tr th {\n        vertical-align: top;\n    }\n\n    .dataframe thead th {\n        text-align: right;\n    }\n</style>\n<table border=\"1\" class=\"dataframe\">\n  <thead>\n    <tr style=\"text-align: right;\">\n      <th></th>\n      <th>ent</th>\n      <th>side</th>\n      <th>trgt</th>\n    </tr>\n    <tr>\n      <th>datetime</th>\n      <th></th>\n      <th></th>\n      <th></th>\n    </tr>\n  </thead>\n  <tbody>\n    <tr>\n      <th>2019-10-02 00:20:00</th>\n      <td>2019-10-02 01:20:00</td>\n      <td>1.0</td>\n      <td>0.000130</td>\n    </tr>\n    <tr>\n      <th>2019-10-02 00:30:00</th>\n      <td>2019-10-02 01:30:00</td>\n      <td>1.0</td>\n      <td>0.000184</td>\n    </tr>\n  </tbody>\n</table>\n</div>",
      "text/plain": "                                    ent  side      trgt\ndatetime                                               \n2019-10-02 00:20:00 2019-10-02 01:20:00   1.0  0.000130\n2019-10-02 00:30:00 2019-10-02 01:30:00   1.0  0.000184"
     },
     "execution_count": 52,
     "metadata": {},
     "output_type": "execute_result"
    }
   ],
   "source": [
    "events.head(2)"
   ]
  },
  {
   "cell_type": "code",
   "execution_count": 93,
   "metadata": {},
   "outputs": [],
   "source": [
    "\n",
    "first_touch_dates = mp_pandas_obj(func=apply_pt_sl_on_ent,\n",
    "                                  pd_obj=('molecule', events.index),\n",
    "                                  num_threads=3,\n",
    "                                  close=df_sampled.open,\n",
    "                                  events=events,\n",
    "                                  pt_sl=pt_sl_)\n"
   ]
  },
  {
   "cell_type": "code",
   "execution_count": 0,
   "metadata": {},
   "outputs": [],
   "source": [
    "#hh = apply_pt_sl_on_ent(df_testprice, events, pt_sl_, events.index)"
   ]
  },
  {
   "cell_type": "code",
   "execution_count": 67,
   "metadata": {},
   "outputs": [],
   "source": [
    "events = events.drop('side', axis=1)"
   ]
  },
  {
   "cell_type": "code",
   "execution_count": 70,
   "metadata": {},
   "outputs": [],
   "source": [
    "events['pt'] = 2\n",
    "events['sl'] = 2"
   ]
  },
  {
   "cell_type": "code",
   "execution_count": 81,
   "metadata": {},
   "outputs": [],
   "source": [
    "from labeling import get_bins, drop_labels"
   ]
  },
  {
   "cell_type": "code",
   "execution_count": 73,
   "metadata": {},
   "outputs": [],
   "source": [
    "hh = get_bins(events, df_sampled.open)"
   ]
  },
  {
   "cell_type": "code",
   "execution_count": 78,
   "metadata": {},
   "outputs": [
    {
     "data": {
      "text/html": "<div>\n<style scoped>\n    .dataframe tbody tr th:only-of-type {\n        vertical-align: middle;\n    }\n\n    .dataframe tbody tr th {\n        vertical-align: top;\n    }\n\n    .dataframe thead th {\n        text-align: right;\n    }\n</style>\n<table border=\"1\" class=\"dataframe\">\n  <thead>\n    <tr style=\"text-align: right;\">\n      <th></th>\n      <th>ret</th>\n      <th>trgt</th>\n      <th>bin</th>\n    </tr>\n    <tr>\n      <th>datetime</th>\n      <th></th>\n      <th></th>\n      <th></th>\n    </tr>\n  </thead>\n  <tbody>\n    <tr>\n      <th>2019-10-02 00:20:00</th>\n      <td>-0.000370</td>\n      <td>0.000130</td>\n      <td>-1</td>\n    </tr>\n    <tr>\n      <th>2019-10-02 00:30:00</th>\n      <td>-0.000370</td>\n      <td>0.000184</td>\n      <td>-1</td>\n    </tr>\n    <tr>\n      <th>2019-10-02 00:40:00</th>\n      <td>0.001297</td>\n      <td>0.000489</td>\n      <td>1</td>\n    </tr>\n    <tr>\n      <th>2019-10-02 00:50:00</th>\n      <td>-0.001295</td>\n      <td>0.000426</td>\n      <td>-1</td>\n    </tr>\n    <tr>\n      <th>2019-10-02 01:00:00</th>\n      <td>-0.000926</td>\n      <td>0.000394</td>\n      <td>-1</td>\n    </tr>\n    <tr>\n      <th>2019-10-02 01:10:00</th>\n      <td>-0.000926</td>\n      <td>0.000466</td>\n      <td>0</td>\n    </tr>\n    <tr>\n      <th>2019-10-02 01:20:00</th>\n      <td>-0.000185</td>\n      <td>0.000431</td>\n      <td>0</td>\n    </tr>\n    <tr>\n      <th>2019-10-02 01:30:00</th>\n      <td>-0.001112</td>\n      <td>0.000412</td>\n      <td>-1</td>\n    </tr>\n    <tr>\n      <th>2019-10-02 01:40:00</th>\n      <td>-0.000926</td>\n      <td>0.000400</td>\n      <td>-1</td>\n    </tr>\n    <tr>\n      <th>2019-10-02 01:50:00</th>\n      <td>-0.001297</td>\n      <td>0.000428</td>\n      <td>-1</td>\n    </tr>\n    <tr>\n      <th>2019-10-02 02:00:00</th>\n      <td>0.000185</td>\n      <td>0.000531</td>\n      <td>0</td>\n    </tr>\n    <tr>\n      <th>2019-10-02 02:10:00</th>\n      <td>0.001113</td>\n      <td>0.000506</td>\n      <td>1</td>\n    </tr>\n    <tr>\n      <th>2019-10-02 02:20:00</th>\n      <td>0.000000</td>\n      <td>0.000490</td>\n      <td>0</td>\n    </tr>\n    <tr>\n      <th>2019-10-02 02:30:00</th>\n      <td>0.000371</td>\n      <td>0.000499</td>\n      <td>0</td>\n    </tr>\n    <tr>\n      <th>2019-10-02 02:40:00</th>\n      <td>0.000000</td>\n      <td>0.000541</td>\n      <td>0</td>\n    </tr>\n    <tr>\n      <th>2019-10-02 02:50:00</th>\n      <td>-0.000926</td>\n      <td>0.000527</td>\n      <td>0</td>\n    </tr>\n    <tr>\n      <th>2019-10-02 03:00:00</th>\n      <td>0.000000</td>\n      <td>0.000679</td>\n      <td>0</td>\n    </tr>\n    <tr>\n      <th>2019-10-02 03:10:00</th>\n      <td>-0.000185</td>\n      <td>0.000694</td>\n      <td>0</td>\n    </tr>\n    <tr>\n      <th>2019-10-02 03:20:00</th>\n      <td>-0.000371</td>\n      <td>0.000776</td>\n      <td>0</td>\n    </tr>\n    <tr>\n      <th>2019-10-02 03:30:00</th>\n      <td>-0.000926</td>\n      <td>0.000799</td>\n      <td>0</td>\n    </tr>\n    <tr>\n      <th>2019-10-02 03:40:00</th>\n      <td>-0.000371</td>\n      <td>0.000802</td>\n      <td>0</td>\n    </tr>\n    <tr>\n      <th>2019-10-02 03:50:00</th>\n      <td>0.000927</td>\n      <td>0.000942</td>\n      <td>0</td>\n    </tr>\n    <tr>\n      <th>2019-10-02 04:00:00</th>\n      <td>0.000185</td>\n      <td>0.001041</td>\n      <td>0</td>\n    </tr>\n    <tr>\n      <th>2019-10-02 04:10:00</th>\n      <td>0.000000</td>\n      <td>0.001045</td>\n      <td>0</td>\n    </tr>\n    <tr>\n      <th>2019-10-02 04:20:00</th>\n      <td>0.000927</td>\n      <td>0.001021</td>\n      <td>0</td>\n    </tr>\n    <tr>\n      <th>2019-10-02 04:30:00</th>\n      <td>0.000927</td>\n      <td>0.001002</td>\n      <td>0</td>\n    </tr>\n    <tr>\n      <th>2019-10-02 04:40:00</th>\n      <td>0.000927</td>\n      <td>0.000979</td>\n      <td>0</td>\n    </tr>\n    <tr>\n      <th>2019-10-02 08:50:00</th>\n      <td>0.002408</td>\n      <td>0.000973</td>\n      <td>1</td>\n    </tr>\n    <tr>\n      <th>2019-10-02 09:00:00</th>\n      <td>0.002223</td>\n      <td>0.001005</td>\n      <td>1</td>\n    </tr>\n    <tr>\n      <th>2019-10-02 09:10:00</th>\n      <td>0.000185</td>\n      <td>0.001113</td>\n      <td>0</td>\n    </tr>\n  </tbody>\n</table>\n</div>",
      "text/plain": "                          ret      trgt  bin\ndatetime                                    \n2019-10-02 00:20:00 -0.000370  0.000130   -1\n2019-10-02 00:30:00 -0.000370  0.000184   -1\n2019-10-02 00:40:00  0.001297  0.000489    1\n2019-10-02 00:50:00 -0.001295  0.000426   -1\n2019-10-02 01:00:00 -0.000926  0.000394   -1\n2019-10-02 01:10:00 -0.000926  0.000466    0\n2019-10-02 01:20:00 -0.000185  0.000431    0\n2019-10-02 01:30:00 -0.001112  0.000412   -1\n2019-10-02 01:40:00 -0.000926  0.000400   -1\n2019-10-02 01:50:00 -0.001297  0.000428   -1\n2019-10-02 02:00:00  0.000185  0.000531    0\n2019-10-02 02:10:00  0.001113  0.000506    1\n2019-10-02 02:20:00  0.000000  0.000490    0\n2019-10-02 02:30:00  0.000371  0.000499    0\n2019-10-02 02:40:00  0.000000  0.000541    0\n2019-10-02 02:50:00 -0.000926  0.000527    0\n2019-10-02 03:00:00  0.000000  0.000679    0\n2019-10-02 03:10:00 -0.000185  0.000694    0\n2019-10-02 03:20:00 -0.000371  0.000776    0\n2019-10-02 03:30:00 -0.000926  0.000799    0\n2019-10-02 03:40:00 -0.000371  0.000802    0\n2019-10-02 03:50:00  0.000927  0.000942    0\n2019-10-02 04:00:00  0.000185  0.001041    0\n2019-10-02 04:10:00  0.000000  0.001045    0\n2019-10-02 04:20:00  0.000927  0.001021    0\n2019-10-02 04:30:00  0.000927  0.001002    0\n2019-10-02 04:40:00  0.000927  0.000979    0\n2019-10-02 08:50:00  0.002408  0.000973    1\n2019-10-02 09:00:00  0.002223  0.001005    1\n2019-10-02 09:10:00  0.000185  0.001113    0"
     },
     "execution_count": 78,
     "metadata": {},
     "output_type": "execute_result"
    }
   ],
   "source": [
    "hh.head(30)"
   ]
  },
  {
   "cell_type": "code",
   "execution_count": 83,
   "metadata": {},
   "outputs": [
    {
     "name": "stdout",
     "output_type": "stream",
     "text": "dropped label:  -1 0.007261724659606656\nE:\\git_folder\\quant_models\\labeling\\labeling.py:306: FutureWarning: \nThe current behaviour of 'Series.argmin' is deprecated, use 'idxmin'\ninstead.\nThe behavior of 'argmin' will be corrected to return the positional\nminimum in the future. For now, use 'series.values.argmin' or\n'np.argmin(np.array(values))' to get the position of the minimum\nrow.\n  print('dropped label: ', df0.argmin(), df0.min())\nE:\\git_folder\\quant_models\\labeling\\labeling.py:307: FutureWarning: \nThe current behaviour of 'Series.argmin' is deprecated, use 'idxmin'\ninstead.\nThe behavior of 'argmin' will be corrected to return the positional\nminimum in the future. For now, use 'series.values.argmin' or\n'np.argmin(np.array(values))' to get the position of the minimum\nrow.\n  events = events[events['bin'] != df0.argmin()]\n"
    }
   ],
   "source": [
    "new_events = drop_labels(hh)"
   ]
  },
  {
   "cell_type": "code",
   "execution_count": 84,
   "metadata": {},
   "outputs": [
    {
     "data": {
      "text/plain": "ret     6562\ntrgt    6562\nbin     6562\ndtype: int64"
     },
     "execution_count": 84,
     "metadata": {},
     "output_type": "execute_result"
    }
   ],
   "source": [
    "new_events.count()"
   ]
  },
  {
   "cell_type": "code",
   "execution_count": 86,
   "metadata": {},
   "outputs": [
    {
     "data": {
      "text/plain": "ret     6610\ntrgt    6610\nbin     6610\ndtype: int64"
     },
     "execution_count": 86,
     "metadata": {},
     "output_type": "execute_result"
    }
   ],
   "source": [
    "hh.count()"
   ]
  },
  {
   "cell_type": "code",
   "execution_count": null,
   "metadata": {},
   "outputs": [],
   "source": []
  }
 ]
}