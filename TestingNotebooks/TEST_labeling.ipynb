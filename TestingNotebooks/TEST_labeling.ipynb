{
 "nbformat": 4,
 "nbformat_minor": 2,
 "metadata": {
  "language_info": {
   "name": "python",
   "codemirror_mode": {
    "name": "ipython",
    "version": 3
   },
   "version": "3.7.0"
  },
  "orig_nbformat": 2,
  "file_extension": ".py",
  "mimetype": "text/x-python",
  "name": "python",
  "npconvert_exporter": "python",
  "pygments_lexer": "ipython3",
  "version": 3
 },
 "cells": [
  {
   "cell_type": "markdown",
   "execution_count": null,
   "metadata": {},
   "outputs": [],
   "source": [
    "## Ipython Notebooks For Triple-Bar\n",
    "\n",
    "Add the package path for testing"
   ]
  },
  {
   "cell_type": "code",
   "execution_count": 1,
   "metadata": {},
   "outputs": [],
   "source": [
    "import sys\n",
    "sys.path.append('E:\\\\git_folder\\\\quant_models')"
   ]
  },
  {
   "cell_type": "code",
   "execution_count": 2,
   "metadata": {},
   "outputs": [],
   "source": [
    "import pandas as pd\n",
    "from util.utils import get_daily_vol, sample_df"
   ]
  },
  {
   "cell_type": "markdown",
   "execution_count": null,
   "metadata": {},
   "outputs": [],
   "source": [
    "#### Load the data"
   ]
  },
  {
   "cell_type": "code",
   "execution_count": 3,
   "metadata": {},
   "outputs": [
    {
     "name": "stdout",
     "output_type": "stream",
     "text": "open      1402\nclose     1402\nlow       1402\nhigh      1402\nvolume    1402\ndtype: int64\nopen      1219\nclose     1219\nlow       1219\nhigh      1219\nvolume    1219\ndtype: int64\n"
    }
   ],
   "source": [
    "data_fn = \"././data/xu1_1min.csv\"\n",
    "df_price = pd.read_csv(data_fn)\n",
    "test_df = df_price.copy()\n",
    "test_df.loc[:,'datetime'] = pd.to_datetime(test_df.datetime)\n",
    "test_df.set_index('datetime', inplace=True)\n",
    "# testing using a small sample size\n",
    "df_testprice = test_df.loc[test_df.index > pd.to_datetime('2019-11-01')]\n",
    "# event time is set as 30 mintues\n",
    "df_sampled = sample_df(df_testprice, '30T')\n",
    "print(df_sampled.count())\n",
    "# due to the resampling mechanism, the generated datatime may not be trading hours\n",
    "# filter it by take the intersection with the true df time index\n",
    "df_sampled = df_sampled.reindex(df_sampled.index.intersection(df_testprice.index))\n",
    "print(df_sampled.count())"
   ]
  },
  {
   "cell_type": "code",
   "execution_count": 8,
   "metadata": {},
   "outputs": [
    {
     "data": {
      "text/html": "<div>\n<style scoped>\n    .dataframe tbody tr th:only-of-type {\n        vertical-align: middle;\n    }\n\n    .dataframe tbody tr th {\n        vertical-align: top;\n    }\n\n    .dataframe thead th {\n        text-align: right;\n    }\n</style>\n<table border=\"1\" class=\"dataframe\">\n  <thead>\n    <tr style=\"text-align: right;\">\n      <th></th>\n      <th>open</th>\n      <th>close</th>\n      <th>low</th>\n      <th>high</th>\n      <th>volume</th>\n    </tr>\n    <tr>\n      <th>datetime</th>\n      <th></th>\n      <th></th>\n      <th></th>\n      <th></th>\n      <th></th>\n    </tr>\n  </thead>\n  <tbody>\n    <tr>\n      <th>2019-11-01 00:30:00</th>\n      <td>13865.0</td>\n      <td>13857.5</td>\n      <td>13850.0</td>\n      <td>13865.0</td>\n      <td>686.0</td>\n    </tr>\n    <tr>\n      <th>2019-11-01 01:00:00</th>\n      <td>13855.0</td>\n      <td>13855.0</td>\n      <td>13850.0</td>\n      <td>13860.0</td>\n      <td>438.0</td>\n    </tr>\n  </tbody>\n</table>\n</div>",
      "text/plain": "                        open    close      low     high  volume\ndatetime                                                       \n2019-11-01 00:30:00  13865.0  13857.5  13850.0  13865.0   686.0\n2019-11-01 01:00:00  13855.0  13855.0  13850.0  13860.0   438.0"
     },
     "execution_count": 8,
     "metadata": {},
     "output_type": "execute_result"
    }
   ],
   "source": [
    "df_sampled.head(2)"
   ]
  },
  {
   "cell_type": "code",
   "execution_count": 7,
   "metadata": {},
   "outputs": [
    {
     "data": {
      "text/html": "<div>\n<style scoped>\n    .dataframe tbody tr th:only-of-type {\n        vertical-align: middle;\n    }\n\n    .dataframe tbody tr th {\n        vertical-align: top;\n    }\n\n    .dataframe thead th {\n        text-align: right;\n    }\n</style>\n<table border=\"1\" class=\"dataframe\">\n  <thead>\n    <tr style=\"text-align: right;\">\n      <th></th>\n      <th>open</th>\n      <th>high</th>\n      <th>low</th>\n      <th>close</th>\n      <th>volume</th>\n    </tr>\n    <tr>\n      <th>datetime</th>\n      <th></th>\n      <th></th>\n      <th></th>\n      <th></th>\n      <th></th>\n    </tr>\n  </thead>\n  <tbody>\n    <tr>\n      <th>2019-11-01 00:01:00</th>\n      <td>13862.5</td>\n      <td>13862.5</td>\n      <td>13860.0</td>\n      <td>13860.0</td>\n      <td>24.0</td>\n    </tr>\n    <tr>\n      <th>2019-11-01 00:02:00</th>\n      <td>13860.0</td>\n      <td>13862.5</td>\n      <td>13860.0</td>\n      <td>13862.5</td>\n      <td>40.0</td>\n    </tr>\n  </tbody>\n</table>\n</div>",
      "text/plain": "                        open     high      low    close  volume\ndatetime                                                       \n2019-11-01 00:01:00  13862.5  13862.5  13860.0  13860.0    24.0\n2019-11-01 00:02:00  13860.0  13862.5  13860.0  13862.5    40.0"
     },
     "execution_count": 7,
     "metadata": {},
     "output_type": "execute_result"
    }
   ],
   "source": [
    "df_testprice.head(2)"
   ]
  },
  {
   "cell_type": "markdown",
   "execution_count": 2,
   "metadata": {},
   "outputs": [],
   "source": [
    "### Start Testing\n",
    "\n",
    "1. add the vertical barriers on events\n",
    "2. get the daily vol on events\n",
    "3. get the final trip bar events\n",
    "4. get the labels\n",
    "5. filter the labels"
   ]
  },
  {
   "cell_type": "code",
   "execution_count": 36,
   "metadata": {},
   "outputs": [],
   "source": [
    "from labeling import get_events, add_vertical_barrier, get_bins, drop_labels\n",
    "import random\n",
    "import numpy as np"
   ]
  },
  {
   "cell_type": "code",
   "execution_count": 11,
   "metadata": {},
   "outputs": [],
   "source": [
    "vertical_barrier_times = add_vertical_barrier(df_testprice.open, df_sampled.index, num_hours=5)"
   ]
  },
  {
   "cell_type": "code",
   "execution_count": 12,
   "metadata": {},
   "outputs": [
    {
     "data": {
      "text/plain": "datetime\n2019-12-18 03:00:00   2019-12-18 08:59:00\n2019-12-18 03:30:00   2019-12-18 08:59:00\n2019-12-18 04:00:00   2019-12-18 09:00:00\n2019-12-18 05:00:00   2019-12-18 10:00:00\n2019-12-18 09:00:00   2019-12-18 14:00:00\nName: datetime, dtype: datetime64[ns]"
     },
     "execution_count": 12,
     "metadata": {},
     "output_type": "execute_result"
    }
   ],
   "source": [
    "vertical_barrier_times.tail(5)"
   ]
  },
  {
   "cell_type": "code",
   "execution_count": 14,
   "metadata": {},
   "outputs": [],
   "source": [
    "target_vert = get_daily_vol(df_sampled)\n",
    "# only take the series as the input in get_events function\n",
    "target      = target_vert['vol']"
   ]
  },
  {
   "cell_type": "markdown",
   "execution_count": null,
   "metadata": {},
   "outputs": [],
   "source": [
    "#### Compute triple bar label\n",
    "\n",
    "1. if touch the up bar, 1\n",
    "2. if touch the low bar, -1\n",
    "3. if touch the vertical bar, 0"
   ]
  },
  {
   "cell_type": "code",
   "execution_count": 15,
   "metadata": {},
   "outputs": [
    {
     "name": "stderr",
     "output_type": "stream",
     "text": "2019-12-23 17:57:45.897672 100.0% apply_pt_sl_on_ent done after 0.06 minutes. Remaining 0.0 minutes.\n"
    }
   ],
   "source": [
    "events = get_events(df_testprice.open, target, df_sampled.index, min_ret=0.001, \n",
    "          num_threads = 3, vertical_barrier_times=vertical_barrier_times)"
   ]
  },
  {
   "cell_type": "code",
   "execution_count": 48,
   "metadata": {},
   "outputs": [
    {
     "data": {
      "text/html": "<div>\n<style scoped>\n    .dataframe tbody tr th:only-of-type {\n        vertical-align: middle;\n    }\n\n    .dataframe tbody tr th {\n        vertical-align: top;\n    }\n\n    .dataframe thead th {\n        text-align: right;\n    }\n</style>\n<table border=\"1\" class=\"dataframe\">\n  <thead>\n    <tr style=\"text-align: right;\">\n      <th></th>\n      <th>ret</th>\n      <th>trgt</th>\n      <th>bin</th>\n    </tr>\n    <tr>\n      <th>datetime</th>\n      <th></th>\n      <th></th>\n      <th></th>\n    </tr>\n  </thead>\n  <tbody>\n    <tr>\n      <th>2019-11-02 02:00:00</th>\n      <td>-0.001229</td>\n      <td>0.001090</td>\n      <td>-1</td>\n    </tr>\n    <tr>\n      <th>2019-11-04 09:00:00</th>\n      <td>0.002634</td>\n      <td>0.009570</td>\n      <td>0</td>\n    </tr>\n    <tr>\n      <th>2019-11-04 09:30:00</th>\n      <td>0.002984</td>\n      <td>0.011794</td>\n      <td>0</td>\n    </tr>\n    <tr>\n      <th>2019-11-04 10:00:00</th>\n      <td>0.002455</td>\n      <td>0.013282</td>\n      <td>0</td>\n    </tr>\n    <tr>\n      <th>2019-11-04 10:30:00</th>\n      <td>0.004217</td>\n      <td>0.013554</td>\n      <td>0</td>\n    </tr>\n  </tbody>\n</table>\n</div>",
      "text/plain": "                          ret      trgt  bin\ndatetime                                    \n2019-11-02 02:00:00 -0.001229  0.001090   -1\n2019-11-04 09:00:00  0.002634  0.009570    0\n2019-11-04 09:30:00  0.002984  0.011794    0\n2019-11-04 10:00:00  0.002455  0.013282    0\n2019-11-04 10:30:00  0.004217  0.013554    0"
     },
     "execution_count": 48,
     "metadata": {},
     "output_type": "execute_result"
    }
   ],
   "source": [
    "final_hh = get_bins(events, df_testprice.open)\n",
    "final_hh.head()"
   ]
  },
  {
   "cell_type": "code",
   "execution_count": 49,
   "metadata": {},
   "outputs": [
    {
     "data": {
      "text/plain": " 0    976\n 1     97\n-1     90\nName: bin, dtype: int64"
     },
     "execution_count": 49,
     "metadata": {},
     "output_type": "execute_result"
    }
   ],
   "source": [
    "final_hh.bin.value_counts()"
   ]
  },
  {
   "cell_type": "markdown",
   "execution_count": 28,
   "metadata": {},
   "outputs": [
    {
     "data": {
      "text/plain": "'\\nmeta_evens = get_events(df_testprice.open, target, df_sampled.index, min_ret=0.001, \\n          num_threads = 3, vertical_barrier_times=vertical_barrier_times)\\n'"
     },
     "execution_count": 28,
     "metadata": {},
     "output_type": "execute_result"
    }
   ],
   "source": [
    "#### Compute meta-label\n",
    "\n",
    "1. if the trade entered, it makes money then 1\n",
    "2.  else, 0"
   ]
  },
  {
   "cell_type": "code",
   "execution_count": 40,
   "metadata": {},
   "outputs": [],
   "source": [
    "side = [random.choice([-1, 1]) for idx in range(target.index.shape[0])]\n",
    "simulated_side = pd.DataFrame({'test':target.index, 'side': side})\n",
    "simulated_side = simulated_side.set_index('test')"
   ]
  },
  {
   "cell_type": "code",
   "execution_count": 41,
   "metadata": {},
   "outputs": [
    {
     "data": {
      "text/html": "<div>\n<style scoped>\n    .dataframe tbody tr th:only-of-type {\n        vertical-align: middle;\n    }\n\n    .dataframe tbody tr th {\n        vertical-align: top;\n    }\n\n    .dataframe thead th {\n        text-align: right;\n    }\n</style>\n<table border=\"1\" class=\"dataframe\">\n  <thead>\n    <tr style=\"text-align: right;\">\n      <th></th>\n      <th>side</th>\n    </tr>\n    <tr>\n      <th>test</th>\n      <th></th>\n    </tr>\n  </thead>\n  <tbody>\n    <tr>\n      <th>2019-11-02 01:30:00</th>\n      <td>-1</td>\n    </tr>\n    <tr>\n      <th>2019-11-02 02:00:00</th>\n      <td>-1</td>\n    </tr>\n    <tr>\n      <th>2019-11-02 02:30:00</th>\n      <td>1</td>\n    </tr>\n    <tr>\n      <th>2019-11-02 03:00:00</th>\n      <td>-1</td>\n    </tr>\n    <tr>\n      <th>2019-11-02 03:30:00</th>\n      <td>1</td>\n    </tr>\n  </tbody>\n</table>\n</div>",
      "text/plain": "                     side\ntest                     \n2019-11-02 01:30:00    -1\n2019-11-02 02:00:00    -1\n2019-11-02 02:30:00     1\n2019-11-02 03:00:00    -1\n2019-11-02 03:30:00     1"
     },
     "execution_count": 41,
     "metadata": {},
     "output_type": "execute_result"
    }
   ],
   "source": [
    "simulated_side.head()"
   ]
  },
  {
   "cell_type": "code",
   "execution_count": 42,
   "metadata": {},
   "outputs": [
    {
     "name": "stderr",
     "output_type": "stream",
     "text": "2019-12-23 18:10:38.862050 100.0% apply_pt_sl_on_ent done after 0.07 minutes. Remaining 0.0 minutes.\n"
    }
   ],
   "source": [
    "meta_evens = get_events(df_testprice.open, target, \n",
    "                        df_sampled.index, min_ret=0.001, \n",
    "                        num_threads = 3, vertical_barrier_times=vertical_barrier_times, \n",
    "                        side_prediction=simulated_side.side)"
   ]
  },
  {
   "cell_type": "code",
   "execution_count": 43,
   "metadata": {},
   "outputs": [
    {
     "data": {
      "text/html": "<div>\n<style scoped>\n    .dataframe tbody tr th:only-of-type {\n        vertical-align: middle;\n    }\n\n    .dataframe tbody tr th {\n        vertical-align: top;\n    }\n\n    .dataframe thead th {\n        text-align: right;\n    }\n</style>\n<table border=\"1\" class=\"dataframe\">\n  <thead>\n    <tr style=\"text-align: right;\">\n      <th></th>\n      <th>ent</th>\n      <th>side</th>\n      <th>trgt</th>\n      <th>pt</th>\n      <th>sl</th>\n    </tr>\n    <tr>\n      <th>datetime</th>\n      <th></th>\n      <th></th>\n      <th></th>\n      <th></th>\n      <th></th>\n    </tr>\n  </thead>\n  <tbody>\n    <tr>\n      <th>2019-11-02 02:00:00</th>\n      <td>2019-11-02 03:12:00</td>\n      <td>-1.0</td>\n      <td>0.001090</td>\n      <td>1</td>\n      <td>1</td>\n    </tr>\n    <tr>\n      <th>2019-11-04 09:00:00</th>\n      <td>2019-11-04 14:00:00</td>\n      <td>1.0</td>\n      <td>0.009570</td>\n      <td>1</td>\n      <td>1</td>\n    </tr>\n    <tr>\n      <th>2019-11-04 09:30:00</th>\n      <td>2019-11-04 14:30:00</td>\n      <td>1.0</td>\n      <td>0.011794</td>\n      <td>1</td>\n      <td>1</td>\n    </tr>\n    <tr>\n      <th>2019-11-04 10:00:00</th>\n      <td>2019-11-04 15:00:00</td>\n      <td>1.0</td>\n      <td>0.013282</td>\n      <td>1</td>\n      <td>1</td>\n    </tr>\n    <tr>\n      <th>2019-11-04 10:30:00</th>\n      <td>2019-11-04 15:30:00</td>\n      <td>-1.0</td>\n      <td>0.013554</td>\n      <td>1</td>\n      <td>1</td>\n    </tr>\n  </tbody>\n</table>\n</div>",
      "text/plain": "                                    ent  side      trgt  pt  sl\ndatetime                                                       \n2019-11-02 02:00:00 2019-11-02 03:12:00  -1.0  0.001090   1   1\n2019-11-04 09:00:00 2019-11-04 14:00:00   1.0  0.009570   1   1\n2019-11-04 09:30:00 2019-11-04 14:30:00   1.0  0.011794   1   1\n2019-11-04 10:00:00 2019-11-04 15:00:00   1.0  0.013282   1   1\n2019-11-04 10:30:00 2019-11-04 15:30:00  -1.0  0.013554   1   1"
     },
     "execution_count": 43,
     "metadata": {},
     "output_type": "execute_result"
    }
   ],
   "source": [
    "meta_evens.head()"
   ]
  },
  {
   "cell_type": "code",
   "execution_count": 50,
   "metadata": {},
   "outputs": [
    {
     "data": {
      "text/html": "<div>\n<style scoped>\n    .dataframe tbody tr th:only-of-type {\n        vertical-align: middle;\n    }\n\n    .dataframe tbody tr th {\n        vertical-align: top;\n    }\n\n    .dataframe thead th {\n        text-align: right;\n    }\n</style>\n<table border=\"1\" class=\"dataframe\">\n  <thead>\n    <tr style=\"text-align: right;\">\n      <th></th>\n      <th>ret</th>\n      <th>trgt</th>\n      <th>bin</th>\n      <th>side</th>\n    </tr>\n    <tr>\n      <th>datetime</th>\n      <th></th>\n      <th></th>\n      <th></th>\n      <th></th>\n    </tr>\n  </thead>\n  <tbody>\n    <tr>\n      <th>2019-11-02 02:00:00</th>\n      <td>0.001231</td>\n      <td>0.001090</td>\n      <td>1</td>\n      <td>-1.0</td>\n    </tr>\n    <tr>\n      <th>2019-11-04 09:00:00</th>\n      <td>0.002634</td>\n      <td>0.009570</td>\n      <td>0</td>\n      <td>1.0</td>\n    </tr>\n    <tr>\n      <th>2019-11-04 09:30:00</th>\n      <td>0.002984</td>\n      <td>0.011794</td>\n      <td>0</td>\n      <td>1.0</td>\n    </tr>\n    <tr>\n      <th>2019-11-04 10:00:00</th>\n      <td>0.002455</td>\n      <td>0.013282</td>\n      <td>0</td>\n      <td>1.0</td>\n    </tr>\n    <tr>\n      <th>2019-11-04 10:30:00</th>\n      <td>-0.004199</td>\n      <td>0.013554</td>\n      <td>0</td>\n      <td>-1.0</td>\n    </tr>\n  </tbody>\n</table>\n</div>",
      "text/plain": "                          ret      trgt  bin  side\ndatetime                                          \n2019-11-02 02:00:00  0.001231  0.001090    1  -1.0\n2019-11-04 09:00:00  0.002634  0.009570    0   1.0\n2019-11-04 09:30:00  0.002984  0.011794    0   1.0\n2019-11-04 10:00:00  0.002455  0.013282    0   1.0\n2019-11-04 10:30:00 -0.004199  0.013554    0  -1.0"
     },
     "execution_count": 50,
     "metadata": {},
     "output_type": "execute_result"
    }
   ],
   "source": [
    "final_hh = get_bins(meta_evens, df_testprice.open)\n",
    "final_hh.head()"
   ]
  },
  {
   "cell_type": "code",
   "execution_count": 51,
   "metadata": {},
   "outputs": [
    {
     "data": {
      "text/plain": "0    1072\n1      91\nName: bin, dtype: int64"
     },
     "execution_count": 51,
     "metadata": {},
     "output_type": "execute_result"
    }
   ],
   "source": [
    "final_hh.bin.value_counts()"
   ]
  },
  {
   "cell_type": "code",
   "execution_count": 24,
   "metadata": {},
   "outputs": [],
   "source": [
    "final_hh = drop_labels(final_hh)"
   ]
  }
 ]
}