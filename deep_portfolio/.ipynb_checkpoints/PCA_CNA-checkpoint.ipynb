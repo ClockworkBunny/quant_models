{
 "cells": [
  {
   "cell_type": "code",
   "execution_count": 1,
   "metadata": {},
   "outputs": [
    {
     "name": "stderr",
     "output_type": "stream",
     "text": [
      "Using TensorFlow backend.\n"
     ]
    }
   ],
   "source": [
    "import warnings\n",
    "warnings.filterwarnings('ignore')\n",
    "\n",
    "from keras.layers import Input, Dense, Flatten, Dropout\n",
    "from keras.models import Model\n",
    "\n",
    "import numpy as np\n",
    "import pandas as pd\n",
    "import os\n",
    "\n",
    "import random\n",
    "from collections import deque\n",
    "import matplotlib.pylab as plt\n",
    "\n",
    "from sklearn.decomposition import PCA"
   ]
  },
  {
   "cell_type": "markdown",
   "metadata": {},
   "source": [
    "# Imports of classes"
   ]
  },
  {
   "cell_type": "code",
   "execution_count": 2,
   "metadata": {},
   "outputs": [],
   "source": [
    "from environment import ETFEnvironment, CryptoEnvironment\n",
    "from agent import MinVarianceAgent, MaxSharpeAgent, MaxDecorrelationAgent, MaxReturnsAgent\n",
    "from utils import *"
   ]
  },
  {
   "cell_type": "code",
   "execution_count": 3,
   "metadata": {},
   "outputs": [],
   "source": [
    "N_ASSETS = 65 # 53\n",
    "WINDOW_FIT = 180 # 252\n",
    "WINDOW_HOLD = 60 # 252\n",
    "env = CryptoEnvironment() # ETFEnvironment"
   ]
  },
  {
   "cell_type": "markdown",
   "metadata": {},
   "source": [
    "# Reweighting process: PCA"
   ]
  },
  {
   "cell_type": "code",
   "execution_count": 29,
   "metadata": {},
   "outputs": [],
   "source": [
    "from agent import PCAAgent"
   ]
  },
  {
   "cell_type": "code",
   "execution_count": 30,
   "metadata": {},
   "outputs": [],
   "source": [
    "agent_pca = PCAAgent(N_ASSETS, allow_short=False, pc_id=0)"
   ]
  },
  {
   "cell_type": "code",
   "execution_count": 31,
   "metadata": {
    "scrolled": false
   },
   "outputs": [],
   "source": [
    "actions_equal, actions_pca = [], []\n",
    "result_equal, result_pca = [], []\n",
    "\n",
    "for i in range(WINDOW_FIT, len(env.data), WINDOW_HOLD):\n",
    "    \n",
    "    state = env.get_state(i, WINDOW_FIT, is_cov_matrix=False)\n",
    "    \n",
    "    action_equal = np.ones(N_ASSETS) / N_ASSETS\n",
    "    action_pca = agent_pca.act(state)\n",
    " \n",
    "    state_action = env.get_state(i+WINDOW_HOLD, WINDOW_HOLD, is_cov_matrix=False)\n",
    "    \n",
    "    r = np.dot(state_action, action_equal)\n",
    "    result_equal.append(r.tolist())\n",
    "    actions_equal.append(action_equal)\n",
    "    \n",
    "    r = np.dot(state_action, action_pca)\n",
    "    result_pca.append(r.tolist())\n",
    "    actions_pca.append(action_pca)"
   ]
  },
  {
   "cell_type": "markdown",
   "metadata": {},
   "source": [
    "# Evaluation"
   ]
  },
  {
   "cell_type": "code",
   "execution_count": 32,
   "metadata": {},
   "outputs": [],
   "source": [
    "result_equal_vis = [item for sublist in result_equal for item in sublist]\n",
    "result_pca_vis = [item for sublist in result_pca for item in sublist]"
   ]
  },
  {
   "cell_type": "code",
   "execution_count": 33,
   "metadata": {
    "scrolled": true
   },
   "outputs": [
    {
     "data": {
      "image/png": "[encoded data removed]",
      "text/plain": [
       "<Figure size 432x288 with 1 Axes>"
      ]
     },
     "metadata": {
      "needs_background": "light"
     },
     "output_type": "display_data"
    }
   ],
   "source": [
    "plt.figure()\n",
    "plt.plot(np.array(result_equal_vis).cumsum())\n",
    "plt.plot(np.array(result_pca_vis).cumsum())\n",
    "plt.show()"
   ]
  },
  {
   "cell_type": "code",
   "execution_count": 34,
   "metadata": {},
   "outputs": [
    {
     "name": "stdout",
     "output_type": "stream",
     "text": [
      "EQUAL [0.0005, 0.0099, 0.8147, -0.0, 1.0]\n",
      "PCA [0.0004, 0.0098, 0.7206, -0.0, 0.9625]\n"
     ]
    }
   ],
   "source": [
    "print('EQUAL', print_stats(result_equal_vis, result_equal_vis))\n",
    "print('PCA', print_stats(result_pca_vis, result_equal_vis))"
   ]
  },
  {
   "cell_type": "markdown",
   "metadata": {},
   "source": [
    "# Visualization"
   ]
  },
  {
   "cell_type": "code",
   "execution_count": 21,
   "metadata": {},
   "outputs": [],
   "source": [
    "import matplotlib\n",
    "current_cmap = matplotlib.cm.get_cmap()"
   ]
  },
  {
   "cell_type": "code",
   "execution_count": null,
   "metadata": {},
   "outputs": [],
   "source": [
    "plot_results(result_equal, \n",
    "             result_pca, \n",
    "             actions_pca, \n",
    "             N_ASSETS,\n",
    "             state.columns, \n",
    "             'PCA PC0 portfolio', './images/pca/', 'series')"
   ]
  },
  {
   "cell_type": "markdown",
   "metadata": {},
   "source": [
    "# Making GIFs"
   ]
  },
  {
   "cell_type": "code",
   "execution_count": 45,
   "metadata": {},
   "outputs": [],
   "source": [
    "import imageio\n",
    "import glob"
   ]
  },
  {
   "cell_type": "code",
   "execution_count": 46,
   "metadata": {},
   "outputs": [],
   "source": [
    "name = 'decorr'"
   ]
  },
  {
   "cell_type": "code",
   "execution_count": 47,
   "metadata": {},
   "outputs": [],
   "source": [
    "filenames = sorted(glob.glob('./images/' + name + '/series*.jpg'))"
   ]
  },
  {
   "cell_type": "code",
   "execution_count": 48,
   "metadata": {
    "scrolled": true
   },
   "outputs": [
    {
     "data": {
      "text/plain": [
       "['./images/decorr/series0.jpg',\n",
       " './images/decorr/series1.jpg',\n",
       " './images/decorr/series2.jpg']"
      ]
     },
     "execution_count": 48,
     "metadata": {},
     "output_type": "execute_result"
    }
   ],
   "source": [
    "filenames"
   ]
  },
  {
   "cell_type": "code",
   "execution_count": 49,
   "metadata": {},
   "outputs": [],
   "source": [
    "images = []\n",
    "for filename in filenames:\n",
    "    images.append(imageio.imread(filename))\n",
    "imageio.mimsave('./images/' + name + '_gif.gif', images, duration=0.5)"
   ]
  }
 ],
 "metadata": {
  "kernelspec": {
   "display_name": "Python 3",
   "language": "python",
   "name": "python3"
  },
  "language_info": {
   "codemirror_mode": {
    "name": "ipython",
    "version": 3
   },
   "file_extension": ".py",
   "mimetype": "text/x-python",
   "name": "python",
   "nbconvert_exporter": "python",
   "pygments_lexer": "ipython3",
   "version": "3.7.0"
  }
 },
 "nbformat": 4,
 "nbformat_minor": 2
}
